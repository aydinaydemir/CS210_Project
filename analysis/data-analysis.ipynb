{
 "cells": [
  {
   "cell_type": "code",
   "execution_count": 71,
   "metadata": {},
   "outputs": [],
   "source": [
    "# Neccesary import statements\n",
    "import pandas as pd\n",
    "import numpy as np\n",
    "import matplotlib.pyplot as plt\n",
    "import seaborn as sns"
   ]
  },
  {
   "cell_type": "code",
   "execution_count": 72,
   "metadata": {},
   "outputs": [
    {
     "name": "stdout",
     "output_type": "stream",
     "text": [
      "Number of rows:  53\n",
      "Number of columns:  5\n"
     ]
    }
   ],
   "source": [
    "# Number of rows and columns to display\n",
    "filePath = '../data/products.csv'\n",
    "df = pd.read_csv(filePath)\n",
    "row , col = df.shape\n",
    "print(\"Number of rows: \", row)\n",
    "print(\"Number of columns: \", col)\n"
   ]
  },
  {
   "cell_type": "code",
   "execution_count": 73,
   "metadata": {},
   "outputs": [
    {
     "name": "stdout",
     "output_type": "stream",
     "text": [
      "<class 'pandas.core.frame.DataFrame'>\n",
      "RangeIndex: 53 entries, 0 to 52\n",
      "Data columns (total 5 columns):\n",
      " #   Column         Non-Null Count  Dtype \n",
      "---  ------         --------------  ----- \n",
      " 0   Product Name   53 non-null     object\n",
      " 1   Current Date   53 non-null     object\n",
      " 2   Current Price  53 non-null     int64 \n",
      " 3   Old Date       53 non-null     object\n",
      " 4   Old Price      53 non-null     int64 \n",
      "dtypes: int64(2), object(3)\n",
      "memory usage: 2.2+ KB\n"
     ]
    }
   ],
   "source": [
    "# Showing the info of the dataframe\n",
    "df.info()"
   ]
  },
  {
   "cell_type": "code",
   "execution_count": 74,
   "metadata": {},
   "outputs": [
    {
     "name": "stdout",
     "output_type": "stream",
     "text": [
      "Number of duplicated rows:  0\n"
     ]
    }
   ],
   "source": [
    "# Filtering the duplicated rows and printing the head of the dataframe\n",
    "\n",
    "duplicates = df.duplicated()\n",
    "numDuplicates = duplicates.sum()\n",
    "\n",
    "print(\"Number of duplicated rows: \", numDuplicates)"
   ]
  },
  {
   "cell_type": "code",
   "execution_count": 75,
   "metadata": {},
   "outputs": [
    {
     "name": "stdout",
     "output_type": "stream",
     "text": [
      "Number of rows after dropping the duplicated rows:  53\n",
      "Number of columns after dropping the duplicated rows:  5\n",
      "Number of rows dropped:  0\n"
     ]
    }
   ],
   "source": [
    "# Dropping the duplicated rows if there is any\n",
    "# Printing the number of rows and columns after dropping the duplicated rows\n",
    "\n",
    "wODuplicates = df[~duplicates]\n",
    "\n",
    "rowUpdated, col = wODuplicates.shape\n",
    "\n",
    "print(\"Number of rows after dropping the duplicated rows: \", rowUpdated)\n",
    "print(\"Number of columns after dropping the duplicated rows: \", col)\n",
    "print(\"Number of rows dropped: \", row - rowUpdated)"
   ]
  },
  {
   "cell_type": "code",
   "execution_count": 76,
   "metadata": {},
   "outputs": [
    {
     "name": "stdout",
     "output_type": "stream",
     "text": [
      "After double checking, number of duplicated rows:  0\n"
     ]
    }
   ],
   "source": [
    "# Double checking if there is any duplicated rows\n",
    "\n",
    "doubleCheckDf = wODuplicates.duplicated()\n",
    "numDoubleCheck = doubleCheckDf.sum()\n",
    "\n",
    "print(\"After double checking, number of duplicated rows: \", numDoubleCheck)"
   ]
  },
  {
   "cell_type": "code",
   "execution_count": 77,
   "metadata": {},
   "outputs": [
    {
     "data": {
      "text/html": [
       "<div>\n",
       "<style scoped>\n",
       "    .dataframe tbody tr th:only-of-type {\n",
       "        vertical-align: middle;\n",
       "    }\n",
       "\n",
       "    .dataframe tbody tr th {\n",
       "        vertical-align: top;\n",
       "    }\n",
       "\n",
       "    .dataframe thead th {\n",
       "        text-align: right;\n",
       "    }\n",
       "</style>\n",
       "<table border=\"1\" class=\"dataframe\">\n",
       "  <thead>\n",
       "    <tr style=\"text-align: right;\">\n",
       "      <th></th>\n",
       "      <th>Product Name</th>\n",
       "      <th>Current Date</th>\n",
       "      <th>Current Price</th>\n",
       "      <th>Old Date</th>\n",
       "      <th>Old Price</th>\n",
       "    </tr>\n",
       "  </thead>\n",
       "  <tbody>\n",
       "    <tr>\n",
       "      <th>0</th>\n",
       "      <td>Apple iPhone 11 128GB Akıllı Cep Telefonu</td>\n",
       "      <td>22/05/2023</td>\n",
       "      <td>18319</td>\n",
       "      <td>22/05/2022</td>\n",
       "      <td>12699</td>\n",
       "    </tr>\n",
       "    <tr>\n",
       "      <th>1</th>\n",
       "      <td>Sony Playstation 5 Oyun Konsolu</td>\n",
       "      <td>22/05/2023</td>\n",
       "      <td>14729</td>\n",
       "      <td>23/05/2022</td>\n",
       "      <td>13499</td>\n",
       "    </tr>\n",
       "    <tr>\n",
       "      <th>2</th>\n",
       "      <td>Apple iPhone 12 5G 64GB 4GB Ram 6.1 inç 12MP A...</td>\n",
       "      <td>22/05/2023</td>\n",
       "      <td>24999</td>\n",
       "      <td>08/06/2022</td>\n",
       "      <td>19798</td>\n",
       "    </tr>\n",
       "    <tr>\n",
       "      <th>3</th>\n",
       "      <td>Apple iPhone 13 Pro Max 5G 128GB 6GB Ram 6.7 i...</td>\n",
       "      <td>22/05/2023</td>\n",
       "      <td>44999</td>\n",
       "      <td>23/05/2022</td>\n",
       "      <td>27999</td>\n",
       "    </tr>\n",
       "    <tr>\n",
       "      <th>4</th>\n",
       "      <td>Apple AirPods 2. Nesil MV7N2TU-A Bluetooth Kul...</td>\n",
       "      <td>22/05/2023</td>\n",
       "      <td>2689</td>\n",
       "      <td>23/05/2022</td>\n",
       "      <td>1851</td>\n",
       "    </tr>\n",
       "  </tbody>\n",
       "</table>\n",
       "</div>"
      ],
      "text/plain": [
       "                                        Product Name Current Date   \n",
       "0          Apple iPhone 11 128GB Akıllı Cep Telefonu   22/05/2023  \\\n",
       "1                    Sony Playstation 5 Oyun Konsolu   22/05/2023   \n",
       "2  Apple iPhone 12 5G 64GB 4GB Ram 6.1 inç 12MP A...   22/05/2023   \n",
       "3  Apple iPhone 13 Pro Max 5G 128GB 6GB Ram 6.7 i...   22/05/2023   \n",
       "4  Apple AirPods 2. Nesil MV7N2TU-A Bluetooth Kul...   22/05/2023   \n",
       "\n",
       "   Current Price    Old Date  Old Price  \n",
       "0          18319  22/05/2022      12699  \n",
       "1          14729  23/05/2022      13499  \n",
       "2          24999  08/06/2022      19798  \n",
       "3          44999  23/05/2022      27999  \n",
       "4           2689  23/05/2022       1851  "
      ]
     },
     "execution_count": 77,
     "metadata": {},
     "output_type": "execute_result"
    }
   ],
   "source": [
    "# After cleaning the dataset, Exploring the dataset\n",
    "\n",
    "df = wODuplicates\n",
    "\n",
    "df.head()"
   ]
  },
  {
   "cell_type": "code",
   "execution_count": 78,
   "metadata": {},
   "outputs": [
    {
     "data": {
      "text/html": [
       "<div>\n",
       "<style scoped>\n",
       "    .dataframe tbody tr th:only-of-type {\n",
       "        vertical-align: middle;\n",
       "    }\n",
       "\n",
       "    .dataframe tbody tr th {\n",
       "        vertical-align: top;\n",
       "    }\n",
       "\n",
       "    .dataframe thead th {\n",
       "        text-align: right;\n",
       "    }\n",
       "</style>\n",
       "<table border=\"1\" class=\"dataframe\">\n",
       "  <thead>\n",
       "    <tr style=\"text-align: right;\">\n",
       "      <th></th>\n",
       "      <th>Current Price</th>\n",
       "      <th>Old Price</th>\n",
       "    </tr>\n",
       "  </thead>\n",
       "  <tbody>\n",
       "    <tr>\n",
       "      <th>count</th>\n",
       "      <td>53.000000</td>\n",
       "      <td>53.000000</td>\n",
       "    </tr>\n",
       "    <tr>\n",
       "      <th>mean</th>\n",
       "      <td>4680.603774</td>\n",
       "      <td>3496.716981</td>\n",
       "    </tr>\n",
       "    <tr>\n",
       "      <th>std</th>\n",
       "      <td>9354.944493</td>\n",
       "      <td>6678.620206</td>\n",
       "    </tr>\n",
       "    <tr>\n",
       "      <th>min</th>\n",
       "      <td>5.000000</td>\n",
       "      <td>3.000000</td>\n",
       "    </tr>\n",
       "    <tr>\n",
       "      <th>25%</th>\n",
       "      <td>54.000000</td>\n",
       "      <td>42.000000</td>\n",
       "    </tr>\n",
       "    <tr>\n",
       "      <th>50%</th>\n",
       "      <td>389.000000</td>\n",
       "      <td>283.000000</td>\n",
       "    </tr>\n",
       "    <tr>\n",
       "      <th>75%</th>\n",
       "      <td>2689.000000</td>\n",
       "      <td>1851.000000</td>\n",
       "    </tr>\n",
       "    <tr>\n",
       "      <th>max</th>\n",
       "      <td>44999.000000</td>\n",
       "      <td>27999.000000</td>\n",
       "    </tr>\n",
       "  </tbody>\n",
       "</table>\n",
       "</div>"
      ],
      "text/plain": [
       "       Current Price     Old Price\n",
       "count      53.000000     53.000000\n",
       "mean     4680.603774   3496.716981\n",
       "std      9354.944493   6678.620206\n",
       "min         5.000000      3.000000\n",
       "25%        54.000000     42.000000\n",
       "50%       389.000000    283.000000\n",
       "75%      2689.000000   1851.000000\n",
       "max     44999.000000  27999.000000"
      ]
     },
     "execution_count": 78,
     "metadata": {},
     "output_type": "execute_result"
    }
   ],
   "source": [
    "# Showing the statistical information of the dataset\n",
    "\n",
    "df.describe()"
   ]
  },
  {
   "cell_type": "code",
   "execution_count": 79,
   "metadata": {},
   "outputs": [
    {
     "data": {
      "text/html": [
       "<div>\n",
       "<style scoped>\n",
       "    .dataframe tbody tr th:only-of-type {\n",
       "        vertical-align: middle;\n",
       "    }\n",
       "\n",
       "    .dataframe tbody tr th {\n",
       "        vertical-align: top;\n",
       "    }\n",
       "\n",
       "    .dataframe thead th {\n",
       "        text-align: right;\n",
       "    }\n",
       "</style>\n",
       "<table border=\"1\" class=\"dataframe\">\n",
       "  <thead>\n",
       "    <tr style=\"text-align: right;\">\n",
       "      <th></th>\n",
       "      <th>Current Price</th>\n",
       "      <th>Old Price</th>\n",
       "      <th>Price Increase Percentage</th>\n",
       "    </tr>\n",
       "  </thead>\n",
       "  <tbody>\n",
       "    <tr>\n",
       "      <th>count</th>\n",
       "      <td>53.000000</td>\n",
       "      <td>53.000000</td>\n",
       "      <td>53.000000</td>\n",
       "    </tr>\n",
       "    <tr>\n",
       "      <th>mean</th>\n",
       "      <td>4680.603774</td>\n",
       "      <td>3496.716981</td>\n",
       "      <td>21.098501</td>\n",
       "    </tr>\n",
       "    <tr>\n",
       "      <th>std</th>\n",
       "      <td>9354.944493</td>\n",
       "      <td>6678.620206</td>\n",
       "      <td>27.333879</td>\n",
       "    </tr>\n",
       "    <tr>\n",
       "      <th>min</th>\n",
       "      <td>5.000000</td>\n",
       "      <td>3.000000</td>\n",
       "      <td>-96.321070</td>\n",
       "    </tr>\n",
       "    <tr>\n",
       "      <th>25%</th>\n",
       "      <td>54.000000</td>\n",
       "      <td>42.000000</td>\n",
       "      <td>8.350872</td>\n",
       "    </tr>\n",
       "    <tr>\n",
       "      <th>50%</th>\n",
       "      <td>389.000000</td>\n",
       "      <td>283.000000</td>\n",
       "      <td>25.641026</td>\n",
       "    </tr>\n",
       "    <tr>\n",
       "      <th>75%</th>\n",
       "      <td>2689.000000</td>\n",
       "      <td>1851.000000</td>\n",
       "      <td>39.130435</td>\n",
       "    </tr>\n",
       "    <tr>\n",
       "      <th>max</th>\n",
       "      <td>44999.000000</td>\n",
       "      <td>27999.000000</td>\n",
       "      <td>63.247863</td>\n",
       "    </tr>\n",
       "  </tbody>\n",
       "</table>\n",
       "</div>"
      ],
      "text/plain": [
       "       Current Price     Old Price  Price Increase Percentage\n",
       "count      53.000000     53.000000                  53.000000\n",
       "mean     4680.603774   3496.716981                  21.098501\n",
       "std      9354.944493   6678.620206                  27.333879\n",
       "min         5.000000      3.000000                 -96.321070\n",
       "25%        54.000000     42.000000                   8.350872\n",
       "50%       389.000000    283.000000                  25.641026\n",
       "75%      2689.000000   1851.000000                  39.130435\n",
       "max     44999.000000  27999.000000                  63.247863"
      ]
     },
     "execution_count": 79,
     "metadata": {},
     "output_type": "execute_result"
    }
   ],
   "source": [
    "# Creating a new column named \"Price Increase Rate\" and calculating the price increase rate\n",
    "# AND\n",
    "# Showing the statistical information of the dataset\n",
    "\n",
    "df['Price Increase Percentage'] = (df['Current Price'] - df['Old Price']) / df['Current Price'] * 100\n",
    "\n",
    "df.describe()"
   ]
  },
  {
   "cell_type": "code",
   "execution_count": 82,
   "metadata": {},
   "outputs": [
    {
     "data": {
      "text/html": [
       "<div>\n",
       "<style scoped>\n",
       "    .dataframe tbody tr th:only-of-type {\n",
       "        vertical-align: middle;\n",
       "    }\n",
       "\n",
       "    .dataframe tbody tr th {\n",
       "        vertical-align: top;\n",
       "    }\n",
       "\n",
       "    .dataframe thead th {\n",
       "        text-align: right;\n",
       "    }\n",
       "</style>\n",
       "<table border=\"1\" class=\"dataframe\">\n",
       "  <thead>\n",
       "    <tr style=\"text-align: right;\">\n",
       "      <th></th>\n",
       "      <th>Product Name</th>\n",
       "      <th>Current Date</th>\n",
       "      <th>Current Price</th>\n",
       "      <th>Old Date</th>\n",
       "      <th>Old Price</th>\n",
       "      <th>Price Increase Percentage</th>\n",
       "    </tr>\n",
       "  </thead>\n",
       "  <tbody>\n",
       "    <tr>\n",
       "      <th>3</th>\n",
       "      <td>Apple iPhone 13 Pro Max 5G 128GB 6GB Ram 6.7 i...</td>\n",
       "      <td>22/05/2023</td>\n",
       "      <td>44999</td>\n",
       "      <td>23/05/2022</td>\n",
       "      <td>27999</td>\n",
       "      <td>37.778617</td>\n",
       "    </tr>\n",
       "    <tr>\n",
       "      <th>18</th>\n",
       "      <td>Apple Macbook Pro MYD82TU-A M1 8GB Ram 256GB S...</td>\n",
       "      <td>22/05/2023</td>\n",
       "      <td>29860</td>\n",
       "      <td>07/06/2022</td>\n",
       "      <td>23029</td>\n",
       "      <td>22.876758</td>\n",
       "    </tr>\n",
       "    <tr>\n",
       "      <th>2</th>\n",
       "      <td>Apple iPhone 12 5G 64GB 4GB Ram 6.1 inç 12MP A...</td>\n",
       "      <td>22/05/2023</td>\n",
       "      <td>24999</td>\n",
       "      <td>08/06/2022</td>\n",
       "      <td>19798</td>\n",
       "      <td>20.804832</td>\n",
       "    </tr>\n",
       "  </tbody>\n",
       "</table>\n",
       "</div>"
      ],
      "text/plain": [
       "                                         Product Name Current Date   \n",
       "3   Apple iPhone 13 Pro Max 5G 128GB 6GB Ram 6.7 i...   22/05/2023  \\\n",
       "18  Apple Macbook Pro MYD82TU-A M1 8GB Ram 256GB S...   22/05/2023   \n",
       "2   Apple iPhone 12 5G 64GB 4GB Ram 6.1 inç 12MP A...   22/05/2023   \n",
       "\n",
       "    Current Price    Old Date  Old Price  Price Increase Percentage  \n",
       "3           44999  23/05/2022      27999                  37.778617  \n",
       "18          29860  07/06/2022      23029                  22.876758  \n",
       "2           24999  08/06/2022      19798                  20.804832  "
      ]
     },
     "execution_count": 82,
     "metadata": {},
     "output_type": "execute_result"
    }
   ],
   "source": [
    "# Creating a new dataframe named \"df2\"\n",
    "# It will be sorted version of the \"df\" dataframe\n",
    "# Sorting according to the \"Current Price\" column (descending order)\n",
    "# Showing 3 products with the highest current price\n",
    "\n",
    "df2 = df.sort_values(by=['Current Price'], ascending=False)\n",
    "\n",
    "df2.head(3)"
   ]
  },
  {
   "cell_type": "code",
   "execution_count": 81,
   "metadata": {},
   "outputs": [
    {
     "data": {
      "text/html": [
       "<div>\n",
       "<style scoped>\n",
       "    .dataframe tbody tr th:only-of-type {\n",
       "        vertical-align: middle;\n",
       "    }\n",
       "\n",
       "    .dataframe tbody tr th {\n",
       "        vertical-align: top;\n",
       "    }\n",
       "\n",
       "    .dataframe thead th {\n",
       "        text-align: right;\n",
       "    }\n",
       "</style>\n",
       "<table border=\"1\" class=\"dataframe\">\n",
       "  <thead>\n",
       "    <tr style=\"text-align: right;\">\n",
       "      <th></th>\n",
       "      <th>Product Name</th>\n",
       "      <th>Current Date</th>\n",
       "      <th>Current Price</th>\n",
       "      <th>Old Date</th>\n",
       "      <th>Old Price</th>\n",
       "      <th>Price Increase Percentage</th>\n",
       "    </tr>\n",
       "  </thead>\n",
       "  <tbody>\n",
       "    <tr>\n",
       "      <th>6</th>\n",
       "      <td>JBL TUNE 500 Mavi Kulaklık</td>\n",
       "      <td>22/05/2023</td>\n",
       "      <td>819</td>\n",
       "      <td>23/05/2022</td>\n",
       "      <td>301</td>\n",
       "      <td>63.247863</td>\n",
       "    </tr>\n",
       "    <tr>\n",
       "      <th>39</th>\n",
       "      <td>Faber Castell Grip 2011 0.7mm Mavi Versatil Kalem</td>\n",
       "      <td>22/05/2023</td>\n",
       "      <td>195</td>\n",
       "      <td>22/05/2022</td>\n",
       "      <td>75</td>\n",
       "      <td>61.538462</td>\n",
       "    </tr>\n",
       "    <tr>\n",
       "      <th>31</th>\n",
       "      <td>Nike Dominate Basketbol Topu</td>\n",
       "      <td>22/05/2023</td>\n",
       "      <td>449</td>\n",
       "      <td>02/06/2022</td>\n",
       "      <td>187</td>\n",
       "      <td>58.351893</td>\n",
       "    </tr>\n",
       "  </tbody>\n",
       "</table>\n",
       "</div>"
      ],
      "text/plain": [
       "                                         Product Name Current Date   \n",
       "6                          JBL TUNE 500 Mavi Kulaklık   22/05/2023  \\\n",
       "39  Faber Castell Grip 2011 0.7mm Mavi Versatil Kalem   22/05/2023   \n",
       "31                       Nike Dominate Basketbol Topu   22/05/2023   \n",
       "\n",
       "    Current Price    Old Date  Old Price  Price Increase Percentage  \n",
       "6             819  23/05/2022        301                  63.247863  \n",
       "39            195  22/05/2022         75                  61.538462  \n",
       "31            449  02/06/2022        187                  58.351893  "
      ]
     },
     "execution_count": 81,
     "metadata": {},
     "output_type": "execute_result"
    }
   ],
   "source": [
    "# Creating a new dataframe named \"df3\"\n",
    "# It will be sorted version of the \"df\" dataframe\n",
    "# Sorting according to the \"Price Increase Percentage\" column (descending order)\n",
    "# Showing 3 products with the highest price increase percentage\n",
    "\n",
    "df3 = df.sort_values(by=['Price Increase Percentage'], ascending=False)\n",
    "\n",
    "df3.head(3)\n"
   ]
  },
  {
   "cell_type": "code",
   "execution_count": 92,
   "metadata": {},
   "outputs": [
    {
     "data": {
      "image/png": "[encoded data removed]",
      "text/plain": [
       "<Figure size 640x480 with 1 Axes>"
      ]
     },
     "metadata": {},
     "output_type": "display_data"
    }
   ],
   "source": [
    "# Creating a histogram for the \"Current Price\" column with bins=25\n",
    "\n",
    "plt.hist(df['Current Price'], bins=25)\n",
    "plt.title(\"Current Price Histogram\")\n",
    "plt.xlabel(\"Current Price\")\n",
    "plt.ylabel(\"Frequency\")\n",
    "tick_positions = np.linspace(df['Current Price'].min(), df['Current Price'].max(), 10)\n",
    "plt.xticks(rotation=45)\n",
    "plt.xticks(tick_positions)\n",
    "\n",
    "plt.show()"
   ]
  },
  {
   "cell_type": "code",
   "execution_count": 89,
   "metadata": {},
   "outputs": [
    {
     "name": "stdout",
     "output_type": "stream",
     "text": [
      "count       53.000000\n",
      "mean      4680.603774\n",
      "std       9354.944493\n",
      "min          5.000000\n",
      "25%         54.000000\n",
      "50%        389.000000\n",
      "75%       2689.000000\n",
      "max      44999.000000\n",
      "Name: Current Price, dtype: float64\n"
     ]
    }
   ],
   "source": [
    "# Showing the statistical information of the \"Current Price\" column\n",
    "print(df['Current Price'].describe())"
   ]
  },
  {
   "cell_type": "code",
   "execution_count": 94,
   "metadata": {},
   "outputs": [
    {
     "data": {
      "image/png": "[encoded data removed]",
      "text/plain": [
       "<Figure size 640x480 with 1 Axes>"
      ]
     },
     "metadata": {},
     "output_type": "display_data"
    }
   ],
   "source": [
    "# Creating a histogram for the \"Old Price\" column with bins=25\n",
    "\n",
    "plt.hist(df['Old Price'], bins=25)\n",
    "plt.title(\"Current Price Histogram\")\n",
    "plt.xlabel(\"Current Price\")\n",
    "plt.ylabel(\"Frequency\")\n",
    "tick_positions = np.linspace(df['Old Price'].min(), df['Old Price'].max(), 10)\n",
    "plt.xticks(rotation=45)\n",
    "plt.xticks(tick_positions)\n",
    "\n",
    "plt.show()"
   ]
  },
  {
   "cell_type": "code",
   "execution_count": 95,
   "metadata": {},
   "outputs": [
    {
     "name": "stdout",
     "output_type": "stream",
     "text": [
      "count       53.000000\n",
      "mean      3496.716981\n",
      "std       6678.620206\n",
      "min          3.000000\n",
      "25%         42.000000\n",
      "50%        283.000000\n",
      "75%       1851.000000\n",
      "max      27999.000000\n",
      "Name: Old Price, dtype: float64\n"
     ]
    }
   ],
   "source": [
    "# Showing the statistical information of the \"Old Price\" column\n",
    "print(df['Old Price'].describe())"
   ]
  },
  {
   "cell_type": "code",
   "execution_count": 96,
   "metadata": {},
   "outputs": [
    {
     "data": {
      "image/png": "[encoded data removed]",
      "text/plain": [
       "<Figure size 640x480 with 1 Axes>"
      ]
     },
     "metadata": {},
     "output_type": "display_data"
    }
   ],
   "source": [
    "# Plotting the relationship between the \"Current Price\" and \"Price Increase Percentage\" columns\n",
    "\n",
    "plt.scatter(df['Current Price'], df['Price Increase Percentage'])\n",
    "\n",
    "plt.title(\"Current Price vs Price Increase Percentage\")\n",
    "plt.xlabel(\"Current Price\")\n",
    "plt.ylabel(\"Price Increase Percentage\")\n",
    "\n",
    "plt.show()"
   ]
  },
  {
   "cell_type": "code",
   "execution_count": 97,
   "metadata": {},
   "outputs": [
    {
     "data": {
      "text/html": [
       "<div>\n",
       "<style scoped>\n",
       "    .dataframe tbody tr th:only-of-type {\n",
       "        vertical-align: middle;\n",
       "    }\n",
       "\n",
       "    .dataframe tbody tr th {\n",
       "        vertical-align: top;\n",
       "    }\n",
       "\n",
       "    .dataframe thead th {\n",
       "        text-align: right;\n",
       "    }\n",
       "</style>\n",
       "<table border=\"1\" class=\"dataframe\">\n",
       "  <thead>\n",
       "    <tr style=\"text-align: right;\">\n",
       "      <th></th>\n",
       "      <th>Product Name</th>\n",
       "      <th>Current Date</th>\n",
       "      <th>Current Price</th>\n",
       "      <th>Old Date</th>\n",
       "      <th>Old Price</th>\n",
       "      <th>Price Increase Percentage</th>\n",
       "      <th>Price Increase Status</th>\n",
       "    </tr>\n",
       "  </thead>\n",
       "  <tbody>\n",
       "    <tr>\n",
       "      <th>0</th>\n",
       "      <td>Apple iPhone 11 128GB Akıllı Cep Telefonu</td>\n",
       "      <td>22/05/2023</td>\n",
       "      <td>18319</td>\n",
       "      <td>22/05/2022</td>\n",
       "      <td>12699</td>\n",
       "      <td>30.678530</td>\n",
       "      <td>Highly Increased</td>\n",
       "    </tr>\n",
       "    <tr>\n",
       "      <th>1</th>\n",
       "      <td>Sony Playstation 5 Oyun Konsolu</td>\n",
       "      <td>22/05/2023</td>\n",
       "      <td>14729</td>\n",
       "      <td>23/05/2022</td>\n",
       "      <td>13499</td>\n",
       "      <td>8.350872</td>\n",
       "      <td>Increased</td>\n",
       "    </tr>\n",
       "    <tr>\n",
       "      <th>2</th>\n",
       "      <td>Apple iPhone 12 5G 64GB 4GB Ram 6.1 inç 12MP A...</td>\n",
       "      <td>22/05/2023</td>\n",
       "      <td>24999</td>\n",
       "      <td>08/06/2022</td>\n",
       "      <td>19798</td>\n",
       "      <td>20.804832</td>\n",
       "      <td>Increased</td>\n",
       "    </tr>\n",
       "    <tr>\n",
       "      <th>3</th>\n",
       "      <td>Apple iPhone 13 Pro Max 5G 128GB 6GB Ram 6.7 i...</td>\n",
       "      <td>22/05/2023</td>\n",
       "      <td>44999</td>\n",
       "      <td>23/05/2022</td>\n",
       "      <td>27999</td>\n",
       "      <td>37.778617</td>\n",
       "      <td>Highly Increased</td>\n",
       "    </tr>\n",
       "    <tr>\n",
       "      <th>4</th>\n",
       "      <td>Apple AirPods 2. Nesil MV7N2TU-A Bluetooth Kul...</td>\n",
       "      <td>22/05/2023</td>\n",
       "      <td>2689</td>\n",
       "      <td>23/05/2022</td>\n",
       "      <td>1851</td>\n",
       "      <td>31.164001</td>\n",
       "      <td>Highly Increased</td>\n",
       "    </tr>\n",
       "  </tbody>\n",
       "</table>\n",
       "</div>"
      ],
      "text/plain": [
       "                                        Product Name Current Date   \n",
       "0          Apple iPhone 11 128GB Akıllı Cep Telefonu   22/05/2023  \\\n",
       "1                    Sony Playstation 5 Oyun Konsolu   22/05/2023   \n",
       "2  Apple iPhone 12 5G 64GB 4GB Ram 6.1 inç 12MP A...   22/05/2023   \n",
       "3  Apple iPhone 13 Pro Max 5G 128GB 6GB Ram 6.7 i...   22/05/2023   \n",
       "4  Apple AirPods 2. Nesil MV7N2TU-A Bluetooth Kul...   22/05/2023   \n",
       "\n",
       "   Current Price    Old Date  Old Price  Price Increase Percentage   \n",
       "0          18319  22/05/2022      12699                  30.678530  \\\n",
       "1          14729  23/05/2022      13499                   8.350872   \n",
       "2          24999  08/06/2022      19798                  20.804832   \n",
       "3          44999  23/05/2022      27999                  37.778617   \n",
       "4           2689  23/05/2022       1851                  31.164001   \n",
       "\n",
       "  Price Increase Status  \n",
       "0      Highly Increased  \n",
       "1             Increased  \n",
       "2             Increased  \n",
       "3      Highly Increased  \n",
       "4      Highly Increased  "
      ]
     },
     "execution_count": 97,
     "metadata": {},
     "output_type": "execute_result"
    }
   ],
   "source": [
    "# Creating a new column named \"Price Increase Status\"\n",
    "# If the price increase percentage is below 0, it will be \"Decreased\"\n",
    "# If the price increase percentage is between 0 and 5, it will be \"Stable\"\n",
    "# If the price increase percentage is between 5 and 30, it will be \"Increased\"\n",
    "# If the price increase percentage is between 30 and 50, it will be \"Highly Increased\"\n",
    "# If the price increase percentage is above 50, it will be \"Extremely Increased\"\n",
    "\n",
    "# Showing the head of the dataframe\n",
    "\n",
    "def priceIncreaseStatus(priceIncreasePercentage):\n",
    "    if priceIncreasePercentage < 0:\n",
    "        return \"Decreased\"\n",
    "    elif priceIncreasePercentage >= 0 and priceIncreasePercentage < 5:\n",
    "        return \"Stable\"\n",
    "    elif priceIncreasePercentage >= 5 and priceIncreasePercentage < 30:\n",
    "        return \"Increased\"\n",
    "    elif priceIncreasePercentage >= 30 and priceIncreasePercentage < 50:\n",
    "        return \"Highly Increased\"\n",
    "    else:\n",
    "        return \"Extremely Increased\"\n",
    "    \n",
    "df['Price Increase Status'] = df['Price Increase Percentage'].apply(priceIncreaseStatus)\n",
    "\n",
    "df.head()"
   ]
  },
  {
   "cell_type": "code",
   "execution_count": 98,
   "metadata": {},
   "outputs": [
    {
     "data": {
      "image/png": "[encoded data removed]",
      "text/plain": [
       "<Figure size 1000x500 with 1 Axes>"
      ]
     },
     "metadata": {},
     "output_type": "display_data"
    }
   ],
   "source": [
    "# Visualizing the \"Price Increase Status\" column with a bar plot\n",
    "\n",
    "plt.figure(figsize=(10, 5))\n",
    "sns.countplot(data=df, x='Price Increase Status', hue='Price Increase Status', order = ['Decreased', 'Stable', 'Increased', 'Highly Increased', 'Extremely Increased'])\n",
    "plt.title(\"Price Increase Status\")\n",
    "plt.xlabel(\"Price Increase Status\")\n",
    "plt.ylabel(\"Frequency\")\n",
    "\n",
    "plt.show()"
   ]
  }
 ],
 "metadata": {
  "kernelspec": {
   "display_name": "Python 3",
   "language": "python",
   "name": "python3"
  },
  "language_info": {
   "codemirror_mode": {
    "name": "ipython",
    "version": 3
   },
   "file_extension": ".py",
   "mimetype": "text/x-python",
   "name": "python",
   "nbconvert_exporter": "python",
   "pygments_lexer": "ipython3",
   "version": "3.10.4"
  },
  "orig_nbformat": 4
 },
 "nbformat": 4,
 "nbformat_minor": 2
}
