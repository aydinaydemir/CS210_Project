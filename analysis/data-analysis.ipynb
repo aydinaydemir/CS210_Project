{
 "cells": [
  {
   "cell_type": "code",
   "execution_count": 47,
   "metadata": {},
   "outputs": [],
   "source": [
    "# Neccesary import statements\n",
    "import pandas as pd\n",
    "import numpy as np\n",
    "import matplotlib.pyplot as plt\n",
    "import seaborn as sns\n",
    "\n",
    "import plotly.express as px\n",
    "import plotly.graph_objects as go\n"
   ]
  },
  {
   "cell_type": "code",
   "execution_count": 48,
   "metadata": {},
   "outputs": [
    {
     "name": "stdout",
     "output_type": "stream",
     "text": [
      "Number of rows:  445\n",
      "Number of columns:  6\n"
     ]
    }
   ],
   "source": [
    "# Number of rows and columns to display\n",
    "file1Path = '../data/datasets/akakceProducts.csv'\n",
    "file2Path = '../data/datasets/cimriProducts.csv'\n",
    "\n",
    "df1 = pd.read_csv(file1Path)\n",
    "df2 = pd.read_csv(file2Path)\n",
    "\n",
    "##concat two dataframes with dropping the header row of the 2nd dataframe\n",
    "df = pd.concat([df1, df2], ignore_index=True)\n",
    "\n",
    "row , col = df.shape\n",
    "print(\"Number of rows: \", row)\n",
    "print(\"Number of columns: \", col)\n"
   ]
  },
  {
   "cell_type": "code",
   "execution_count": 49,
   "metadata": {},
   "outputs": [
    {
     "name": "stdout",
     "output_type": "stream",
     "text": [
      "<class 'pandas.core.frame.DataFrame'>\n",
      "RangeIndex: 445 entries, 0 to 444\n",
      "Data columns (total 6 columns):\n",
      " #   Column         Non-Null Count  Dtype \n",
      "---  ------         --------------  ----- \n",
      " 0   Product Name   445 non-null    object\n",
      " 1   Current Date   445 non-null    object\n",
      " 2   Current Price  445 non-null    int64 \n",
      " 3   Old Date       445 non-null    object\n",
      " 4   Old Price      445 non-null    int64 \n",
      " 5   Category       445 non-null    object\n",
      "dtypes: int64(2), object(4)\n",
      "memory usage: 21.0+ KB\n"
     ]
    }
   ],
   "source": [
    "# Showing the info of the dataframe\n",
    "df.info()"
   ]
  },
  {
   "cell_type": "code",
   "execution_count": 50,
   "metadata": {},
   "outputs": [
    {
     "data": {
      "text/plain": [
       "Product Name     0\n",
       "Current Date     0\n",
       "Current Price    0\n",
       "Old Date         0\n",
       "Old Price        0\n",
       "Category         0\n",
       "dtype: int64"
      ]
     },
     "execution_count": 50,
     "metadata": {},
     "output_type": "execute_result"
    }
   ],
   "source": [
    "# Checking the missing values if there is any\n",
    "df.isnull().sum()"
   ]
  },
  {
   "cell_type": "code",
   "execution_count": 51,
   "metadata": {},
   "outputs": [
    {
     "name": "stdout",
     "output_type": "stream",
     "text": [
      "Number of duplicated rows:  21\n"
     ]
    }
   ],
   "source": [
    "# Filtering the duplicated rows and printing the head of the dataframe\n",
    "\n",
    "duplicates = df.duplicated()\n",
    "numDuplicates = duplicates.sum()\n",
    "\n",
    "print(\"Number of duplicated rows: \", numDuplicates)"
   ]
  },
  {
   "cell_type": "code",
   "execution_count": 52,
   "metadata": {},
   "outputs": [
    {
     "name": "stdout",
     "output_type": "stream",
     "text": [
      "Number of rows after dropping the duplicated rows:  424\n",
      "Number of columns after dropping the duplicated rows:  6\n",
      "Number of rows dropped:  21\n"
     ]
    }
   ],
   "source": [
    "# Dropping the duplicated rows if there is any\n",
    "# Printing the number of rows and columns after dropping the duplicated rows\n",
    "\n",
    "wODuplicates = df[~duplicates]\n",
    "\n",
    "rowUpdated, col = wODuplicates.shape\n",
    "\n",
    "print(\"Number of rows after dropping the duplicated rows: \", rowUpdated)\n",
    "print(\"Number of columns after dropping the duplicated rows: \", col)\n",
    "print(\"Number of rows dropped: \", row - rowUpdated)"
   ]
  },
  {
   "cell_type": "code",
   "execution_count": 53,
   "metadata": {},
   "outputs": [
    {
     "name": "stdout",
     "output_type": "stream",
     "text": [
      "After double checking, number of duplicated rows:  0\n"
     ]
    }
   ],
   "source": [
    "# Double checking if there is any duplicated rows\n",
    "\n",
    "doubleCheckDf = wODuplicates.duplicated()\n",
    "numDoubleCheck = doubleCheckDf.sum()\n",
    "\n",
    "print(\"After double checking, number of duplicated rows: \", numDoubleCheck)"
   ]
  },
  {
   "cell_type": "code",
   "execution_count": 54,
   "metadata": {},
   "outputs": [],
   "source": [
    "# Converting the date columns to datetime format\n",
    "# Calculating the difference between the current date and the old date\n",
    "# Adding a new column to the dataframe which is the difference between the current date and the old date\n",
    "\n",
    "df = wODuplicates\n",
    "\n",
    "df['Current Date'] = pd.to_datetime(df['Current Date'], dayfirst=True)\n",
    "df['Old Date'] = pd.to_datetime(df['Old Date'], dayfirst=True)\n",
    "\n",
    "df['Days Passed'] = (df['Current Date'] - df['Old Date']).dt.days"
   ]
  },
  {
   "cell_type": "code",
   "execution_count": 55,
   "metadata": {},
   "outputs": [
    {
     "data": {
      "text/html": [
       "<div>\n",
       "<style scoped>\n",
       "    .dataframe tbody tr th:only-of-type {\n",
       "        vertical-align: middle;\n",
       "    }\n",
       "\n",
       "    .dataframe tbody tr th {\n",
       "        vertical-align: top;\n",
       "    }\n",
       "\n",
       "    .dataframe thead th {\n",
       "        text-align: right;\n",
       "    }\n",
       "</style>\n",
       "<table border=\"1\" class=\"dataframe\">\n",
       "  <thead>\n",
       "    <tr style=\"text-align: right;\">\n",
       "      <th></th>\n",
       "      <th>Product Name</th>\n",
       "      <th>Current Date</th>\n",
       "      <th>Current Price</th>\n",
       "      <th>Old Date</th>\n",
       "      <th>Old Price</th>\n",
       "      <th>Category</th>\n",
       "      <th>Days Passed</th>\n",
       "    </tr>\n",
       "  </thead>\n",
       "  <tbody>\n",
       "    <tr>\n",
       "      <th>0</th>\n",
       "      <td>SteelSeries Rival 3 RGB Kablolu Optik Oyuncu M...</td>\n",
       "      <td>2023-06-10</td>\n",
       "      <td>600</td>\n",
       "      <td>2022-06-10</td>\n",
       "      <td>289</td>\n",
       "      <td>mouse</td>\n",
       "      <td>365</td>\n",
       "    </tr>\n",
       "    <tr>\n",
       "      <th>1</th>\n",
       "      <td>SteelSeries Rival 5 RGB Kablolu Optik Oyuncu M...</td>\n",
       "      <td>2023-06-10</td>\n",
       "      <td>1199</td>\n",
       "      <td>2022-06-10</td>\n",
       "      <td>629</td>\n",
       "      <td>mouse</td>\n",
       "      <td>365</td>\n",
       "    </tr>\n",
       "    <tr>\n",
       "      <th>2</th>\n",
       "      <td>Pro Plan Sterilised Somonlu ve Ton Balıklı 10 ...</td>\n",
       "      <td>2023-06-10</td>\n",
       "      <td>1619</td>\n",
       "      <td>2022-06-10</td>\n",
       "      <td>760</td>\n",
       "      <td>kedi-mamasi</td>\n",
       "      <td>365</td>\n",
       "    </tr>\n",
       "    <tr>\n",
       "      <th>3</th>\n",
       "      <td>Nutella 750 gr Kakaolu Fındık Kreması</td>\n",
       "      <td>2023-06-10</td>\n",
       "      <td>95</td>\n",
       "      <td>2022-06-11</td>\n",
       "      <td>44</td>\n",
       "      <td>ezme-krem-cikolata</td>\n",
       "      <td>364</td>\n",
       "    </tr>\n",
       "    <tr>\n",
       "      <th>4</th>\n",
       "      <td>Royal Canin Sterilised 37 15 kg Kısırlaştırılm...</td>\n",
       "      <td>2023-06-10</td>\n",
       "      <td>1775</td>\n",
       "      <td>2022-06-10</td>\n",
       "      <td>975</td>\n",
       "      <td>kedi-mamasi</td>\n",
       "      <td>365</td>\n",
       "    </tr>\n",
       "  </tbody>\n",
       "</table>\n",
       "</div>"
      ],
      "text/plain": [
       "                                        Product Name Current Date   \n",
       "0  SteelSeries Rival 3 RGB Kablolu Optik Oyuncu M...   2023-06-10  \\\n",
       "1  SteelSeries Rival 5 RGB Kablolu Optik Oyuncu M...   2023-06-10   \n",
       "2  Pro Plan Sterilised Somonlu ve Ton Balıklı 10 ...   2023-06-10   \n",
       "3              Nutella 750 gr Kakaolu Fındık Kreması   2023-06-10   \n",
       "4  Royal Canin Sterilised 37 15 kg Kısırlaştırılm...   2023-06-10   \n",
       "\n",
       "   Current Price   Old Date  Old Price            Category  Days Passed  \n",
       "0            600 2022-06-10        289               mouse          365  \n",
       "1           1199 2022-06-10        629               mouse          365  \n",
       "2           1619 2022-06-10        760         kedi-mamasi          365  \n",
       "3             95 2022-06-11         44  ezme-krem-cikolata          364  \n",
       "4           1775 2022-06-10        975         kedi-mamasi          365  "
      ]
     },
     "execution_count": 55,
     "metadata": {},
     "output_type": "execute_result"
    }
   ],
   "source": [
    "# After cleaning the dataset, Exploring the dataset\n",
    "\n",
    "df.head()"
   ]
  },
  {
   "cell_type": "code",
   "execution_count": 56,
   "metadata": {},
   "outputs": [
    {
     "data": {
      "text/html": [
       "<div>\n",
       "<style scoped>\n",
       "    .dataframe tbody tr th:only-of-type {\n",
       "        vertical-align: middle;\n",
       "    }\n",
       "\n",
       "    .dataframe tbody tr th {\n",
       "        vertical-align: top;\n",
       "    }\n",
       "\n",
       "    .dataframe thead th {\n",
       "        text-align: right;\n",
       "    }\n",
       "</style>\n",
       "<table border=\"1\" class=\"dataframe\">\n",
       "  <thead>\n",
       "    <tr style=\"text-align: right;\">\n",
       "      <th></th>\n",
       "      <th>Current Date</th>\n",
       "      <th>Current Price</th>\n",
       "      <th>Old Date</th>\n",
       "      <th>Old Price</th>\n",
       "      <th>Days Passed</th>\n",
       "    </tr>\n",
       "  </thead>\n",
       "  <tbody>\n",
       "    <tr>\n",
       "      <th>count</th>\n",
       "      <td>424</td>\n",
       "      <td>424.000000</td>\n",
       "      <td>424</td>\n",
       "      <td>424.000000</td>\n",
       "      <td>424.000000</td>\n",
       "    </tr>\n",
       "    <tr>\n",
       "      <th>mean</th>\n",
       "      <td>2023-06-09 06:47:32.830188800</td>\n",
       "      <td>2656.801887</td>\n",
       "      <td>2022-06-21 05:15:50.943396352</td>\n",
       "      <td>1839.313679</td>\n",
       "      <td>353.063679</td>\n",
       "    </tr>\n",
       "    <tr>\n",
       "      <th>min</th>\n",
       "      <td>2023-06-09 00:00:00</td>\n",
       "      <td>2.000000</td>\n",
       "      <td>2022-06-09 00:00:00</td>\n",
       "      <td>1.000000</td>\n",
       "      <td>39.000000</td>\n",
       "    </tr>\n",
       "    <tr>\n",
       "      <th>25%</th>\n",
       "      <td>2023-06-09 00:00:00</td>\n",
       "      <td>107.750000</td>\n",
       "      <td>2022-06-10 00:00:00</td>\n",
       "      <td>74.750000</td>\n",
       "      <td>359.000000</td>\n",
       "    </tr>\n",
       "    <tr>\n",
       "      <th>50%</th>\n",
       "      <td>2023-06-09 00:00:00</td>\n",
       "      <td>376.000000</td>\n",
       "      <td>2022-06-10 00:00:00</td>\n",
       "      <td>259.000000</td>\n",
       "      <td>364.000000</td>\n",
       "    </tr>\n",
       "    <tr>\n",
       "      <th>75%</th>\n",
       "      <td>2023-06-10 00:00:00</td>\n",
       "      <td>1634.750000</td>\n",
       "      <td>2022-06-15 00:00:00</td>\n",
       "      <td>1149.000000</td>\n",
       "      <td>365.000000</td>\n",
       "    </tr>\n",
       "    <tr>\n",
       "      <th>max</th>\n",
       "      <td>2023-06-10 00:00:00</td>\n",
       "      <td>49849.000000</td>\n",
       "      <td>2023-05-02 00:00:00</td>\n",
       "      <td>31329.000000</td>\n",
       "      <td>365.000000</td>\n",
       "    </tr>\n",
       "    <tr>\n",
       "      <th>std</th>\n",
       "      <td>NaN</td>\n",
       "      <td>5973.177317</td>\n",
       "      <td>NaN</td>\n",
       "      <td>3989.107391</td>\n",
       "      <td>37.530233</td>\n",
       "    </tr>\n",
       "  </tbody>\n",
       "</table>\n",
       "</div>"
      ],
      "text/plain": [
       "                        Current Date  Current Price   \n",
       "count                            424     424.000000  \\\n",
       "mean   2023-06-09 06:47:32.830188800    2656.801887   \n",
       "min              2023-06-09 00:00:00       2.000000   \n",
       "25%              2023-06-09 00:00:00     107.750000   \n",
       "50%              2023-06-09 00:00:00     376.000000   \n",
       "75%              2023-06-10 00:00:00    1634.750000   \n",
       "max              2023-06-10 00:00:00   49849.000000   \n",
       "std                              NaN    5973.177317   \n",
       "\n",
       "                            Old Date     Old Price  Days Passed  \n",
       "count                            424    424.000000   424.000000  \n",
       "mean   2022-06-21 05:15:50.943396352   1839.313679   353.063679  \n",
       "min              2022-06-09 00:00:00      1.000000    39.000000  \n",
       "25%              2022-06-10 00:00:00     74.750000   359.000000  \n",
       "50%              2022-06-10 00:00:00    259.000000   364.000000  \n",
       "75%              2022-06-15 00:00:00   1149.000000   365.000000  \n",
       "max              2023-05-02 00:00:00  31329.000000   365.000000  \n",
       "std                              NaN   3989.107391    37.530233  "
      ]
     },
     "execution_count": 56,
     "metadata": {},
     "output_type": "execute_result"
    }
   ],
   "source": [
    "# Showing the statistical information of the dataset\n",
    "\n",
    "df.describe()"
   ]
  },
  {
   "cell_type": "code",
   "execution_count": 57,
   "metadata": {},
   "outputs": [
    {
     "data": {
      "text/html": [
       "<div>\n",
       "<style scoped>\n",
       "    .dataframe tbody tr th:only-of-type {\n",
       "        vertical-align: middle;\n",
       "    }\n",
       "\n",
       "    .dataframe tbody tr th {\n",
       "        vertical-align: top;\n",
       "    }\n",
       "\n",
       "    .dataframe thead th {\n",
       "        text-align: right;\n",
       "    }\n",
       "</style>\n",
       "<table border=\"1\" class=\"dataframe\">\n",
       "  <thead>\n",
       "    <tr style=\"text-align: right;\">\n",
       "      <th></th>\n",
       "      <th>Current Date</th>\n",
       "      <th>Current Price</th>\n",
       "      <th>Old Date</th>\n",
       "      <th>Old Price</th>\n",
       "      <th>Days Passed</th>\n",
       "      <th>Price Increase Percentage</th>\n",
       "    </tr>\n",
       "  </thead>\n",
       "  <tbody>\n",
       "    <tr>\n",
       "      <th>count</th>\n",
       "      <td>424</td>\n",
       "      <td>424.000000</td>\n",
       "      <td>424</td>\n",
       "      <td>424.000000</td>\n",
       "      <td>424.000000</td>\n",
       "      <td>424.000000</td>\n",
       "    </tr>\n",
       "    <tr>\n",
       "      <th>mean</th>\n",
       "      <td>2023-06-09 06:47:32.830188800</td>\n",
       "      <td>2656.801887</td>\n",
       "      <td>2022-06-21 05:15:50.943396352</td>\n",
       "      <td>1839.313679</td>\n",
       "      <td>353.063679</td>\n",
       "      <td>27.341911</td>\n",
       "    </tr>\n",
       "    <tr>\n",
       "      <th>min</th>\n",
       "      <td>2023-06-09 00:00:00</td>\n",
       "      <td>2.000000</td>\n",
       "      <td>2022-06-09 00:00:00</td>\n",
       "      <td>1.000000</td>\n",
       "      <td>39.000000</td>\n",
       "      <td>-75.145955</td>\n",
       "    </tr>\n",
       "    <tr>\n",
       "      <th>25%</th>\n",
       "      <td>2023-06-09 00:00:00</td>\n",
       "      <td>107.750000</td>\n",
       "      <td>2022-06-10 00:00:00</td>\n",
       "      <td>74.750000</td>\n",
       "      <td>359.000000</td>\n",
       "      <td>18.116650</td>\n",
       "    </tr>\n",
       "    <tr>\n",
       "      <th>50%</th>\n",
       "      <td>2023-06-09 00:00:00</td>\n",
       "      <td>376.000000</td>\n",
       "      <td>2022-06-10 00:00:00</td>\n",
       "      <td>259.000000</td>\n",
       "      <td>364.000000</td>\n",
       "      <td>31.084613</td>\n",
       "    </tr>\n",
       "    <tr>\n",
       "      <th>75%</th>\n",
       "      <td>2023-06-10 00:00:00</td>\n",
       "      <td>1634.750000</td>\n",
       "      <td>2022-06-15 00:00:00</td>\n",
       "      <td>1149.000000</td>\n",
       "      <td>365.000000</td>\n",
       "      <td>41.817688</td>\n",
       "    </tr>\n",
       "    <tr>\n",
       "      <th>max</th>\n",
       "      <td>2023-06-10 00:00:00</td>\n",
       "      <td>49849.000000</td>\n",
       "      <td>2023-05-02 00:00:00</td>\n",
       "      <td>31329.000000</td>\n",
       "      <td>365.000000</td>\n",
       "      <td>76.956522</td>\n",
       "    </tr>\n",
       "    <tr>\n",
       "      <th>std</th>\n",
       "      <td>NaN</td>\n",
       "      <td>5973.177317</td>\n",
       "      <td>NaN</td>\n",
       "      <td>3989.107391</td>\n",
       "      <td>37.530233</td>\n",
       "      <td>23.272023</td>\n",
       "    </tr>\n",
       "  </tbody>\n",
       "</table>\n",
       "</div>"
      ],
      "text/plain": [
       "                        Current Date  Current Price   \n",
       "count                            424     424.000000  \\\n",
       "mean   2023-06-09 06:47:32.830188800    2656.801887   \n",
       "min              2023-06-09 00:00:00       2.000000   \n",
       "25%              2023-06-09 00:00:00     107.750000   \n",
       "50%              2023-06-09 00:00:00     376.000000   \n",
       "75%              2023-06-10 00:00:00    1634.750000   \n",
       "max              2023-06-10 00:00:00   49849.000000   \n",
       "std                              NaN    5973.177317   \n",
       "\n",
       "                            Old Date     Old Price  Days Passed   \n",
       "count                            424    424.000000   424.000000  \\\n",
       "mean   2022-06-21 05:15:50.943396352   1839.313679   353.063679   \n",
       "min              2022-06-09 00:00:00      1.000000    39.000000   \n",
       "25%              2022-06-10 00:00:00     74.750000   359.000000   \n",
       "50%              2022-06-10 00:00:00    259.000000   364.000000   \n",
       "75%              2022-06-15 00:00:00   1149.000000   365.000000   \n",
       "max              2023-05-02 00:00:00  31329.000000   365.000000   \n",
       "std                              NaN   3989.107391    37.530233   \n",
       "\n",
       "       Price Increase Percentage  \n",
       "count                 424.000000  \n",
       "mean                   27.341911  \n",
       "min                   -75.145955  \n",
       "25%                    18.116650  \n",
       "50%                    31.084613  \n",
       "75%                    41.817688  \n",
       "max                    76.956522  \n",
       "std                    23.272023  "
      ]
     },
     "execution_count": 57,
     "metadata": {},
     "output_type": "execute_result"
    }
   ],
   "source": [
    "# Creating a new column named \"Price Increase Rate\" and calculating the price increase rate\n",
    "# AND\n",
    "# Showing the statistical information of the dataset\n",
    "\n",
    "df['Price Increase Percentage'] = (df['Current Price'] - df['Old Price']) / df['Current Price'] * 100\n",
    "\n",
    "df.describe()"
   ]
  },
  {
   "cell_type": "code",
   "execution_count": 58,
   "metadata": {},
   "outputs": [
    {
     "data": {
      "text/html": [
       "<div>\n",
       "<style scoped>\n",
       "    .dataframe tbody tr th:only-of-type {\n",
       "        vertical-align: middle;\n",
       "    }\n",
       "\n",
       "    .dataframe tbody tr th {\n",
       "        vertical-align: top;\n",
       "    }\n",
       "\n",
       "    .dataframe thead th {\n",
       "        text-align: right;\n",
       "    }\n",
       "</style>\n",
       "<table border=\"1\" class=\"dataframe\">\n",
       "  <thead>\n",
       "    <tr style=\"text-align: right;\">\n",
       "      <th></th>\n",
       "      <th>Product Name</th>\n",
       "      <th>Current Date</th>\n",
       "      <th>Current Price</th>\n",
       "      <th>Old Date</th>\n",
       "      <th>Old Price</th>\n",
       "      <th>Category</th>\n",
       "      <th>Days Passed</th>\n",
       "      <th>Price Increase Percentage</th>\n",
       "    </tr>\n",
       "  </thead>\n",
       "  <tbody>\n",
       "    <tr>\n",
       "      <th>126</th>\n",
       "      <td>Apple iPhone 13 Pro Max 5G 128GB 6GB Ram 6.7 i...</td>\n",
       "      <td>2023-06-09</td>\n",
       "      <td>49849</td>\n",
       "      <td>2022-06-10</td>\n",
       "      <td>31329</td>\n",
       "      <td>cep-telefonlari</td>\n",
       "      <td>364</td>\n",
       "      <td>37.152200</td>\n",
       "    </tr>\n",
       "    <tr>\n",
       "      <th>142</th>\n",
       "      <td>Apple Macbook Pro MYD82TU-A M1 8GB Ram 256GB S...</td>\n",
       "      <td>2023-06-09</td>\n",
       "      <td>34999</td>\n",
       "      <td>2022-06-10</td>\n",
       "      <td>21380</td>\n",
       "      <td>dizustu-bilgisayar</td>\n",
       "      <td>364</td>\n",
       "      <td>38.912540</td>\n",
       "    </tr>\n",
       "    <tr>\n",
       "      <th>17</th>\n",
       "      <td>iPhone 13 128 GB Yıldız Işığı</td>\n",
       "      <td>2023-06-10</td>\n",
       "      <td>32999</td>\n",
       "      <td>2022-06-10</td>\n",
       "      <td>17799</td>\n",
       "      <td>cep-telefonu</td>\n",
       "      <td>365</td>\n",
       "      <td>46.062002</td>\n",
       "    </tr>\n",
       "  </tbody>\n",
       "</table>\n",
       "</div>"
      ],
      "text/plain": [
       "                                          Product Name Current Date   \n",
       "126  Apple iPhone 13 Pro Max 5G 128GB 6GB Ram 6.7 i...   2023-06-09  \\\n",
       "142  Apple Macbook Pro MYD82TU-A M1 8GB Ram 256GB S...   2023-06-09   \n",
       "17                       iPhone 13 128 GB Yıldız Işığı   2023-06-10   \n",
       "\n",
       "     Current Price   Old Date  Old Price            Category  Days Passed   \n",
       "126          49849 2022-06-10      31329     cep-telefonlari          364  \\\n",
       "142          34999 2022-06-10      21380  dizustu-bilgisayar          364   \n",
       "17           32999 2022-06-10      17799        cep-telefonu          365   \n",
       "\n",
       "     Price Increase Percentage  \n",
       "126                  37.152200  \n",
       "142                  38.912540  \n",
       "17                   46.062002  "
      ]
     },
     "execution_count": 58,
     "metadata": {},
     "output_type": "execute_result"
    }
   ],
   "source": [
    "# Creating a new dataframe named \"df2\"\n",
    "# It will be sorted version of the \"df\" dataframe\n",
    "# Sorting according to the \"Current Price\" column (descending order)\n",
    "# Showing 3 products with the highest current price\n",
    "\n",
    "df2 = df.sort_values(by=['Current Price'], ascending=False)\n",
    "\n",
    "df2.head(3)"
   ]
  },
  {
   "cell_type": "code",
   "execution_count": 59,
   "metadata": {},
   "outputs": [
    {
     "data": {
      "text/html": [
       "<div>\n",
       "<style scoped>\n",
       "    .dataframe tbody tr th:only-of-type {\n",
       "        vertical-align: middle;\n",
       "    }\n",
       "\n",
       "    .dataframe tbody tr th {\n",
       "        vertical-align: top;\n",
       "    }\n",
       "\n",
       "    .dataframe thead th {\n",
       "        text-align: right;\n",
       "    }\n",
       "</style>\n",
       "<table border=\"1\" class=\"dataframe\">\n",
       "  <thead>\n",
       "    <tr style=\"text-align: right;\">\n",
       "      <th></th>\n",
       "      <th>Product Name</th>\n",
       "      <th>Current Date</th>\n",
       "      <th>Current Price</th>\n",
       "      <th>Old Date</th>\n",
       "      <th>Old Price</th>\n",
       "      <th>Category</th>\n",
       "      <th>Days Passed</th>\n",
       "      <th>Price Increase Percentage</th>\n",
       "    </tr>\n",
       "  </thead>\n",
       "  <tbody>\n",
       "    <tr>\n",
       "      <th>241</th>\n",
       "      <td>Xiaomi 20000 mAh 2.1A - 3A Çift Çıkışlı Taşına...</td>\n",
       "      <td>2023-06-09</td>\n",
       "      <td>690</td>\n",
       "      <td>2022-06-10</td>\n",
       "      <td>159</td>\n",
       "      <td>tasinabilir-sarj-cihazi-powerbank</td>\n",
       "      <td>364</td>\n",
       "      <td>76.956522</td>\n",
       "    </tr>\n",
       "    <tr>\n",
       "      <th>411</th>\n",
       "      <td>HP 106A-W1106A Orjinal Toner</td>\n",
       "      <td>2023-06-09</td>\n",
       "      <td>410</td>\n",
       "      <td>2022-06-11</td>\n",
       "      <td>108</td>\n",
       "      <td>tonerler</td>\n",
       "      <td>363</td>\n",
       "      <td>73.658537</td>\n",
       "    </tr>\n",
       "    <tr>\n",
       "      <th>260</th>\n",
       "      <td>Assassins Creed III Special Edition PC</td>\n",
       "      <td>2023-06-09</td>\n",
       "      <td>323</td>\n",
       "      <td>2022-06-22</td>\n",
       "      <td>89</td>\n",
       "      <td>bilgisayar-oyunlari</td>\n",
       "      <td>352</td>\n",
       "      <td>72.445820</td>\n",
       "    </tr>\n",
       "  </tbody>\n",
       "</table>\n",
       "</div>"
      ],
      "text/plain": [
       "                                          Product Name Current Date   \n",
       "241  Xiaomi 20000 mAh 2.1A - 3A Çift Çıkışlı Taşına...   2023-06-09  \\\n",
       "411                       HP 106A-W1106A Orjinal Toner   2023-06-09   \n",
       "260             Assassins Creed III Special Edition PC   2023-06-09   \n",
       "\n",
       "     Current Price   Old Date  Old Price                           Category   \n",
       "241            690 2022-06-10        159  tasinabilir-sarj-cihazi-powerbank  \\\n",
       "411            410 2022-06-11        108                           tonerler   \n",
       "260            323 2022-06-22         89                bilgisayar-oyunlari   \n",
       "\n",
       "     Days Passed  Price Increase Percentage  \n",
       "241          364                  76.956522  \n",
       "411          363                  73.658537  \n",
       "260          352                  72.445820  "
      ]
     },
     "execution_count": 59,
     "metadata": {},
     "output_type": "execute_result"
    }
   ],
   "source": [
    "# Creating a new dataframe named \"df3\"\n",
    "# It will be sorted version of the \"df\" dataframe\n",
    "# Sorting according to the \"Price Increase Percentage\" column (descending order)\n",
    "# Showing 3 products with the highest price increase percentage\n",
    "\n",
    "df3 = df.sort_values(by=['Price Increase Percentage'], ascending=False)\n",
    "\n",
    "df3.head(3)\n"
   ]
  },
  {
   "cell_type": "code",
   "execution_count": 60,
   "metadata": {},
   "outputs": [
    {
     "data": {
      "image/png": "[encoded data removed]",
      "text/plain": [
       "<Figure size 640x480 with 1 Axes>"
      ]
     },
     "metadata": {},
     "output_type": "display_data"
    }
   ],
   "source": [
    "# Creating a histogram for the \"Current Price\" column with bins=25\n",
    "\n",
    "plt.hist(df['Current Price'], bins=25)\n",
    "plt.title(\"Current Price Histogram\")\n",
    "plt.xlabel(\"Current Price\")\n",
    "plt.ylabel(\"Frequency\")\n",
    "tick_positions = np.linspace(df['Current Price'].min(), df['Current Price'].max(), 10)\n",
    "plt.xticks(rotation=45)\n",
    "plt.xticks(tick_positions)\n",
    "\n",
    "plt.show()"
   ]
  },
  {
   "cell_type": "code",
   "execution_count": 61,
   "metadata": {},
   "outputs": [
    {
     "name": "stdout",
     "output_type": "stream",
     "text": [
      "count      424.000000\n",
      "mean      2656.801887\n",
      "std       5973.177317\n",
      "min          2.000000\n",
      "25%        107.750000\n",
      "50%        376.000000\n",
      "75%       1634.750000\n",
      "max      49849.000000\n",
      "Name: Current Price, dtype: float64\n"
     ]
    }
   ],
   "source": [
    "# Showing the statistical information of the \"Current Price\" column\n",
    "print(df['Current Price'].describe())"
   ]
  },
  {
   "cell_type": "code",
   "execution_count": 62,
   "metadata": {},
   "outputs": [
    {
     "data": {
      "image/png": "[encoded data removed]",
      "text/plain": [
       "<Figure size 640x480 with 1 Axes>"
      ]
     },
     "metadata": {},
     "output_type": "display_data"
    }
   ],
   "source": [
    "# Creating a histogram for the \"Old Price\" column with bins=25\n",
    "\n",
    "plt.hist(df['Old Price'], bins=25)\n",
    "plt.title(\"Current Price Histogram\")\n",
    "plt.xlabel(\"Current Price\")\n",
    "plt.ylabel(\"Frequency\")\n",
    "tick_positions = np.linspace(df['Old Price'].min(), df['Old Price'].max(), 10)\n",
    "plt.xticks(rotation=45)\n",
    "plt.xticks(tick_positions)\n",
    "\n",
    "plt.show()"
   ]
  },
  {
   "cell_type": "code",
   "execution_count": 63,
   "metadata": {},
   "outputs": [
    {
     "name": "stdout",
     "output_type": "stream",
     "text": [
      "count      424.000000\n",
      "mean      1839.313679\n",
      "std       3989.107391\n",
      "min          1.000000\n",
      "25%         74.750000\n",
      "50%        259.000000\n",
      "75%       1149.000000\n",
      "max      31329.000000\n",
      "Name: Old Price, dtype: float64\n"
     ]
    }
   ],
   "source": [
    "# Showing the statistical information of the \"Old Price\" column\n",
    "print(df['Old Price'].describe())"
   ]
  },
  {
   "cell_type": "code",
   "execution_count": 64,
   "metadata": {},
   "outputs": [
    {
     "data": {
      "image/png": "[encoded data removed]",
      "text/plain": [
       "<Figure size 1000x500 with 2 Axes>"
      ]
     },
     "metadata": {},
     "output_type": "display_data"
    }
   ],
   "source": [
    "# Plotting the Correlation Heatmap\n",
    "# to see if there is any strong correlation between the columns\n",
    "\n",
    "plt.figure(figsize=(10, 5))\n",
    "sns.heatmap(df[['Old Price', 'Current Price', 'Price Increase Percentage']].corr(), annot=True, cmap='coolwarm')\n",
    "plt.title(\"Correlation Heatmap\")\n",
    "plt.show()\n"
   ]
  },
  {
   "cell_type": "code",
   "execution_count": 65,
   "metadata": {},
   "outputs": [
    {
     "data": {
      "image/png": "[encoded data removed]",
      "text/plain": [
       "<Figure size 640x480 with 1 Axes>"
      ]
     },
     "metadata": {},
     "output_type": "display_data"
    }
   ],
   "source": [
    "# Plotting the relationship between the \"Current Price\" and \"Price Increase Percentage\" columns\n",
    "\n",
    "plt.scatter(df['Current Price'], df['Price Increase Percentage'])\n",
    "\n",
    "plt.title(\"Current Price vs Price Increase Percentage\")\n",
    "plt.xlabel(\"Current Price\")\n",
    "plt.ylabel(\"Price Increase Percentage\")\n",
    "\n",
    "plt.show()"
   ]
  },
  {
   "cell_type": "code",
   "execution_count": 66,
   "metadata": {},
   "outputs": [
    {
     "data": {
      "text/html": [
       "<div>\n",
       "<style scoped>\n",
       "    .dataframe tbody tr th:only-of-type {\n",
       "        vertical-align: middle;\n",
       "    }\n",
       "\n",
       "    .dataframe tbody tr th {\n",
       "        vertical-align: top;\n",
       "    }\n",
       "\n",
       "    .dataframe thead th {\n",
       "        text-align: right;\n",
       "    }\n",
       "</style>\n",
       "<table border=\"1\" class=\"dataframe\">\n",
       "  <thead>\n",
       "    <tr style=\"text-align: right;\">\n",
       "      <th></th>\n",
       "      <th>Product Name</th>\n",
       "      <th>Current Date</th>\n",
       "      <th>Current Price</th>\n",
       "      <th>Old Date</th>\n",
       "      <th>Old Price</th>\n",
       "      <th>Category</th>\n",
       "      <th>Days Passed</th>\n",
       "      <th>Price Increase Percentage</th>\n",
       "      <th>Price Increase Status</th>\n",
       "    </tr>\n",
       "  </thead>\n",
       "  <tbody>\n",
       "    <tr>\n",
       "      <th>0</th>\n",
       "      <td>SteelSeries Rival 3 RGB Kablolu Optik Oyuncu M...</td>\n",
       "      <td>2023-06-10</td>\n",
       "      <td>600</td>\n",
       "      <td>2022-06-10</td>\n",
       "      <td>289</td>\n",
       "      <td>mouse</td>\n",
       "      <td>365</td>\n",
       "      <td>51.833333</td>\n",
       "      <td>Extremely Increased</td>\n",
       "    </tr>\n",
       "    <tr>\n",
       "      <th>1</th>\n",
       "      <td>SteelSeries Rival 5 RGB Kablolu Optik Oyuncu M...</td>\n",
       "      <td>2023-06-10</td>\n",
       "      <td>1199</td>\n",
       "      <td>2022-06-10</td>\n",
       "      <td>629</td>\n",
       "      <td>mouse</td>\n",
       "      <td>365</td>\n",
       "      <td>47.539616</td>\n",
       "      <td>Highly Increased</td>\n",
       "    </tr>\n",
       "    <tr>\n",
       "      <th>2</th>\n",
       "      <td>Pro Plan Sterilised Somonlu ve Ton Balıklı 10 ...</td>\n",
       "      <td>2023-06-10</td>\n",
       "      <td>1619</td>\n",
       "      <td>2022-06-10</td>\n",
       "      <td>760</td>\n",
       "      <td>kedi-mamasi</td>\n",
       "      <td>365</td>\n",
       "      <td>53.057443</td>\n",
       "      <td>Extremely Increased</td>\n",
       "    </tr>\n",
       "    <tr>\n",
       "      <th>3</th>\n",
       "      <td>Nutella 750 gr Kakaolu Fındık Kreması</td>\n",
       "      <td>2023-06-10</td>\n",
       "      <td>95</td>\n",
       "      <td>2022-06-11</td>\n",
       "      <td>44</td>\n",
       "      <td>ezme-krem-cikolata</td>\n",
       "      <td>364</td>\n",
       "      <td>53.684211</td>\n",
       "      <td>Extremely Increased</td>\n",
       "    </tr>\n",
       "    <tr>\n",
       "      <th>4</th>\n",
       "      <td>Royal Canin Sterilised 37 15 kg Kısırlaştırılm...</td>\n",
       "      <td>2023-06-10</td>\n",
       "      <td>1775</td>\n",
       "      <td>2022-06-10</td>\n",
       "      <td>975</td>\n",
       "      <td>kedi-mamasi</td>\n",
       "      <td>365</td>\n",
       "      <td>45.070423</td>\n",
       "      <td>Highly Increased</td>\n",
       "    </tr>\n",
       "  </tbody>\n",
       "</table>\n",
       "</div>"
      ],
      "text/plain": [
       "                                        Product Name Current Date   \n",
       "0  SteelSeries Rival 3 RGB Kablolu Optik Oyuncu M...   2023-06-10  \\\n",
       "1  SteelSeries Rival 5 RGB Kablolu Optik Oyuncu M...   2023-06-10   \n",
       "2  Pro Plan Sterilised Somonlu ve Ton Balıklı 10 ...   2023-06-10   \n",
       "3              Nutella 750 gr Kakaolu Fındık Kreması   2023-06-10   \n",
       "4  Royal Canin Sterilised 37 15 kg Kısırlaştırılm...   2023-06-10   \n",
       "\n",
       "   Current Price   Old Date  Old Price            Category  Days Passed   \n",
       "0            600 2022-06-10        289               mouse          365  \\\n",
       "1           1199 2022-06-10        629               mouse          365   \n",
       "2           1619 2022-06-10        760         kedi-mamasi          365   \n",
       "3             95 2022-06-11         44  ezme-krem-cikolata          364   \n",
       "4           1775 2022-06-10        975         kedi-mamasi          365   \n",
       "\n",
       "   Price Increase Percentage Price Increase Status  \n",
       "0                  51.833333   Extremely Increased  \n",
       "1                  47.539616      Highly Increased  \n",
       "2                  53.057443   Extremely Increased  \n",
       "3                  53.684211   Extremely Increased  \n",
       "4                  45.070423      Highly Increased  "
      ]
     },
     "execution_count": 66,
     "metadata": {},
     "output_type": "execute_result"
    }
   ],
   "source": [
    "# Creating a new column named \"Price Increase Status\"\n",
    "# If the price increase percentage is below 0, it will be \"Decreased\"\n",
    "# If the price increase percentage is between 0 and 5, it will be \"Stable\"\n",
    "# If the price increase percentage is between 5 and 30, it will be \"Increased\"\n",
    "# If the price increase percentage is between 30 and 50, it will be \"Highly Increased\"\n",
    "# If the price increase percentage is above 50, it will be \"Extremely Increased\"\n",
    "\n",
    "# Showing the head of the dataframe\n",
    "\n",
    "def priceIncreaseStatus(priceIncreasePercentage):\n",
    "    if priceIncreasePercentage < 0:\n",
    "        return \"Decreased\"\n",
    "    elif priceIncreasePercentage >= 0 and priceIncreasePercentage < 5:\n",
    "        return \"Stable\"\n",
    "    elif priceIncreasePercentage >= 5 and priceIncreasePercentage < 30:\n",
    "        return \"Increased\"\n",
    "    elif priceIncreasePercentage >= 30 and priceIncreasePercentage < 50:\n",
    "        return \"Highly Increased\"\n",
    "    else:\n",
    "        return \"Extremely Increased\"\n",
    "    \n",
    "df['Price Increase Status'] = df['Price Increase Percentage'].apply(priceIncreaseStatus)\n",
    "\n",
    "df.head()"
   ]
  },
  {
   "cell_type": "code",
   "execution_count": 67,
   "metadata": {},
   "outputs": [
    {
     "data": {
      "image/png": "[encoded data removed]",
      "text/plain": [
       "<Figure size 1000x500 with 1 Axes>"
      ]
     },
     "metadata": {},
     "output_type": "display_data"
    }
   ],
   "source": [
    "# Visualizing the \"Price Increase Status\" column with a bar plot\n",
    "\n",
    "plt.figure(figsize=(10, 5))\n",
    "sns.countplot(data=df, x='Price Increase Status', hue='Price Increase Status', order = ['Decreased', 'Stable', 'Increased', 'Highly Increased', 'Extremely Increased'])\n",
    "plt.title(\"Price Increase Status\")\n",
    "plt.xlabel(\"Price Increase Status\")\n",
    "plt.ylabel(\"Frequency\")\n",
    "\n",
    "plt.show()"
   ]
  },
  {
   "cell_type": "code",
   "execution_count": 68,
   "metadata": {},
   "outputs": [
    {
     "data": {
      "image/png": "[encoded data removed]",
      "text/plain": [
       "<Figure size 1000x500 with 1 Axes>"
      ]
     },
     "metadata": {},
     "output_type": "display_data"
    }
   ],
   "source": [
    "## Check if there is negative price increase percentage\n",
    "## if there is any, drop it since it is impossible to have negative price increase percentage in Turkey's circumstances\n",
    "\n",
    "\n",
    "df = df.drop(df[df['Price Increase Percentage'] < 0].index)\n",
    "\n",
    "# Visualizing the \"Price Increase Status\" after dropping the negative price increase percentage\n",
    "plt.figure(figsize=(10, 5))\n",
    "sns.countplot(data=df, x='Price Increase Status', hue='Price Increase Status', order = ['Decreased', 'Stable', 'Increased', 'Highly Increased', 'Extremely Increased'])\n",
    "plt.title(\"Price Increase Status\")\n",
    "plt.xlabel(\"Price Increase Status\")\n",
    "plt.ylabel(\"Frequency\")\n",
    "\n",
    "plt.show()"
   ]
  },
  {
   "cell_type": "code",
   "execution_count": 69,
   "metadata": {},
   "outputs": [
    {
     "data": {
      "image/png": "[encoded data removed]",
      "text/plain": [
       "<Figure size 1000x500 with 1 Axes>"
      ]
     },
     "metadata": {},
     "output_type": "display_data"
    }
   ],
   "source": [
    "# Clustering the products according to their categories and showing the average price increase percentage for each category\n",
    "# Plot the correlation between category and price increase percentage\n",
    "\n",
    "avg_price_increase_by_category = df.groupby('Category')['Price Increase Percentage'].mean()\n",
    "avg_price_increase_by_category = avg_price_increase_by_category.reset_index()\n",
    "# Sort the df for better readability\n",
    "avg_price_increase_by_category = avg_price_increase_by_category.sort_values(by='Price Increase Percentage', ascending=False)\n",
    "\n",
    "\n",
    "# Create a bar plot\n",
    "plt.figure(figsize=(10, 5))\n",
    "sns.barplot(x='Category', y='Price Increase Percentage', data=avg_price_increase_by_category)\n",
    "plt.title('Average Price Increase Percentage by Category')\n",
    "plt.xlabel('Category')\n",
    "plt.xticks(rotation=90)  # Rotate x-axis labels for better readability\n",
    "plt.ylabel('Average Price Increase Percentage')\n",
    "plt.show()\n"
   ]
  },
  {
   "cell_type": "code",
   "execution_count": 70,
   "metadata": {},
   "outputs": [
    {
     "data": {
      "application/vnd.plotly.v1+json": {
       "config": {
        "plotlyServerURL": "https://plot.ly"
       },
       "data": [
        {
         "hovertemplate": "Category=%{x}<br>Price Increase Percentage=%{y}<extra></extra>",
         "legendgroup": "tonerler",
         "marker": {
          "color": "#636efa",
          "symbol": "circle"
         },
         "mode": "markers",
         "name": "tonerler",
         "orientation": "v",
         "showlegend": true,
         "type": "scatter",
         "x": [
          "tonerler"
         ],
         "xaxis": "x",
         "y": [
          73.65853658536585
         ],
         "yaxis": "y"
        },
        {
         "hovertemplate": "Category=%{x}<br>Price Increase Percentage=%{y}<extra></extra>",
         "legendgroup": "banyo-bakim-aksesuarlari",
         "marker": {
          "color": "#EF553B",
          "symbol": "circle"
         },
         "mode": "markers",
         "name": "banyo-bakim-aksesuarlari",
         "orientation": "v",
         "showlegend": true,
         "type": "scatter",
         "x": [
          "banyo-bakim-aksesuarlari"
         ],
         "xaxis": "x",
         "y": [
          65.27777777777777
         ],
         "yaxis": "y"
        },
        {
         "hovertemplate": "Category=%{x}<br>Price Increase Percentage=%{y}<extra></extra>",
         "legendgroup": "not-defteri-bloknot",
         "marker": {
          "color": "#00cc96",
          "symbol": "circle"
         },
         "mode": "markers",
         "name": "not-defteri-bloknot",
         "orientation": "v",
         "showlegend": true,
         "type": "scatter",
         "x": [
          "not-defteri-bloknot"
         ],
         "xaxis": "x",
         "y": [
          57.07692307692308
         ],
         "yaxis": "y"
        },
        {
         "hovertemplate": "Category=%{x}<br>Price Increase Percentage=%{y}<extra></extra>",
         "legendgroup": "turk-kahve-makinesi",
         "marker": {
          "color": "#ab63fa",
          "symbol": "circle"
         },
         "mode": "markers",
         "name": "turk-kahve-makinesi",
         "orientation": "v",
         "showlegend": true,
         "type": "scatter",
         "x": [
          "turk-kahve-makinesi"
         ],
         "xaxis": "x",
         "y": [
          56.063614298824746
         ],
         "yaxis": "y"
        },
        {
         "hovertemplate": "Category=%{x}<br>Price Increase Percentage=%{y}<extra></extra>",
         "legendgroup": "flash-bellekler",
         "marker": {
          "color": "#FFA15A",
          "symbol": "circle"
         },
         "mode": "markers",
         "name": "flash-bellekler",
         "orientation": "v",
         "showlegend": true,
         "type": "scatter",
         "x": [
          "flash-bellekler"
         ],
         "xaxis": "x",
         "y": [
          55.29100529100529
         ],
         "yaxis": "y"
        },
        {
         "hovertemplate": "Category=%{x}<br>Price Increase Percentage=%{y}<extra></extra>",
         "legendgroup": "dudak-bakimi-koruyucu",
         "marker": {
          "color": "#19d3f3",
          "symbol": "circle"
         },
         "mode": "markers",
         "name": "dudak-bakimi-koruyucu",
         "orientation": "v",
         "showlegend": true,
         "type": "scatter",
         "x": [
          "dudak-bakimi-koruyucu"
         ],
         "xaxis": "x",
         "y": [
          52.94117647058824
         ],
         "yaxis": "y"
        },
        {
         "hovertemplate": "Category=%{x}<br>Price Increase Percentage=%{y}<extra></extra>",
         "legendgroup": "mini-midi-firinlar",
         "marker": {
          "color": "#FF6692",
          "symbol": "circle"
         },
         "mode": "markers",
         "name": "mini-midi-firinlar",
         "orientation": "v",
         "showlegend": true,
         "type": "scatter",
         "x": [
          "mini-midi-firinlar"
         ],
         "xaxis": "x",
         "y": [
          52.10115284492376
         ],
         "yaxis": "y"
        },
        {
         "hovertemplate": "Category=%{x}<br>Price Increase Percentage=%{y}<extra></extra>",
         "legendgroup": "kahvaltilik-gevrek",
         "marker": {
          "color": "#B6E880",
          "symbol": "circle"
         },
         "mode": "markers",
         "name": "kahvaltilik-gevrek",
         "orientation": "v",
         "showlegend": true,
         "type": "scatter",
         "x": [
          "kahvaltilik-gevrek"
         ],
         "xaxis": "x",
         "y": [
          51.5625
         ],
         "yaxis": "y"
        },
        {
         "hovertemplate": "Category=%{x}<br>Price Increase Percentage=%{y}<extra></extra>",
         "legendgroup": "bitkisel-besin-destekleri",
         "marker": {
          "color": "#FF97FF",
          "symbol": "circle"
         },
         "mode": "markers",
         "name": "bitkisel-besin-destekleri",
         "orientation": "v",
         "showlegend": true,
         "type": "scatter",
         "x": [
          "bitkisel-besin-destekleri"
         ],
         "xaxis": "x",
         "y": [
          51.388888888888886
         ],
         "yaxis": "y"
        },
        {
         "hovertemplate": "Category=%{x}<br>Price Increase Percentage=%{y}<extra></extra>",
         "legendgroup": "oyuncu-mouse",
         "marker": {
          "color": "#FECB52",
          "symbol": "circle"
         },
         "mode": "markers",
         "name": "oyuncu-mouse",
         "orientation": "v",
         "showlegend": true,
         "type": "scatter",
         "x": [
          "oyuncu-mouse"
         ],
         "xaxis": "x",
         "y": [
          51.29280255594714
         ],
         "yaxis": "y"
        },
        {
         "hovertemplate": "Category=%{x}<br>Price Increase Percentage=%{y}<extra></extra>",
         "legendgroup": "dis-macunlari",
         "marker": {
          "color": "#636efa",
          "symbol": "circle"
         },
         "mode": "markers",
         "name": "dis-macunlari",
         "orientation": "v",
         "showlegend": true,
         "type": "scatter",
         "x": [
          "dis-macunlari"
         ],
         "xaxis": "x",
         "y": [
          51.28205128205128
         ],
         "yaxis": "y"
        },
        {
         "hovertemplate": "Category=%{x}<br>Price Increase Percentage=%{y}<extra></extra>",
         "legendgroup": "isiticilar",
         "marker": {
          "color": "#EF553B",
          "symbol": "circle"
         },
         "mode": "markers",
         "name": "isiticilar",
         "orientation": "v",
         "showlegend": true,
         "type": "scatter",
         "x": [
          "isiticilar"
         ],
         "xaxis": "x",
         "y": [
          51.18008439901504
         ],
         "yaxis": "y"
        },
        {
         "hovertemplate": "Category=%{x}<br>Price Increase Percentage=%{y}<extra></extra>",
         "legendgroup": "mouse-pad",
         "marker": {
          "color": "#00cc96",
          "symbol": "circle"
         },
         "mode": "markers",
         "name": "mouse-pad",
         "orientation": "v",
         "showlegend": true,
         "type": "scatter",
         "x": [
          "mouse-pad"
         ],
         "xaxis": "x",
         "y": [
          50
         ],
         "yaxis": "y"
        },
        {
         "hovertemplate": "Category=%{x}<br>Price Increase Percentage=%{y}<extra></extra>",
         "legendgroup": "yara-bandi",
         "marker": {
          "color": "#ab63fa",
          "symbol": "circle"
         },
         "mode": "markers",
         "name": "yara-bandi",
         "orientation": "v",
         "showlegend": true,
         "type": "scatter",
         "x": [
          "yara-bandi"
         ],
         "xaxis": "x",
         "y": [
          50
         ],
         "yaxis": "y"
        },
        {
         "hovertemplate": "Category=%{x}<br>Price Increase Percentage=%{y}<extra></extra>",
         "legendgroup": "ezme-krem-cikolata",
         "marker": {
          "color": "#FFA15A",
          "symbol": "circle"
         },
         "mode": "markers",
         "name": "ezme-krem-cikolata",
         "orientation": "v",
         "showlegend": true,
         "type": "scatter",
         "x": [
          "ezme-krem-cikolata"
         ],
         "xaxis": "x",
         "y": [
          49.83061101028433
         ],
         "yaxis": "y"
        },
        {
         "hovertemplate": "Category=%{x}<br>Price Increase Percentage=%{y}<extra></extra>",
         "legendgroup": "baskul",
         "marker": {
          "color": "#19d3f3",
          "symbol": "circle"
         },
         "mode": "markers",
         "name": "baskul",
         "orientation": "v",
         "showlegend": true,
         "type": "scatter",
         "x": [
          "baskul"
         ],
         "xaxis": "x",
         "y": [
          49.32562620423892
         ],
         "yaxis": "y"
        },
        {
         "hovertemplate": "Category=%{x}<br>Price Increase Percentage=%{y}<extra></extra>",
         "legendgroup": "anakart",
         "marker": {
          "color": "#FF6692",
          "symbol": "circle"
         },
         "mode": "markers",
         "name": "anakart",
         "orientation": "v",
         "showlegend": true,
         "type": "scatter",
         "x": [
          "anakart"
         ],
         "xaxis": "x",
         "y": [
          49.238799478033926
         ],
         "yaxis": "y"
        },
        {
         "hovertemplate": "Category=%{x}<br>Price Increase Percentage=%{y}<extra></extra>",
         "legendgroup": "dizustu-bilgisayar-aksesuarlari",
         "marker": {
          "color": "#B6E880",
          "symbol": "circle"
         },
         "mode": "markers",
         "name": "dizustu-bilgisayar-aksesuarlari",
         "orientation": "v",
         "showlegend": true,
         "type": "scatter",
         "x": [
          "dizustu-bilgisayar-aksesuarlari"
         ],
         "xaxis": "x",
         "y": [
          49.238589660393686
         ],
         "yaxis": "y"
        },
        {
         "hovertemplate": "Category=%{x}<br>Price Increase Percentage=%{y}<extra></extra>",
         "legendgroup": "kedi-mamasi",
         "marker": {
          "color": "#FF97FF",
          "symbol": "circle"
         },
         "mode": "markers",
         "name": "kedi-mamasi",
         "orientation": "v",
         "showlegend": true,
         "type": "scatter",
         "x": [
          "kedi-mamasi"
         ],
         "xaxis": "x",
         "y": [
          49.06393270058896
         ],
         "yaxis": "y"
        },
        {
         "hovertemplate": "Category=%{x}<br>Price Increase Percentage=%{y}<extra></extra>",
         "legendgroup": "yazi-tahtasi-kalemi",
         "marker": {
          "color": "#FECB52",
          "symbol": "circle"
         },
         "mode": "markers",
         "name": "yazi-tahtasi-kalemi",
         "orientation": "v",
         "showlegend": true,
         "type": "scatter",
         "x": [
          "yazi-tahtasi-kalemi"
         ],
         "xaxis": "x",
         "y": [
          48.87218045112781
         ],
         "yaxis": "y"
        },
        {
         "hovertemplate": "Category=%{x}<br>Price Increase Percentage=%{y}<extra></extra>",
         "legendgroup": "klasik-gitarlar",
         "marker": {
          "color": "#636efa",
          "symbol": "circle"
         },
         "mode": "markers",
         "name": "klasik-gitarlar",
         "orientation": "v",
         "showlegend": true,
         "type": "scatter",
         "x": [
          "klasik-gitarlar"
         ],
         "xaxis": "x",
         "y": [
          48.494143892916895
         ],
         "yaxis": "y"
        },
        {
         "hovertemplate": "Category=%{x}<br>Price Increase Percentage=%{y}<extra></extra>",
         "legendgroup": "bluetooth-kulaklik",
         "marker": {
          "color": "#EF553B",
          "symbol": "circle"
         },
         "mode": "markers",
         "name": "bluetooth-kulaklik",
         "orientation": "v",
         "showlegend": true,
         "type": "scatter",
         "x": [
          "bluetooth-kulaklik"
         ],
         "xaxis": "x",
         "y": [
          48.179831057852816
         ],
         "yaxis": "y"
        },
        {
         "hovertemplate": "Category=%{x}<br>Price Increase Percentage=%{y}<extra></extra>",
         "legendgroup": "oyuncu-klavyesi",
         "marker": {
          "color": "#00cc96",
          "symbol": "circle"
         },
         "mode": "markers",
         "name": "oyuncu-klavyesi",
         "orientation": "v",
         "showlegend": true,
         "type": "scatter",
         "x": [
          "oyuncu-klavyesi"
         ],
         "xaxis": "x",
         "y": [
          47.55804643714972
         ],
         "yaxis": "y"
        },
        {
         "hovertemplate": "Category=%{x}<br>Price Increase Percentage=%{y}<extra></extra>",
         "legendgroup": "spiralli-defter",
         "marker": {
          "color": "#ab63fa",
          "symbol": "circle"
         },
         "mode": "markers",
         "name": "spiralli-defter",
         "orientation": "v",
         "showlegend": true,
         "type": "scatter",
         "x": [
          "spiralli-defter"
         ],
         "xaxis": "x",
         "y": [
          47.272727272727266
         ],
         "yaxis": "y"
        },
        {
         "hovertemplate": "Category=%{x}<br>Price Increase Percentage=%{y}<extra></extra>",
         "legendgroup": "mouse",
         "marker": {
          "color": "#FFA15A",
          "symbol": "circle"
         },
         "mode": "markers",
         "name": "mouse",
         "orientation": "v",
         "showlegend": true,
         "type": "scatter",
         "x": [
          "mouse"
         ],
         "xaxis": "x",
         "y": [
          47.06794630448661
         ],
         "yaxis": "y"
        },
        {
         "hovertemplate": "Category=%{x}<br>Price Increase Percentage=%{y}<extra></extra>",
         "legendgroup": "tavla",
         "marker": {
          "color": "#19d3f3",
          "symbol": "circle"
         },
         "mode": "markers",
         "name": "tavla",
         "orientation": "v",
         "showlegend": true,
         "type": "scatter",
         "x": [
          "tavla"
         ],
         "xaxis": "x",
         "y": [
          46.99074074074074
         ],
         "yaxis": "y"
        },
        {
         "hovertemplate": "Category=%{x}<br>Price Increase Percentage=%{y}<extra></extra>",
         "legendgroup": "bilgisayar-oyunlari",
         "marker": {
          "color": "#FF6692",
          "symbol": "circle"
         },
         "mode": "markers",
         "name": "bilgisayar-oyunlari",
         "orientation": "v",
         "showlegend": true,
         "type": "scatter",
         "x": [
          "bilgisayar-oyunlari"
         ],
         "xaxis": "x",
         "y": [
          44.13657928146647
         ],
         "yaxis": "y"
        },
        {
         "hovertemplate": "Category=%{x}<br>Price Increase Percentage=%{y}<extra></extra>",
         "legendgroup": "calisma-koltugu",
         "marker": {
          "color": "#B6E880",
          "symbol": "circle"
         },
         "mode": "markers",
         "name": "calisma-koltugu",
         "orientation": "v",
         "showlegend": true,
         "type": "scatter",
         "x": [
          "calisma-koltugu"
         ],
         "xaxis": "x",
         "y": [
          43.75008956654716
         ],
         "yaxis": "y"
        },
        {
         "hovertemplate": "Category=%{x}<br>Price Increase Percentage=%{y}<extra></extra>",
         "legendgroup": "kursun-kalem-ucu-min",
         "marker": {
          "color": "#FF97FF",
          "symbol": "circle"
         },
         "mode": "markers",
         "name": "kursun-kalem-ucu-min",
         "orientation": "v",
         "showlegend": true,
         "type": "scatter",
         "x": [
          "kursun-kalem-ucu-min"
         ],
         "xaxis": "x",
         "y": [
          43.608058608058606
         ],
         "yaxis": "y"
        },
        {
         "hovertemplate": "Category=%{x}<br>Price Increase Percentage=%{y}<extra></extra>",
         "legendgroup": "suluk-matara",
         "marker": {
          "color": "#FECB52",
          "symbol": "circle"
         },
         "mode": "markers",
         "name": "suluk-matara",
         "orientation": "v",
         "showlegend": true,
         "type": "scatter",
         "x": [
          "suluk-matara"
         ],
         "xaxis": "x",
         "y": [
          43.58883786647827
         ],
         "yaxis": "y"
        },
        {
         "hovertemplate": "Category=%{x}<br>Price Increase Percentage=%{y}<extra></extra>",
         "legendgroup": "cay-makineleri",
         "marker": {
          "color": "#636efa",
          "symbol": "circle"
         },
         "mode": "markers",
         "name": "cay-makineleri",
         "orientation": "v",
         "showlegend": true,
         "type": "scatter",
         "x": [
          "cay-makineleri"
         ],
         "xaxis": "x",
         "y": [
          43.337907503864464
         ],
         "yaxis": "y"
        },
        {
         "hovertemplate": "Category=%{x}<br>Price Increase Percentage=%{y}<extra></extra>",
         "legendgroup": "erkek-cuzdan",
         "marker": {
          "color": "#EF553B",
          "symbol": "circle"
         },
         "mode": "markers",
         "name": "erkek-cuzdan",
         "orientation": "v",
         "showlegend": true,
         "type": "scatter",
         "x": [
          "erkek-cuzdan"
         ],
         "xaxis": "x",
         "y": [
          42.92929292929293
         ],
         "yaxis": "y"
        },
        {
         "hovertemplate": "Category=%{x}<br>Price Increase Percentage=%{y}<extra></extra>",
         "legendgroup": "tencere-tava-setleri",
         "marker": {
          "color": "#00cc96",
          "symbol": "circle"
         },
         "mode": "markers",
         "name": "tencere-tava-setleri",
         "orientation": "v",
         "showlegend": true,
         "type": "scatter",
         "x": [
          "tencere-tava-setleri"
         ],
         "xaxis": "x",
         "y": [
          42.91845493562232
         ],
         "yaxis": "y"
        },
        {
         "hovertemplate": "Category=%{x}<br>Price Increase Percentage=%{y}<extra></extra>",
         "legendgroup": "klavye",
         "marker": {
          "color": "#ab63fa",
          "symbol": "circle"
         },
         "mode": "markers",
         "name": "klavye",
         "orientation": "v",
         "showlegend": true,
         "type": "scatter",
         "x": [
          "klavye"
         ],
         "xaxis": "x",
         "y": [
          42.52383892596828
         ],
         "yaxis": "y"
        },
        {
         "hovertemplate": "Category=%{x}<br>Price Increase Percentage=%{y}<extra></extra>",
         "legendgroup": "oyuncu-kulakliklari",
         "marker": {
          "color": "#FFA15A",
          "symbol": "circle"
         },
         "mode": "markers",
         "name": "oyuncu-kulakliklari",
         "orientation": "v",
         "showlegend": true,
         "type": "scatter",
         "x": [
          "oyuncu-kulakliklari"
         ],
         "xaxis": "x",
         "y": [
          41.922563417890515
         ],
         "yaxis": "y"
        },
        {
         "hovertemplate": "Category=%{x}<br>Price Increase Percentage=%{y}<extra></extra>",
         "legendgroup": "fotograf-makinesi",
         "marker": {
          "color": "#19d3f3",
          "symbol": "circle"
         },
         "mode": "markers",
         "name": "fotograf-makinesi",
         "orientation": "v",
         "showlegend": true,
         "type": "scatter",
         "x": [
          "fotograf-makinesi"
         ],
         "xaxis": "x",
         "y": [
          41.61521061319313
         ],
         "yaxis": "y"
        },
        {
         "hovertemplate": "Category=%{x}<br>Price Increase Percentage=%{y}<extra></extra>",
         "legendgroup": "tirnak-makasi",
         "marker": {
          "color": "#FF6692",
          "symbol": "circle"
         },
         "mode": "markers",
         "name": "tirnak-makasi",
         "orientation": "v",
         "showlegend": true,
         "type": "scatter",
         "x": [
          "tirnak-makasi"
         ],
         "xaxis": "x",
         "y": [
          41.50717703349282
         ],
         "yaxis": "y"
        },
        {
         "hovertemplate": "Category=%{x}<br>Price Increase Percentage=%{y}<extra></extra>",
         "legendgroup": "tiras-bicagi",
         "marker": {
          "color": "#B6E880",
          "symbol": "circle"
         },
         "mode": "markers",
         "name": "tiras-bicagi",
         "orientation": "v",
         "showlegend": true,
         "type": "scatter",
         "x": [
          "tiras-bicagi"
         ],
         "xaxis": "x",
         "y": [
          41.35021097046413
         ],
         "yaxis": "y"
        },
        {
         "hovertemplate": "Category=%{x}<br>Price Increase Percentage=%{y}<extra></extra>",
         "legendgroup": "dermokozmetik-urunler",
         "marker": {
          "color": "#FF97FF",
          "symbol": "circle"
         },
         "mode": "markers",
         "name": "dermokozmetik-urunler",
         "orientation": "v",
         "showlegend": true,
         "type": "scatter",
         "x": [
          "dermokozmetik-urunler"
         ],
         "xaxis": "x",
         "y": [
          41.12903225806452
         ],
         "yaxis": "y"
        },
        {
         "hovertemplate": "Category=%{x}<br>Price Increase Percentage=%{y}<extra></extra>",
         "legendgroup": "bilgisayar-cevirici-ve-adaptoru",
         "marker": {
          "color": "#FECB52",
          "symbol": "circle"
         },
         "mode": "markers",
         "name": "bilgisayar-cevirici-ve-adaptoru",
         "orientation": "v",
         "showlegend": true,
         "type": "scatter",
         "x": [
          "bilgisayar-cevirici-ve-adaptoru"
         ],
         "xaxis": "x",
         "y": [
          41.0958904109589
         ],
         "yaxis": "y"
        },
        {
         "hovertemplate": "Category=%{x}<br>Price Increase Percentage=%{y}<extra></extra>",
         "legendgroup": "tukenmez-kalem",
         "marker": {
          "color": "#636efa",
          "symbol": "circle"
         },
         "mode": "markers",
         "name": "tukenmez-kalem",
         "orientation": "v",
         "showlegend": true,
         "type": "scatter",
         "x": [
          "tukenmez-kalem"
         ],
         "xaxis": "x",
         "y": [
          40.985193210545326
         ],
         "yaxis": "y"
        },
        {
         "hovertemplate": "Category=%{x}<br>Price Increase Percentage=%{y}<extra></extra>",
         "legendgroup": "sicak-su-torbasi",
         "marker": {
          "color": "#EF553B",
          "symbol": "circle"
         },
         "mode": "markers",
         "name": "sicak-su-torbasi",
         "orientation": "v",
         "showlegend": true,
         "type": "scatter",
         "x": [
          "sicak-su-torbasi"
         ],
         "xaxis": "x",
         "y": [
          40.94488188976378
         ],
         "yaxis": "y"
        },
        {
         "hovertemplate": "Category=%{x}<br>Price Increase Percentage=%{y}<extra></extra>",
         "legendgroup": "vazelin",
         "marker": {
          "color": "#00cc96",
          "symbol": "circle"
         },
         "mode": "markers",
         "name": "vazelin",
         "orientation": "v",
         "showlegend": true,
         "type": "scatter",
         "x": [
          "vazelin"
         ],
         "xaxis": "x",
         "y": [
          40.909090909090914
         ],
         "yaxis": "y"
        },
        {
         "hovertemplate": "Category=%{x}<br>Price Increase Percentage=%{y}<extra></extra>",
         "legendgroup": "cep-telefonu-kalemi",
         "marker": {
          "color": "#ab63fa",
          "symbol": "circle"
         },
         "mode": "markers",
         "name": "cep-telefonu-kalemi",
         "orientation": "v",
         "showlegend": true,
         "type": "scatter",
         "x": [
          "cep-telefonu-kalemi"
         ],
         "xaxis": "x",
         "y": [
          40.794608017027315
         ],
         "yaxis": "y"
        },
        {
         "hovertemplate": "Category=%{x}<br>Price Increase Percentage=%{y}<extra></extra>",
         "legendgroup": "kulaklik",
         "marker": {
          "color": "#FFA15A",
          "symbol": "circle"
         },
         "mode": "markers",
         "name": "kulaklik",
         "orientation": "v",
         "showlegend": true,
         "type": "scatter",
         "x": [
          "kulaklik"
         ],
         "xaxis": "x",
         "y": [
          40.206932963531905
         ],
         "yaxis": "y"
        },
        {
         "hovertemplate": "Category=%{x}<br>Price Increase Percentage=%{y}<extra></extra>",
         "legendgroup": "oyun-kolu",
         "marker": {
          "color": "#19d3f3",
          "symbol": "circle"
         },
         "mode": "markers",
         "name": "oyun-kolu",
         "orientation": "v",
         "showlegend": true,
         "type": "scatter",
         "x": [
          "oyun-kolu"
         ],
         "xaxis": "x",
         "y": [
          39.80829819696224
         ],
         "yaxis": "y"
        },
        {
         "hovertemplate": "Category=%{x}<br>Price Increase Percentage=%{y}<extra></extra>",
         "legendgroup": "epilasyon-aleti",
         "marker": {
          "color": "#FF6692",
          "symbol": "circle"
         },
         "mode": "markers",
         "name": "epilasyon-aleti",
         "orientation": "v",
         "showlegend": true,
         "type": "scatter",
         "x": [
          "epilasyon-aleti"
         ],
         "xaxis": "x",
         "y": [
          39.5678201197255
         ],
         "yaxis": "y"
        },
        {
         "hovertemplate": "Category=%{x}<br>Price Increase Percentage=%{y}<extra></extra>",
         "legendgroup": "yetiskinler-icin-oyunlar",
         "marker": {
          "color": "#B6E880",
          "symbol": "circle"
         },
         "mode": "markers",
         "name": "yetiskinler-icin-oyunlar",
         "orientation": "v",
         "showlegend": true,
         "type": "scatter",
         "x": [
          "yetiskinler-icin-oyunlar"
         ],
         "xaxis": "x",
         "y": [
          39.209851321837625
         ],
         "yaxis": "y"
        },
        {
         "hovertemplate": "Category=%{x}<br>Price Increase Percentage=%{y}<extra></extra>",
         "legendgroup": "silgi",
         "marker": {
          "color": "#FF97FF",
          "symbol": "circle"
         },
         "mode": "markers",
         "name": "silgi",
         "orientation": "v",
         "showlegend": true,
         "type": "scatter",
         "x": [
          "silgi"
         ],
         "xaxis": "x",
         "y": [
          39.18456271397448
         ],
         "yaxis": "y"
        },
        {
         "hovertemplate": "Category=%{x}<br>Price Increase Percentage=%{y}<extra></extra>",
         "legendgroup": "gunes-kremi",
         "marker": {
          "color": "#FECB52",
          "symbol": "circle"
         },
         "mode": "markers",
         "name": "gunes-kremi",
         "orientation": "v",
         "showlegend": true,
         "type": "scatter",
         "x": [
          "gunes-kremi"
         ],
         "xaxis": "x",
         "y": [
          38.71681415929203
         ],
         "yaxis": "y"
        },
        {
         "hovertemplate": "Category=%{x}<br>Price Increase Percentage=%{y}<extra></extra>",
         "legendgroup": "robot-supurge",
         "marker": {
          "color": "#636efa",
          "symbol": "circle"
         },
         "mode": "markers",
         "name": "robot-supurge",
         "orientation": "v",
         "showlegend": true,
         "type": "scatter",
         "x": [
          "robot-supurge"
         ],
         "xaxis": "x",
         "y": [
          38.604098188684524
         ],
         "yaxis": "y"
        },
        {
         "hovertemplate": "Category=%{x}<br>Price Increase Percentage=%{y}<extra></extra>",
         "legendgroup": "bulasik-makinesi-tableti",
         "marker": {
          "color": "#EF553B",
          "symbol": "circle"
         },
         "mode": "markers",
         "name": "bulasik-makinesi-tableti",
         "orientation": "v",
         "showlegend": true,
         "type": "scatter",
         "x": [
          "bulasik-makinesi-tableti"
         ],
         "xaxis": "x",
         "y": [
          38.37595683547913
         ],
         "yaxis": "y"
        },
        {
         "hovertemplate": "Category=%{x}<br>Price Increase Percentage=%{y}<extra></extra>",
         "legendgroup": "buzdolabi",
         "marker": {
          "color": "#00cc96",
          "symbol": "circle"
         },
         "mode": "markers",
         "name": "buzdolabi",
         "orientation": "v",
         "showlegend": true,
         "type": "scatter",
         "x": [
          "buzdolabi"
         ],
         "xaxis": "x",
         "y": [
          38.346115371790596
         ],
         "yaxis": "y"
        },
        {
         "hovertemplate": "Category=%{x}<br>Price Increase Percentage=%{y}<extra></extra>",
         "legendgroup": "bulasik-makineleri",
         "marker": {
          "color": "#ab63fa",
          "symbol": "circle"
         },
         "mode": "markers",
         "name": "bulasik-makineleri",
         "orientation": "v",
         "showlegend": true,
         "type": "scatter",
         "x": [
          "bulasik-makineleri"
         ],
         "xaxis": "x",
         "y": [
          38.14194265603311
         ],
         "yaxis": "y"
        },
        {
         "hovertemplate": "Category=%{x}<br>Price Increase Percentage=%{y}<extra></extra>",
         "legendgroup": "ezme-perle-kedi-mamasi",
         "marker": {
          "color": "#FFA15A",
          "symbol": "circle"
         },
         "mode": "markers",
         "name": "ezme-perle-kedi-mamasi",
         "orientation": "v",
         "showlegend": true,
         "type": "scatter",
         "x": [
          "ezme-perle-kedi-mamasi"
         ],
         "xaxis": "x",
         "y": [
          37.5
         ],
         "yaxis": "y"
        },
        {
         "hovertemplate": "Category=%{x}<br>Price Increase Percentage=%{y}<extra></extra>",
         "legendgroup": "cep-telefonlari",
         "marker": {
          "color": "#19d3f3",
          "symbol": "circle"
         },
         "mode": "markers",
         "name": "cep-telefonlari",
         "orientation": "v",
         "showlegend": true,
         "type": "scatter",
         "x": [
          "cep-telefonlari"
         ],
         "xaxis": "x",
         "y": [
          37.436944588369656
         ],
         "yaxis": "y"
        },
        {
         "hovertemplate": "Category=%{x}<br>Price Increase Percentage=%{y}<extra></extra>",
         "legendgroup": "bilgisayar-kasasi",
         "marker": {
          "color": "#FF6692",
          "symbol": "circle"
         },
         "mode": "markers",
         "name": "bilgisayar-kasasi",
         "orientation": "v",
         "showlegend": true,
         "type": "scatter",
         "x": [
          "bilgisayar-kasasi"
         ],
         "xaxis": "x",
         "y": [
          36.96682464454976
         ],
         "yaxis": "y"
        },
        {
         "hovertemplate": "Category=%{x}<br>Price Increase Percentage=%{y}<extra></extra>",
         "legendgroup": "harita-kure",
         "marker": {
          "color": "#B6E880",
          "symbol": "circle"
         },
         "mode": "markers",
         "name": "harita-kure",
         "orientation": "v",
         "showlegend": true,
         "type": "scatter",
         "x": [
          "harita-kure"
         ],
         "xaxis": "x",
         "y": [
          36.96275071633238
         ],
         "yaxis": "y"
        },
        {
         "hovertemplate": "Category=%{x}<br>Price Increase Percentage=%{y}<extra></extra>",
         "legendgroup": "termoslar",
         "marker": {
          "color": "#FF97FF",
          "symbol": "circle"
         },
         "mode": "markers",
         "name": "termoslar",
         "orientation": "v",
         "showlegend": true,
         "type": "scatter",
         "x": [
          "termoslar"
         ],
         "xaxis": "x",
         "y": [
          36.60377358490566
         ],
         "yaxis": "y"
        },
        {
         "hovertemplate": "Category=%{x}<br>Price Increase Percentage=%{y}<extra></extra>",
         "legendgroup": "buzdolaplari",
         "marker": {
          "color": "#FECB52",
          "symbol": "circle"
         },
         "mode": "markers",
         "name": "buzdolaplari",
         "orientation": "v",
         "showlegend": true,
         "type": "scatter",
         "x": [
          "buzdolaplari"
         ],
         "xaxis": "x",
         "y": [
          36.43646783538141
         ],
         "yaxis": "y"
        },
        {
         "hovertemplate": "Category=%{x}<br>Price Increase Percentage=%{y}<extra></extra>",
         "legendgroup": "kettle",
         "marker": {
          "color": "#636efa",
          "symbol": "circle"
         },
         "mode": "markers",
         "name": "kettle",
         "orientation": "v",
         "showlegend": true,
         "type": "scatter",
         "x": [
          "kettle"
         ],
         "xaxis": "x",
         "y": [
          36.42733151352927
         ],
         "yaxis": "y"
        },
        {
         "hovertemplate": "Category=%{x}<br>Price Increase Percentage=%{y}<extra></extra>",
         "legendgroup": "kalemlik-kalem-kutusu",
         "marker": {
          "color": "#EF553B",
          "symbol": "circle"
         },
         "mode": "markers",
         "name": "kalemlik-kalem-kutusu",
         "orientation": "v",
         "showlegend": true,
         "type": "scatter",
         "x": [
          "kalemlik-kalem-kutusu"
         ],
         "xaxis": "x",
         "y": [
          36.333689458689456
         ],
         "yaxis": "y"
        },
        {
         "hovertemplate": "Category=%{x}<br>Price Increase Percentage=%{y}<extra></extra>",
         "legendgroup": "tiras-makineleri",
         "marker": {
          "color": "#00cc96",
          "symbol": "circle"
         },
         "mode": "markers",
         "name": "tiras-makineleri",
         "orientation": "v",
         "showlegend": true,
         "type": "scatter",
         "x": [
          "tiras-makineleri"
         ],
         "xaxis": "x",
         "y": [
          35.83707589829265
         ],
         "yaxis": "y"
        },
        {
         "hovertemplate": "Category=%{x}<br>Price Increase Percentage=%{y}<extra></extra>",
         "legendgroup": "xbox-series",
         "marker": {
          "color": "#ab63fa",
          "symbol": "circle"
         },
         "mode": "markers",
         "name": "xbox-series",
         "orientation": "v",
         "showlegend": true,
         "type": "scatter",
         "x": [
          "xbox-series"
         ],
         "xaxis": "x",
         "y": [
          35.71645253837998
         ],
         "yaxis": "y"
        },
        {
         "hovertemplate": "Category=%{x}<br>Price Increase Percentage=%{y}<extra></extra>",
         "legendgroup": "kamp-aksesuari",
         "marker": {
          "color": "#FFA15A",
          "symbol": "circle"
         },
         "mode": "markers",
         "name": "kamp-aksesuari",
         "orientation": "v",
         "showlegend": true,
         "type": "scatter",
         "x": [
          "kamp-aksesuari"
         ],
         "xaxis": "x",
         "y": [
          35.13513513513514
         ],
         "yaxis": "y"
        },
        {
         "hovertemplate": "Category=%{x}<br>Price Increase Percentage=%{y}<extra></extra>",
         "legendgroup": "dis-macunu",
         "marker": {
          "color": "#19d3f3",
          "symbol": "circle"
         },
         "mode": "markers",
         "name": "dis-macunu",
         "orientation": "v",
         "showlegend": true,
         "type": "scatter",
         "x": [
          "dis-macunu"
         ],
         "xaxis": "x",
         "y": [
          35.0690933602966
         ],
         "yaxis": "y"
        },
        {
         "hovertemplate": "Category=%{x}<br>Price Increase Percentage=%{y}<extra></extra>",
         "legendgroup": "nintendo-switch",
         "marker": {
          "color": "#FF6692",
          "symbol": "circle"
         },
         "mode": "markers",
         "name": "nintendo-switch",
         "orientation": "v",
         "showlegend": true,
         "type": "scatter",
         "x": [
          "nintendo-switch"
         ],
         "xaxis": "x",
         "y": [
          35.003500350035004
         ],
         "yaxis": "y"
        },
        {
         "hovertemplate": "Category=%{x}<br>Price Increase Percentage=%{y}<extra></extra>",
         "legendgroup": "dizustu-bilgisayar",
         "marker": {
          "color": "#B6E880",
          "symbol": "circle"
         },
         "mode": "markers",
         "name": "dizustu-bilgisayar",
         "orientation": "v",
         "showlegend": true,
         "type": "scatter",
         "x": [
          "dizustu-bilgisayar"
         ],
         "xaxis": "x",
         "y": [
          34.88125474387323
         ],
         "yaxis": "y"
        },
        {
         "hovertemplate": "Category=%{x}<br>Price Increase Percentage=%{y}<extra></extra>",
         "legendgroup": "fosforlu-kalem",
         "marker": {
          "color": "#FF97FF",
          "symbol": "circle"
         },
         "mode": "markers",
         "name": "fosforlu-kalem",
         "orientation": "v",
         "showlegend": true,
         "type": "scatter",
         "x": [
          "fosforlu-kalem"
         ],
         "xaxis": "x",
         "y": [
          34.83835005574136
         ],
         "yaxis": "y"
        },
        {
         "hovertemplate": "Category=%{x}<br>Price Increase Percentage=%{y}<extra></extra>",
         "legendgroup": "ocaklar",
         "marker": {
          "color": "#FECB52",
          "symbol": "circle"
         },
         "mode": "markers",
         "name": "ocaklar",
         "orientation": "v",
         "showlegend": true,
         "type": "scatter",
         "x": [
          "ocaklar"
         ],
         "xaxis": "x",
         "y": [
          34.61538461538461
         ],
         "yaxis": "y"
        },
        {
         "hovertemplate": "Category=%{x}<br>Price Increase Percentage=%{y}<extra></extra>",
         "legendgroup": "tiras-makinesi",
         "marker": {
          "color": "#636efa",
          "symbol": "circle"
         },
         "mode": "markers",
         "name": "tiras-makinesi",
         "orientation": "v",
         "showlegend": true,
         "type": "scatter",
         "x": [
          "tiras-makinesi"
         ],
         "xaxis": "x",
         "y": [
          34.523809523809526
         ],
         "yaxis": "y"
        },
        {
         "hovertemplate": "Category=%{x}<br>Price Increase Percentage=%{y}<extra></extra>",
         "legendgroup": "mekanik-kursun-versatil-kalem",
         "marker": {
          "color": "#EF553B",
          "symbol": "circle"
         },
         "mode": "markers",
         "name": "mekanik-kursun-versatil-kalem",
         "orientation": "v",
         "showlegend": true,
         "type": "scatter",
         "x": [
          "mekanik-kursun-versatil-kalem"
         ],
         "xaxis": "x",
         "y": [
          34.520305571827954
         ],
         "yaxis": "y"
        },
        {
         "hovertemplate": "Category=%{x}<br>Price Increase Percentage=%{y}<extra></extra>",
         "legendgroup": "alarmli-saatler-radyolar",
         "marker": {
          "color": "#00cc96",
          "symbol": "circle"
         },
         "mode": "markers",
         "name": "alarmli-saatler-radyolar",
         "orientation": "v",
         "showlegend": true,
         "type": "scatter",
         "x": [
          "alarmli-saatler-radyolar"
         ],
         "xaxis": "x",
         "y": [
          34.285714285714285
         ],
         "yaxis": "y"
        },
        {
         "hovertemplate": "Category=%{x}<br>Price Increase Percentage=%{y}<extra></extra>",
         "legendgroup": "kutu-oyunu",
         "marker": {
          "color": "#ab63fa",
          "symbol": "circle"
         },
         "mode": "markers",
         "name": "kutu-oyunu",
         "orientation": "v",
         "showlegend": true,
         "type": "scatter",
         "x": [
          "kutu-oyunu"
         ],
         "xaxis": "x",
         "y": [
          34.109847965768616
         ],
         "yaxis": "y"
        },
        {
         "hovertemplate": "Category=%{x}<br>Price Increase Percentage=%{y}<extra></extra>",
         "legendgroup": "sampuan-ve-sac-kremi",
         "marker": {
          "color": "#FFA15A",
          "symbol": "circle"
         },
         "mode": "markers",
         "name": "sampuan-ve-sac-kremi",
         "orientation": "v",
         "showlegend": true,
         "type": "scatter",
         "x": [
          "sampuan-ve-sac-kremi"
         ],
         "xaxis": "x",
         "y": [
          34.10749628177185
         ],
         "yaxis": "y"
        },
        {
         "hovertemplate": "Category=%{x}<br>Price Increase Percentage=%{y}<extra></extra>",
         "legendgroup": "dis-fircalari",
         "marker": {
          "color": "#19d3f3",
          "symbol": "circle"
         },
         "mode": "markers",
         "name": "dis-fircalari",
         "orientation": "v",
         "showlegend": true,
         "type": "scatter",
         "x": [
          "dis-fircalari"
         ],
         "xaxis": "x",
         "y": [
          33.8770136307311
         ],
         "yaxis": "y"
        },
        {
         "hovertemplate": "Category=%{x}<br>Price Increase Percentage=%{y}<extra></extra>",
         "legendgroup": "tiras-bicagi-ve-yedekleri",
         "marker": {
          "color": "#FF6692",
          "symbol": "circle"
         },
         "mode": "markers",
         "name": "tiras-bicagi-ve-yedekleri",
         "orientation": "v",
         "showlegend": true,
         "type": "scatter",
         "x": [
          "tiras-bicagi-ve-yedekleri"
         ],
         "xaxis": "x",
         "y": [
          33.82352941176471
         ],
         "yaxis": "y"
        },
        {
         "hovertemplate": "Category=%{x}<br>Price Increase Percentage=%{y}<extra></extra>",
         "legendgroup": "tasinabilir-sarj-cihazi-powerbank",
         "marker": {
          "color": "#B6E880",
          "symbol": "circle"
         },
         "mode": "markers",
         "name": "tasinabilir-sarj-cihazi-powerbank",
         "orientation": "v",
         "showlegend": true,
         "type": "scatter",
         "x": [
          "tasinabilir-sarj-cihazi-powerbank"
         ],
         "xaxis": "x",
         "y": [
          33.801797184186356
         ],
         "yaxis": "y"
        },
        {
         "hovertemplate": "Category=%{x}<br>Price Increase Percentage=%{y}<extra></extra>",
         "legendgroup": "cep-telefonu",
         "marker": {
          "color": "#FF97FF",
          "symbol": "circle"
         },
         "mode": "markers",
         "name": "cep-telefonu",
         "orientation": "v",
         "showlegend": true,
         "type": "scatter",
         "x": [
          "cep-telefonu"
         ],
         "xaxis": "x",
         "y": [
          33.66063494565266
         ],
         "yaxis": "y"
        },
        {
         "hovertemplate": "Category=%{x}<br>Price Increase Percentage=%{y}<extra></extra>",
         "legendgroup": "bayan-cuzdan",
         "marker": {
          "color": "#FECB52",
          "symbol": "circle"
         },
         "mode": "markers",
         "name": "bayan-cuzdan",
         "orientation": "v",
         "showlegend": true,
         "type": "scatter",
         "x": [
          "bayan-cuzdan"
         ],
         "xaxis": "x",
         "y": [
          33.552004311238235
         ],
         "yaxis": "y"
        },
        {
         "hovertemplate": "Category=%{x}<br>Price Increase Percentage=%{y}<extra></extra>",
         "legendgroup": "akim-korumali-priz",
         "marker": {
          "color": "#636efa",
          "symbol": "circle"
         },
         "mode": "markers",
         "name": "akim-korumali-priz",
         "orientation": "v",
         "showlegend": true,
         "type": "scatter",
         "x": [
          "akim-korumali-priz"
         ],
         "xaxis": "x",
         "y": [
          33.490566037735846
         ],
         "yaxis": "y"
        },
        {
         "hovertemplate": "Category=%{x}<br>Price Increase Percentage=%{y}<extra></extra>",
         "legendgroup": "suluk",
         "marker": {
          "color": "#EF553B",
          "symbol": "circle"
         },
         "mode": "markers",
         "name": "suluk",
         "orientation": "v",
         "showlegend": true,
         "type": "scatter",
         "x": [
          "suluk"
         ],
         "xaxis": "x",
         "y": [
          33.46521592619326
         ],
         "yaxis": "y"
        },
        {
         "hovertemplate": "Category=%{x}<br>Price Increase Percentage=%{y}<extra></extra>",
         "legendgroup": "kopek-mamasi",
         "marker": {
          "color": "#00cc96",
          "symbol": "circle"
         },
         "mode": "markers",
         "name": "kopek-mamasi",
         "orientation": "v",
         "showlegend": true,
         "type": "scatter",
         "x": [
          "kopek-mamasi"
         ],
         "xaxis": "x",
         "y": [
          33.42825940628918
         ],
         "yaxis": "y"
        },
        {
         "hovertemplate": "Category=%{x}<br>Price Increase Percentage=%{y}<extra></extra>",
         "legendgroup": "klavye-mouse",
         "marker": {
          "color": "#ab63fa",
          "symbol": "circle"
         },
         "mode": "markers",
         "name": "klavye-mouse",
         "orientation": "v",
         "showlegend": true,
         "type": "scatter",
         "x": [
          "klavye-mouse"
         ],
         "xaxis": "x",
         "y": [
          33.42278870057197
         ],
         "yaxis": "y"
        },
        {
         "hovertemplate": "Category=%{x}<br>Price Increase Percentage=%{y}<extra></extra>",
         "legendgroup": "makarna",
         "marker": {
          "color": "#FFA15A",
          "symbol": "circle"
         },
         "mode": "markers",
         "name": "makarna",
         "orientation": "v",
         "showlegend": true,
         "type": "scatter",
         "x": [
          "makarna"
         ],
         "xaxis": "x",
         "y": [
          33.33333333333333
         ],
         "yaxis": "y"
        },
        {
         "hovertemplate": "Category=%{x}<br>Price Increase Percentage=%{y}<extra></extra>",
         "legendgroup": "sanal-gerceklik-gozlugu",
         "marker": {
          "color": "#19d3f3",
          "symbol": "circle"
         },
         "mode": "markers",
         "name": "sanal-gerceklik-gozlugu",
         "orientation": "v",
         "showlegend": true,
         "type": "scatter",
         "x": [
          "sanal-gerceklik-gozlugu"
         ],
         "xaxis": "x",
         "y": [
          33.330158125357215
         ],
         "yaxis": "y"
        },
        {
         "hovertemplate": "Category=%{x}<br>Price Increase Percentage=%{y}<extra></extra>",
         "legendgroup": "tablet-pc",
         "marker": {
          "color": "#FF6692",
          "symbol": "circle"
         },
         "mode": "markers",
         "name": "tablet-pc",
         "orientation": "v",
         "showlegend": true,
         "type": "scatter",
         "x": [
          "tablet-pc"
         ],
         "xaxis": "x",
         "y": [
          33.30335779285827
         ],
         "yaxis": "y"
        },
        {
         "hovertemplate": "Category=%{x}<br>Price Increase Percentage=%{y}<extra></extra>",
         "legendgroup": "tasinabilir-hard-diskler",
         "marker": {
          "color": "#B6E880",
          "symbol": "circle"
         },
         "mode": "markers",
         "name": "tasinabilir-hard-diskler",
         "orientation": "v",
         "showlegend": true,
         "type": "scatter",
         "x": [
          "tasinabilir-hard-diskler"
         ],
         "xaxis": "x",
         "y": [
          33.07530578296409
         ],
         "yaxis": "y"
        },
        {
         "hovertemplate": "Category=%{x}<br>Price Increase Percentage=%{y}<extra></extra>",
         "legendgroup": "stor-perde",
         "marker": {
          "color": "#FF97FF",
          "symbol": "circle"
         },
         "mode": "markers",
         "name": "stor-perde",
         "orientation": "v",
         "showlegend": true,
         "type": "scatter",
         "x": [
          "stor-perde"
         ],
         "xaxis": "x",
         "y": [
          33.014354066985646
         ],
         "yaxis": "y"
        },
        {
         "hovertemplate": "Category=%{x}<br>Price Increase Percentage=%{y}<extra></extra>",
         "legendgroup": "ocak",
         "marker": {
          "color": "#FECB52",
          "symbol": "circle"
         },
         "mode": "markers",
         "name": "ocak",
         "orientation": "v",
         "showlegend": true,
         "type": "scatter",
         "x": [
          "ocak"
         ],
         "xaxis": "x",
         "y": [
          32.75837337732195
         ],
         "yaxis": "y"
        },
        {
         "hovertemplate": "Category=%{x}<br>Price Increase Percentage=%{y}<extra></extra>",
         "legendgroup": "hijyenik-pedler-ve-tamponlar",
         "marker": {
          "color": "#636efa",
          "symbol": "circle"
         },
         "mode": "markers",
         "name": "hijyenik-pedler-ve-tamponlar",
         "orientation": "v",
         "showlegend": true,
         "type": "scatter",
         "x": [
          "hijyenik-pedler-ve-tamponlar"
         ],
         "xaxis": "x",
         "y": [
          32.467247097844115
         ],
         "yaxis": "y"
        },
        {
         "hovertemplate": "Category=%{x}<br>Price Increase Percentage=%{y}<extra></extra>",
         "legendgroup": "rimeller-maskaralar",
         "marker": {
          "color": "#EF553B",
          "symbol": "circle"
         },
         "mode": "markers",
         "name": "rimeller-maskaralar",
         "orientation": "v",
         "showlegend": true,
         "type": "scatter",
         "x": [
          "rimeller-maskaralar"
         ],
         "xaxis": "x",
         "y": [
          32.2841726618705
         ],
         "yaxis": "y"
        },
        {
         "hovertemplate": "Category=%{x}<br>Price Increase Percentage=%{y}<extra></extra>",
         "legendgroup": "kadin-terlikleri-ve-sandaletleri",
         "marker": {
          "color": "#00cc96",
          "symbol": "circle"
         },
         "mode": "markers",
         "name": "kadin-terlikleri-ve-sandaletleri",
         "orientation": "v",
         "showlegend": true,
         "type": "scatter",
         "x": [
          "kadin-terlikleri-ve-sandaletleri"
         ],
         "xaxis": "x",
         "y": [
          31.911966987620353
         ],
         "yaxis": "y"
        },
        {
         "hovertemplate": "Category=%{x}<br>Price Increase Percentage=%{y}<extra></extra>",
         "legendgroup": "satranc",
         "marker": {
          "color": "#ab63fa",
          "symbol": "circle"
         },
         "mode": "markers",
         "name": "satranc",
         "orientation": "v",
         "showlegend": true,
         "type": "scatter",
         "x": [
          "satranc"
         ],
         "xaxis": "x",
         "y": [
          31.48148148148148
         ],
         "yaxis": "y"
        },
        {
         "hovertemplate": "Category=%{x}<br>Price Increase Percentage=%{y}<extra></extra>",
         "legendgroup": "dijital-fotograf-makineleri",
         "marker": {
          "color": "#FFA15A",
          "symbol": "circle"
         },
         "mode": "markers",
         "name": "dijital-fotograf-makineleri",
         "orientation": "v",
         "showlegend": true,
         "type": "scatter",
         "x": [
          "dijital-fotograf-makineleri"
         ],
         "xaxis": "x",
         "y": [
          31.39039080224727
         ],
         "yaxis": "y"
        },
        {
         "hovertemplate": "Category=%{x}<br>Price Increase Percentage=%{y}<extra></extra>",
         "legendgroup": "sabunlar",
         "marker": {
          "color": "#19d3f3",
          "symbol": "circle"
         },
         "mode": "markers",
         "name": "sabunlar",
         "orientation": "v",
         "showlegend": true,
         "type": "scatter",
         "x": [
          "sabunlar"
         ],
         "xaxis": "x",
         "y": [
          31.292579858615746
         ],
         "yaxis": "y"
        },
        {
         "hovertemplate": "Category=%{x}<br>Price Increase Percentage=%{y}<extra></extra>",
         "legendgroup": "unisex-gunes-gozlukleri",
         "marker": {
          "color": "#FF6692",
          "symbol": "circle"
         },
         "mode": "markers",
         "name": "unisex-gunes-gozlukleri",
         "orientation": "v",
         "showlegend": true,
         "type": "scatter",
         "x": [
          "unisex-gunes-gozlukleri"
         ],
         "xaxis": "x",
         "y": [
          31.1614730878187
         ],
         "yaxis": "y"
        },
        {
         "hovertemplate": "Category=%{x}<br>Price Increase Percentage=%{y}<extra></extra>",
         "legendgroup": "konsol-aksesuarlari",
         "marker": {
          "color": "#B6E880",
          "symbol": "circle"
         },
         "mode": "markers",
         "name": "konsol-aksesuarlari",
         "orientation": "v",
         "showlegend": true,
         "type": "scatter",
         "x": [
          "konsol-aksesuarlari"
         ],
         "xaxis": "x",
         "y": [
          30.554713549560475
         ],
         "yaxis": "y"
        },
        {
         "hovertemplate": "Category=%{x}<br>Price Increase Percentage=%{y}<extra></extra>",
         "legendgroup": "camasir-askisi",
         "marker": {
          "color": "#FF97FF",
          "symbol": "circle"
         },
         "mode": "markers",
         "name": "camasir-askisi",
         "orientation": "v",
         "showlegend": true,
         "type": "scatter",
         "x": [
          "camasir-askisi"
         ],
         "xaxis": "x",
         "y": [
          30.37974683544304
         ],
         "yaxis": "y"
        },
        {
         "hovertemplate": "Category=%{x}<br>Price Increase Percentage=%{y}<extra></extra>",
         "legendgroup": "sprey-deodorantlar",
         "marker": {
          "color": "#FECB52",
          "symbol": "circle"
         },
         "mode": "markers",
         "name": "sprey-deodorantlar",
         "orientation": "v",
         "showlegend": true,
         "type": "scatter",
         "x": [
          "sprey-deodorantlar"
         ],
         "xaxis": "x",
         "y": [
          30.01449843260188
         ],
         "yaxis": "y"
        },
        {
         "hovertemplate": "Category=%{x}<br>Price Increase Percentage=%{y}<extra></extra>",
         "legendgroup": "oje",
         "marker": {
          "color": "#636efa",
          "symbol": "circle"
         },
         "mode": "markers",
         "name": "oje",
         "orientation": "v",
         "showlegend": true,
         "type": "scatter",
         "x": [
          "oje"
         ],
         "xaxis": "x",
         "y": [
          29.523809523809522
         ],
         "yaxis": "y"
        },
        {
         "hovertemplate": "Category=%{x}<br>Price Increase Percentage=%{y}<extra></extra>",
         "legendgroup": "kedi-kumu",
         "marker": {
          "color": "#EF553B",
          "symbol": "circle"
         },
         "mode": "markers",
         "name": "kedi-kumu",
         "orientation": "v",
         "showlegend": true,
         "type": "scatter",
         "x": [
          "kedi-kumu"
         ],
         "xaxis": "x",
         "y": [
          29.47976878612717
         ],
         "yaxis": "y"
        },
        {
         "hovertemplate": "Category=%{x}<br>Price Increase Percentage=%{y}<extra></extra>",
         "legendgroup": "dus-jelleri-ve-banyo-kopukleri",
         "marker": {
          "color": "#00cc96",
          "symbol": "circle"
         },
         "mode": "markers",
         "name": "dus-jelleri-ve-banyo-kopukleri",
         "orientation": "v",
         "showlegend": true,
         "type": "scatter",
         "x": [
          "dus-jelleri-ve-banyo-kopukleri"
         ],
         "xaxis": "x",
         "y": [
          29.384025935750074
         ],
         "yaxis": "y"
        },
        {
         "hovertemplate": "Category=%{x}<br>Price Increase Percentage=%{y}<extra></extra>",
         "legendgroup": "kupa",
         "marker": {
          "color": "#ab63fa",
          "symbol": "circle"
         },
         "mode": "markers",
         "name": "kupa",
         "orientation": "v",
         "showlegend": true,
         "type": "scatter",
         "x": [
          "kupa"
         ],
         "xaxis": "x",
         "y": [
          29.014920613554345
         ],
         "yaxis": "y"
        },
        {
         "hovertemplate": "Category=%{x}<br>Price Increase Percentage=%{y}<extra></extra>",
         "legendgroup": "ps5",
         "marker": {
          "color": "#FFA15A",
          "symbol": "circle"
         },
         "mode": "markers",
         "name": "ps5",
         "orientation": "v",
         "showlegend": true,
         "type": "scatter",
         "x": [
          "ps5"
         ],
         "xaxis": "x",
         "y": [
          28.74050521109345
         ],
         "yaxis": "y"
        },
        {
         "hovertemplate": "Category=%{x}<br>Price Increase Percentage=%{y}<extra></extra>",
         "legendgroup": "ankastre-mikrodalga-firinlar",
         "marker": {
          "color": "#19d3f3",
          "symbol": "circle"
         },
         "mode": "markers",
         "name": "ankastre-mikrodalga-firinlar",
         "orientation": "v",
         "showlegend": true,
         "type": "scatter",
         "x": [
          "ankastre-mikrodalga-firinlar"
         ],
         "xaxis": "x",
         "y": [
          28.685790527018014
         ],
         "yaxis": "y"
        },
        {
         "hovertemplate": "Category=%{x}<br>Price Increase Percentage=%{y}<extra></extra>",
         "legendgroup": "tiras-jelleri-kopukleri-kremleri",
         "marker": {
          "color": "#FF6692",
          "symbol": "circle"
         },
         "mode": "markers",
         "name": "tiras-jelleri-kopukleri-kremleri",
         "orientation": "v",
         "showlegend": true,
         "type": "scatter",
         "x": [
          "tiras-jelleri-kopukleri-kremleri"
         ],
         "xaxis": "x",
         "y": [
          28.57142857142857
         ],
         "yaxis": "y"
        },
        {
         "hovertemplate": "Category=%{x}<br>Price Increase Percentage=%{y}<extra></extra>",
         "legendgroup": "puzzle-aksesuarlari",
         "marker": {
          "color": "#B6E880",
          "symbol": "circle"
         },
         "mode": "markers",
         "name": "puzzle-aksesuarlari",
         "orientation": "v",
         "showlegend": true,
         "type": "scatter",
         "x": [
          "puzzle-aksesuarlari"
         ],
         "xaxis": "x",
         "y": [
          28.465482512360374
         ],
         "yaxis": "y"
        },
        {
         "hovertemplate": "Category=%{x}<br>Price Increase Percentage=%{y}<extra></extra>",
         "legendgroup": "gunes-kremleri-ve-losyonlari",
         "marker": {
          "color": "#FF97FF",
          "symbol": "circle"
         },
         "mode": "markers",
         "name": "gunes-kremleri-ve-losyonlari",
         "orientation": "v",
         "showlegend": true,
         "type": "scatter",
         "x": [
          "gunes-kremleri-ve-losyonlari"
         ],
         "xaxis": "x",
         "y": [
          28.392857142857142
         ],
         "yaxis": "y"
        },
        {
         "hovertemplate": "Category=%{x}<br>Price Increase Percentage=%{y}<extra></extra>",
         "legendgroup": "tost-makineleri",
         "marker": {
          "color": "#FECB52",
          "symbol": "circle"
         },
         "mode": "markers",
         "name": "tost-makineleri",
         "orientation": "v",
         "showlegend": true,
         "type": "scatter",
         "x": [
          "tost-makineleri"
         ],
         "xaxis": "x",
         "y": [
          28.385212202938455
         ],
         "yaxis": "y"
        },
        {
         "hovertemplate": "Category=%{x}<br>Price Increase Percentage=%{y}<extra></extra>",
         "legendgroup": "espresso-makinesi",
         "marker": {
          "color": "#636efa",
          "symbol": "circle"
         },
         "mode": "markers",
         "name": "espresso-makinesi",
         "orientation": "v",
         "showlegend": true,
         "type": "scatter",
         "x": [
          "espresso-makinesi"
         ],
         "xaxis": "x",
         "y": [
          28.330091123169858
         ],
         "yaxis": "y"
        },
        {
         "hovertemplate": "Category=%{x}<br>Price Increase Percentage=%{y}<extra></extra>",
         "legendgroup": "fon-perde",
         "marker": {
          "color": "#EF553B",
          "symbol": "circle"
         },
         "mode": "markers",
         "name": "fon-perde",
         "orientation": "v",
         "showlegend": true,
         "type": "scatter",
         "x": [
          "fon-perde"
         ],
         "xaxis": "x",
         "y": [
          28.18181818181818
         ],
         "yaxis": "y"
        },
        {
         "hovertemplate": "Category=%{x}<br>Price Increase Percentage=%{y}<extra></extra>",
         "legendgroup": "oyuncu-mouse-pad",
         "marker": {
          "color": "#00cc96",
          "symbol": "circle"
         },
         "mode": "markers",
         "name": "oyuncu-mouse-pad",
         "orientation": "v",
         "showlegend": true,
         "type": "scatter",
         "x": [
          "oyuncu-mouse-pad"
         ],
         "xaxis": "x",
         "y": [
          28.03347280334728
         ],
         "yaxis": "y"
        },
        {
         "hovertemplate": "Category=%{x}<br>Price Increase Percentage=%{y}<extra></extra>",
         "legendgroup": "cok-satan-kitaplar",
         "marker": {
          "color": "#ab63fa",
          "symbol": "circle"
         },
         "mode": "markers",
         "name": "cok-satan-kitaplar",
         "orientation": "v",
         "showlegend": true,
         "type": "scatter",
         "x": [
          "cok-satan-kitaplar"
         ],
         "xaxis": "x",
         "y": [
          27.99823633156966
         ],
         "yaxis": "y"
        },
        {
         "hovertemplate": "Category=%{x}<br>Price Increase Percentage=%{y}<extra></extra>",
         "legendgroup": "makyaj-temizleyicileri",
         "marker": {
          "color": "#FFA15A",
          "symbol": "circle"
         },
         "mode": "markers",
         "name": "makyaj-temizleyicileri",
         "orientation": "v",
         "showlegend": true,
         "type": "scatter",
         "x": [
          "makyaj-temizleyicileri"
         ],
         "xaxis": "x",
         "y": [
          27.659574468085108
         ],
         "yaxis": "y"
        },
        {
         "hovertemplate": "Category=%{x}<br>Price Increase Percentage=%{y}<extra></extra>",
         "legendgroup": "toplar",
         "marker": {
          "color": "#19d3f3",
          "symbol": "circle"
         },
         "mode": "markers",
         "name": "toplar",
         "orientation": "v",
         "showlegend": true,
         "type": "scatter",
         "x": [
          "toplar"
         ],
         "xaxis": "x",
         "y": [
          25.956173664345826
         ],
         "yaxis": "y"
        },
        {
         "hovertemplate": "Category=%{x}<br>Price Increase Percentage=%{y}<extra></extra>",
         "legendgroup": "mikrodalga-firinlar",
         "marker": {
          "color": "#FF6692",
          "symbol": "circle"
         },
         "mode": "markers",
         "name": "mikrodalga-firinlar",
         "orientation": "v",
         "showlegend": true,
         "type": "scatter",
         "x": [
          "mikrodalga-firinlar"
         ],
         "xaxis": "x",
         "y": [
          25.90442763021254
         ],
         "yaxis": "y"
        },
        {
         "hovertemplate": "Category=%{x}<br>Price Increase Percentage=%{y}<extra></extra>",
         "legendgroup": "masa-lambasi",
         "marker": {
          "color": "#B6E880",
          "symbol": "circle"
         },
         "mode": "markers",
         "name": "masa-lambasi",
         "orientation": "v",
         "showlegend": true,
         "type": "scatter",
         "x": [
          "masa-lambasi"
         ],
         "xaxis": "x",
         "y": [
          25.48676115931907
         ],
         "yaxis": "y"
        },
        {
         "hovertemplate": "Category=%{x}<br>Price Increase Percentage=%{y}<extra></extra>",
         "legendgroup": "erkek-t-shirt",
         "marker": {
          "color": "#FF97FF",
          "symbol": "circle"
         },
         "mode": "markers",
         "name": "erkek-t-shirt",
         "orientation": "v",
         "showlegend": true,
         "type": "scatter",
         "x": [
          "erkek-t-shirt"
         ],
         "xaxis": "x",
         "y": [
          25.23235163534113
         ],
         "yaxis": "y"
        },
        {
         "hovertemplate": "Category=%{x}<br>Price Increase Percentage=%{y}<extra></extra>",
         "legendgroup": "spor-ayakkabi",
         "marker": {
          "color": "#FECB52",
          "symbol": "circle"
         },
         "mode": "markers",
         "name": "spor-ayakkabi",
         "orientation": "v",
         "showlegend": true,
         "type": "scatter",
         "x": [
          "spor-ayakkabi"
         ],
         "xaxis": "x",
         "y": [
          25.17413493626738
         ],
         "yaxis": "y"
        },
        {
         "hovertemplate": "Category=%{x}<br>Price Increase Percentage=%{y}<extra></extra>",
         "legendgroup": "waffle-makinesi",
         "marker": {
          "color": "#636efa",
          "symbol": "circle"
         },
         "mode": "markers",
         "name": "waffle-makinesi",
         "orientation": "v",
         "showlegend": true,
         "type": "scatter",
         "x": [
          "waffle-makinesi"
         ],
         "xaxis": "x",
         "y": [
          25.08361204013378
         ],
         "yaxis": "y"
        },
        {
         "hovertemplate": "Category=%{x}<br>Price Increase Percentage=%{y}<extra></extra>",
         "legendgroup": "tuvalet-kagidi",
         "marker": {
          "color": "#EF553B",
          "symbol": "circle"
         },
         "mode": "markers",
         "name": "tuvalet-kagidi",
         "orientation": "v",
         "showlegend": true,
         "type": "scatter",
         "x": [
          "tuvalet-kagidi"
         ],
         "xaxis": "x",
         "y": [
          25.022401433691755
         ],
         "yaxis": "y"
        },
        {
         "hovertemplate": "Category=%{x}<br>Price Increase Percentage=%{y}<extra></extra>",
         "legendgroup": "oyuncu-koltugu",
         "marker": {
          "color": "#00cc96",
          "symbol": "circle"
         },
         "mode": "markers",
         "name": "oyuncu-koltugu",
         "orientation": "v",
         "showlegend": true,
         "type": "scatter",
         "x": [
          "oyuncu-koltugu"
         ],
         "xaxis": "x",
         "y": [
          25.00694637399278
         ],
         "yaxis": "y"
        },
        {
         "hovertemplate": "Category=%{x}<br>Price Increase Percentage=%{y}<extra></extra>",
         "legendgroup": "kahve-makineleri",
         "marker": {
          "color": "#ab63fa",
          "symbol": "circle"
         },
         "mode": "markers",
         "name": "kahve-makineleri",
         "orientation": "v",
         "showlegend": true,
         "type": "scatter",
         "x": [
          "kahve-makineleri"
         ],
         "xaxis": "x",
         "y": [
          24.92258384510423
         ],
         "yaxis": "y"
        },
        {
         "hovertemplate": "Category=%{x}<br>Price Increase Percentage=%{y}<extra></extra>",
         "legendgroup": "playstation-4-ps4-oyunlari",
         "marker": {
          "color": "#FFA15A",
          "symbol": "circle"
         },
         "mode": "markers",
         "name": "playstation-4-ps4-oyunlari",
         "orientation": "v",
         "showlegend": true,
         "type": "scatter",
         "x": [
          "playstation-4-ps4-oyunlari"
         ],
         "xaxis": "x",
         "y": [
          24.768510550411346
         ],
         "yaxis": "y"
        },
        {
         "hovertemplate": "Category=%{x}<br>Price Increase Percentage=%{y}<extra></extra>",
         "legendgroup": "hesap-makinesi",
         "marker": {
          "color": "#19d3f3",
          "symbol": "circle"
         },
         "mode": "markers",
         "name": "hesap-makinesi",
         "orientation": "v",
         "showlegend": true,
         "type": "scatter",
         "x": [
          "hesap-makinesi"
         ],
         "xaxis": "x",
         "y": [
          24.752475247524753
         ],
         "yaxis": "y"
        },
        {
         "hovertemplate": "Category=%{x}<br>Price Increase Percentage=%{y}<extra></extra>",
         "legendgroup": "sirt-cantasi-outdoor",
         "marker": {
          "color": "#FF6692",
          "symbol": "circle"
         },
         "mode": "markers",
         "name": "sirt-cantasi-outdoor",
         "orientation": "v",
         "showlegend": true,
         "type": "scatter",
         "x": [
          "sirt-cantasi-outdoor"
         ],
         "xaxis": "x",
         "y": [
          24.67393315995052
         ],
         "yaxis": "y"
        },
        {
         "hovertemplate": "Category=%{x}<br>Price Increase Percentage=%{y}<extra></extra>",
         "legendgroup": "kamp-sandalyesi",
         "marker": {
          "color": "#B6E880",
          "symbol": "circle"
         },
         "mode": "markers",
         "name": "kamp-sandalyesi",
         "orientation": "v",
         "showlegend": true,
         "type": "scatter",
         "x": [
          "kamp-sandalyesi"
         ],
         "xaxis": "x",
         "y": [
          24.2603550295858
         ],
         "yaxis": "y"
        },
        {
         "hovertemplate": "Category=%{x}<br>Price Increase Percentage=%{y}<extra></extra>",
         "legendgroup": "su-isiticilari-kettle",
         "marker": {
          "color": "#FF97FF",
          "symbol": "circle"
         },
         "mode": "markers",
         "name": "su-isiticilari-kettle",
         "orientation": "v",
         "showlegend": true,
         "type": "scatter",
         "x": [
          "su-isiticilari-kettle"
         ],
         "xaxis": "x",
         "y": [
          24.18300565871449
         ],
         "yaxis": "y"
        },
        {
         "hovertemplate": "Category=%{x}<br>Price Increase Percentage=%{y}<extra></extra>",
         "legendgroup": "elektro-gitarlar",
         "marker": {
          "color": "#FECB52",
          "symbol": "circle"
         },
         "mode": "markers",
         "name": "elektro-gitarlar",
         "orientation": "v",
         "showlegend": true,
         "type": "scatter",
         "x": [
          "elektro-gitarlar"
         ],
         "xaxis": "x",
         "y": [
          24.036896364622898
         ],
         "yaxis": "y"
        },
        {
         "hovertemplate": "Category=%{x}<br>Price Increase Percentage=%{y}<extra></extra>",
         "legendgroup": "laptop-notebook",
         "marker": {
          "color": "#636efa",
          "symbol": "circle"
         },
         "mode": "markers",
         "name": "laptop-notebook",
         "orientation": "v",
         "showlegend": true,
         "type": "scatter",
         "x": [
          "laptop-notebook"
         ],
         "xaxis": "x",
         "y": [
          23.897937424170006
         ],
         "yaxis": "y"
        },
        {
         "hovertemplate": "Category=%{x}<br>Price Increase Percentage=%{y}<extra></extra>",
         "legendgroup": "cep-telefonu-sarj-cihazi",
         "marker": {
          "color": "#EF553B",
          "symbol": "circle"
         },
         "mode": "markers",
         "name": "cep-telefonu-sarj-cihazi",
         "orientation": "v",
         "showlegend": true,
         "type": "scatter",
         "x": [
          "cep-telefonu-sarj-cihazi"
         ],
         "xaxis": "x",
         "y": [
          23.716371172161633
         ],
         "yaxis": "y"
        },
        {
         "hovertemplate": "Category=%{x}<br>Price Increase Percentage=%{y}<extra></extra>",
         "legendgroup": "bluetooth-hoparlor",
         "marker": {
          "color": "#00cc96",
          "symbol": "circle"
         },
         "mode": "markers",
         "name": "bluetooth-hoparlor",
         "orientation": "v",
         "showlegend": true,
         "type": "scatter",
         "x": [
          "bluetooth-hoparlor"
         ],
         "xaxis": "x",
         "y": [
          22.917516015123464
         ],
         "yaxis": "y"
        },
        {
         "hovertemplate": "Category=%{x}<br>Price Increase Percentage=%{y}<extra></extra>",
         "legendgroup": "sut",
         "marker": {
          "color": "#ab63fa",
          "symbol": "circle"
         },
         "mode": "markers",
         "name": "sut",
         "orientation": "v",
         "showlegend": true,
         "type": "scatter",
         "x": [
          "sut"
         ],
         "xaxis": "x",
         "y": [
          22.869565217391305
         ],
         "yaxis": "y"
        },
        {
         "hovertemplate": "Category=%{x}<br>Price Increase Percentage=%{y}<extra></extra>",
         "legendgroup": "oyun-konsollari",
         "marker": {
          "color": "#FFA15A",
          "symbol": "circle"
         },
         "mode": "markers",
         "name": "oyun-konsollari",
         "orientation": "v",
         "showlegend": true,
         "type": "scatter",
         "x": [
          "oyun-konsollari"
         ],
         "xaxis": "x",
         "y": [
          22.58477628372361
         ],
         "yaxis": "y"
        },
        {
         "hovertemplate": "Category=%{x}<br>Price Increase Percentage=%{y}<extra></extra>",
         "legendgroup": "tripodlar",
         "marker": {
          "color": "#19d3f3",
          "symbol": "circle"
         },
         "mode": "markers",
         "name": "tripodlar",
         "orientation": "v",
         "showlegend": true,
         "type": "scatter",
         "x": [
          "tripodlar"
         ],
         "xaxis": "x",
         "y": [
          22.52747252747253
         ],
         "yaxis": "y"
        },
        {
         "hovertemplate": "Category=%{x}<br>Price Increase Percentage=%{y}<extra></extra>",
         "legendgroup": "kilim",
         "marker": {
          "color": "#FF6692",
          "symbol": "circle"
         },
         "mode": "markers",
         "name": "kilim",
         "orientation": "v",
         "showlegend": true,
         "type": "scatter",
         "x": [
          "kilim"
         ],
         "xaxis": "x",
         "y": [
          22.51814949649784
         ],
         "yaxis": "y"
        },
        {
         "hovertemplate": "Category=%{x}<br>Price Increase Percentage=%{y}<extra></extra>",
         "legendgroup": "kagit-havlu",
         "marker": {
          "color": "#B6E880",
          "symbol": "circle"
         },
         "mode": "markers",
         "name": "kagit-havlu",
         "orientation": "v",
         "showlegend": true,
         "type": "scatter",
         "x": [
          "kagit-havlu"
         ],
         "xaxis": "x",
         "y": [
          22.47191011235955
         ],
         "yaxis": "y"
        },
        {
         "hovertemplate": "Category=%{x}<br>Price Increase Percentage=%{y}<extra></extra>",
         "legendgroup": "cakmak",
         "marker": {
          "color": "#FF97FF",
          "symbol": "circle"
         },
         "mode": "markers",
         "name": "cakmak",
         "orientation": "v",
         "showlegend": true,
         "type": "scatter",
         "x": [
          "cakmak"
         ],
         "xaxis": "x",
         "y": [
          22.370617696160267
         ],
         "yaxis": "y"
        },
        {
         "hovertemplate": "Category=%{x}<br>Price Increase Percentage=%{y}<extra></extra>",
         "legendgroup": "utuler",
         "marker": {
          "color": "#FECB52",
          "symbol": "circle"
         },
         "mode": "markers",
         "name": "utuler",
         "orientation": "v",
         "showlegend": true,
         "type": "scatter",
         "x": [
          "utuler"
         ],
         "xaxis": "x",
         "y": [
          22.103529899801405
         ],
         "yaxis": "y"
        },
        {
         "hovertemplate": "Category=%{x}<br>Price Increase Percentage=%{y}<extra></extra>",
         "legendgroup": "mutfak-havlusu",
         "marker": {
          "color": "#636efa",
          "symbol": "circle"
         },
         "mode": "markers",
         "name": "mutfak-havlusu",
         "orientation": "v",
         "showlegend": true,
         "type": "scatter",
         "x": [
          "mutfak-havlusu"
         ],
         "xaxis": "x",
         "y": [
          21.428571428571427
         ],
         "yaxis": "y"
        },
        {
         "hovertemplate": "Category=%{x}<br>Price Increase Percentage=%{y}<extra></extra>",
         "legendgroup": "nevresim-takimi",
         "marker": {
          "color": "#EF553B",
          "symbol": "circle"
         },
         "mode": "markers",
         "name": "nevresim-takimi",
         "orientation": "v",
         "showlegend": true,
         "type": "scatter",
         "x": [
          "nevresim-takimi"
         ],
         "xaxis": "x",
         "y": [
          21.31578947368421
         ],
         "yaxis": "y"
        },
        {
         "hovertemplate": "Category=%{x}<br>Price Increase Percentage=%{y}<extra></extra>",
         "legendgroup": "sac-kurutma-makineleri",
         "marker": {
          "color": "#00cc96",
          "symbol": "circle"
         },
         "mode": "markers",
         "name": "sac-kurutma-makineleri",
         "orientation": "v",
         "showlegend": true,
         "type": "scatter",
         "x": [
          "sac-kurutma-makineleri"
         ],
         "xaxis": "x",
         "y": [
          21.29111931386386
         ],
         "yaxis": "y"
        },
        {
         "hovertemplate": "Category=%{x}<br>Price Increase Percentage=%{y}<extra></extra>",
         "legendgroup": "el-bakimi",
         "marker": {
          "color": "#ab63fa",
          "symbol": "circle"
         },
         "mode": "markers",
         "name": "el-bakimi",
         "orientation": "v",
         "showlegend": true,
         "type": "scatter",
         "x": [
          "el-bakimi"
         ],
         "xaxis": "x",
         "y": [
          21.25
         ],
         "yaxis": "y"
        },
        {
         "hovertemplate": "Category=%{x}<br>Price Increase Percentage=%{y}<extra></extra>",
         "legendgroup": "fritoz",
         "marker": {
          "color": "#FFA15A",
          "symbol": "circle"
         },
         "mode": "markers",
         "name": "fritoz",
         "orientation": "v",
         "showlegend": true,
         "type": "scatter",
         "x": [
          "fritoz"
         ],
         "xaxis": "x",
         "y": [
          21.230478041575843
         ],
         "yaxis": "y"
        },
        {
         "hovertemplate": "Category=%{x}<br>Price Increase Percentage=%{y}<extra></extra>",
         "legendgroup": "erkek-bakim-seti",
         "marker": {
          "color": "#19d3f3",
          "symbol": "circle"
         },
         "mode": "markers",
         "name": "erkek-bakim-seti",
         "orientation": "v",
         "showlegend": true,
         "type": "scatter",
         "x": [
          "erkek-bakim-seti"
         ],
         "xaxis": "x",
         "y": [
          20.980223559759242
         ],
         "yaxis": "y"
        },
        {
         "hovertemplate": "Category=%{x}<br>Price Increase Percentage=%{y}<extra></extra>",
         "legendgroup": "pratik-mutfak-gerecleri",
         "marker": {
          "color": "#FF6692",
          "symbol": "circle"
         },
         "mode": "markers",
         "name": "pratik-mutfak-gerecleri",
         "orientation": "v",
         "showlegend": true,
         "type": "scatter",
         "x": [
          "pratik-mutfak-gerecleri"
         ],
         "xaxis": "x",
         "y": [
          20.710059171597635
         ],
         "yaxis": "y"
        },
        {
         "hovertemplate": "Category=%{x}<br>Price Increase Percentage=%{y}<extra></extra>",
         "legendgroup": "erkek-terlikleri-ve-sandaletleri",
         "marker": {
          "color": "#B6E880",
          "symbol": "circle"
         },
         "mode": "markers",
         "name": "erkek-terlikleri-ve-sandaletleri",
         "orientation": "v",
         "showlegend": true,
         "type": "scatter",
         "x": [
          "erkek-terlikleri-ve-sandaletleri"
         ],
         "xaxis": "x",
         "y": [
          20.603681915398937
         ],
         "yaxis": "y"
        },
        {
         "hovertemplate": "Category=%{x}<br>Price Increase Percentage=%{y}<extra></extra>",
         "legendgroup": "direksiyon-seti",
         "marker": {
          "color": "#FF97FF",
          "symbol": "circle"
         },
         "mode": "markers",
         "name": "direksiyon-seti",
         "orientation": "v",
         "showlegend": true,
         "type": "scatter",
         "x": [
          "direksiyon-seti"
         ],
         "xaxis": "x",
         "y": [
          20.001818347122466
         ],
         "yaxis": "y"
        },
        {
         "hovertemplate": "Category=%{x}<br>Price Increase Percentage=%{y}<extra></extra>",
         "legendgroup": "akilli-saat",
         "marker": {
          "color": "#FECB52",
          "symbol": "circle"
         },
         "mode": "markers",
         "name": "akilli-saat",
         "orientation": "v",
         "showlegend": true,
         "type": "scatter",
         "x": [
          "akilli-saat"
         ],
         "xaxis": "x",
         "y": [
          19.77244528235402
         ],
         "yaxis": "y"
        },
        {
         "hovertemplate": "Category=%{x}<br>Price Increase Percentage=%{y}<extra></extra>",
         "legendgroup": "matara",
         "marker": {
          "color": "#636efa",
          "symbol": "circle"
         },
         "mode": "markers",
         "name": "matara",
         "orientation": "v",
         "showlegend": true,
         "type": "scatter",
         "x": [
          "matara"
         ],
         "xaxis": "x",
         "y": [
          19.696090940726133
         ],
         "yaxis": "y"
        },
        {
         "hovertemplate": "Category=%{x}<br>Price Increase Percentage=%{y}<extra></extra>",
         "legendgroup": "monitor",
         "marker": {
          "color": "#EF553B",
          "symbol": "circle"
         },
         "mode": "markers",
         "name": "monitor",
         "orientation": "v",
         "showlegend": true,
         "type": "scatter",
         "x": [
          "monitor"
         ],
         "xaxis": "x",
         "y": [
          19.689659339209967
         ],
         "yaxis": "y"
        },
        {
         "hovertemplate": "Category=%{x}<br>Price Increase Percentage=%{y}<extra></extra>",
         "legendgroup": "dus-banyo-perdesi",
         "marker": {
          "color": "#00cc96",
          "symbol": "circle"
         },
         "mode": "markers",
         "name": "dus-banyo-perdesi",
         "orientation": "v",
         "showlegend": true,
         "type": "scatter",
         "x": [
          "dus-banyo-perdesi"
         ],
         "xaxis": "x",
         "y": [
          19.653179190751445
         ],
         "yaxis": "y"
        },
        {
         "hovertemplate": "Category=%{x}<br>Price Increase Percentage=%{y}<extra></extra>",
         "legendgroup": "cimbizlar",
         "marker": {
          "color": "#ab63fa",
          "symbol": "circle"
         },
         "mode": "markers",
         "name": "cimbizlar",
         "orientation": "v",
         "showlegend": true,
         "type": "scatter",
         "x": [
          "cimbizlar"
         ],
         "xaxis": "x",
         "y": [
          19.386038687973084
         ],
         "yaxis": "y"
        },
        {
         "hovertemplate": "Category=%{x}<br>Price Increase Percentage=%{y}<extra></extra>",
         "legendgroup": "cep-telefonu-kilifi",
         "marker": {
          "color": "#FFA15A",
          "symbol": "circle"
         },
         "mode": "markers",
         "name": "cep-telefonu-kilifi",
         "orientation": "v",
         "showlegend": true,
         "type": "scatter",
         "x": [
          "cep-telefonu-kilifi"
         ],
         "xaxis": "x",
         "y": [
          18.731704274816895
         ],
         "yaxis": "y"
        },
        {
         "hovertemplate": "Category=%{x}<br>Price Increase Percentage=%{y}<extra></extra>",
         "legendgroup": "studyo-ve-sahne-ekipmanlari",
         "marker": {
          "color": "#19d3f3",
          "symbol": "circle"
         },
         "mode": "markers",
         "name": "studyo-ve-sahne-ekipmanlari",
         "orientation": "v",
         "showlegend": true,
         "type": "scatter",
         "x": [
          "studyo-ve-sahne-ekipmanlari"
         ],
         "xaxis": "x",
         "y": [
          18.627328416052006
         ],
         "yaxis": "y"
        },
        {
         "hovertemplate": "Category=%{x}<br>Price Increase Percentage=%{y}<extra></extra>",
         "legendgroup": "agda-urunleri-ve-makineleri",
         "marker": {
          "color": "#FF6692",
          "symbol": "circle"
         },
         "mode": "markers",
         "name": "agda-urunleri-ve-makineleri",
         "orientation": "v",
         "showlegend": true,
         "type": "scatter",
         "x": [
          "agda-urunleri-ve-makineleri"
         ],
         "xaxis": "x",
         "y": [
          18.181818181818183
         ],
         "yaxis": "y"
        },
        {
         "hovertemplate": "Category=%{x}<br>Price Increase Percentage=%{y}<extra></extra>",
         "legendgroup": "toka-tac-sac-bandi",
         "marker": {
          "color": "#B6E880",
          "symbol": "circle"
         },
         "mode": "markers",
         "name": "toka-tac-sac-bandi",
         "orientation": "v",
         "showlegend": true,
         "type": "scatter",
         "x": [
          "toka-tac-sac-bandi"
         ],
         "xaxis": "x",
         "y": [
          17.647058823529413
         ],
         "yaxis": "y"
        },
        {
         "hovertemplate": "Category=%{x}<br>Price Increase Percentage=%{y}<extra></extra>",
         "legendgroup": "vantilatorler",
         "marker": {
          "color": "#FF97FF",
          "symbol": "circle"
         },
         "mode": "markers",
         "name": "vantilatorler",
         "orientation": "v",
         "showlegend": true,
         "type": "scatter",
         "x": [
          "vantilatorler"
         ],
         "xaxis": "x",
         "y": [
          17.270712188939807
         ],
         "yaxis": "y"
        },
        {
         "hovertemplate": "Category=%{x}<br>Price Increase Percentage=%{y}<extra></extra>",
         "legendgroup": "kartuslar",
         "marker": {
          "color": "#FECB52",
          "symbol": "circle"
         },
         "mode": "markers",
         "name": "kartuslar",
         "orientation": "v",
         "showlegend": true,
         "type": "scatter",
         "x": [
          "kartuslar"
         ],
         "xaxis": "x",
         "y": [
          17.110266159695815
         ],
         "yaxis": "y"
        },
        {
         "hovertemplate": "Category=%{x}<br>Price Increase Percentage=%{y}<extra></extra>",
         "legendgroup": "defter",
         "marker": {
          "color": "#636efa",
          "symbol": "circle"
         },
         "mode": "markers",
         "name": "defter",
         "orientation": "v",
         "showlegend": true,
         "type": "scatter",
         "x": [
          "defter"
         ],
         "xaxis": "x",
         "y": [
          16.946167785950326
         ],
         "yaxis": "y"
        },
        {
         "hovertemplate": "Category=%{x}<br>Price Increase Percentage=%{y}<extra></extra>",
         "legendgroup": "baskul-tartilar",
         "marker": {
          "color": "#EF553B",
          "symbol": "circle"
         },
         "mode": "markers",
         "name": "baskul-tartilar",
         "orientation": "v",
         "showlegend": true,
         "type": "scatter",
         "x": [
          "baskul-tartilar"
         ],
         "xaxis": "x",
         "y": [
          16.790956069118256
         ],
         "yaxis": "y"
        },
        {
         "hovertemplate": "Category=%{x}<br>Price Increase Percentage=%{y}<extra></extra>",
         "legendgroup": "sehir-gezi-bisikletleri",
         "marker": {
          "color": "#00cc96",
          "symbol": "circle"
         },
         "mode": "markers",
         "name": "sehir-gezi-bisikletleri",
         "orientation": "v",
         "showlegend": true,
         "type": "scatter",
         "x": [
          "sehir-gezi-bisikletleri"
         ],
         "xaxis": "x",
         "y": [
          16.658085271575455
         ],
         "yaxis": "y"
        },
        {
         "hovertemplate": "Category=%{x}<br>Price Increase Percentage=%{y}<extra></extra>",
         "legendgroup": "mat",
         "marker": {
          "color": "#ab63fa",
          "symbol": "circle"
         },
         "mode": "markers",
         "name": "mat",
         "orientation": "v",
         "showlegend": true,
         "type": "scatter",
         "x": [
          "mat"
         ],
         "xaxis": "x",
         "y": [
          16.39344262295082
         ],
         "yaxis": "y"
        },
        {
         "hovertemplate": "Category=%{x}<br>Price Increase Percentage=%{y}<extra></extra>",
         "legendgroup": "ram",
         "marker": {
          "color": "#FFA15A",
          "symbol": "circle"
         },
         "mode": "markers",
         "name": "ram",
         "orientation": "v",
         "showlegend": true,
         "type": "scatter",
         "x": [
          "ram"
         ],
         "xaxis": "x",
         "y": [
          16.28099173553719
         ],
         "yaxis": "y"
        },
        {
         "hovertemplate": "Category=%{x}<br>Price Increase Percentage=%{y}<extra></extra>",
         "legendgroup": "sarjli-supurge",
         "marker": {
          "color": "#19d3f3",
          "symbol": "circle"
         },
         "mode": "markers",
         "name": "sarjli-supurge",
         "orientation": "v",
         "showlegend": true,
         "type": "scatter",
         "x": [
          "sarjli-supurge"
         ],
         "xaxis": "x",
         "y": [
          16.129032258064516
         ],
         "yaxis": "y"
        },
        {
         "hovertemplate": "Category=%{x}<br>Price Increase Percentage=%{y}<extra></extra>",
         "legendgroup": "tost-makinesi",
         "marker": {
          "color": "#FF6692",
          "symbol": "circle"
         },
         "mode": "markers",
         "name": "tost-makinesi",
         "orientation": "v",
         "showlegend": true,
         "type": "scatter",
         "x": [
          "tost-makinesi"
         ],
         "xaxis": "x",
         "y": [
          15.289145669501952
         ],
         "yaxis": "y"
        },
        {
         "hovertemplate": "Category=%{x}<br>Price Increase Percentage=%{y}<extra></extra>",
         "legendgroup": "anahtarlik",
         "marker": {
          "color": "#B6E880",
          "symbol": "circle"
         },
         "mode": "markers",
         "name": "anahtarlik",
         "orientation": "v",
         "showlegend": true,
         "type": "scatter",
         "x": [
          "anahtarlik"
         ],
         "xaxis": "x",
         "y": [
          15.09433962264151
         ],
         "yaxis": "y"
        },
        {
         "hovertemplate": "Category=%{x}<br>Price Increase Percentage=%{y}<extra></extra>",
         "legendgroup": "tenis-badminton",
         "marker": {
          "color": "#FF97FF",
          "symbol": "circle"
         },
         "mode": "markers",
         "name": "tenis-badminton",
         "orientation": "v",
         "showlegend": true,
         "type": "scatter",
         "x": [
          "tenis-badminton"
         ],
         "xaxis": "x",
         "y": [
          13.937282229965156
         ],
         "yaxis": "y"
        },
        {
         "hovertemplate": "Category=%{x}<br>Price Increase Percentage=%{y}<extra></extra>",
         "legendgroup": "kemanlar",
         "marker": {
          "color": "#FECB52",
          "symbol": "circle"
         },
         "mode": "markers",
         "name": "kemanlar",
         "orientation": "v",
         "showlegend": true,
         "type": "scatter",
         "x": [
          "kemanlar"
         ],
         "xaxis": "x",
         "y": [
          13.104477611940299
         ],
         "yaxis": "y"
        },
        {
         "hovertemplate": "Category=%{x}<br>Price Increase Percentage=%{y}<extra></extra>",
         "legendgroup": "bayan-sweatshirt",
         "marker": {
          "color": "#636efa",
          "symbol": "circle"
         },
         "mode": "markers",
         "name": "bayan-sweatshirt",
         "orientation": "v",
         "showlegend": true,
         "type": "scatter",
         "x": [
          "bayan-sweatshirt"
         ],
         "xaxis": "x",
         "y": [
          11.67964404894327
         ],
         "yaxis": "y"
        },
        {
         "hovertemplate": "Category=%{x}<br>Price Increase Percentage=%{y}<extra></extra>",
         "legendgroup": "masa-saati",
         "marker": {
          "color": "#EF553B",
          "symbol": "circle"
         },
         "mode": "markers",
         "name": "masa-saati",
         "orientation": "v",
         "showlegend": true,
         "type": "scatter",
         "x": [
          "masa-saati"
         ],
         "xaxis": "x",
         "y": [
          7.627118644067797
         ],
         "yaxis": "y"
        },
        {
         "hovertemplate": "Category=%{x}<br>Price Increase Percentage=%{y}<extra></extra>",
         "legendgroup": "unisex-bel-cantasi",
         "marker": {
          "color": "#00cc96",
          "symbol": "circle"
         },
         "mode": "markers",
         "name": "unisex-bel-cantasi",
         "orientation": "v",
         "showlegend": true,
         "type": "scatter",
         "x": [
          "unisex-bel-cantasi"
         ],
         "xaxis": "x",
         "y": [
          7.2727272727272725
         ],
         "yaxis": "y"
        },
        {
         "hovertemplate": "Category=%{x}<br>Price Increase Percentage=%{y}<extra></extra>",
         "legendgroup": "termos",
         "marker": {
          "color": "#ab63fa",
          "symbol": "circle"
         },
         "mode": "markers",
         "name": "termos",
         "orientation": "v",
         "showlegend": true,
         "type": "scatter",
         "x": [
          "termos"
         ],
         "xaxis": "x",
         "y": [
          7.207207207207207
         ],
         "yaxis": "y"
        },
        {
         "hovertemplate": "Category=%{x}<br>Price Increase Percentage=%{y}<extra></extra>",
         "legendgroup": "el-yuz-havlusu",
         "marker": {
          "color": "#FFA15A",
          "symbol": "circle"
         },
         "mode": "markers",
         "name": "el-yuz-havlusu",
         "orientation": "v",
         "showlegend": true,
         "type": "scatter",
         "x": [
          "el-yuz-havlusu"
         ],
         "xaxis": "x",
         "y": [
          2.5
         ],
         "yaxis": "y"
        },
        {
         "hovertemplate": "Category=%{x}<br>Price Increase Percentage=%{y}<extra></extra>",
         "legendgroup": "yorgan",
         "marker": {
          "color": "#19d3f3",
          "symbol": "circle"
         },
         "mode": "markers",
         "name": "yorgan",
         "orientation": "v",
         "showlegend": true,
         "type": "scatter",
         "x": [
          "yorgan"
         ],
         "xaxis": "x",
         "y": [
          0.6825938566552902
         ],
         "yaxis": "y"
        }
       ],
       "layout": {
        "legend": {
         "title": {
          "text": "Category"
         },
         "tracegroupgap": 0
        },
        "margin": {
         "t": 60
        },
        "template": {
         "data": {
          "bar": [
           {
            "error_x": {
             "color": "#2a3f5f"
            },
            "error_y": {
             "color": "#2a3f5f"
            },
            "marker": {
             "line": {
              "color": "#E5ECF6",
              "width": 0.5
             },
             "pattern": {
              "fillmode": "overlay",
              "size": 10,
              "solidity": 0.2
             }
            },
            "type": "bar"
           }
          ],
          "barpolar": [
           {
            "marker": {
             "line": {
              "color": "#E5ECF6",
              "width": 0.5
             },
             "pattern": {
              "fillmode": "overlay",
              "size": 10,
              "solidity": 0.2
             }
            },
            "type": "barpolar"
           }
          ],
          "carpet": [
           {
            "aaxis": {
             "endlinecolor": "#2a3f5f",
             "gridcolor": "white",
             "linecolor": "white",
             "minorgridcolor": "white",
             "startlinecolor": "#2a3f5f"
            },
            "baxis": {
             "endlinecolor": "#2a3f5f",
             "gridcolor": "white",
             "linecolor": "white",
             "minorgridcolor": "white",
             "startlinecolor": "#2a3f5f"
            },
            "type": "carpet"
           }
          ],
          "choropleth": [
           {
            "colorbar": {
             "outlinewidth": 0,
             "ticks": ""
            },
            "type": "choropleth"
           }
          ],
          "contour": [
           {
            "colorbar": {
             "outlinewidth": 0,
             "ticks": ""
            },
            "colorscale": [
             [
              0,
              "#0d0887"
             ],
             [
              0.1111111111111111,
              "#46039f"
             ],
             [
              0.2222222222222222,
              "#7201a8"
             ],
             [
              0.3333333333333333,
              "#9c179e"
             ],
             [
              0.4444444444444444,
              "#bd3786"
             ],
             [
              0.5555555555555556,
              "#d8576b"
             ],
             [
              0.6666666666666666,
              "#ed7953"
             ],
             [
              0.7777777777777778,
              "#fb9f3a"
             ],
             [
              0.8888888888888888,
              "#fdca26"
             ],
             [
              1,
              "#f0f921"
             ]
            ],
            "type": "contour"
           }
          ],
          "contourcarpet": [
           {
            "colorbar": {
             "outlinewidth": 0,
             "ticks": ""
            },
            "type": "contourcarpet"
           }
          ],
          "heatmap": [
           {
            "colorbar": {
             "outlinewidth": 0,
             "ticks": ""
            },
            "colorscale": [
             [
              0,
              "#0d0887"
             ],
             [
              0.1111111111111111,
              "#46039f"
             ],
             [
              0.2222222222222222,
              "#7201a8"
             ],
             [
              0.3333333333333333,
              "#9c179e"
             ],
             [
              0.4444444444444444,
              "#bd3786"
             ],
             [
              0.5555555555555556,
              "#d8576b"
             ],
             [
              0.6666666666666666,
              "#ed7953"
             ],
             [
              0.7777777777777778,
              "#fb9f3a"
             ],
             [
              0.8888888888888888,
              "#fdca26"
             ],
             [
              1,
              "#f0f921"
             ]
            ],
            "type": "heatmap"
           }
          ],
          "heatmapgl": [
           {
            "colorbar": {
             "outlinewidth": 0,
             "ticks": ""
            },
            "colorscale": [
             [
              0,
              "#0d0887"
             ],
             [
              0.1111111111111111,
              "#46039f"
             ],
             [
              0.2222222222222222,
              "#7201a8"
             ],
             [
              0.3333333333333333,
              "#9c179e"
             ],
             [
              0.4444444444444444,
              "#bd3786"
             ],
             [
              0.5555555555555556,
              "#d8576b"
             ],
             [
              0.6666666666666666,
              "#ed7953"
             ],
             [
              0.7777777777777778,
              "#fb9f3a"
             ],
             [
              0.8888888888888888,
              "#fdca26"
             ],
             [
              1,
              "#f0f921"
             ]
            ],
            "type": "heatmapgl"
           }
          ],
          "histogram": [
           {
            "marker": {
             "pattern": {
              "fillmode": "overlay",
              "size": 10,
              "solidity": 0.2
             }
            },
            "type": "histogram"
           }
          ],
          "histogram2d": [
           {
            "colorbar": {
             "outlinewidth": 0,
             "ticks": ""
            },
            "colorscale": [
             [
              0,
              "#0d0887"
             ],
             [
              0.1111111111111111,
              "#46039f"
             ],
             [
              0.2222222222222222,
              "#7201a8"
             ],
             [
              0.3333333333333333,
              "#9c179e"
             ],
             [
              0.4444444444444444,
              "#bd3786"
             ],
             [
              0.5555555555555556,
              "#d8576b"
             ],
             [
              0.6666666666666666,
              "#ed7953"
             ],
             [
              0.7777777777777778,
              "#fb9f3a"
             ],
             [
              0.8888888888888888,
              "#fdca26"
             ],
             [
              1,
              "#f0f921"
             ]
            ],
            "type": "histogram2d"
           }
          ],
          "histogram2dcontour": [
           {
            "colorbar": {
             "outlinewidth": 0,
             "ticks": ""
            },
            "colorscale": [
             [
              0,
              "#0d0887"
             ],
             [
              0.1111111111111111,
              "#46039f"
             ],
             [
              0.2222222222222222,
              "#7201a8"
             ],
             [
              0.3333333333333333,
              "#9c179e"
             ],
             [
              0.4444444444444444,
              "#bd3786"
             ],
             [
              0.5555555555555556,
              "#d8576b"
             ],
             [
              0.6666666666666666,
              "#ed7953"
             ],
             [
              0.7777777777777778,
              "#fb9f3a"
             ],
             [
              0.8888888888888888,
              "#fdca26"
             ],
             [
              1,
              "#f0f921"
             ]
            ],
            "type": "histogram2dcontour"
           }
          ],
          "mesh3d": [
           {
            "colorbar": {
             "outlinewidth": 0,
             "ticks": ""
            },
            "type": "mesh3d"
           }
          ],
          "parcoords": [
           {
            "line": {
             "colorbar": {
              "outlinewidth": 0,
              "ticks": ""
             }
            },
            "type": "parcoords"
           }
          ],
          "pie": [
           {
            "automargin": true,
            "type": "pie"
           }
          ],
          "scatter": [
           {
            "fillpattern": {
             "fillmode": "overlay",
             "size": 10,
             "solidity": 0.2
            },
            "type": "scatter"
           }
          ],
          "scatter3d": [
           {
            "line": {
             "colorbar": {
              "outlinewidth": 0,
              "ticks": ""
             }
            },
            "marker": {
             "colorbar": {
              "outlinewidth": 0,
              "ticks": ""
             }
            },
            "type": "scatter3d"
           }
          ],
          "scattercarpet": [
           {
            "marker": {
             "colorbar": {
              "outlinewidth": 0,
              "ticks": ""
             }
            },
            "type": "scattercarpet"
           }
          ],
          "scattergeo": [
           {
            "marker": {
             "colorbar": {
              "outlinewidth": 0,
              "ticks": ""
             }
            },
            "type": "scattergeo"
           }
          ],
          "scattergl": [
           {
            "marker": {
             "colorbar": {
              "outlinewidth": 0,
              "ticks": ""
             }
            },
            "type": "scattergl"
           }
          ],
          "scattermapbox": [
           {
            "marker": {
             "colorbar": {
              "outlinewidth": 0,
              "ticks": ""
             }
            },
            "type": "scattermapbox"
           }
          ],
          "scatterpolar": [
           {
            "marker": {
             "colorbar": {
              "outlinewidth": 0,
              "ticks": ""
             }
            },
            "type": "scatterpolar"
           }
          ],
          "scatterpolargl": [
           {
            "marker": {
             "colorbar": {
              "outlinewidth": 0,
              "ticks": ""
             }
            },
            "type": "scatterpolargl"
           }
          ],
          "scatterternary": [
           {
            "marker": {
             "colorbar": {
              "outlinewidth": 0,
              "ticks": ""
             }
            },
            "type": "scatterternary"
           }
          ],
          "surface": [
           {
            "colorbar": {
             "outlinewidth": 0,
             "ticks": ""
            },
            "colorscale": [
             [
              0,
              "#0d0887"
             ],
             [
              0.1111111111111111,
              "#46039f"
             ],
             [
              0.2222222222222222,
              "#7201a8"
             ],
             [
              0.3333333333333333,
              "#9c179e"
             ],
             [
              0.4444444444444444,
              "#bd3786"
             ],
             [
              0.5555555555555556,
              "#d8576b"
             ],
             [
              0.6666666666666666,
              "#ed7953"
             ],
             [
              0.7777777777777778,
              "#fb9f3a"
             ],
             [
              0.8888888888888888,
              "#fdca26"
             ],
             [
              1,
              "#f0f921"
             ]
            ],
            "type": "surface"
           }
          ],
          "table": [
           {
            "cells": {
             "fill": {
              "color": "#EBF0F8"
             },
             "line": {
              "color": "white"
             }
            },
            "header": {
             "fill": {
              "color": "#C8D4E3"
             },
             "line": {
              "color": "white"
             }
            },
            "type": "table"
           }
          ]
         },
         "layout": {
          "annotationdefaults": {
           "arrowcolor": "#2a3f5f",
           "arrowhead": 0,
           "arrowwidth": 1
          },
          "autotypenumbers": "strict",
          "coloraxis": {
           "colorbar": {
            "outlinewidth": 0,
            "ticks": ""
           }
          },
          "colorscale": {
           "diverging": [
            [
             0,
             "#8e0152"
            ],
            [
             0.1,
             "#c51b7d"
            ],
            [
             0.2,
             "#de77ae"
            ],
            [
             0.3,
             "#f1b6da"
            ],
            [
             0.4,
             "#fde0ef"
            ],
            [
             0.5,
             "#f7f7f7"
            ],
            [
             0.6,
             "#e6f5d0"
            ],
            [
             0.7,
             "#b8e186"
            ],
            [
             0.8,
             "#7fbc41"
            ],
            [
             0.9,
             "#4d9221"
            ],
            [
             1,
             "#276419"
            ]
           ],
           "sequential": [
            [
             0,
             "#0d0887"
            ],
            [
             0.1111111111111111,
             "#46039f"
            ],
            [
             0.2222222222222222,
             "#7201a8"
            ],
            [
             0.3333333333333333,
             "#9c179e"
            ],
            [
             0.4444444444444444,
             "#bd3786"
            ],
            [
             0.5555555555555556,
             "#d8576b"
            ],
            [
             0.6666666666666666,
             "#ed7953"
            ],
            [
             0.7777777777777778,
             "#fb9f3a"
            ],
            [
             0.8888888888888888,
             "#fdca26"
            ],
            [
             1,
             "#f0f921"
            ]
           ],
           "sequentialminus": [
            [
             0,
             "#0d0887"
            ],
            [
             0.1111111111111111,
             "#46039f"
            ],
            [
             0.2222222222222222,
             "#7201a8"
            ],
            [
             0.3333333333333333,
             "#9c179e"
            ],
            [
             0.4444444444444444,
             "#bd3786"
            ],
            [
             0.5555555555555556,
             "#d8576b"
            ],
            [
             0.6666666666666666,
             "#ed7953"
            ],
            [
             0.7777777777777778,
             "#fb9f3a"
            ],
            [
             0.8888888888888888,
             "#fdca26"
            ],
            [
             1,
             "#f0f921"
            ]
           ]
          },
          "colorway": [
           "#636efa",
           "#EF553B",
           "#00cc96",
           "#ab63fa",
           "#FFA15A",
           "#19d3f3",
           "#FF6692",
           "#B6E880",
           "#FF97FF",
           "#FECB52"
          ],
          "font": {
           "color": "#2a3f5f"
          },
          "geo": {
           "bgcolor": "white",
           "lakecolor": "white",
           "landcolor": "#E5ECF6",
           "showlakes": true,
           "showland": true,
           "subunitcolor": "white"
          },
          "hoverlabel": {
           "align": "left"
          },
          "hovermode": "closest",
          "mapbox": {
           "style": "light"
          },
          "paper_bgcolor": "white",
          "plot_bgcolor": "#E5ECF6",
          "polar": {
           "angularaxis": {
            "gridcolor": "white",
            "linecolor": "white",
            "ticks": ""
           },
           "bgcolor": "#E5ECF6",
           "radialaxis": {
            "gridcolor": "white",
            "linecolor": "white",
            "ticks": ""
           }
          },
          "scene": {
           "xaxis": {
            "backgroundcolor": "#E5ECF6",
            "gridcolor": "white",
            "gridwidth": 2,
            "linecolor": "white",
            "showbackground": true,
            "ticks": "",
            "zerolinecolor": "white"
           },
           "yaxis": {
            "backgroundcolor": "#E5ECF6",
            "gridcolor": "white",
            "gridwidth": 2,
            "linecolor": "white",
            "showbackground": true,
            "ticks": "",
            "zerolinecolor": "white"
           },
           "zaxis": {
            "backgroundcolor": "#E5ECF6",
            "gridcolor": "white",
            "gridwidth": 2,
            "linecolor": "white",
            "showbackground": true,
            "ticks": "",
            "zerolinecolor": "white"
           }
          },
          "shapedefaults": {
           "line": {
            "color": "#2a3f5f"
           }
          },
          "ternary": {
           "aaxis": {
            "gridcolor": "white",
            "linecolor": "white",
            "ticks": ""
           },
           "baxis": {
            "gridcolor": "white",
            "linecolor": "white",
            "ticks": ""
           },
           "bgcolor": "#E5ECF6",
           "caxis": {
            "gridcolor": "white",
            "linecolor": "white",
            "ticks": ""
           }
          },
          "title": {
           "x": 0.05
          },
          "xaxis": {
           "automargin": true,
           "gridcolor": "white",
           "linecolor": "white",
           "ticks": "",
           "title": {
            "standoff": 15
           },
           "zerolinecolor": "white",
           "zerolinewidth": 2
          },
          "yaxis": {
           "automargin": true,
           "gridcolor": "white",
           "linecolor": "white",
           "ticks": "",
           "title": {
            "standoff": 15
           },
           "zerolinecolor": "white",
           "zerolinewidth": 2
          }
         }
        },
        "xaxis": {
         "anchor": "y",
         "categoryarray": [
          "tonerler",
          "banyo-bakim-aksesuarlari",
          "not-defteri-bloknot",
          "turk-kahve-makinesi",
          "flash-bellekler",
          "dudak-bakimi-koruyucu",
          "mini-midi-firinlar",
          "kahvaltilik-gevrek",
          "bitkisel-besin-destekleri",
          "oyuncu-mouse",
          "dis-macunlari",
          "isiticilar",
          "mouse-pad",
          "yara-bandi",
          "ezme-krem-cikolata",
          "baskul",
          "anakart",
          "dizustu-bilgisayar-aksesuarlari",
          "kedi-mamasi",
          "yazi-tahtasi-kalemi",
          "klasik-gitarlar",
          "bluetooth-kulaklik",
          "oyuncu-klavyesi",
          "spiralli-defter",
          "mouse",
          "tavla",
          "bilgisayar-oyunlari",
          "calisma-koltugu",
          "kursun-kalem-ucu-min",
          "suluk-matara",
          "cay-makineleri",
          "erkek-cuzdan",
          "tencere-tava-setleri",
          "klavye",
          "oyuncu-kulakliklari",
          "fotograf-makinesi",
          "tirnak-makasi",
          "tiras-bicagi",
          "dermokozmetik-urunler",
          "bilgisayar-cevirici-ve-adaptoru",
          "tukenmez-kalem",
          "sicak-su-torbasi",
          "vazelin",
          "cep-telefonu-kalemi",
          "kulaklik",
          "oyun-kolu",
          "epilasyon-aleti",
          "yetiskinler-icin-oyunlar",
          "silgi",
          "gunes-kremi",
          "robot-supurge",
          "bulasik-makinesi-tableti",
          "buzdolabi",
          "bulasik-makineleri",
          "ezme-perle-kedi-mamasi",
          "cep-telefonlari",
          "bilgisayar-kasasi",
          "harita-kure",
          "termoslar",
          "buzdolaplari",
          "kettle",
          "kalemlik-kalem-kutusu",
          "tiras-makineleri",
          "xbox-series",
          "kamp-aksesuari",
          "dis-macunu",
          "nintendo-switch",
          "dizustu-bilgisayar",
          "fosforlu-kalem",
          "ocaklar",
          "tiras-makinesi",
          "mekanik-kursun-versatil-kalem",
          "alarmli-saatler-radyolar",
          "kutu-oyunu",
          "sampuan-ve-sac-kremi",
          "dis-fircalari",
          "tiras-bicagi-ve-yedekleri",
          "tasinabilir-sarj-cihazi-powerbank",
          "cep-telefonu",
          "bayan-cuzdan",
          "akim-korumali-priz",
          "suluk",
          "kopek-mamasi",
          "klavye-mouse",
          "makarna",
          "sanal-gerceklik-gozlugu",
          "tablet-pc",
          "tasinabilir-hard-diskler",
          "stor-perde",
          "ocak",
          "hijyenik-pedler-ve-tamponlar",
          "rimeller-maskaralar",
          "kadin-terlikleri-ve-sandaletleri",
          "satranc",
          "dijital-fotograf-makineleri",
          "sabunlar",
          "unisex-gunes-gozlukleri",
          "konsol-aksesuarlari",
          "camasir-askisi",
          "sprey-deodorantlar",
          "oje",
          "kedi-kumu",
          "dus-jelleri-ve-banyo-kopukleri",
          "kupa",
          "ps5",
          "ankastre-mikrodalga-firinlar",
          "tiras-jelleri-kopukleri-kremleri",
          "puzzle-aksesuarlari",
          "gunes-kremleri-ve-losyonlari",
          "tost-makineleri",
          "espresso-makinesi",
          "fon-perde",
          "oyuncu-mouse-pad",
          "cok-satan-kitaplar",
          "makyaj-temizleyicileri",
          "toplar",
          "mikrodalga-firinlar",
          "masa-lambasi",
          "erkek-t-shirt",
          "spor-ayakkabi",
          "waffle-makinesi",
          "tuvalet-kagidi",
          "oyuncu-koltugu",
          "kahve-makineleri",
          "playstation-4-ps4-oyunlari",
          "hesap-makinesi",
          "sirt-cantasi-outdoor",
          "kamp-sandalyesi",
          "su-isiticilari-kettle",
          "elektro-gitarlar",
          "laptop-notebook",
          "cep-telefonu-sarj-cihazi",
          "bluetooth-hoparlor",
          "sut",
          "oyun-konsollari",
          "tripodlar",
          "kilim",
          "kagit-havlu",
          "cakmak",
          "utuler",
          "mutfak-havlusu",
          "nevresim-takimi",
          "sac-kurutma-makineleri",
          "el-bakimi",
          "fritoz",
          "erkek-bakim-seti",
          "pratik-mutfak-gerecleri",
          "erkek-terlikleri-ve-sandaletleri",
          "direksiyon-seti",
          "akilli-saat",
          "matara",
          "monitor",
          "dus-banyo-perdesi",
          "cimbizlar",
          "cep-telefonu-kilifi",
          "studyo-ve-sahne-ekipmanlari",
          "agda-urunleri-ve-makineleri",
          "toka-tac-sac-bandi",
          "vantilatorler",
          "kartuslar",
          "defter",
          "baskul-tartilar",
          "sehir-gezi-bisikletleri",
          "mat",
          "ram",
          "sarjli-supurge",
          "tost-makinesi",
          "anahtarlik",
          "tenis-badminton",
          "kemanlar",
          "bayan-sweatshirt",
          "masa-saati",
          "unisex-bel-cantasi",
          "termos",
          "el-yuz-havlusu",
          "yorgan"
         ],
         "categoryorder": "array",
         "domain": [
          0,
          1
         ],
         "title": {
          "text": "Category"
         }
        },
        "yaxis": {
         "anchor": "x",
         "domain": [
          0,
          1
         ],
         "title": {
          "text": "Price Increase Percentage"
         }
        }
       }
      }
     },
     "metadata": {},
     "output_type": "display_data"
    }
   ],
   "source": [
    "# Do the same thing with interactive plot\n",
    "\n",
    "fig = px.scatter(avg_price_increase_by_category, x='Category', y='Price Increase Percentage', color='Category')\n",
    "fig.show()\n"
   ]
  },
  {
   "cell_type": "code",
   "execution_count": 71,
   "metadata": {},
   "outputs": [
    {
     "name": "stdout",
     "output_type": "stream",
     "text": [
      "Average Price Increase Percentage:  32.82201087548103\n",
      "Inflation:  32.82201087548102\n",
      "                                         Product Name Current Date   \n",
      "0   SteelSeries Rival 3 RGB Kablolu Optik Oyuncu M...   2023-06-10  \\\n",
      "1   SteelSeries Rival 5 RGB Kablolu Optik Oyuncu M...   2023-06-10   \n",
      "2   Pro Plan Sterilised Somonlu ve Ton Balıklı 10 ...   2023-06-10   \n",
      "3               Nutella 750 gr Kakaolu Fındık Kreması   2023-06-10   \n",
      "4   Royal Canin Sterilised 37 15 kg Kısırlaştırılm...   2023-06-10   \n",
      "5   N&D Ancestral Grain Düşük Tahıllı Medium & Max...   2023-06-10   \n",
      "6           Familia Plus 3 Katlı 32'li Tuvalet Kağıdı   2023-06-10   \n",
      "7                              Solo 12'li Kağıt Havlu   2023-06-10   \n",
      "8   Hawk Gaming Chair Fab V4 Siyah Kumaş Oyuncu Ko...   2023-06-10   \n",
      "9   Fairy Platinum Limon Bulaşık Makinesi Kapsülü ...   2023-06-10   \n",
      "10       Econature Kuzulu 15 kg Yetişkin Köpek Maması   2023-06-10   \n",
      "11                                   iPhone 13 128 GB   2023-06-10   \n",
      "12  Tunçmatik PowerSurge 1050 Joule 5'li 1.5 m Akı...   2023-06-10   \n",
      "14             Solo Akıllı Seçim 32'li Tuvalet Kağıdı   2023-06-10   \n",
      "16  Razer BlackWidow V3 Green Switch Kablolu Mekan...   2023-06-10   \n",
      "17                      iPhone 13 128 GB Yıldız Işığı   2023-06-10   \n",
      "18                   PS5 Digital Edition Oyun Konsolu   2023-06-10   \n",
      "19  Philips Airfryer XXL HD9870/20 Premium 7.3 lt ...   2023-06-10   \n",
      "20                   Roborock S7 Akıllı Robot Süpürge   2023-06-10   \n",
      "22       JBL Tune 510BT Kulak Üstü Bluetooth Kulaklık   2023-06-10   \n",
      "24                  iPhone 11 128 GB Aksesuarsız Kutu   2023-06-10   \n",
      "25               Xiaomi Redmi Note 11 Pro 128 GB 8 GB   2023-06-10   \n",
      "26                   iPhone 11 64 GB Aksesuarsız Kutu   2023-06-10   \n",
      "27              Xbox Series S 512 GB SSD Oyun Konsolu   2023-06-10   \n",
      "29              Sony DualSense Kablosuz PS5 Oyun Kolu   2023-06-10   \n",
      "31  Asus TUF Gaming VG247Q1A 23.8\" 1 ms Full HD Fr...   2023-06-10   \n",
      "32                     Xbox Series Kablosuz Oyun Kolu   2023-06-10   \n",
      "33               New Balance 530 Unisex Spor Ayakkabı   2023-06-10   \n",
      "34                  Xiaomi Redmi Note 11S 128 GB 8 GB   2023-06-10   \n",
      "35  Logitech G29 Driving Force + Shifter Direksiyo...   2023-06-10   \n",
      "\n",
      "    Current Price   Old Date  Old Price                  Category   \n",
      "0             600 2022-06-10        289                     mouse  \\\n",
      "1            1199 2022-06-10        629                     mouse   \n",
      "2            1619 2022-06-10        760               kedi-mamasi   \n",
      "3              95 2022-06-11         44        ezme-krem-cikolata   \n",
      "4            1775 2022-06-10        975               kedi-mamasi   \n",
      "5            1105 2022-06-10        692              kopek-mamasi   \n",
      "6             144 2022-06-10         94            tuvalet-kagidi   \n",
      "7              89 2022-06-10         69               kagit-havlu   \n",
      "8            3599 2022-06-10       2699            oyuncu-koltugu   \n",
      "9             254 2022-06-10        139  bulasik-makinesi-tableti   \n",
      "10            396 2022-06-10        259              kopek-mamasi   \n",
      "11          32498 2022-06-10      17999              cep-telefonu   \n",
      "12            212 2022-06-10        141        akim-korumali-priz   \n",
      "14            124 2022-06-10        105            tuvalet-kagidi   \n",
      "16           1947 2022-06-10       1235                    klavye   \n",
      "17          32999 2022-06-10      17799              cep-telefonu   \n",
      "18          16983 2022-06-10      12102                       ps5   \n",
      "19           7668 2022-08-15       7499                    fritoz   \n",
      "20          14299 2022-06-10       8779             robot-supurge   \n",
      "22           1099 2022-06-10        542        bluetooth-kulaklik   \n",
      "24          18399 2022-06-10      12699              cep-telefonu   \n",
      "25           8722 2022-06-10       6999              cep-telefonu   \n",
      "26          19299 2022-06-10      11599              cep-telefonu   \n",
      "27           8783 2022-06-10       5939               xbox-series   \n",
      "29           2229 2022-06-10       1091                 oyun-kolu   \n",
      "31           3599 2022-06-10       2649                   monitor   \n",
      "32           1682 2022-06-10       1195                 oyun-kolu   \n",
      "33           1999 2022-11-12       1234             spor-ayakkabi   \n",
      "34           7289 2022-06-10       6212              cep-telefonu   \n",
      "35          10999 2023-01-11       8799           direksiyon-seti   \n",
      "\n",
      "    Days Passed  Price Increase Percentage Price Increase Status  \n",
      "0           365                  51.833333   Extremely Increased  \n",
      "1           365                  47.539616      Highly Increased  \n",
      "2           365                  53.057443   Extremely Increased  \n",
      "3           364                  53.684211   Extremely Increased  \n",
      "4           365                  45.070423      Highly Increased  \n",
      "5           365                  37.375566      Highly Increased  \n",
      "6           365                  34.722222      Highly Increased  \n",
      "7           365                  22.471910             Increased  \n",
      "8           365                  25.006946             Increased  \n",
      "9           365                  45.275591      Highly Increased  \n",
      "10          365                  34.595960      Highly Increased  \n",
      "11          365                  44.615053      Highly Increased  \n",
      "12          365                  33.490566      Highly Increased  \n",
      "14          365                  15.322581             Increased  \n",
      "16          365                  36.569081      Highly Increased  \n",
      "17          365                  46.062002      Highly Increased  \n",
      "18          365                  28.740505             Increased  \n",
      "19          299                   2.203965                Stable  \n",
      "20          365                  38.604098      Highly Increased  \n",
      "22          365                  50.682439   Extremely Increased  \n",
      "24          365                  30.979945      Highly Increased  \n",
      "25          365                  19.754643             Increased  \n",
      "26          365                  39.898440      Highly Increased  \n",
      "27          365                  32.380736      Highly Increased  \n",
      "29          365                  51.054284   Extremely Increased  \n",
      "31          365                  26.396221             Increased  \n",
      "32          365                  28.953627             Increased  \n",
      "33          210                  38.269135      Highly Increased  \n",
      "34          365                  14.775689             Increased  \n",
      "35          150                  20.001818             Increased  \n"
     ]
    }
   ],
   "source": [
    "# Calculating the enflation according to the dataset that we have\n",
    "\n",
    "\n",
    "def inflationCalculator(df):\n",
    "    # Calculating the average price increase percentage\n",
    "    avgPriceIncreasePercentage = df['Price Increase Percentage'].mean()\n",
    "\n",
    "    print(\"Average Price Increase Percentage: \", avgPriceIncreasePercentage)\n",
    "    \n",
    "    # Calculating the inflation\n",
    "    inflation = avgPriceIncreasePercentage / 100 + 1  # 100 + 1 because the percentage is in the form of 1.05, 1.1, 1.15 etc.\n",
    "\n",
    "    inflationPercentage = (inflation - 1) * 100\n",
    "    \n",
    "    # Returning the inflation\n",
    "    return inflationPercentage\n",
    "\n",
    "print(\"Inflation: \", inflationCalculator(df))\n",
    "\n",
    "print(df.head(30))"
   ]
  }
 ],
 "metadata": {
  "kernelspec": {
   "display_name": "Python 3",
   "language": "python",
   "name": "python3"
  },
  "language_info": {
   "codemirror_mode": {
    "name": "ipython",
    "version": 3
   },
   "file_extension": ".py",
   "mimetype": "text/x-python",
   "name": "python",
   "nbconvert_exporter": "python",
   "pygments_lexer": "ipython3",
   "version": "3.10.4"
  },
  "orig_nbformat": 4
 },
 "nbformat": 4,
 "nbformat_minor": 2
}
