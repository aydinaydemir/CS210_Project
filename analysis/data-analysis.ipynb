{
 "cells": [
  {
   "cell_type": "code",
   "execution_count": 1,
   "metadata": {},
   "outputs": [],
   "source": [
    "# Neccesary import statements\n",
    "import pandas as pd\n",
    "import numpy as np\n",
    "import matplotlib.pyplot as plt\n",
    "import seaborn as sns\n",
    "\n",
    "import plotly.express as px\n",
    "import plotly.graph_objects as go\n"
   ]
  },
  {
   "cell_type": "code",
   "execution_count": 6,
   "metadata": {},
   "outputs": [
    {
     "data": {
      "text/html": [
       "<div>\n",
       "<style scoped>\n",
       "    .dataframe tbody tr th:only-of-type {\n",
       "        vertical-align: middle;\n",
       "    }\n",
       "\n",
       "    .dataframe tbody tr th {\n",
       "        vertical-align: top;\n",
       "    }\n",
       "\n",
       "    .dataframe thead th {\n",
       "        text-align: right;\n",
       "    }\n",
       "</style>\n",
       "<table border=\"1\" class=\"dataframe\">\n",
       "  <thead>\n",
       "    <tr style=\"text-align: right;\">\n",
       "      <th></th>\n",
       "      <th>Product Name</th>\n",
       "      <th>Current Date</th>\n",
       "      <th>Current Price</th>\n",
       "      <th>Old Date</th>\n",
       "      <th>Old Price</th>\n",
       "      <th>Category</th>\n",
       "    </tr>\n",
       "  </thead>\n",
       "  <tbody>\n",
       "    <tr>\n",
       "      <th>0</th>\n",
       "      <td>Apple iPhone 11 128GB Akıllı Cep Telefonu</td>\n",
       "      <td>22/05/2023</td>\n",
       "      <td>18029</td>\n",
       "      <td>22/05/2022</td>\n",
       "      <td>12699</td>\n",
       "      <td>cep-telefonlari</td>\n",
       "    </tr>\n",
       "    <tr>\n",
       "      <th>1</th>\n",
       "      <td>Sony Playstation 5 Oyun Konsolu</td>\n",
       "      <td>22/05/2023</td>\n",
       "      <td>14729</td>\n",
       "      <td>23/05/2022</td>\n",
       "      <td>13499</td>\n",
       "      <td>oyun-konsollari</td>\n",
       "    </tr>\n",
       "    <tr>\n",
       "      <th>2</th>\n",
       "      <td>Apple iPhone 12 5G 64GB 4GB Ram 6.1 inç 12MP A...</td>\n",
       "      <td>22/05/2023</td>\n",
       "      <td>24999</td>\n",
       "      <td>08/06/2022</td>\n",
       "      <td>19798</td>\n",
       "      <td>cep-telefonlari</td>\n",
       "    </tr>\n",
       "    <tr>\n",
       "      <th>3</th>\n",
       "      <td>Apple iPhone 13 Pro Max 5G 128GB 6GB Ram 6.7 i...</td>\n",
       "      <td>22/05/2023</td>\n",
       "      <td>46999</td>\n",
       "      <td>23/05/2022</td>\n",
       "      <td>27999</td>\n",
       "      <td>cep-telefonlari</td>\n",
       "    </tr>\n",
       "    <tr>\n",
       "      <th>4</th>\n",
       "      <td>Apple AirPods 2. Nesil MV7N2TU-A Bluetooth Kul...</td>\n",
       "      <td>22/05/2023</td>\n",
       "      <td>2689</td>\n",
       "      <td>23/05/2022</td>\n",
       "      <td>1851</td>\n",
       "      <td>bluetooth-kulaklik</td>\n",
       "    </tr>\n",
       "    <tr>\n",
       "      <th>5</th>\n",
       "      <td>Apple Airpods Pro MLWK3TU/A/ Bluetooth Kulaklık</td>\n",
       "      <td>22/05/2023</td>\n",
       "      <td>4745</td>\n",
       "      <td>07/06/2022</td>\n",
       "      <td>4499</td>\n",
       "      <td>bluetooth-kulaklik</td>\n",
       "    </tr>\n",
       "    <tr>\n",
       "      <th>6</th>\n",
       "      <td>JBL TUNE 500 Mavi Kulaklık</td>\n",
       "      <td>22/05/2023</td>\n",
       "      <td>791</td>\n",
       "      <td>23/05/2022</td>\n",
       "      <td>301</td>\n",
       "      <td>kulaklik</td>\n",
       "    </tr>\n",
       "    <tr>\n",
       "      <th>7</th>\n",
       "      <td>Starbucks Parıltılı Yeşil Renkli 473 ml Klasik...</td>\n",
       "      <td>22/05/2023</td>\n",
       "      <td>509</td>\n",
       "      <td>22/05/2022</td>\n",
       "      <td>510</td>\n",
       "      <td>termos</td>\n",
       "    </tr>\n",
       "    <tr>\n",
       "      <th>8</th>\n",
       "      <td>Arzum OK004 Okka Minio 480 W 4 Fincan Kapasite...</td>\n",
       "      <td>22/05/2023</td>\n",
       "      <td>749</td>\n",
       "      <td>23/05/2022</td>\n",
       "      <td>459</td>\n",
       "      <td>kahve-makineleri</td>\n",
       "    </tr>\n",
       "    <tr>\n",
       "      <th>9</th>\n",
       "      <td>Philips EP5447-90 1500 W 1800 ml 1 Fincan Kapa...</td>\n",
       "      <td>22/05/2023</td>\n",
       "      <td>13999</td>\n",
       "      <td>23/05/2022</td>\n",
       "      <td>9885</td>\n",
       "      <td>kahve-makineleri</td>\n",
       "    </tr>\n",
       "    <tr>\n",
       "      <th>10</th>\n",
       "      <td>Xiaomi Mi Smart Scale 2 Akıllı Baskül Tartı</td>\n",
       "      <td>22/05/2023</td>\n",
       "      <td>334</td>\n",
       "      <td>24/05/2022</td>\n",
       "      <td>283</td>\n",
       "      <td>baskul-tartilar</td>\n",
       "    </tr>\n",
       "    <tr>\n",
       "      <th>11</th>\n",
       "      <td>Thermoad Vizon Granit Döküm Tava Seti</td>\n",
       "      <td>22/05/2023</td>\n",
       "      <td>625</td>\n",
       "      <td>22/05/2022</td>\n",
       "      <td>399</td>\n",
       "      <td>tencere-tava-setleri</td>\n",
       "    </tr>\n",
       "    <tr>\n",
       "      <th>12</th>\n",
       "      <td>Stanley Klasik Neverleak 0.47 lt Bardak Termos</td>\n",
       "      <td>22/05/2023</td>\n",
       "      <td>525</td>\n",
       "      <td>25/05/2022</td>\n",
       "      <td>456</td>\n",
       "      <td>termos</td>\n",
       "    </tr>\n",
       "    <tr>\n",
       "      <th>13</th>\n",
       "      <td>Skechers 12615 Graceful-Get Connected Siyah Ka...</td>\n",
       "      <td>22/05/2023</td>\n",
       "      <td>1099</td>\n",
       "      <td>16/06/2022</td>\n",
       "      <td>1048</td>\n",
       "      <td>spor-ayakkabi</td>\n",
       "    </tr>\n",
       "    <tr>\n",
       "      <th>14</th>\n",
       "      <td>Adidas C77124 Superstar Unisex Spor Ayakkabı B...</td>\n",
       "      <td>22/05/2023</td>\n",
       "      <td>489</td>\n",
       "      <td>22/05/2022</td>\n",
       "      <td>349</td>\n",
       "      <td>spor-ayakkabi</td>\n",
       "    </tr>\n",
       "    <tr>\n",
       "      <th>15</th>\n",
       "      <td>Crocs Crocband Siyah Unisex Terlik</td>\n",
       "      <td>22/05/2023</td>\n",
       "      <td>299</td>\n",
       "      <td>25/05/2022</td>\n",
       "      <td>587</td>\n",
       "      <td>kadin-terlikleri-ve-sandaletleri</td>\n",
       "    </tr>\n",
       "    <tr>\n",
       "      <th>16</th>\n",
       "      <td>Crocs 11016-6MB Crocband Kadın Terlik</td>\n",
       "      <td>22/05/2023</td>\n",
       "      <td>629</td>\n",
       "      <td>23/05/2022</td>\n",
       "      <td>449</td>\n",
       "      <td>kadin-terlikleri-ve-sandaletleri</td>\n",
       "    </tr>\n",
       "    <tr>\n",
       "      <th>17</th>\n",
       "      <td>Apple Macbook Air MGN63TU-A M1 8GB Ram 256GB m...</td>\n",
       "      <td>22/05/2023</td>\n",
       "      <td>20899</td>\n",
       "      <td>23/05/2022</td>\n",
       "      <td>15084</td>\n",
       "      <td>dizustu-bilgisayar</td>\n",
       "    </tr>\n",
       "    <tr>\n",
       "      <th>18</th>\n",
       "      <td>Apple Macbook Pro MYD82TU-A M1 8GB Ram 256GB S...</td>\n",
       "      <td>22/05/2023</td>\n",
       "      <td>29860</td>\n",
       "      <td>07/06/2022</td>\n",
       "      <td>23029</td>\n",
       "      <td>dizustu-bilgisayar</td>\n",
       "    </tr>\n",
       "    <tr>\n",
       "      <th>19</th>\n",
       "      <td>Sensodyne Soft Diş Eti Bakımı Diş Fırçası</td>\n",
       "      <td>22/05/2023</td>\n",
       "      <td>24</td>\n",
       "      <td>07/06/2022</td>\n",
       "      <td>18</td>\n",
       "      <td>dis-fircalari</td>\n",
       "    </tr>\n",
       "    <tr>\n",
       "      <th>20</th>\n",
       "      <td>Colgate Max White 75 ml Diş Macunu</td>\n",
       "      <td>22/05/2023</td>\n",
       "      <td>27</td>\n",
       "      <td>27/05/2022</td>\n",
       "      <td>22</td>\n",
       "      <td>dis-macunlari</td>\n",
       "    </tr>\n",
       "    <tr>\n",
       "      <th>21</th>\n",
       "      <td>Kürk Mantolu Madonna - Sabahattin Ali</td>\n",
       "      <td>22/05/2023</td>\n",
       "      <td>5</td>\n",
       "      <td>23/05/2022</td>\n",
       "      <td>3</td>\n",
       "      <td>cok-satan-kitaplar</td>\n",
       "    </tr>\n",
       "    <tr>\n",
       "      <th>22</th>\n",
       "      <td>Head &amp; Shoulders Mentol Ferahlığı 2'si 1 Arada...</td>\n",
       "      <td>22/05/2023</td>\n",
       "      <td>75</td>\n",
       "      <td>23/05/2022</td>\n",
       "      <td>36</td>\n",
       "      <td>sampuan-ve-sac-kremi</td>\n",
       "    </tr>\n",
       "    <tr>\n",
       "      <th>23</th>\n",
       "      <td>Head &amp; Shoulders Men Ultra Old Spice 360 ml Şa...</td>\n",
       "      <td>22/05/2023</td>\n",
       "      <td>52</td>\n",
       "      <td>06/06/2022</td>\n",
       "      <td>59</td>\n",
       "      <td>sampuan-ve-sac-kremi</td>\n",
       "    </tr>\n",
       "    <tr>\n",
       "      <th>24</th>\n",
       "      <td>Pantene Miracles Bambu ve Biotin 275 ml Saç Ba...</td>\n",
       "      <td>22/05/2023</td>\n",
       "      <td>51</td>\n",
       "      <td>23/05/2022</td>\n",
       "      <td>57</td>\n",
       "      <td>sampuan-ve-sac-kremi</td>\n",
       "    </tr>\n",
       "    <tr>\n",
       "      <th>25</th>\n",
       "      <td>Dove 4x90 gr Cream Bar Original Güzellik Katı ...</td>\n",
       "      <td>22/05/2023</td>\n",
       "      <td>54</td>\n",
       "      <td>04/06/2022</td>\n",
       "      <td>42</td>\n",
       "      <td>sabunlar</td>\n",
       "    </tr>\n",
       "    <tr>\n",
       "      <th>26</th>\n",
       "      <td>Hacı Şakir Lavanta Dinlendirici Bakım 1500 ml ...</td>\n",
       "      <td>22/05/2023</td>\n",
       "      <td>65</td>\n",
       "      <td>23/05/2022</td>\n",
       "      <td>68</td>\n",
       "      <td>sabunlar</td>\n",
       "    </tr>\n",
       "    <tr>\n",
       "      <th>27</th>\n",
       "      <td>Dove Original 150 ml Kadın Deodorant</td>\n",
       "      <td>22/05/2023</td>\n",
       "      <td>59</td>\n",
       "      <td>06/06/2022</td>\n",
       "      <td>35</td>\n",
       "      <td>sprey-deodorantlar</td>\n",
       "    </tr>\n",
       "    <tr>\n",
       "      <th>28</th>\n",
       "      <td>Axe Black 150 ml Erkek Deodorant</td>\n",
       "      <td>22/05/2023</td>\n",
       "      <td>59</td>\n",
       "      <td>23/05/2022</td>\n",
       "      <td>32</td>\n",
       "      <td>sprey-deodorantlar</td>\n",
       "    </tr>\n",
       "    <tr>\n",
       "      <th>29</th>\n",
       "      <td>Adidas Siyah X Speedflow 1 Fg Erkek Çim Zemin ...</td>\n",
       "      <td>22/05/2023</td>\n",
       "      <td>4259</td>\n",
       "      <td>12/09/2022</td>\n",
       "      <td>4249</td>\n",
       "      <td>spor-ayakkabi</td>\n",
       "    </tr>\n",
       "    <tr>\n",
       "      <th>30</th>\n",
       "      <td>Adidas 656927 Tango Rosario Beyaz Futbol Topu</td>\n",
       "      <td>22/05/2023</td>\n",
       "      <td>389</td>\n",
       "      <td>23/05/2022</td>\n",
       "      <td>278</td>\n",
       "      <td>toplar</td>\n",
       "    </tr>\n",
       "    <tr>\n",
       "      <th>31</th>\n",
       "      <td>Nike Dominate Basketbol Topu</td>\n",
       "      <td>22/05/2023</td>\n",
       "      <td>449</td>\n",
       "      <td>02/06/2022</td>\n",
       "      <td>187</td>\n",
       "      <td>toplar</td>\n",
       "    </tr>\n",
       "    <tr>\n",
       "      <th>32</th>\n",
       "      <td>Mikasa V200W Voleybol Topu</td>\n",
       "      <td>22/05/2023</td>\n",
       "      <td>2195</td>\n",
       "      <td>04/06/2022</td>\n",
       "      <td>1780</td>\n",
       "      <td>toplar</td>\n",
       "    </tr>\n",
       "    <tr>\n",
       "      <th>33</th>\n",
       "      <td>Avessa VL400 Voleybol Topu</td>\n",
       "      <td>22/05/2023</td>\n",
       "      <td>234</td>\n",
       "      <td>15/06/2022</td>\n",
       "      <td>178</td>\n",
       "      <td>toplar</td>\n",
       "    </tr>\n",
       "    <tr>\n",
       "      <th>34</th>\n",
       "      <td>Meteksan A5 40 Yaprak Çizgili Defter</td>\n",
       "      <td>22/05/2023</td>\n",
       "      <td>10</td>\n",
       "      <td>15/06/2022</td>\n",
       "      <td>14</td>\n",
       "      <td>defter</td>\n",
       "    </tr>\n",
       "    <tr>\n",
       "      <th>35</th>\n",
       "      <td>Gıpta A4 Çizgili Chromo Pp Kapak 160 Yaprak Sp...</td>\n",
       "      <td>22/05/2023</td>\n",
       "      <td>73</td>\n",
       "      <td>23/05/2022</td>\n",
       "      <td>30</td>\n",
       "      <td>spiralli-defter</td>\n",
       "    </tr>\n",
       "    <tr>\n",
       "      <th>36</th>\n",
       "      <td>Keskin Color A4 80 Yaprak Spiralli Kareli Defter</td>\n",
       "      <td>22/05/2023</td>\n",
       "      <td>45</td>\n",
       "      <td>23/05/2022</td>\n",
       "      <td>27</td>\n",
       "      <td>spiralli-defter</td>\n",
       "    </tr>\n",
       "    <tr>\n",
       "      <th>37</th>\n",
       "      <td>Rotring Rapid 0.7 mm Siyah Versatil Kalem</td>\n",
       "      <td>22/05/2023</td>\n",
       "      <td>92</td>\n",
       "      <td>26/05/2022</td>\n",
       "      <td>77</td>\n",
       "      <td>mekanik-kursun-versatil-kalem</td>\n",
       "    </tr>\n",
       "    <tr>\n",
       "      <th>38</th>\n",
       "      <td>Faber Castell Grip 1347 0.7 mm Koyu Yeşil Vers...</td>\n",
       "      <td>22/05/2023</td>\n",
       "      <td>44</td>\n",
       "      <td>25/05/2022</td>\n",
       "      <td>61</td>\n",
       "      <td>mekanik-kursun-versatil-kalem</td>\n",
       "    </tr>\n",
       "    <tr>\n",
       "      <th>39</th>\n",
       "      <td>Faber Castell Grip 2011 0.7mm Mavi Versatil Kalem</td>\n",
       "      <td>22/05/2023</td>\n",
       "      <td>195</td>\n",
       "      <td>22/05/2022</td>\n",
       "      <td>75</td>\n",
       "      <td>mekanik-kursun-versatil-kalem</td>\n",
       "    </tr>\n",
       "    <tr>\n",
       "      <th>40</th>\n",
       "      <td>Faber-Castell Textliner 3+1 Fosforlu Kalem</td>\n",
       "      <td>22/05/2023</td>\n",
       "      <td>45</td>\n",
       "      <td>22/05/2022</td>\n",
       "      <td>45</td>\n",
       "      <td>fosforlu-kalem</td>\n",
       "    </tr>\n",
       "    <tr>\n",
       "      <th>41</th>\n",
       "      <td>Stabilo 70 116 Yeşil Boss Original Pastel Fosf...</td>\n",
       "      <td>22/05/2023</td>\n",
       "      <td>23</td>\n",
       "      <td>22/05/2022</td>\n",
       "      <td>14</td>\n",
       "      <td>fosforlu-kalem</td>\n",
       "    </tr>\n",
       "    <tr>\n",
       "      <th>42</th>\n",
       "      <td>Faber Castell 187170 Sınav Silgisi</td>\n",
       "      <td>22/05/2023</td>\n",
       "      <td>7</td>\n",
       "      <td>23/05/2022</td>\n",
       "      <td>4</td>\n",
       "      <td>silgi</td>\n",
       "    </tr>\n",
       "    <tr>\n",
       "      <th>43</th>\n",
       "      <td>Rotring 0.7 mm 2B Kurşun Kalem Ucu</td>\n",
       "      <td>22/05/2023</td>\n",
       "      <td>14</td>\n",
       "      <td>23/05/2022</td>\n",
       "      <td>8</td>\n",
       "      <td>kursun-kalem-ucu-min</td>\n",
       "    </tr>\n",
       "    <tr>\n",
       "      <th>44</th>\n",
       "      <td>Apple iPad Air 4 64GB Wi-Fi</td>\n",
       "      <td>22/05/2023</td>\n",
       "      <td>14999</td>\n",
       "      <td>23/05/2022</td>\n",
       "      <td>8469</td>\n",
       "      <td>tablet-pc</td>\n",
       "    </tr>\n",
       "    <tr>\n",
       "      <th>45</th>\n",
       "      <td>Apple iPad Pro 3. Nesil 256 GB</td>\n",
       "      <td>22/05/2023</td>\n",
       "      <td>21149</td>\n",
       "      <td>23/05/2022</td>\n",
       "      <td>15199</td>\n",
       "      <td>tablet-pc</td>\n",
       "    </tr>\n",
       "    <tr>\n",
       "      <th>46</th>\n",
       "      <td>Apple iPad Mini 6 256GB</td>\n",
       "      <td>22/05/2023</td>\n",
       "      <td>14799</td>\n",
       "      <td>07/06/2022</td>\n",
       "      <td>14500</td>\n",
       "      <td>tablet-pc</td>\n",
       "    </tr>\n",
       "    <tr>\n",
       "      <th>47</th>\n",
       "      <td>IKEA Tertial Beyaz 17 cm Çalışma Lambası</td>\n",
       "      <td>22/05/2023</td>\n",
       "      <td>519</td>\n",
       "      <td>28/05/2022</td>\n",
       "      <td>379</td>\n",
       "      <td>masa-lambasi</td>\n",
       "    </tr>\n",
       "    <tr>\n",
       "      <th>48</th>\n",
       "      <td>Özdilek Beyaz Su Yeşili 70x140 cm Pamuk Banyo ...</td>\n",
       "      <td>22/05/2023</td>\n",
       "      <td>98</td>\n",
       "      <td>10/06/2022</td>\n",
       "      <td>79</td>\n",
       "      <td>banyo-havlusu</td>\n",
       "    </tr>\n",
       "    <tr>\n",
       "      <th>49</th>\n",
       "      <td>Casio FX-82MS Hesap Makinesi</td>\n",
       "      <td>22/05/2023</td>\n",
       "      <td>189</td>\n",
       "      <td>28/05/2022</td>\n",
       "      <td>149</td>\n",
       "      <td>hesap-makinesi</td>\n",
       "    </tr>\n",
       "  </tbody>\n",
       "</table>\n",
       "</div>"
      ],
      "text/plain": [
       "                                         Product Name Current Date   \n",
       "0           Apple iPhone 11 128GB Akıllı Cep Telefonu   22/05/2023  \\\n",
       "1                     Sony Playstation 5 Oyun Konsolu   22/05/2023   \n",
       "2   Apple iPhone 12 5G 64GB 4GB Ram 6.1 inç 12MP A...   22/05/2023   \n",
       "3   Apple iPhone 13 Pro Max 5G 128GB 6GB Ram 6.7 i...   22/05/2023   \n",
       "4   Apple AirPods 2. Nesil MV7N2TU-A Bluetooth Kul...   22/05/2023   \n",
       "5     Apple Airpods Pro MLWK3TU/A/ Bluetooth Kulaklık   22/05/2023   \n",
       "6                          JBL TUNE 500 Mavi Kulaklık   22/05/2023   \n",
       "7   Starbucks Parıltılı Yeşil Renkli 473 ml Klasik...   22/05/2023   \n",
       "8   Arzum OK004 Okka Minio 480 W 4 Fincan Kapasite...   22/05/2023   \n",
       "9   Philips EP5447-90 1500 W 1800 ml 1 Fincan Kapa...   22/05/2023   \n",
       "10        Xiaomi Mi Smart Scale 2 Akıllı Baskül Tartı   22/05/2023   \n",
       "11              Thermoad Vizon Granit Döküm Tava Seti   22/05/2023   \n",
       "12     Stanley Klasik Neverleak 0.47 lt Bardak Termos   22/05/2023   \n",
       "13  Skechers 12615 Graceful-Get Connected Siyah Ka...   22/05/2023   \n",
       "14  Adidas C77124 Superstar Unisex Spor Ayakkabı B...   22/05/2023   \n",
       "15                 Crocs Crocband Siyah Unisex Terlik   22/05/2023   \n",
       "16              Crocs 11016-6MB Crocband Kadın Terlik   22/05/2023   \n",
       "17  Apple Macbook Air MGN63TU-A M1 8GB Ram 256GB m...   22/05/2023   \n",
       "18  Apple Macbook Pro MYD82TU-A M1 8GB Ram 256GB S...   22/05/2023   \n",
       "19          Sensodyne Soft Diş Eti Bakımı Diş Fırçası   22/05/2023   \n",
       "20                 Colgate Max White 75 ml Diş Macunu   22/05/2023   \n",
       "21              Kürk Mantolu Madonna - Sabahattin Ali   22/05/2023   \n",
       "22  Head & Shoulders Mentol Ferahlığı 2'si 1 Arada...   22/05/2023   \n",
       "23  Head & Shoulders Men Ultra Old Spice 360 ml Şa...   22/05/2023   \n",
       "24  Pantene Miracles Bambu ve Biotin 275 ml Saç Ba...   22/05/2023   \n",
       "25  Dove 4x90 gr Cream Bar Original Güzellik Katı ...   22/05/2023   \n",
       "26  Hacı Şakir Lavanta Dinlendirici Bakım 1500 ml ...   22/05/2023   \n",
       "27               Dove Original 150 ml Kadın Deodorant   22/05/2023   \n",
       "28                   Axe Black 150 ml Erkek Deodorant   22/05/2023   \n",
       "29  Adidas Siyah X Speedflow 1 Fg Erkek Çim Zemin ...   22/05/2023   \n",
       "30      Adidas 656927 Tango Rosario Beyaz Futbol Topu   22/05/2023   \n",
       "31                       Nike Dominate Basketbol Topu   22/05/2023   \n",
       "32                         Mikasa V200W Voleybol Topu   22/05/2023   \n",
       "33                         Avessa VL400 Voleybol Topu   22/05/2023   \n",
       "34               Meteksan A5 40 Yaprak Çizgili Defter   22/05/2023   \n",
       "35  Gıpta A4 Çizgili Chromo Pp Kapak 160 Yaprak Sp...   22/05/2023   \n",
       "36   Keskin Color A4 80 Yaprak Spiralli Kareli Defter   22/05/2023   \n",
       "37          Rotring Rapid 0.7 mm Siyah Versatil Kalem   22/05/2023   \n",
       "38  Faber Castell Grip 1347 0.7 mm Koyu Yeşil Vers...   22/05/2023   \n",
       "39  Faber Castell Grip 2011 0.7mm Mavi Versatil Kalem   22/05/2023   \n",
       "40         Faber-Castell Textliner 3+1 Fosforlu Kalem   22/05/2023   \n",
       "41  Stabilo 70 116 Yeşil Boss Original Pastel Fosf...   22/05/2023   \n",
       "42                 Faber Castell 187170 Sınav Silgisi   22/05/2023   \n",
       "43                 Rotring 0.7 mm 2B Kurşun Kalem Ucu   22/05/2023   \n",
       "44                        Apple iPad Air 4 64GB Wi-Fi   22/05/2023   \n",
       "45                     Apple iPad Pro 3. Nesil 256 GB   22/05/2023   \n",
       "46                            Apple iPad Mini 6 256GB   22/05/2023   \n",
       "47           IKEA Tertial Beyaz 17 cm Çalışma Lambası   22/05/2023   \n",
       "48  Özdilek Beyaz Su Yeşili 70x140 cm Pamuk Banyo ...   22/05/2023   \n",
       "49                       Casio FX-82MS Hesap Makinesi   22/05/2023   \n",
       "\n",
       "    Current Price    Old Date  Old Price                          Category  \n",
       "0           18029  22/05/2022      12699                   cep-telefonlari  \n",
       "1           14729  23/05/2022      13499                   oyun-konsollari  \n",
       "2           24999  08/06/2022      19798                   cep-telefonlari  \n",
       "3           46999  23/05/2022      27999                   cep-telefonlari  \n",
       "4            2689  23/05/2022       1851                bluetooth-kulaklik  \n",
       "5            4745  07/06/2022       4499                bluetooth-kulaklik  \n",
       "6             791  23/05/2022        301                          kulaklik  \n",
       "7             509  22/05/2022        510                            termos  \n",
       "8             749  23/05/2022        459                  kahve-makineleri  \n",
       "9           13999  23/05/2022       9885                  kahve-makineleri  \n",
       "10            334  24/05/2022        283                   baskul-tartilar  \n",
       "11            625  22/05/2022        399              tencere-tava-setleri  \n",
       "12            525  25/05/2022        456                            termos  \n",
       "13           1099  16/06/2022       1048                     spor-ayakkabi  \n",
       "14            489  22/05/2022        349                     spor-ayakkabi  \n",
       "15            299  25/05/2022        587  kadin-terlikleri-ve-sandaletleri  \n",
       "16            629  23/05/2022        449  kadin-terlikleri-ve-sandaletleri  \n",
       "17          20899  23/05/2022      15084                dizustu-bilgisayar  \n",
       "18          29860  07/06/2022      23029                dizustu-bilgisayar  \n",
       "19             24  07/06/2022         18                     dis-fircalari  \n",
       "20             27  27/05/2022         22                     dis-macunlari  \n",
       "21              5  23/05/2022          3                cok-satan-kitaplar  \n",
       "22             75  23/05/2022         36              sampuan-ve-sac-kremi  \n",
       "23             52  06/06/2022         59              sampuan-ve-sac-kremi  \n",
       "24             51  23/05/2022         57              sampuan-ve-sac-kremi  \n",
       "25             54  04/06/2022         42                          sabunlar  \n",
       "26             65  23/05/2022         68                          sabunlar  \n",
       "27             59  06/06/2022         35                sprey-deodorantlar  \n",
       "28             59  23/05/2022         32                sprey-deodorantlar  \n",
       "29           4259  12/09/2022       4249                     spor-ayakkabi  \n",
       "30            389  23/05/2022        278                            toplar  \n",
       "31            449  02/06/2022        187                            toplar  \n",
       "32           2195  04/06/2022       1780                            toplar  \n",
       "33            234  15/06/2022        178                            toplar  \n",
       "34             10  15/06/2022         14                            defter  \n",
       "35             73  23/05/2022         30                   spiralli-defter  \n",
       "36             45  23/05/2022         27                   spiralli-defter  \n",
       "37             92  26/05/2022         77     mekanik-kursun-versatil-kalem  \n",
       "38             44  25/05/2022         61     mekanik-kursun-versatil-kalem  \n",
       "39            195  22/05/2022         75     mekanik-kursun-versatil-kalem  \n",
       "40             45  22/05/2022         45                    fosforlu-kalem  \n",
       "41             23  22/05/2022         14                    fosforlu-kalem  \n",
       "42              7  23/05/2022          4                             silgi  \n",
       "43             14  23/05/2022          8              kursun-kalem-ucu-min  \n",
       "44          14999  23/05/2022       8469                         tablet-pc  \n",
       "45          21149  23/05/2022      15199                         tablet-pc  \n",
       "46          14799  07/06/2022      14500                         tablet-pc  \n",
       "47            519  28/05/2022        379                      masa-lambasi  \n",
       "48             98  10/06/2022         79                     banyo-havlusu  \n",
       "49            189  28/05/2022        149                    hesap-makinesi  "
      ]
     },
     "execution_count": 6,
     "metadata": {},
     "output_type": "execute_result"
    }
   ],
   "source": [
    "# Number of rows and columns to display\n",
    "file1Path = '../data/datasets/akakceProducts.csv'\n",
    "file2Path = '../data/datasets/cimriProducts.csv'\n",
    "\n",
    "df1 = pd.read_csv(file1Path)\n",
    "df2 = pd.read_csv(file2Path)\n",
    "\n",
    "##concat two dataframes with dropping the header row of the 2nd dataframe\n",
    "df = pd.concat([df1, df2], ignore_index=True)\n",
    "\n",
    "row , col = df.shape\n",
    "print(\"Number of rows: \", row)\n",
    "print(\"Number of columns: \", col)\n"
   ]
  },
  {
   "cell_type": "code",
   "execution_count": 32,
   "metadata": {},
   "outputs": [
    {
     "name": "stdout",
     "output_type": "stream",
     "text": [
      "<class 'pandas.core.frame.DataFrame'>\n",
      "RangeIndex: 53 entries, 0 to 52\n",
      "Data columns (total 6 columns):\n",
      " #   Column         Non-Null Count  Dtype \n",
      "---  ------         --------------  ----- \n",
      " 0   Product Name   53 non-null     object\n",
      " 1   Current Date   53 non-null     object\n",
      " 2   Current Price  53 non-null     int64 \n",
      " 3   Old Date       53 non-null     object\n",
      " 4   Old Price      53 non-null     int64 \n",
      " 5   Category       53 non-null     object\n",
      "dtypes: int64(2), object(4)\n",
      "memory usage: 2.6+ KB\n"
     ]
    }
   ],
   "source": [
    "# Showing the info of the dataframe\n",
    "df.info()"
   ]
  },
  {
   "cell_type": "code",
   "execution_count": 33,
   "metadata": {},
   "outputs": [
    {
     "data": {
      "text/plain": [
       "Product Name     0\n",
       "Current Date     0\n",
       "Current Price    0\n",
       "Old Date         0\n",
       "Old Price        0\n",
       "Category         0\n",
       "dtype: int64"
      ]
     },
     "execution_count": 33,
     "metadata": {},
     "output_type": "execute_result"
    }
   ],
   "source": [
    "# Checking the missing values if there is any\n",
    "df.isnull().sum()"
   ]
  },
  {
   "cell_type": "code",
   "execution_count": 34,
   "metadata": {},
   "outputs": [
    {
     "name": "stdout",
     "output_type": "stream",
     "text": [
      "Number of duplicated rows:  0\n"
     ]
    }
   ],
   "source": [
    "# Filtering the duplicated rows and printing the head of the dataframe\n",
    "\n",
    "duplicates = df.duplicated()\n",
    "numDuplicates = duplicates.sum()\n",
    "\n",
    "print(\"Number of duplicated rows: \", numDuplicates)"
   ]
  },
  {
   "cell_type": "code",
   "execution_count": 35,
   "metadata": {},
   "outputs": [
    {
     "name": "stdout",
     "output_type": "stream",
     "text": [
      "Number of rows after dropping the duplicated rows:  53\n",
      "Number of columns after dropping the duplicated rows:  6\n",
      "Number of rows dropped:  0\n"
     ]
    }
   ],
   "source": [
    "# Dropping the duplicated rows if there is any\n",
    "# Printing the number of rows and columns after dropping the duplicated rows\n",
    "\n",
    "wODuplicates = df[~duplicates]\n",
    "\n",
    "rowUpdated, col = wODuplicates.shape\n",
    "\n",
    "print(\"Number of rows after dropping the duplicated rows: \", rowUpdated)\n",
    "print(\"Number of columns after dropping the duplicated rows: \", col)\n",
    "print(\"Number of rows dropped: \", row - rowUpdated)"
   ]
  },
  {
   "cell_type": "code",
   "execution_count": 36,
   "metadata": {},
   "outputs": [
    {
     "name": "stdout",
     "output_type": "stream",
     "text": [
      "After double checking, number of duplicated rows:  0\n"
     ]
    }
   ],
   "source": [
    "# Double checking if there is any duplicated rows\n",
    "\n",
    "doubleCheckDf = wODuplicates.duplicated()\n",
    "numDoubleCheck = doubleCheckDf.sum()\n",
    "\n",
    "print(\"After double checking, number of duplicated rows: \", numDoubleCheck)"
   ]
  },
  {
   "cell_type": "code",
   "execution_count": 37,
   "metadata": {},
   "outputs": [
    {
     "name": "stderr",
     "output_type": "stream",
     "text": [
      "C:\\Users\\Aydın Aydemir\\AppData\\Local\\Temp\\ipykernel_5500\\1083357384.py:7: UserWarning:\n",
      "\n",
      "Parsing dates in %d/%m/%Y format when dayfirst=False (the default) was specified. Pass `dayfirst=True` or specify a format to silence this warning.\n",
      "\n",
      "C:\\Users\\Aydın Aydemir\\AppData\\Local\\Temp\\ipykernel_5500\\1083357384.py:8: UserWarning:\n",
      "\n",
      "Parsing dates in %d/%m/%Y format when dayfirst=False (the default) was specified. Pass `dayfirst=True` or specify a format to silence this warning.\n",
      "\n"
     ]
    }
   ],
   "source": [
    "# Converting the date columns to datetime format\n",
    "# Calculating the difference between the current date and the old date\n",
    "# Adding a new column to the dataframe which is the difference between the current date and the old date\n",
    "\n",
    "df = wODuplicates\n",
    "\n",
    "df['Current Date'] = pd.to_datetime(df['Current Date'])\n",
    "df['Old Date'] = pd.to_datetime(df['Old Date'])\n",
    "\n",
    "df['Days Passed'] = (df['Current Date'] - df['Old Date']).dt.days"
   ]
  },
  {
   "cell_type": "code",
   "execution_count": 38,
   "metadata": {},
   "outputs": [
    {
     "data": {
      "text/html": [
       "<div>\n",
       "<style scoped>\n",
       "    .dataframe tbody tr th:only-of-type {\n",
       "        vertical-align: middle;\n",
       "    }\n",
       "\n",
       "    .dataframe tbody tr th {\n",
       "        vertical-align: top;\n",
       "    }\n",
       "\n",
       "    .dataframe thead th {\n",
       "        text-align: right;\n",
       "    }\n",
       "</style>\n",
       "<table border=\"1\" class=\"dataframe\">\n",
       "  <thead>\n",
       "    <tr style=\"text-align: right;\">\n",
       "      <th></th>\n",
       "      <th>Product Name</th>\n",
       "      <th>Current Date</th>\n",
       "      <th>Current Price</th>\n",
       "      <th>Old Date</th>\n",
       "      <th>Old Price</th>\n",
       "      <th>Category</th>\n",
       "      <th>Days Passed</th>\n",
       "    </tr>\n",
       "  </thead>\n",
       "  <tbody>\n",
       "    <tr>\n",
       "      <th>0</th>\n",
       "      <td>Apple iPhone 11 128GB Akıllı Cep Telefonu</td>\n",
       "      <td>2023-05-22</td>\n",
       "      <td>18029</td>\n",
       "      <td>2022-05-22</td>\n",
       "      <td>12699</td>\n",
       "      <td>cep-telefonlari</td>\n",
       "      <td>365</td>\n",
       "    </tr>\n",
       "    <tr>\n",
       "      <th>1</th>\n",
       "      <td>Sony Playstation 5 Oyun Konsolu</td>\n",
       "      <td>2023-05-22</td>\n",
       "      <td>14729</td>\n",
       "      <td>2022-05-23</td>\n",
       "      <td>13499</td>\n",
       "      <td>oyun-konsollari</td>\n",
       "      <td>364</td>\n",
       "    </tr>\n",
       "    <tr>\n",
       "      <th>2</th>\n",
       "      <td>Apple iPhone 12 5G 64GB 4GB Ram 6.1 inç 12MP A...</td>\n",
       "      <td>2023-05-22</td>\n",
       "      <td>24999</td>\n",
       "      <td>2022-06-08</td>\n",
       "      <td>19798</td>\n",
       "      <td>cep-telefonlari</td>\n",
       "      <td>348</td>\n",
       "    </tr>\n",
       "    <tr>\n",
       "      <th>3</th>\n",
       "      <td>Apple iPhone 13 Pro Max 5G 128GB 6GB Ram 6.7 i...</td>\n",
       "      <td>2023-05-22</td>\n",
       "      <td>46999</td>\n",
       "      <td>2022-05-23</td>\n",
       "      <td>27999</td>\n",
       "      <td>cep-telefonlari</td>\n",
       "      <td>364</td>\n",
       "    </tr>\n",
       "    <tr>\n",
       "      <th>4</th>\n",
       "      <td>Apple AirPods 2. Nesil MV7N2TU-A Bluetooth Kul...</td>\n",
       "      <td>2023-05-22</td>\n",
       "      <td>2689</td>\n",
       "      <td>2022-05-23</td>\n",
       "      <td>1851</td>\n",
       "      <td>bluetooth-kulaklik</td>\n",
       "      <td>364</td>\n",
       "    </tr>\n",
       "  </tbody>\n",
       "</table>\n",
       "</div>"
      ],
      "text/plain": [
       "                                        Product Name Current Date   \n",
       "0          Apple iPhone 11 128GB Akıllı Cep Telefonu   2023-05-22  \\\n",
       "1                    Sony Playstation 5 Oyun Konsolu   2023-05-22   \n",
       "2  Apple iPhone 12 5G 64GB 4GB Ram 6.1 inç 12MP A...   2023-05-22   \n",
       "3  Apple iPhone 13 Pro Max 5G 128GB 6GB Ram 6.7 i...   2023-05-22   \n",
       "4  Apple AirPods 2. Nesil MV7N2TU-A Bluetooth Kul...   2023-05-22   \n",
       "\n",
       "   Current Price   Old Date  Old Price            Category  Days Passed  \n",
       "0          18029 2022-05-22      12699     cep-telefonlari          365  \n",
       "1          14729 2022-05-23      13499     oyun-konsollari          364  \n",
       "2          24999 2022-06-08      19798     cep-telefonlari          348  \n",
       "3          46999 2022-05-23      27999     cep-telefonlari          364  \n",
       "4           2689 2022-05-23       1851  bluetooth-kulaklik          364  "
      ]
     },
     "execution_count": 38,
     "metadata": {},
     "output_type": "execute_result"
    }
   ],
   "source": [
    "# After cleaning the dataset, Exploring the dataset\n",
    "\n",
    "df.head()"
   ]
  },
  {
   "cell_type": "code",
   "execution_count": 39,
   "metadata": {},
   "outputs": [
    {
     "data": {
      "text/html": [
       "<div>\n",
       "<style scoped>\n",
       "    .dataframe tbody tr th:only-of-type {\n",
       "        vertical-align: middle;\n",
       "    }\n",
       "\n",
       "    .dataframe tbody tr th {\n",
       "        vertical-align: top;\n",
       "    }\n",
       "\n",
       "    .dataframe thead th {\n",
       "        text-align: right;\n",
       "    }\n",
       "</style>\n",
       "<table border=\"1\" class=\"dataframe\">\n",
       "  <thead>\n",
       "    <tr style=\"text-align: right;\">\n",
       "      <th></th>\n",
       "      <th>Current Date</th>\n",
       "      <th>Current Price</th>\n",
       "      <th>Old Date</th>\n",
       "      <th>Old Price</th>\n",
       "      <th>Days Passed</th>\n",
       "    </tr>\n",
       "  </thead>\n",
       "  <tbody>\n",
       "    <tr>\n",
       "      <th>count</th>\n",
       "      <td>53</td>\n",
       "      <td>53.000000</td>\n",
       "      <td>53</td>\n",
       "      <td>53.000000</td>\n",
       "      <td>53.000000</td>\n",
       "    </tr>\n",
       "    <tr>\n",
       "      <th>mean</th>\n",
       "      <td>2023-05-22 00:00:00</td>\n",
       "      <td>4712.698113</td>\n",
       "      <td>2022-05-29 23:32:49.811320832</td>\n",
       "      <td>3496.792453</td>\n",
       "      <td>357.018868</td>\n",
       "    </tr>\n",
       "    <tr>\n",
       "      <th>min</th>\n",
       "      <td>2023-05-22 00:00:00</td>\n",
       "      <td>5.000000</td>\n",
       "      <td>2022-05-22 00:00:00</td>\n",
       "      <td>3.000000</td>\n",
       "      <td>252.000000</td>\n",
       "    </tr>\n",
       "    <tr>\n",
       "      <th>25%</th>\n",
       "      <td>2023-05-22 00:00:00</td>\n",
       "      <td>54.000000</td>\n",
       "      <td>2022-05-23 00:00:00</td>\n",
       "      <td>42.000000</td>\n",
       "      <td>352.000000</td>\n",
       "    </tr>\n",
       "    <tr>\n",
       "      <th>50%</th>\n",
       "      <td>2023-05-22 00:00:00</td>\n",
       "      <td>389.000000</td>\n",
       "      <td>2022-05-23 00:00:00</td>\n",
       "      <td>283.000000</td>\n",
       "      <td>364.000000</td>\n",
       "    </tr>\n",
       "    <tr>\n",
       "      <th>75%</th>\n",
       "      <td>2023-05-22 00:00:00</td>\n",
       "      <td>2689.000000</td>\n",
       "      <td>2022-06-04 00:00:00</td>\n",
       "      <td>1851.000000</td>\n",
       "      <td>364.000000</td>\n",
       "    </tr>\n",
       "    <tr>\n",
       "      <th>max</th>\n",
       "      <td>2023-05-22 00:00:00</td>\n",
       "      <td>46999.000000</td>\n",
       "      <td>2022-09-12 00:00:00</td>\n",
       "      <td>27999.000000</td>\n",
       "      <td>365.000000</td>\n",
       "    </tr>\n",
       "    <tr>\n",
       "      <th>std</th>\n",
       "      <td>NaN</td>\n",
       "      <td>9515.386026</td>\n",
       "      <td>NaN</td>\n",
       "      <td>6678.581958</td>\n",
       "      <td>16.510475</td>\n",
       "    </tr>\n",
       "  </tbody>\n",
       "</table>\n",
       "</div>"
      ],
      "text/plain": [
       "              Current Date  Current Price                       Old Date   \n",
       "count                   53      53.000000                             53  \\\n",
       "mean   2023-05-22 00:00:00    4712.698113  2022-05-29 23:32:49.811320832   \n",
       "min    2023-05-22 00:00:00       5.000000            2022-05-22 00:00:00   \n",
       "25%    2023-05-22 00:00:00      54.000000            2022-05-23 00:00:00   \n",
       "50%    2023-05-22 00:00:00     389.000000            2022-05-23 00:00:00   \n",
       "75%    2023-05-22 00:00:00    2689.000000            2022-06-04 00:00:00   \n",
       "max    2023-05-22 00:00:00   46999.000000            2022-09-12 00:00:00   \n",
       "std                    NaN    9515.386026                            NaN   \n",
       "\n",
       "          Old Price  Days Passed  \n",
       "count     53.000000    53.000000  \n",
       "mean    3496.792453   357.018868  \n",
       "min        3.000000   252.000000  \n",
       "25%       42.000000   352.000000  \n",
       "50%      283.000000   364.000000  \n",
       "75%     1851.000000   364.000000  \n",
       "max    27999.000000   365.000000  \n",
       "std     6678.581958    16.510475  "
      ]
     },
     "execution_count": 39,
     "metadata": {},
     "output_type": "execute_result"
    }
   ],
   "source": [
    "# Showing the statistical information of the dataset\n",
    "\n",
    "df.describe()"
   ]
  },
  {
   "cell_type": "code",
   "execution_count": 40,
   "metadata": {},
   "outputs": [
    {
     "data": {
      "text/html": [
       "<div>\n",
       "<style scoped>\n",
       "    .dataframe tbody tr th:only-of-type {\n",
       "        vertical-align: middle;\n",
       "    }\n",
       "\n",
       "    .dataframe tbody tr th {\n",
       "        vertical-align: top;\n",
       "    }\n",
       "\n",
       "    .dataframe thead th {\n",
       "        text-align: right;\n",
       "    }\n",
       "</style>\n",
       "<table border=\"1\" class=\"dataframe\">\n",
       "  <thead>\n",
       "    <tr style=\"text-align: right;\">\n",
       "      <th></th>\n",
       "      <th>Current Date</th>\n",
       "      <th>Current Price</th>\n",
       "      <th>Old Date</th>\n",
       "      <th>Old Price</th>\n",
       "      <th>Days Passed</th>\n",
       "      <th>Price Increase Percentage</th>\n",
       "    </tr>\n",
       "  </thead>\n",
       "  <tbody>\n",
       "    <tr>\n",
       "      <th>count</th>\n",
       "      <td>53</td>\n",
       "      <td>53.000000</td>\n",
       "      <td>53</td>\n",
       "      <td>53.000000</td>\n",
       "      <td>53.000000</td>\n",
       "      <td>53.000000</td>\n",
       "    </tr>\n",
       "    <tr>\n",
       "      <th>mean</th>\n",
       "      <td>2023-05-22 00:00:00</td>\n",
       "      <td>4712.698113</td>\n",
       "      <td>2022-05-29 23:32:49.811320832</td>\n",
       "      <td>3496.792453</td>\n",
       "      <td>357.018868</td>\n",
       "      <td>21.343445</td>\n",
       "    </tr>\n",
       "    <tr>\n",
       "      <th>min</th>\n",
       "      <td>2023-05-22 00:00:00</td>\n",
       "      <td>5.000000</td>\n",
       "      <td>2022-05-22 00:00:00</td>\n",
       "      <td>3.000000</td>\n",
       "      <td>252.000000</td>\n",
       "      <td>-96.321070</td>\n",
       "    </tr>\n",
       "    <tr>\n",
       "      <th>25%</th>\n",
       "      <td>2023-05-22 00:00:00</td>\n",
       "      <td>54.000000</td>\n",
       "      <td>2022-05-23 00:00:00</td>\n",
       "      <td>42.000000</td>\n",
       "      <td>352.000000</td>\n",
       "      <td>8.350872</td>\n",
       "    </tr>\n",
       "    <tr>\n",
       "      <th>50%</th>\n",
       "      <td>2023-05-22 00:00:00</td>\n",
       "      <td>389.000000</td>\n",
       "      <td>2022-05-23 00:00:00</td>\n",
       "      <td>283.000000</td>\n",
       "      <td>364.000000</td>\n",
       "      <td>25.000000</td>\n",
       "    </tr>\n",
       "    <tr>\n",
       "      <th>75%</th>\n",
       "      <td>2023-05-22 00:00:00</td>\n",
       "      <td>2689.000000</td>\n",
       "      <td>2022-06-04 00:00:00</td>\n",
       "      <td>1851.000000</td>\n",
       "      <td>364.000000</td>\n",
       "      <td>40.000000</td>\n",
       "    </tr>\n",
       "    <tr>\n",
       "      <th>max</th>\n",
       "      <td>2023-05-22 00:00:00</td>\n",
       "      <td>46999.000000</td>\n",
       "      <td>2022-09-12 00:00:00</td>\n",
       "      <td>27999.000000</td>\n",
       "      <td>365.000000</td>\n",
       "      <td>61.946903</td>\n",
       "    </tr>\n",
       "    <tr>\n",
       "      <th>std</th>\n",
       "      <td>NaN</td>\n",
       "      <td>9515.386026</td>\n",
       "      <td>NaN</td>\n",
       "      <td>6678.581958</td>\n",
       "      <td>16.510475</td>\n",
       "      <td>27.626289</td>\n",
       "    </tr>\n",
       "  </tbody>\n",
       "</table>\n",
       "</div>"
      ],
      "text/plain": [
       "              Current Date  Current Price                       Old Date   \n",
       "count                   53      53.000000                             53  \\\n",
       "mean   2023-05-22 00:00:00    4712.698113  2022-05-29 23:32:49.811320832   \n",
       "min    2023-05-22 00:00:00       5.000000            2022-05-22 00:00:00   \n",
       "25%    2023-05-22 00:00:00      54.000000            2022-05-23 00:00:00   \n",
       "50%    2023-05-22 00:00:00     389.000000            2022-05-23 00:00:00   \n",
       "75%    2023-05-22 00:00:00    2689.000000            2022-06-04 00:00:00   \n",
       "max    2023-05-22 00:00:00   46999.000000            2022-09-12 00:00:00   \n",
       "std                    NaN    9515.386026                            NaN   \n",
       "\n",
       "          Old Price  Days Passed  Price Increase Percentage  \n",
       "count     53.000000    53.000000                  53.000000  \n",
       "mean    3496.792453   357.018868                  21.343445  \n",
       "min        3.000000   252.000000                 -96.321070  \n",
       "25%       42.000000   352.000000                   8.350872  \n",
       "50%      283.000000   364.000000                  25.000000  \n",
       "75%     1851.000000   364.000000                  40.000000  \n",
       "max    27999.000000   365.000000                  61.946903  \n",
       "std     6678.581958    16.510475                  27.626289  "
      ]
     },
     "execution_count": 40,
     "metadata": {},
     "output_type": "execute_result"
    }
   ],
   "source": [
    "# Creating a new column named \"Price Increase Rate\" and calculating the price increase rate\n",
    "# AND\n",
    "# Showing the statistical information of the dataset\n",
    "\n",
    "df['Price Increase Percentage'] = (df['Current Price'] - df['Old Price']) / df['Current Price'] * 100\n",
    "\n",
    "df.describe()"
   ]
  },
  {
   "cell_type": "code",
   "execution_count": 41,
   "metadata": {},
   "outputs": [
    {
     "data": {
      "text/html": [
       "<div>\n",
       "<style scoped>\n",
       "    .dataframe tbody tr th:only-of-type {\n",
       "        vertical-align: middle;\n",
       "    }\n",
       "\n",
       "    .dataframe tbody tr th {\n",
       "        vertical-align: top;\n",
       "    }\n",
       "\n",
       "    .dataframe thead th {\n",
       "        text-align: right;\n",
       "    }\n",
       "</style>\n",
       "<table border=\"1\" class=\"dataframe\">\n",
       "  <thead>\n",
       "    <tr style=\"text-align: right;\">\n",
       "      <th></th>\n",
       "      <th>Product Name</th>\n",
       "      <th>Current Date</th>\n",
       "      <th>Current Price</th>\n",
       "      <th>Old Date</th>\n",
       "      <th>Old Price</th>\n",
       "      <th>Category</th>\n",
       "      <th>Days Passed</th>\n",
       "      <th>Price Increase Percentage</th>\n",
       "    </tr>\n",
       "  </thead>\n",
       "  <tbody>\n",
       "    <tr>\n",
       "      <th>3</th>\n",
       "      <td>Apple iPhone 13 Pro Max 5G 128GB 6GB Ram 6.7 i...</td>\n",
       "      <td>2023-05-22</td>\n",
       "      <td>46999</td>\n",
       "      <td>2022-05-23</td>\n",
       "      <td>27999</td>\n",
       "      <td>cep-telefonlari</td>\n",
       "      <td>364</td>\n",
       "      <td>40.426392</td>\n",
       "    </tr>\n",
       "    <tr>\n",
       "      <th>18</th>\n",
       "      <td>Apple Macbook Pro MYD82TU-A M1 8GB Ram 256GB S...</td>\n",
       "      <td>2023-05-22</td>\n",
       "      <td>29860</td>\n",
       "      <td>2022-06-07</td>\n",
       "      <td>23029</td>\n",
       "      <td>dizustu-bilgisayar</td>\n",
       "      <td>349</td>\n",
       "      <td>22.876758</td>\n",
       "    </tr>\n",
       "    <tr>\n",
       "      <th>2</th>\n",
       "      <td>Apple iPhone 12 5G 64GB 4GB Ram 6.1 inç 12MP A...</td>\n",
       "      <td>2023-05-22</td>\n",
       "      <td>24999</td>\n",
       "      <td>2022-06-08</td>\n",
       "      <td>19798</td>\n",
       "      <td>cep-telefonlari</td>\n",
       "      <td>348</td>\n",
       "      <td>20.804832</td>\n",
       "    </tr>\n",
       "  </tbody>\n",
       "</table>\n",
       "</div>"
      ],
      "text/plain": [
       "                                         Product Name Current Date   \n",
       "3   Apple iPhone 13 Pro Max 5G 128GB 6GB Ram 6.7 i...   2023-05-22  \\\n",
       "18  Apple Macbook Pro MYD82TU-A M1 8GB Ram 256GB S...   2023-05-22   \n",
       "2   Apple iPhone 12 5G 64GB 4GB Ram 6.1 inç 12MP A...   2023-05-22   \n",
       "\n",
       "    Current Price   Old Date  Old Price            Category  Days Passed   \n",
       "3           46999 2022-05-23      27999     cep-telefonlari          364  \\\n",
       "18          29860 2022-06-07      23029  dizustu-bilgisayar          349   \n",
       "2           24999 2022-06-08      19798     cep-telefonlari          348   \n",
       "\n",
       "    Price Increase Percentage  \n",
       "3                   40.426392  \n",
       "18                  22.876758  \n",
       "2                   20.804832  "
      ]
     },
     "execution_count": 41,
     "metadata": {},
     "output_type": "execute_result"
    }
   ],
   "source": [
    "# Creating a new dataframe named \"df2\"\n",
    "# It will be sorted version of the \"df\" dataframe\n",
    "# Sorting according to the \"Current Price\" column (descending order)\n",
    "# Showing 3 products with the highest current price\n",
    "\n",
    "df2 = df.sort_values(by=['Current Price'], ascending=False)\n",
    "\n",
    "df2.head(3)"
   ]
  },
  {
   "cell_type": "code",
   "execution_count": 42,
   "metadata": {},
   "outputs": [
    {
     "data": {
      "text/html": [
       "<div>\n",
       "<style scoped>\n",
       "    .dataframe tbody tr th:only-of-type {\n",
       "        vertical-align: middle;\n",
       "    }\n",
       "\n",
       "    .dataframe tbody tr th {\n",
       "        vertical-align: top;\n",
       "    }\n",
       "\n",
       "    .dataframe thead th {\n",
       "        text-align: right;\n",
       "    }\n",
       "</style>\n",
       "<table border=\"1\" class=\"dataframe\">\n",
       "  <thead>\n",
       "    <tr style=\"text-align: right;\">\n",
       "      <th></th>\n",
       "      <th>Product Name</th>\n",
       "      <th>Current Date</th>\n",
       "      <th>Current Price</th>\n",
       "      <th>Old Date</th>\n",
       "      <th>Old Price</th>\n",
       "      <th>Category</th>\n",
       "      <th>Days Passed</th>\n",
       "      <th>Price Increase Percentage</th>\n",
       "    </tr>\n",
       "  </thead>\n",
       "  <tbody>\n",
       "    <tr>\n",
       "      <th>6</th>\n",
       "      <td>JBL TUNE 500 Mavi Kulaklık</td>\n",
       "      <td>2023-05-22</td>\n",
       "      <td>791</td>\n",
       "      <td>2022-05-23</td>\n",
       "      <td>301</td>\n",
       "      <td>kulaklik</td>\n",
       "      <td>364</td>\n",
       "      <td>61.946903</td>\n",
       "    </tr>\n",
       "    <tr>\n",
       "      <th>39</th>\n",
       "      <td>Faber Castell Grip 2011 0.7mm Mavi Versatil Kalem</td>\n",
       "      <td>2023-05-22</td>\n",
       "      <td>195</td>\n",
       "      <td>2022-05-22</td>\n",
       "      <td>75</td>\n",
       "      <td>mekanik-kursun-versatil-kalem</td>\n",
       "      <td>365</td>\n",
       "      <td>61.538462</td>\n",
       "    </tr>\n",
       "    <tr>\n",
       "      <th>35</th>\n",
       "      <td>Gıpta A4 Çizgili Chromo Pp Kapak 160 Yaprak Sp...</td>\n",
       "      <td>2023-05-22</td>\n",
       "      <td>73</td>\n",
       "      <td>2022-05-23</td>\n",
       "      <td>30</td>\n",
       "      <td>spiralli-defter</td>\n",
       "      <td>364</td>\n",
       "      <td>58.904110</td>\n",
       "    </tr>\n",
       "  </tbody>\n",
       "</table>\n",
       "</div>"
      ],
      "text/plain": [
       "                                         Product Name Current Date   \n",
       "6                          JBL TUNE 500 Mavi Kulaklık   2023-05-22  \\\n",
       "39  Faber Castell Grip 2011 0.7mm Mavi Versatil Kalem   2023-05-22   \n",
       "35  Gıpta A4 Çizgili Chromo Pp Kapak 160 Yaprak Sp...   2023-05-22   \n",
       "\n",
       "    Current Price   Old Date  Old Price                       Category   \n",
       "6             791 2022-05-23        301                       kulaklik  \\\n",
       "39            195 2022-05-22         75  mekanik-kursun-versatil-kalem   \n",
       "35             73 2022-05-23         30                spiralli-defter   \n",
       "\n",
       "    Days Passed  Price Increase Percentage  \n",
       "6           364                  61.946903  \n",
       "39          365                  61.538462  \n",
       "35          364                  58.904110  "
      ]
     },
     "execution_count": 42,
     "metadata": {},
     "output_type": "execute_result"
    }
   ],
   "source": [
    "# Creating a new dataframe named \"df3\"\n",
    "# It will be sorted version of the \"df\" dataframe\n",
    "# Sorting according to the \"Price Increase Percentage\" column (descending order)\n",
    "# Showing 3 products with the highest price increase percentage\n",
    "\n",
    "df3 = df.sort_values(by=['Price Increase Percentage'], ascending=False)\n",
    "\n",
    "df3.head(3)\n"
   ]
  },
  {
   "cell_type": "code",
   "execution_count": 43,
   "metadata": {},
   "outputs": [
    {
     "data": {
      "image/png": "[encoded data removed]",
      "text/plain": [
       "<Figure size 640x480 with 1 Axes>"
      ]
     },
     "metadata": {},
     "output_type": "display_data"
    }
   ],
   "source": [
    "# Creating a histogram for the \"Current Price\" column with bins=25\n",
    "\n",
    "plt.hist(df['Current Price'], bins=25)\n",
    "plt.title(\"Current Price Histogram\")\n",
    "plt.xlabel(\"Current Price\")\n",
    "plt.ylabel(\"Frequency\")\n",
    "tick_positions = np.linspace(df['Current Price'].min(), df['Current Price'].max(), 10)\n",
    "plt.xticks(rotation=45)\n",
    "plt.xticks(tick_positions)\n",
    "\n",
    "plt.show()"
   ]
  },
  {
   "cell_type": "code",
   "execution_count": 44,
   "metadata": {},
   "outputs": [
    {
     "name": "stdout",
     "output_type": "stream",
     "text": [
      "count       53.000000\n",
      "mean      4712.698113\n",
      "std       9515.386026\n",
      "min          5.000000\n",
      "25%         54.000000\n",
      "50%        389.000000\n",
      "75%       2689.000000\n",
      "max      46999.000000\n",
      "Name: Current Price, dtype: float64\n"
     ]
    }
   ],
   "source": [
    "# Showing the statistical information of the \"Current Price\" column\n",
    "print(df['Current Price'].describe())"
   ]
  },
  {
   "cell_type": "code",
   "execution_count": 45,
   "metadata": {},
   "outputs": [
    {
     "data": {
      "image/png": "[encoded data removed]",
      "text/plain": [
       "<Figure size 640x480 with 1 Axes>"
      ]
     },
     "metadata": {},
     "output_type": "display_data"
    }
   ],
   "source": [
    "# Creating a histogram for the \"Old Price\" column with bins=25\n",
    "\n",
    "plt.hist(df['Old Price'], bins=25)\n",
    "plt.title(\"Current Price Histogram\")\n",
    "plt.xlabel(\"Current Price\")\n",
    "plt.ylabel(\"Frequency\")\n",
    "tick_positions = np.linspace(df['Old Price'].min(), df['Old Price'].max(), 10)\n",
    "plt.xticks(rotation=45)\n",
    "plt.xticks(tick_positions)\n",
    "\n",
    "plt.show()"
   ]
  },
  {
   "cell_type": "code",
   "execution_count": 46,
   "metadata": {},
   "outputs": [
    {
     "name": "stdout",
     "output_type": "stream",
     "text": [
      "count       53.000000\n",
      "mean      3496.792453\n",
      "std       6678.581958\n",
      "min          3.000000\n",
      "25%         42.000000\n",
      "50%        283.000000\n",
      "75%       1851.000000\n",
      "max      27999.000000\n",
      "Name: Old Price, dtype: float64\n"
     ]
    }
   ],
   "source": [
    "# Showing the statistical information of the \"Old Price\" column\n",
    "print(df['Old Price'].describe())"
   ]
  },
  {
   "cell_type": "code",
   "execution_count": 47,
   "metadata": {},
   "outputs": [
    {
     "data": {
      "image/png": "[encoded data removed]",
      "text/plain": [
       "<Figure size 1000x500 with 2 Axes>"
      ]
     },
     "metadata": {},
     "output_type": "display_data"
    }
   ],
   "source": [
    "# Plotting the Correlation Heatmap\n",
    "# to see if there is any strong correlation between the columns\n",
    "\n",
    "plt.figure(figsize=(10, 5))\n",
    "sns.heatmap(df[['Old Price', 'Current Price', 'Price Increase Percentage']].corr(), annot=True, cmap='coolwarm')\n",
    "plt.title(\"Correlation Heatmap\")\n",
    "plt.show()\n"
   ]
  },
  {
   "cell_type": "code",
   "execution_count": 48,
   "metadata": {},
   "outputs": [
    {
     "data": {
      "image/png": "[encoded data removed]",
      "text/plain": [
       "<Figure size 640x480 with 1 Axes>"
      ]
     },
     "metadata": {},
     "output_type": "display_data"
    }
   ],
   "source": [
    "# Plotting the relationship between the \"Current Price\" and \"Price Increase Percentage\" columns\n",
    "\n",
    "plt.scatter(df['Current Price'], df['Price Increase Percentage'])\n",
    "\n",
    "plt.title(\"Current Price vs Price Increase Percentage\")\n",
    "plt.xlabel(\"Current Price\")\n",
    "plt.ylabel(\"Price Increase Percentage\")\n",
    "\n",
    "plt.show()"
   ]
  },
  {
   "cell_type": "code",
   "execution_count": 49,
   "metadata": {},
   "outputs": [
    {
     "data": {
      "text/html": [
       "<div>\n",
       "<style scoped>\n",
       "    .dataframe tbody tr th:only-of-type {\n",
       "        vertical-align: middle;\n",
       "    }\n",
       "\n",
       "    .dataframe tbody tr th {\n",
       "        vertical-align: top;\n",
       "    }\n",
       "\n",
       "    .dataframe thead th {\n",
       "        text-align: right;\n",
       "    }\n",
       "</style>\n",
       "<table border=\"1\" class=\"dataframe\">\n",
       "  <thead>\n",
       "    <tr style=\"text-align: right;\">\n",
       "      <th></th>\n",
       "      <th>Product Name</th>\n",
       "      <th>Current Date</th>\n",
       "      <th>Current Price</th>\n",
       "      <th>Old Date</th>\n",
       "      <th>Old Price</th>\n",
       "      <th>Category</th>\n",
       "      <th>Days Passed</th>\n",
       "      <th>Price Increase Percentage</th>\n",
       "      <th>Price Increase Status</th>\n",
       "    </tr>\n",
       "  </thead>\n",
       "  <tbody>\n",
       "    <tr>\n",
       "      <th>0</th>\n",
       "      <td>Apple iPhone 11 128GB Akıllı Cep Telefonu</td>\n",
       "      <td>2023-05-22</td>\n",
       "      <td>18029</td>\n",
       "      <td>2022-05-22</td>\n",
       "      <td>12699</td>\n",
       "      <td>cep-telefonlari</td>\n",
       "      <td>365</td>\n",
       "      <td>29.563481</td>\n",
       "      <td>Increased</td>\n",
       "    </tr>\n",
       "    <tr>\n",
       "      <th>1</th>\n",
       "      <td>Sony Playstation 5 Oyun Konsolu</td>\n",
       "      <td>2023-05-22</td>\n",
       "      <td>14729</td>\n",
       "      <td>2022-05-23</td>\n",
       "      <td>13499</td>\n",
       "      <td>oyun-konsollari</td>\n",
       "      <td>364</td>\n",
       "      <td>8.350872</td>\n",
       "      <td>Increased</td>\n",
       "    </tr>\n",
       "    <tr>\n",
       "      <th>2</th>\n",
       "      <td>Apple iPhone 12 5G 64GB 4GB Ram 6.1 inç 12MP A...</td>\n",
       "      <td>2023-05-22</td>\n",
       "      <td>24999</td>\n",
       "      <td>2022-06-08</td>\n",
       "      <td>19798</td>\n",
       "      <td>cep-telefonlari</td>\n",
       "      <td>348</td>\n",
       "      <td>20.804832</td>\n",
       "      <td>Increased</td>\n",
       "    </tr>\n",
       "    <tr>\n",
       "      <th>3</th>\n",
       "      <td>Apple iPhone 13 Pro Max 5G 128GB 6GB Ram 6.7 i...</td>\n",
       "      <td>2023-05-22</td>\n",
       "      <td>46999</td>\n",
       "      <td>2022-05-23</td>\n",
       "      <td>27999</td>\n",
       "      <td>cep-telefonlari</td>\n",
       "      <td>364</td>\n",
       "      <td>40.426392</td>\n",
       "      <td>Highly Increased</td>\n",
       "    </tr>\n",
       "    <tr>\n",
       "      <th>4</th>\n",
       "      <td>Apple AirPods 2. Nesil MV7N2TU-A Bluetooth Kul...</td>\n",
       "      <td>2023-05-22</td>\n",
       "      <td>2689</td>\n",
       "      <td>2022-05-23</td>\n",
       "      <td>1851</td>\n",
       "      <td>bluetooth-kulaklik</td>\n",
       "      <td>364</td>\n",
       "      <td>31.164001</td>\n",
       "      <td>Highly Increased</td>\n",
       "    </tr>\n",
       "  </tbody>\n",
       "</table>\n",
       "</div>"
      ],
      "text/plain": [
       "                                        Product Name Current Date   \n",
       "0          Apple iPhone 11 128GB Akıllı Cep Telefonu   2023-05-22  \\\n",
       "1                    Sony Playstation 5 Oyun Konsolu   2023-05-22   \n",
       "2  Apple iPhone 12 5G 64GB 4GB Ram 6.1 inç 12MP A...   2023-05-22   \n",
       "3  Apple iPhone 13 Pro Max 5G 128GB 6GB Ram 6.7 i...   2023-05-22   \n",
       "4  Apple AirPods 2. Nesil MV7N2TU-A Bluetooth Kul...   2023-05-22   \n",
       "\n",
       "   Current Price   Old Date  Old Price            Category  Days Passed   \n",
       "0          18029 2022-05-22      12699     cep-telefonlari          365  \\\n",
       "1          14729 2022-05-23      13499     oyun-konsollari          364   \n",
       "2          24999 2022-06-08      19798     cep-telefonlari          348   \n",
       "3          46999 2022-05-23      27999     cep-telefonlari          364   \n",
       "4           2689 2022-05-23       1851  bluetooth-kulaklik          364   \n",
       "\n",
       "   Price Increase Percentage Price Increase Status  \n",
       "0                  29.563481             Increased  \n",
       "1                   8.350872             Increased  \n",
       "2                  20.804832             Increased  \n",
       "3                  40.426392      Highly Increased  \n",
       "4                  31.164001      Highly Increased  "
      ]
     },
     "execution_count": 49,
     "metadata": {},
     "output_type": "execute_result"
    }
   ],
   "source": [
    "# Creating a new column named \"Price Increase Status\"\n",
    "# If the price increase percentage is below 0, it will be \"Decreased\"\n",
    "# If the price increase percentage is between 0 and 5, it will be \"Stable\"\n",
    "# If the price increase percentage is between 5 and 30, it will be \"Increased\"\n",
    "# If the price increase percentage is between 30 and 50, it will be \"Highly Increased\"\n",
    "# If the price increase percentage is above 50, it will be \"Extremely Increased\"\n",
    "\n",
    "# Showing the head of the dataframe\n",
    "\n",
    "def priceIncreaseStatus(priceIncreasePercentage):\n",
    "    if priceIncreasePercentage < 0:\n",
    "        return \"Decreased\"\n",
    "    elif priceIncreasePercentage >= 0 and priceIncreasePercentage < 5:\n",
    "        return \"Stable\"\n",
    "    elif priceIncreasePercentage >= 5 and priceIncreasePercentage < 30:\n",
    "        return \"Increased\"\n",
    "    elif priceIncreasePercentage >= 30 and priceIncreasePercentage < 50:\n",
    "        return \"Highly Increased\"\n",
    "    else:\n",
    "        return \"Extremely Increased\"\n",
    "    \n",
    "df['Price Increase Status'] = df['Price Increase Percentage'].apply(priceIncreaseStatus)\n",
    "\n",
    "df.head()"
   ]
  },
  {
   "cell_type": "code",
   "execution_count": 50,
   "metadata": {},
   "outputs": [
    {
     "data": {
      "image/png": "[encoded data removed]",
      "text/plain": [
       "<Figure size 1000x500 with 1 Axes>"
      ]
     },
     "metadata": {},
     "output_type": "display_data"
    }
   ],
   "source": [
    "# Visualizing the \"Price Increase Status\" column with a bar plot\n",
    "\n",
    "plt.figure(figsize=(10, 5))\n",
    "sns.countplot(data=df, x='Price Increase Status', hue='Price Increase Status', order = ['Decreased', 'Stable', 'Increased', 'Highly Increased', 'Extremely Increased'])\n",
    "plt.title(\"Price Increase Status\")\n",
    "plt.xlabel(\"Price Increase Status\")\n",
    "plt.ylabel(\"Frequency\")\n",
    "\n",
    "plt.show()"
   ]
  },
  {
   "cell_type": "code",
   "execution_count": 51,
   "metadata": {},
   "outputs": [
    {
     "data": {
      "image/png": "[encoded data removed]",
      "text/plain": [
       "<Figure size 1000x500 with 1 Axes>"
      ]
     },
     "metadata": {},
     "output_type": "display_data"
    }
   ],
   "source": [
    "# Clustering the products according to their categories and showing the average price increase percentage for each category\n",
    "# Plot the correlation between category and price increase percentage\n",
    "\n",
    "avg_price_increase_by_category = df.groupby('Category')['Price Increase Percentage'].mean()\n",
    "avg_price_increase_by_category = avg_price_increase_by_category.reset_index()\n",
    "# Sort the df for better readability\n",
    "avg_price_increase_by_category = avg_price_increase_by_category.sort_values(by='Price Increase Percentage', ascending=False)\n",
    "\n",
    "\n",
    "# Create a bar plot\n",
    "plt.figure(figsize=(10, 5))\n",
    "sns.barplot(x='Category', y='Price Increase Percentage', data=avg_price_increase_by_category)\n",
    "plt.title('Average Price Increase Percentage by Category')\n",
    "plt.xlabel('Category')\n",
    "plt.xticks(rotation=90)  # Rotate x-axis labels for better readability\n",
    "plt.ylabel('Average Price Increase Percentage')\n",
    "plt.show()\n"
   ]
  },
  {
   "cell_type": "code",
   "execution_count": 52,
   "metadata": {},
   "outputs": [
    {
     "data": {
      "application/vnd.plotly.v1+json": {
       "config": {
        "plotlyServerURL": "https://plot.ly"
       },
       "data": [
        {
         "hovertemplate": "Category=%{x}<br>Price Increase Percentage=%{y}<extra></extra>",
         "legendgroup": "kulaklik",
         "marker": {
          "color": "#636efa",
          "symbol": "circle"
         },
         "mode": "markers",
         "name": "kulaklik",
         "orientation": "v",
         "showlegend": true,
         "type": "scatter",
         "x": [
          "kulaklik"
         ],
         "xaxis": "x",
         "y": [
          61.94690265486725
         ],
         "yaxis": "y"
        },
        {
         "hovertemplate": "Category=%{x}<br>Price Increase Percentage=%{y}<extra></extra>",
         "legendgroup": "kupa",
         "marker": {
          "color": "#EF553B",
          "symbol": "circle"
         },
         "mode": "markers",
         "name": "kupa",
         "orientation": "v",
         "showlegend": true,
         "type": "scatter",
         "x": [
          "kupa"
         ],
         "xaxis": "x",
         "y": [
          51.06382978723404
         ],
         "yaxis": "y"
        },
        {
         "hovertemplate": "Category=%{x}<br>Price Increase Percentage=%{y}<extra></extra>",
         "legendgroup": "spiralli-defter",
         "marker": {
          "color": "#00cc96",
          "symbol": "circle"
         },
         "mode": "markers",
         "name": "spiralli-defter",
         "orientation": "v",
         "showlegend": true,
         "type": "scatter",
         "x": [
          "spiralli-defter"
         ],
         "xaxis": "x",
         "y": [
          49.45205479452055
         ],
         "yaxis": "y"
        },
        {
         "hovertemplate": "Category=%{x}<br>Price Increase Percentage=%{y}<extra></extra>",
         "legendgroup": "sprey-deodorantlar",
         "marker": {
          "color": "#ab63fa",
          "symbol": "circle"
         },
         "mode": "markers",
         "name": "sprey-deodorantlar",
         "orientation": "v",
         "showlegend": true,
         "type": "scatter",
         "x": [
          "sprey-deodorantlar"
         ],
         "xaxis": "x",
         "y": [
          43.22033898305085
         ],
         "yaxis": "y"
        },
        {
         "hovertemplate": "Category=%{x}<br>Price Increase Percentage=%{y}<extra></extra>",
         "legendgroup": "silgi",
         "marker": {
          "color": "#FFA15A",
          "symbol": "circle"
         },
         "mode": "markers",
         "name": "silgi",
         "orientation": "v",
         "showlegend": true,
         "type": "scatter",
         "x": [
          "silgi"
         ],
         "xaxis": "x",
         "y": [
          42.857142857142854
         ],
         "yaxis": "y"
        },
        {
         "hovertemplate": "Category=%{x}<br>Price Increase Percentage=%{y}<extra></extra>",
         "legendgroup": "kursun-kalem-ucu-min",
         "marker": {
          "color": "#19d3f3",
          "symbol": "circle"
         },
         "mode": "markers",
         "name": "kursun-kalem-ucu-min",
         "orientation": "v",
         "showlegend": true,
         "type": "scatter",
         "x": [
          "kursun-kalem-ucu-min"
         ],
         "xaxis": "x",
         "y": [
          42.857142857142854
         ],
         "yaxis": "y"
        },
        {
         "hovertemplate": "Category=%{x}<br>Price Increase Percentage=%{y}<extra></extra>",
         "legendgroup": "cok-satan-kitaplar",
         "marker": {
          "color": "#FF6692",
          "symbol": "circle"
         },
         "mode": "markers",
         "name": "cok-satan-kitaplar",
         "orientation": "v",
         "showlegend": true,
         "type": "scatter",
         "x": [
          "cok-satan-kitaplar"
         ],
         "xaxis": "x",
         "y": [
          40
         ],
         "yaxis": "y"
        },
        {
         "hovertemplate": "Category=%{x}<br>Price Increase Percentage=%{y}<extra></extra>",
         "legendgroup": "tencere-tava-setleri",
         "marker": {
          "color": "#B6E880",
          "symbol": "circle"
         },
         "mode": "markers",
         "name": "tencere-tava-setleri",
         "orientation": "v",
         "showlegend": true,
         "type": "scatter",
         "x": [
          "tencere-tava-setleri"
         ],
         "xaxis": "x",
         "y": [
          36.16
         ],
         "yaxis": "y"
        },
        {
         "hovertemplate": "Category=%{x}<br>Price Increase Percentage=%{y}<extra></extra>",
         "legendgroup": "kahve-makineleri",
         "marker": {
          "color": "#FF97FF",
          "symbol": "circle"
         },
         "mode": "markers",
         "name": "kahve-makineleri",
         "orientation": "v",
         "showlegend": true,
         "type": "scatter",
         "x": [
          "kahve-makineleri"
         ],
         "xaxis": "x",
         "y": [
          34.053052234991796
         ],
         "yaxis": "y"
        },
        {
         "hovertemplate": "Category=%{x}<br>Price Increase Percentage=%{y}<extra></extra>",
         "legendgroup": "toplar",
         "marker": {
          "color": "#FECB52",
          "symbol": "circle"
         },
         "mode": "markers",
         "name": "toplar",
         "orientation": "v",
         "showlegend": true,
         "type": "scatter",
         "x": [
          "toplar"
         ],
         "xaxis": "x",
         "y": [
          32.431206830030874
         ],
         "yaxis": "y"
        },
        {
         "hovertemplate": "Category=%{x}<br>Price Increase Percentage=%{y}<extra></extra>",
         "legendgroup": "cep-telefonlari",
         "marker": {
          "color": "#636efa",
          "symbol": "circle"
         },
         "mode": "markers",
         "name": "cep-telefonlari",
         "orientation": "v",
         "showlegend": true,
         "type": "scatter",
         "x": [
          "cep-telefonlari"
         ],
         "xaxis": "x",
         "y": [
          30.264901767492464
         ],
         "yaxis": "y"
        },
        {
         "hovertemplate": "Category=%{x}<br>Price Increase Percentage=%{y}<extra></extra>",
         "legendgroup": "masa-lambasi",
         "marker": {
          "color": "#EF553B",
          "symbol": "circle"
         },
         "mode": "markers",
         "name": "masa-lambasi",
         "orientation": "v",
         "showlegend": true,
         "type": "scatter",
         "x": [
          "masa-lambasi"
         ],
         "xaxis": "x",
         "y": [
          26.97495183044316
         ],
         "yaxis": "y"
        },
        {
         "hovertemplate": "Category=%{x}<br>Price Increase Percentage=%{y}<extra></extra>",
         "legendgroup": "dizustu-bilgisayar",
         "marker": {
          "color": "#00cc96",
          "symbol": "circle"
         },
         "mode": "markers",
         "name": "dizustu-bilgisayar",
         "orientation": "v",
         "showlegend": true,
         "type": "scatter",
         "x": [
          "dizustu-bilgisayar"
         ],
         "xaxis": "x",
         "y": [
          25.35052800912448
         ],
         "yaxis": "y"
        },
        {
         "hovertemplate": "Category=%{x}<br>Price Increase Percentage=%{y}<extra></extra>",
         "legendgroup": "dis-fircalari",
         "marker": {
          "color": "#ab63fa",
          "symbol": "circle"
         },
         "mode": "markers",
         "name": "dis-fircalari",
         "orientation": "v",
         "showlegend": true,
         "type": "scatter",
         "x": [
          "dis-fircalari"
         ],
         "xaxis": "x",
         "y": [
          25
         ],
         "yaxis": "y"
        },
        {
         "hovertemplate": "Category=%{x}<br>Price Increase Percentage=%{y}<extra></extra>",
         "legendgroup": "tablet-pc",
         "marker": {
          "color": "#FFA15A",
          "symbol": "circle"
         },
         "mode": "markers",
         "name": "tablet-pc",
         "orientation": "v",
         "showlegend": true,
         "type": "scatter",
         "x": [
          "tablet-pc"
         ],
         "xaxis": "x",
         "y": [
          24.563453479858698
         ],
         "yaxis": "y"
        },
        {
         "hovertemplate": "Category=%{x}<br>Price Increase Percentage=%{y}<extra></extra>",
         "legendgroup": "hesap-makinesi",
         "marker": {
          "color": "#19d3f3",
          "symbol": "circle"
         },
         "mode": "markers",
         "name": "hesap-makinesi",
         "orientation": "v",
         "showlegend": true,
         "type": "scatter",
         "x": [
          "hesap-makinesi"
         ],
         "xaxis": "x",
         "y": [
          21.164021164021165
         ],
         "yaxis": "y"
        },
        {
         "hovertemplate": "Category=%{x}<br>Price Increase Percentage=%{y}<extra></extra>",
         "legendgroup": "fosforlu-kalem",
         "marker": {
          "color": "#FF6692",
          "symbol": "circle"
         },
         "mode": "markers",
         "name": "fosforlu-kalem",
         "orientation": "v",
         "showlegend": true,
         "type": "scatter",
         "x": [
          "fosforlu-kalem"
         ],
         "xaxis": "x",
         "y": [
          19.565217391304348
         ],
         "yaxis": "y"
        },
        {
         "hovertemplate": "Category=%{x}<br>Price Increase Percentage=%{y}<extra></extra>",
         "legendgroup": "banyo-havlusu",
         "marker": {
          "color": "#B6E880",
          "symbol": "circle"
         },
         "mode": "markers",
         "name": "banyo-havlusu",
         "orientation": "v",
         "showlegend": true,
         "type": "scatter",
         "x": [
          "banyo-havlusu"
         ],
         "xaxis": "x",
         "y": [
          19.387755102040817
         ],
         "yaxis": "y"
        },
        {
         "hovertemplate": "Category=%{x}<br>Price Increase Percentage=%{y}<extra></extra>",
         "legendgroup": "su-isiticilari-kettle",
         "marker": {
          "color": "#FF97FF",
          "symbol": "circle"
         },
         "mode": "markers",
         "name": "su-isiticilari-kettle",
         "orientation": "v",
         "showlegend": true,
         "type": "scatter",
         "x": [
          "su-isiticilari-kettle"
         ],
         "xaxis": "x",
         "y": [
          18.793503480278424
         ],
         "yaxis": "y"
        },
        {
         "hovertemplate": "Category=%{x}<br>Price Increase Percentage=%{y}<extra></extra>",
         "legendgroup": "dis-macunlari",
         "marker": {
          "color": "#FECB52",
          "symbol": "circle"
         },
         "mode": "markers",
         "name": "dis-macunlari",
         "orientation": "v",
         "showlegend": true,
         "type": "scatter",
         "x": [
          "dis-macunlari"
         ],
         "xaxis": "x",
         "y": [
          18.51851851851852
         ],
         "yaxis": "y"
        },
        {
         "hovertemplate": "Category=%{x}<br>Price Increase Percentage=%{y}<extra></extra>",
         "legendgroup": "bluetooth-kulaklik",
         "marker": {
          "color": "#636efa",
          "symbol": "circle"
         },
         "mode": "markers",
         "name": "bluetooth-kulaklik",
         "orientation": "v",
         "showlegend": true,
         "type": "scatter",
         "x": [
          "bluetooth-kulaklik"
         ],
         "xaxis": "x",
         "y": [
          18.174203062000636
         ],
         "yaxis": "y"
        },
        {
         "hovertemplate": "Category=%{x}<br>Price Increase Percentage=%{y}<extra></extra>",
         "legendgroup": "baskul-tartilar",
         "marker": {
          "color": "#EF553B",
          "symbol": "circle"
         },
         "mode": "markers",
         "name": "baskul-tartilar",
         "orientation": "v",
         "showlegend": true,
         "type": "scatter",
         "x": [
          "baskul-tartilar"
         ],
         "xaxis": "x",
         "y": [
          15.269461077844312
         ],
         "yaxis": "y"
        },
        {
         "hovertemplate": "Category=%{x}<br>Price Increase Percentage=%{y}<extra></extra>",
         "legendgroup": "mekanik-kursun-versatil-kalem",
         "marker": {
          "color": "#00cc96",
          "symbol": "circle"
         },
         "mode": "markers",
         "name": "mekanik-kursun-versatil-kalem",
         "orientation": "v",
         "showlegend": true,
         "type": "scatter",
         "x": [
          "mekanik-kursun-versatil-kalem"
         ],
         "xaxis": "x",
         "y": [
          13.068815242728286
         ],
         "yaxis": "y"
        },
        {
         "hovertemplate": "Category=%{x}<br>Price Increase Percentage=%{y}<extra></extra>",
         "legendgroup": "spor-ayakkabi",
         "marker": {
          "color": "#ab63fa",
          "symbol": "circle"
         },
         "mode": "markers",
         "name": "spor-ayakkabi",
         "orientation": "v",
         "showlegend": true,
         "type": "scatter",
         "x": [
          "spor-ayakkabi"
         ],
         "xaxis": "x",
         "y": [
          11.168412032995127
         ],
         "yaxis": "y"
        },
        {
         "hovertemplate": "Category=%{x}<br>Price Increase Percentage=%{y}<extra></extra>",
         "legendgroup": "sampuan-ve-sac-kremi",
         "marker": {
          "color": "#FFA15A",
          "symbol": "circle"
         },
         "mode": "markers",
         "name": "sampuan-ve-sac-kremi",
         "orientation": "v",
         "showlegend": true,
         "type": "scatter",
         "x": [
          "sampuan-ve-sac-kremi"
         ],
         "xaxis": "x",
         "y": [
          8.924585218702866
         ],
         "yaxis": "y"
        },
        {
         "hovertemplate": "Category=%{x}<br>Price Increase Percentage=%{y}<extra></extra>",
         "legendgroup": "sabunlar",
         "marker": {
          "color": "#19d3f3",
          "symbol": "circle"
         },
         "mode": "markers",
         "name": "sabunlar",
         "orientation": "v",
         "showlegend": true,
         "type": "scatter",
         "x": [
          "sabunlar"
         ],
         "xaxis": "x",
         "y": [
          8.803418803418802
         ],
         "yaxis": "y"
        },
        {
         "hovertemplate": "Category=%{x}<br>Price Increase Percentage=%{y}<extra></extra>",
         "legendgroup": "oyun-konsollari",
         "marker": {
          "color": "#FF6692",
          "symbol": "circle"
         },
         "mode": "markers",
         "name": "oyun-konsollari",
         "orientation": "v",
         "showlegend": true,
         "type": "scatter",
         "x": [
          "oyun-konsollari"
         ],
         "xaxis": "x",
         "y": [
          8.350872428542331
         ],
         "yaxis": "y"
        },
        {
         "hovertemplate": "Category=%{x}<br>Price Increase Percentage=%{y}<extra></extra>",
         "legendgroup": "akilli-saat",
         "marker": {
          "color": "#B6E880",
          "symbol": "circle"
         },
         "mode": "markers",
         "name": "akilli-saat",
         "orientation": "v",
         "showlegend": true,
         "type": "scatter",
         "x": [
          "akilli-saat"
         ],
         "xaxis": "x",
         "y": [
          6.683333333333333
         ],
         "yaxis": "y"
        },
        {
         "hovertemplate": "Category=%{x}<br>Price Increase Percentage=%{y}<extra></extra>",
         "legendgroup": "termos",
         "marker": {
          "color": "#FF97FF",
          "symbol": "circle"
         },
         "mode": "markers",
         "name": "termos",
         "orientation": "v",
         "showlegend": true,
         "type": "scatter",
         "x": [
          "termos"
         ],
         "xaxis": "x",
         "y": [
          6.473196744316587
         ],
         "yaxis": "y"
        },
        {
         "hovertemplate": "Category=%{x}<br>Price Increase Percentage=%{y}<extra></extra>",
         "legendgroup": "kadin-terlikleri-ve-sandaletleri",
         "marker": {
          "color": "#FECB52",
          "symbol": "circle"
         },
         "mode": "markers",
         "name": "kadin-terlikleri-ve-sandaletleri",
         "orientation": "v",
         "showlegend": true,
         "type": "scatter",
         "x": [
          "kadin-terlikleri-ve-sandaletleri"
         ],
         "xaxis": "x",
         "y": [
          -33.852109043924905
         ],
         "yaxis": "y"
        },
        {
         "hovertemplate": "Category=%{x}<br>Price Increase Percentage=%{y}<extra></extra>",
         "legendgroup": "defter",
         "marker": {
          "color": "#636efa",
          "symbol": "circle"
         },
         "mode": "markers",
         "name": "defter",
         "orientation": "v",
         "showlegend": true,
         "type": "scatter",
         "x": [
          "defter"
         ],
         "xaxis": "x",
         "y": [
          -40
         ],
         "yaxis": "y"
        }
       ],
       "layout": {
        "legend": {
         "title": {
          "text": "Category"
         },
         "tracegroupgap": 0
        },
        "margin": {
         "t": 60
        },
        "template": {
         "data": {
          "bar": [
           {
            "error_x": {
             "color": "#2a3f5f"
            },
            "error_y": {
             "color": "#2a3f5f"
            },
            "marker": {
             "line": {
              "color": "#E5ECF6",
              "width": 0.5
             },
             "pattern": {
              "fillmode": "overlay",
              "size": 10,
              "solidity": 0.2
             }
            },
            "type": "bar"
           }
          ],
          "barpolar": [
           {
            "marker": {
             "line": {
              "color": "#E5ECF6",
              "width": 0.5
             },
             "pattern": {
              "fillmode": "overlay",
              "size": 10,
              "solidity": 0.2
             }
            },
            "type": "barpolar"
           }
          ],
          "carpet": [
           {
            "aaxis": {
             "endlinecolor": "#2a3f5f",
             "gridcolor": "white",
             "linecolor": "white",
             "minorgridcolor": "white",
             "startlinecolor": "#2a3f5f"
            },
            "baxis": {
             "endlinecolor": "#2a3f5f",
             "gridcolor": "white",
             "linecolor": "white",
             "minorgridcolor": "white",
             "startlinecolor": "#2a3f5f"
            },
            "type": "carpet"
           }
          ],
          "choropleth": [
           {
            "colorbar": {
             "outlinewidth": 0,
             "ticks": ""
            },
            "type": "choropleth"
           }
          ],
          "contour": [
           {
            "colorbar": {
             "outlinewidth": 0,
             "ticks": ""
            },
            "colorscale": [
             [
              0,
              "#0d0887"
             ],
             [
              0.1111111111111111,
              "#46039f"
             ],
             [
              0.2222222222222222,
              "#7201a8"
             ],
             [
              0.3333333333333333,
              "#9c179e"
             ],
             [
              0.4444444444444444,
              "#bd3786"
             ],
             [
              0.5555555555555556,
              "#d8576b"
             ],
             [
              0.6666666666666666,
              "#ed7953"
             ],
             [
              0.7777777777777778,
              "#fb9f3a"
             ],
             [
              0.8888888888888888,
              "#fdca26"
             ],
             [
              1,
              "#f0f921"
             ]
            ],
            "type": "contour"
           }
          ],
          "contourcarpet": [
           {
            "colorbar": {
             "outlinewidth": 0,
             "ticks": ""
            },
            "type": "contourcarpet"
           }
          ],
          "heatmap": [
           {
            "colorbar": {
             "outlinewidth": 0,
             "ticks": ""
            },
            "colorscale": [
             [
              0,
              "#0d0887"
             ],
             [
              0.1111111111111111,
              "#46039f"
             ],
             [
              0.2222222222222222,
              "#7201a8"
             ],
             [
              0.3333333333333333,
              "#9c179e"
             ],
             [
              0.4444444444444444,
              "#bd3786"
             ],
             [
              0.5555555555555556,
              "#d8576b"
             ],
             [
              0.6666666666666666,
              "#ed7953"
             ],
             [
              0.7777777777777778,
              "#fb9f3a"
             ],
             [
              0.8888888888888888,
              "#fdca26"
             ],
             [
              1,
              "#f0f921"
             ]
            ],
            "type": "heatmap"
           }
          ],
          "heatmapgl": [
           {
            "colorbar": {
             "outlinewidth": 0,
             "ticks": ""
            },
            "colorscale": [
             [
              0,
              "#0d0887"
             ],
             [
              0.1111111111111111,
              "#46039f"
             ],
             [
              0.2222222222222222,
              "#7201a8"
             ],
             [
              0.3333333333333333,
              "#9c179e"
             ],
             [
              0.4444444444444444,
              "#bd3786"
             ],
             [
              0.5555555555555556,
              "#d8576b"
             ],
             [
              0.6666666666666666,
              "#ed7953"
             ],
             [
              0.7777777777777778,
              "#fb9f3a"
             ],
             [
              0.8888888888888888,
              "#fdca26"
             ],
             [
              1,
              "#f0f921"
             ]
            ],
            "type": "heatmapgl"
           }
          ],
          "histogram": [
           {
            "marker": {
             "pattern": {
              "fillmode": "overlay",
              "size": 10,
              "solidity": 0.2
             }
            },
            "type": "histogram"
           }
          ],
          "histogram2d": [
           {
            "colorbar": {
             "outlinewidth": 0,
             "ticks": ""
            },
            "colorscale": [
             [
              0,
              "#0d0887"
             ],
             [
              0.1111111111111111,
              "#46039f"
             ],
             [
              0.2222222222222222,
              "#7201a8"
             ],
             [
              0.3333333333333333,
              "#9c179e"
             ],
             [
              0.4444444444444444,
              "#bd3786"
             ],
             [
              0.5555555555555556,
              "#d8576b"
             ],
             [
              0.6666666666666666,
              "#ed7953"
             ],
             [
              0.7777777777777778,
              "#fb9f3a"
             ],
             [
              0.8888888888888888,
              "#fdca26"
             ],
             [
              1,
              "#f0f921"
             ]
            ],
            "type": "histogram2d"
           }
          ],
          "histogram2dcontour": [
           {
            "colorbar": {
             "outlinewidth": 0,
             "ticks": ""
            },
            "colorscale": [
             [
              0,
              "#0d0887"
             ],
             [
              0.1111111111111111,
              "#46039f"
             ],
             [
              0.2222222222222222,
              "#7201a8"
             ],
             [
              0.3333333333333333,
              "#9c179e"
             ],
             [
              0.4444444444444444,
              "#bd3786"
             ],
             [
              0.5555555555555556,
              "#d8576b"
             ],
             [
              0.6666666666666666,
              "#ed7953"
             ],
             [
              0.7777777777777778,
              "#fb9f3a"
             ],
             [
              0.8888888888888888,
              "#fdca26"
             ],
             [
              1,
              "#f0f921"
             ]
            ],
            "type": "histogram2dcontour"
           }
          ],
          "mesh3d": [
           {
            "colorbar": {
             "outlinewidth": 0,
             "ticks": ""
            },
            "type": "mesh3d"
           }
          ],
          "parcoords": [
           {
            "line": {
             "colorbar": {
              "outlinewidth": 0,
              "ticks": ""
             }
            },
            "type": "parcoords"
           }
          ],
          "pie": [
           {
            "automargin": true,
            "type": "pie"
           }
          ],
          "scatter": [
           {
            "fillpattern": {
             "fillmode": "overlay",
             "size": 10,
             "solidity": 0.2
            },
            "type": "scatter"
           }
          ],
          "scatter3d": [
           {
            "line": {
             "colorbar": {
              "outlinewidth": 0,
              "ticks": ""
             }
            },
            "marker": {
             "colorbar": {
              "outlinewidth": 0,
              "ticks": ""
             }
            },
            "type": "scatter3d"
           }
          ],
          "scattercarpet": [
           {
            "marker": {
             "colorbar": {
              "outlinewidth": 0,
              "ticks": ""
             }
            },
            "type": "scattercarpet"
           }
          ],
          "scattergeo": [
           {
            "marker": {
             "colorbar": {
              "outlinewidth": 0,
              "ticks": ""
             }
            },
            "type": "scattergeo"
           }
          ],
          "scattergl": [
           {
            "marker": {
             "colorbar": {
              "outlinewidth": 0,
              "ticks": ""
             }
            },
            "type": "scattergl"
           }
          ],
          "scattermapbox": [
           {
            "marker": {
             "colorbar": {
              "outlinewidth": 0,
              "ticks": ""
             }
            },
            "type": "scattermapbox"
           }
          ],
          "scatterpolar": [
           {
            "marker": {
             "colorbar": {
              "outlinewidth": 0,
              "ticks": ""
             }
            },
            "type": "scatterpolar"
           }
          ],
          "scatterpolargl": [
           {
            "marker": {
             "colorbar": {
              "outlinewidth": 0,
              "ticks": ""
             }
            },
            "type": "scatterpolargl"
           }
          ],
          "scatterternary": [
           {
            "marker": {
             "colorbar": {
              "outlinewidth": 0,
              "ticks": ""
             }
            },
            "type": "scatterternary"
           }
          ],
          "surface": [
           {
            "colorbar": {
             "outlinewidth": 0,
             "ticks": ""
            },
            "colorscale": [
             [
              0,
              "#0d0887"
             ],
             [
              0.1111111111111111,
              "#46039f"
             ],
             [
              0.2222222222222222,
              "#7201a8"
             ],
             [
              0.3333333333333333,
              "#9c179e"
             ],
             [
              0.4444444444444444,
              "#bd3786"
             ],
             [
              0.5555555555555556,
              "#d8576b"
             ],
             [
              0.6666666666666666,
              "#ed7953"
             ],
             [
              0.7777777777777778,
              "#fb9f3a"
             ],
             [
              0.8888888888888888,
              "#fdca26"
             ],
             [
              1,
              "#f0f921"
             ]
            ],
            "type": "surface"
           }
          ],
          "table": [
           {
            "cells": {
             "fill": {
              "color": "#EBF0F8"
             },
             "line": {
              "color": "white"
             }
            },
            "header": {
             "fill": {
              "color": "#C8D4E3"
             },
             "line": {
              "color": "white"
             }
            },
            "type": "table"
           }
          ]
         },
         "layout": {
          "annotationdefaults": {
           "arrowcolor": "#2a3f5f",
           "arrowhead": 0,
           "arrowwidth": 1
          },
          "autotypenumbers": "strict",
          "coloraxis": {
           "colorbar": {
            "outlinewidth": 0,
            "ticks": ""
           }
          },
          "colorscale": {
           "diverging": [
            [
             0,
             "#8e0152"
            ],
            [
             0.1,
             "#c51b7d"
            ],
            [
             0.2,
             "#de77ae"
            ],
            [
             0.3,
             "#f1b6da"
            ],
            [
             0.4,
             "#fde0ef"
            ],
            [
             0.5,
             "#f7f7f7"
            ],
            [
             0.6,
             "#e6f5d0"
            ],
            [
             0.7,
             "#b8e186"
            ],
            [
             0.8,
             "#7fbc41"
            ],
            [
             0.9,
             "#4d9221"
            ],
            [
             1,
             "#276419"
            ]
           ],
           "sequential": [
            [
             0,
             "#0d0887"
            ],
            [
             0.1111111111111111,
             "#46039f"
            ],
            [
             0.2222222222222222,
             "#7201a8"
            ],
            [
             0.3333333333333333,
             "#9c179e"
            ],
            [
             0.4444444444444444,
             "#bd3786"
            ],
            [
             0.5555555555555556,
             "#d8576b"
            ],
            [
             0.6666666666666666,
             "#ed7953"
            ],
            [
             0.7777777777777778,
             "#fb9f3a"
            ],
            [
             0.8888888888888888,
             "#fdca26"
            ],
            [
             1,
             "#f0f921"
            ]
           ],
           "sequentialminus": [
            [
             0,
             "#0d0887"
            ],
            [
             0.1111111111111111,
             "#46039f"
            ],
            [
             0.2222222222222222,
             "#7201a8"
            ],
            [
             0.3333333333333333,
             "#9c179e"
            ],
            [
             0.4444444444444444,
             "#bd3786"
            ],
            [
             0.5555555555555556,
             "#d8576b"
            ],
            [
             0.6666666666666666,
             "#ed7953"
            ],
            [
             0.7777777777777778,
             "#fb9f3a"
            ],
            [
             0.8888888888888888,
             "#fdca26"
            ],
            [
             1,
             "#f0f921"
            ]
           ]
          },
          "colorway": [
           "#636efa",
           "#EF553B",
           "#00cc96",
           "#ab63fa",
           "#FFA15A",
           "#19d3f3",
           "#FF6692",
           "#B6E880",
           "#FF97FF",
           "#FECB52"
          ],
          "font": {
           "color": "#2a3f5f"
          },
          "geo": {
           "bgcolor": "white",
           "lakecolor": "white",
           "landcolor": "#E5ECF6",
           "showlakes": true,
           "showland": true,
           "subunitcolor": "white"
          },
          "hoverlabel": {
           "align": "left"
          },
          "hovermode": "closest",
          "mapbox": {
           "style": "light"
          },
          "paper_bgcolor": "white",
          "plot_bgcolor": "#E5ECF6",
          "polar": {
           "angularaxis": {
            "gridcolor": "white",
            "linecolor": "white",
            "ticks": ""
           },
           "bgcolor": "#E5ECF6",
           "radialaxis": {
            "gridcolor": "white",
            "linecolor": "white",
            "ticks": ""
           }
          },
          "scene": {
           "xaxis": {
            "backgroundcolor": "#E5ECF6",
            "gridcolor": "white",
            "gridwidth": 2,
            "linecolor": "white",
            "showbackground": true,
            "ticks": "",
            "zerolinecolor": "white"
           },
           "yaxis": {
            "backgroundcolor": "#E5ECF6",
            "gridcolor": "white",
            "gridwidth": 2,
            "linecolor": "white",
            "showbackground": true,
            "ticks": "",
            "zerolinecolor": "white"
           },
           "zaxis": {
            "backgroundcolor": "#E5ECF6",
            "gridcolor": "white",
            "gridwidth": 2,
            "linecolor": "white",
            "showbackground": true,
            "ticks": "",
            "zerolinecolor": "white"
           }
          },
          "shapedefaults": {
           "line": {
            "color": "#2a3f5f"
           }
          },
          "ternary": {
           "aaxis": {
            "gridcolor": "white",
            "linecolor": "white",
            "ticks": ""
           },
           "baxis": {
            "gridcolor": "white",
            "linecolor": "white",
            "ticks": ""
           },
           "bgcolor": "#E5ECF6",
           "caxis": {
            "gridcolor": "white",
            "linecolor": "white",
            "ticks": ""
           }
          },
          "title": {
           "x": 0.05
          },
          "xaxis": {
           "automargin": true,
           "gridcolor": "white",
           "linecolor": "white",
           "ticks": "",
           "title": {
            "standoff": 15
           },
           "zerolinecolor": "white",
           "zerolinewidth": 2
          },
          "yaxis": {
           "automargin": true,
           "gridcolor": "white",
           "linecolor": "white",
           "ticks": "",
           "title": {
            "standoff": 15
           },
           "zerolinecolor": "white",
           "zerolinewidth": 2
          }
         }
        },
        "xaxis": {
         "anchor": "y",
         "categoryarray": [
          "kulaklik",
          "kupa",
          "spiralli-defter",
          "sprey-deodorantlar",
          "silgi",
          "kursun-kalem-ucu-min",
          "cok-satan-kitaplar",
          "tencere-tava-setleri",
          "kahve-makineleri",
          "toplar",
          "cep-telefonlari",
          "masa-lambasi",
          "dizustu-bilgisayar",
          "dis-fircalari",
          "tablet-pc",
          "hesap-makinesi",
          "fosforlu-kalem",
          "banyo-havlusu",
          "su-isiticilari-kettle",
          "dis-macunlari",
          "bluetooth-kulaklik",
          "baskul-tartilar",
          "mekanik-kursun-versatil-kalem",
          "spor-ayakkabi",
          "sampuan-ve-sac-kremi",
          "sabunlar",
          "oyun-konsollari",
          "akilli-saat",
          "termos",
          "kadin-terlikleri-ve-sandaletleri",
          "defter"
         ],
         "categoryorder": "array",
         "domain": [
          0,
          1
         ],
         "title": {
          "text": "Category"
         }
        },
        "yaxis": {
         "anchor": "x",
         "domain": [
          0,
          1
         ],
         "title": {
          "text": "Price Increase Percentage"
         }
        }
       }
      }
     },
     "metadata": {},
     "output_type": "display_data"
    }
   ],
   "source": [
    "# Do the same thing with interactive plot\n",
    "\n",
    "fig = px.scatter(avg_price_increase_by_category, x='Category', y='Price Increase Percentage', color='Category')\n",
    "fig.show()\n"
   ]
  },
  {
   "cell_type": "code",
   "execution_count": 56,
   "metadata": {},
   "outputs": [
    {
     "name": "stdout",
     "output_type": "stream",
     "text": [
      "Average Price Increase Percentage:  21.343444671593794\n",
      "Inflation:  21.343444671593794\n",
      "                                         Product Name Current Date   \n",
      "0           Apple iPhone 11 128GB Akıllı Cep Telefonu   2023-05-22  \\\n",
      "1                     Sony Playstation 5 Oyun Konsolu   2023-05-22   \n",
      "2   Apple iPhone 12 5G 64GB 4GB Ram 6.1 inç 12MP A...   2023-05-22   \n",
      "3   Apple iPhone 13 Pro Max 5G 128GB 6GB Ram 6.7 i...   2023-05-22   \n",
      "4   Apple AirPods 2. Nesil MV7N2TU-A Bluetooth Kul...   2023-05-22   \n",
      "5     Apple Airpods Pro MLWK3TU/A/ Bluetooth Kulaklık   2023-05-22   \n",
      "6                          JBL TUNE 500 Mavi Kulaklık   2023-05-22   \n",
      "7   Starbucks Parıltılı Yeşil Renkli 473 ml Klasik...   2023-05-22   \n",
      "8   Arzum OK004 Okka Minio 480 W 4 Fincan Kapasite...   2023-05-22   \n",
      "9   Philips EP5447-90 1500 W 1800 ml 1 Fincan Kapa...   2023-05-22   \n",
      "10        Xiaomi Mi Smart Scale 2 Akıllı Baskül Tartı   2023-05-22   \n",
      "11              Thermoad Vizon Granit Döküm Tava Seti   2023-05-22   \n",
      "12     Stanley Klasik Neverleak 0.47 lt Bardak Termos   2023-05-22   \n",
      "13  Skechers 12615 Graceful-Get Connected Siyah Ka...   2023-05-22   \n",
      "14  Adidas C77124 Superstar Unisex Spor Ayakkabı B...   2023-05-22   \n",
      "15                 Crocs Crocband Siyah Unisex Terlik   2023-05-22   \n",
      "16              Crocs 11016-6MB Crocband Kadın Terlik   2023-05-22   \n",
      "17  Apple Macbook Air MGN63TU-A M1 8GB Ram 256GB m...   2023-05-22   \n",
      "18  Apple Macbook Pro MYD82TU-A M1 8GB Ram 256GB S...   2023-05-22   \n",
      "19          Sensodyne Soft Diş Eti Bakımı Diş Fırçası   2023-05-22   \n",
      "20                 Colgate Max White 75 ml Diş Macunu   2023-05-22   \n",
      "21              Kürk Mantolu Madonna - Sabahattin Ali   2023-05-22   \n",
      "22  Head & Shoulders Mentol Ferahlığı 2'si 1 Arada...   2023-05-22   \n",
      "23  Head & Shoulders Men Ultra Old Spice 360 ml Şa...   2023-05-22   \n",
      "24  Pantene Miracles Bambu ve Biotin 275 ml Saç Ba...   2023-05-22   \n",
      "25  Dove 4x90 gr Cream Bar Original Güzellik Katı ...   2023-05-22   \n",
      "26  Hacı Şakir Lavanta Dinlendirici Bakım 1500 ml ...   2023-05-22   \n",
      "27               Dove Original 150 ml Kadın Deodorant   2023-05-22   \n",
      "28                   Axe Black 150 ml Erkek Deodorant   2023-05-22   \n",
      "29  Adidas Siyah X Speedflow 1 Fg Erkek Çim Zemin ...   2023-05-22   \n",
      "\n",
      "    Current Price   Old Date  Old Price                          Category   \n",
      "0           18029 2022-05-22      12699                   cep-telefonlari  \\\n",
      "1           14729 2022-05-23      13499                   oyun-konsollari   \n",
      "2           24999 2022-06-08      19798                   cep-telefonlari   \n",
      "3           46999 2022-05-23      27999                   cep-telefonlari   \n",
      "4            2689 2022-05-23       1851                bluetooth-kulaklik   \n",
      "5            4745 2022-06-07       4499                bluetooth-kulaklik   \n",
      "6             791 2022-05-23        301                          kulaklik   \n",
      "7             509 2022-05-22        510                            termos   \n",
      "8             749 2022-05-23        459                  kahve-makineleri   \n",
      "9           13999 2022-05-23       9885                  kahve-makineleri   \n",
      "10            334 2022-05-24        283                   baskul-tartilar   \n",
      "11            625 2022-05-22        399              tencere-tava-setleri   \n",
      "12            525 2022-05-25        456                            termos   \n",
      "13           1099 2022-06-16       1048                     spor-ayakkabi   \n",
      "14            489 2022-05-22        349                     spor-ayakkabi   \n",
      "15            299 2022-05-25        587  kadin-terlikleri-ve-sandaletleri   \n",
      "16            629 2022-05-23        449  kadin-terlikleri-ve-sandaletleri   \n",
      "17          20899 2022-05-23      15084                dizustu-bilgisayar   \n",
      "18          29860 2022-06-07      23029                dizustu-bilgisayar   \n",
      "19             24 2022-06-07         18                     dis-fircalari   \n",
      "20             27 2022-05-27         22                     dis-macunlari   \n",
      "21              5 2022-05-23          3                cok-satan-kitaplar   \n",
      "22             75 2022-05-23         36              sampuan-ve-sac-kremi   \n",
      "23             52 2022-06-06         59              sampuan-ve-sac-kremi   \n",
      "24             51 2022-05-23         57              sampuan-ve-sac-kremi   \n",
      "25             54 2022-06-04         42                          sabunlar   \n",
      "26             65 2022-05-23         68                          sabunlar   \n",
      "27             59 2022-06-06         35                sprey-deodorantlar   \n",
      "28             59 2022-05-23         32                sprey-deodorantlar   \n",
      "29           4259 2022-09-12       4249                     spor-ayakkabi   \n",
      "\n",
      "    Days Passed  Price Increase Percentage Price Increase Status  \n",
      "0           365                  29.563481             Increased  \n",
      "1           364                   8.350872             Increased  \n",
      "2           348                  20.804832             Increased  \n",
      "3           364                  40.426392      Highly Increased  \n",
      "4           364                  31.164001      Highly Increased  \n",
      "5           349                   5.184405             Increased  \n",
      "6           364                  61.946903   Extremely Increased  \n",
      "7           365                  -0.196464             Decreased  \n",
      "8           364                  38.718291      Highly Increased  \n",
      "9           364                  29.387813             Increased  \n",
      "10          363                  15.269461             Increased  \n",
      "11          365                  36.160000      Highly Increased  \n",
      "12          362                  13.142857             Increased  \n",
      "13          340                   4.640582                Stable  \n",
      "14          365                  28.629857             Increased  \n",
      "15          362                 -96.321070             Decreased  \n",
      "16          364                  28.616852             Increased  \n",
      "17          364                  27.824298             Increased  \n",
      "18          349                  22.876758             Increased  \n",
      "19          349                  25.000000             Increased  \n",
      "20          360                  18.518519             Increased  \n",
      "21          364                  40.000000      Highly Increased  \n",
      "22          364                  52.000000   Extremely Increased  \n",
      "23          350                 -13.461538             Decreased  \n",
      "24          364                 -11.764706             Decreased  \n",
      "25          352                  22.222222             Increased  \n",
      "26          364                  -4.615385             Decreased  \n",
      "27          350                  40.677966      Highly Increased  \n",
      "28          364                  45.762712      Highly Increased  \n",
      "29          252                   0.234797                Stable  \n"
     ]
    }
   ],
   "source": [
    "# Calculating the enflation according to the dataset that we have\n",
    "\n",
    "\n",
    "def inflationCalculator(df):\n",
    "    # Calculating the average price increase percentage\n",
    "    avgPriceIncreasePercentage = df['Price Increase Percentage'].mean()\n",
    "\n",
    "    print(\"Average Price Increase Percentage: \", avgPriceIncreasePercentage)\n",
    "    \n",
    "    # Calculating the inflation\n",
    "    inflation = avgPriceIncreasePercentage / 100 + 1  # 100 + 1 because the percentage is in the form of 1.05, 1.1, 1.15 etc.\n",
    "\n",
    "    inflationPercentage = (inflation - 1) * 100\n",
    "    \n",
    "    # Returning the inflation\n",
    "    return inflationPercentage\n",
    "\n",
    "print(\"Inflation: \", inflationCalculator(df))\n",
    "\n",
    "print(df.head(30))"
   ]
  }
 ],
 "metadata": {
  "kernelspec": {
   "display_name": "Python 3",
   "language": "python",
   "name": "python3"
  },
  "language_info": {
   "codemirror_mode": {
    "name": "ipython",
    "version": 3
   },
   "file_extension": ".py",
   "mimetype": "text/x-python",
   "name": "python",
   "nbconvert_exporter": "python",
   "pygments_lexer": "ipython3",
   "version": "3.10.4"
  },
  "orig_nbformat": 4
 },
 "nbformat": 4,
 "nbformat_minor": 2
}
