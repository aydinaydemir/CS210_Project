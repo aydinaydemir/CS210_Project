{
  "cells": [
    {
      "attachments": {},
      "cell_type": "markdown",
      "metadata": {
        "id": "6XbaI_juFFqH"
      },
      "source": [
        "# ***Evaluation of Official Inflation Rates on Youth's Shopping Cart in Turkey***\n",
        "\n",
        "---\n",
        "<center>\n",
        "<h1>Contributors:</h1>\n",
        "Aydın Aydemir<br>\n",
        "İrem Kök<br>\n",
        "Baran Pekkolay<br>\n",
        "Göktuğ Korkulu<br>\n",
        "Yağız Ay<br>\n",
        "Doğa Anık<br>\n",
        "</center>\n",
        "\n",
        "\n",
        "---\n",
        "\n",
        "### Introduction:\n",
        "Inflation is a measure of the rate of increase in the average price level of goods and services. It's a key economic indicator monitored by government agencies and central banks worldwide. In Turkey, the Turkish Statistical Institute (TUIK) is responsible for calculating and publishing the official inflation rates. The validity of these published inflation rates, however, may vary among different population segments, based on the specific basket of goods and services they consume.\n",
        "\n",
        "![TÜİK_logo.svg.png](data:image/png;base64,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)\n",
        "\n",
        "This project seeks to scrutinize the accuracy of TUIK's published inflation rates in the context of young people's consumer behavior in Turkey. It specifically aims to assess if these official inflation rates accurately reflect the price changes in goods and services frequently consumed by the younger generation.\n",
        "\n",
        "\n",
        "---\n",
        "\n"
      ]
    },
    {
      "attachments": {},
      "cell_type": "markdown",
      "metadata": {
        "id": "i5EP3jl9FIYn"
      },
      "source": [
        "# **Hypothesis**\n",
        "To conduct this research, we have stated the following hypotheses:\n",
        "\n",
        " \n",
        "\n",
        "*   Null Hypothesis (H0): Officially announced annual inflation rates are   \n",
        "    accurately reflecting the average price increase percentage on the youth generation's shopping cart.\n",
        "\n",
        "*   Alternative Hypothesis (H1): The officially announced annual inflation\n",
        "    rates are not accurately reflecting the average price increase percentage on the youth generation's shopping cart.\n",
        "<br>\n",
        "\n",
        "\n",
        "\n",
        "---\n",
        "\n"
      ]
    },
    {
      "attachments": {},
      "cell_type": "markdown",
      "metadata": {
        "id": "tJavdntRF4Se"
      },
      "source": [
        "# **Dataset(s)**\n",
        "\n",
        "***Youth's Shopping Cart Datase***t: This dataset represents the price data for goods and services frequently consumed by the youth in Turkey. The data was collected via web scraping using Selenium from two prominent platforms in Turkey\n",
        " \n",
        "\n",
        "1.   www.cimri.com\n",
        "2.   www.akakce.com\n",
        "\n",
        "The dataset comprises the prices of these goods and services on the specific date of 10.06.2023. The prices of items may vary; thus, the results might differ if the data collection process is performed on anoth\n",
        "\n",
        "\n",
        "\n",
        "\n",
        "##*Data Collection Process*:\n",
        "The web scraping process was done using Selenium, which allowed us to automate the web browsers and scrape the necessary information. Selenium was a suitable tool for this process as it could interact with the dynamic content on these web pages. The data from the two different platforms, cimri.com and akakce.com, were scraped independently and then concatenated together to form a single dataset.\n",
        "\n",
        "Web scraping was performed in a respectful and responsible way, adhering to the terms of service of the respective websites and not overloading the servers.\n",
        "\n",
        "\n",
        "---\n",
        "\n"
      ]
    },
    {
      "cell_type": "code",
      "execution_count": 190,
      "metadata": {
        "id": "y91hLfegFEwl"
      },
      "outputs": [],
      "source": [
        "# Neccesary import statements\n",
        "import pandas as pd\n",
        "import numpy as np\n",
        "import matplotlib.pyplot as plt\n",
        "import seaborn as sns\n",
        "import plotly.express as px\n",
        "import plotly.graph_objects as go\n",
        "from sklearn.preprocessing import StandardScaler\n",
        "from sklearn.cluster import KMeans\n",
        "from scipy.spatial.distance import cdist\n",
        "from sklearn.metrics import silhouette_score, calinski_harabasz_score"
      ]
    },
    {
      "attachments": {},
      "cell_type": "markdown",
      "metadata": {
        "id": "0GCCoUbnHZ4u"
      },
      "source": [
        "###*Data Concatenation*:\n",
        "Before proceeding with the Exploratory Data Analysis (EDA), the datasets from the two websites were concatenated into a single dataset. This allowed for a comprehensive and uniform analysis. The concatenation process was done ensuring the consistency and integrity of the data.\n",
        "\n",
        "This project involves a dynamic component as the prices of goods and services might fluctuate over time due to various factors. Therefore, the snapshot of the dataset represents the state of the market on 10.06.2023. The results derived from the analysis may vary if the same analysis is performed on a different date.\n",
        "\n",
        "\n",
        "---\n",
        "\n"
      ]
    },
    {
      "cell_type": "code",
      "execution_count": 191,
      "metadata": {
        "id": "nW01ZNzkFEwo",
        "outputId": "793402ca-6c6e-41be-f75f-a7095d926411"
      },
      "outputs": [
        {
          "name": "stdout",
          "output_type": "stream",
          "text": [
            "Number of rows:  445\n",
            "Number of columns:  6\n"
          ]
        }
      ],
      "source": [
        "file1Path = '../data/datasets/akakceProducts.csv'\n",
        "file2Path = '../data/datasets/cimriProducts.csv'\n",
        "\n",
        "df1 = pd.read_csv(file1Path)\n",
        "df2 = pd.read_csv(file2Path)\n",
        "\n",
        "##concat two dataframes with dropping the header row of the 2nd dataframe\n",
        "df = pd.concat([df1, df2], ignore_index=True)\n",
        "\n",
        "row , col = df.shape\n",
        "print(\"Number of rows: \", row)\n",
        "print(\"Number of columns: \", col)"
      ]
    },
    {
      "attachments": {},
      "cell_type": "markdown",
      "metadata": {
        "id": "ppT146rRNvAK"
      },
      "source": [
        "### **Some statistical properties of current dataframe.**\n",
        "\n",
        "\n",
        "---\n",
        "\n"
      ]
    },
    {
      "cell_type": "code",
      "execution_count": 192,
      "metadata": {
        "id": "2GhsCj3tFEwq",
        "outputId": "77d08234-8be0-4256-e729-3810de38cf60"
      },
      "outputs": [
        {
          "name": "stdout",
          "output_type": "stream",
          "text": [
            "<class 'pandas.core.frame.DataFrame'>\n",
            "RangeIndex: 445 entries, 0 to 444\n",
            "Data columns (total 6 columns):\n",
            " #   Column         Non-Null Count  Dtype \n",
            "---  ------         --------------  ----- \n",
            " 0   Product Name   445 non-null    object\n",
            " 1   Current Date   445 non-null    object\n",
            " 2   Current Price  445 non-null    int64 \n",
            " 3   Old Date       445 non-null    object\n",
            " 4   Old Price      445 non-null    int64 \n",
            " 5   Category       445 non-null    object\n",
            "dtypes: int64(2), object(4)\n",
            "memory usage: 21.0+ KB\n"
          ]
        }
      ],
      "source": [
        "# Showing the info of the dataframe\n",
        "df.info()"
      ]
    },
    {
      "attachments": {},
      "cell_type": "markdown",
      "metadata": {
        "id": "n8UD3NVvHmD5"
      },
      "source": [
        "#### Column descriptions\n",
        "* `Product Name`: Name of the product.\n",
        "* `Current Date`: The date when the dataset is formed.\n",
        "* `Current Price`: The price of the product when the dataset is formed.\n",
        "* `Old Date`: The oldest date that we can collect the price information.\n",
        "* `Old Price`: The oldest price information that we can collect\n",
        "* `Category`: Category of the product\n"
      ]
    },
    {
      "attachments": {},
      "cell_type": "markdown",
      "metadata": {
        "id": "vxe_v0KiIN4o"
      },
      "source": [
        "### **Are there any missing values? If yes, drop.**\n",
        "\n",
        "\n",
        "---\n",
        "\n"
      ]
    },
    {
      "cell_type": "code",
      "execution_count": 193,
      "metadata": {
        "id": "ra8Z1_c-FEwq",
        "outputId": "d188b61b-f78f-47e5-c4f8-6004ed38fb63"
      },
      "outputs": [
        {
          "data": {
            "text/plain": [
              "Product Name     0\n",
              "Current Date     0\n",
              "Current Price    0\n",
              "Old Date         0\n",
              "Old Price        0\n",
              "Category         0\n",
              "dtype: int64"
            ]
          },
          "execution_count": 193,
          "metadata": {},
          "output_type": "execute_result"
        }
      ],
      "source": [
        "# Checking the missing values if there is any\n",
        "df.isnull().sum()"
      ]
    },
    {
      "cell_type": "code",
      "execution_count": 194,
      "metadata": {
        "id": "iMxPhftqFEwq",
        "outputId": "8b27bd39-afff-4fde-f2b1-724aee2cc772"
      },
      "outputs": [
        {
          "name": "stdout",
          "output_type": "stream",
          "text": [
            "Number of duplicated rows:  21\n"
          ]
        }
      ],
      "source": [
        "# Filtering the duplicated rows and printing the head of the dataframe\n",
        "duplicates = df.duplicated()\n",
        "numDuplicates = duplicates.sum()\n",
        "\n",
        "print(\"Number of duplicated rows: \", numDuplicates)"
      ]
    },
    {
      "cell_type": "code",
      "execution_count": 195,
      "metadata": {
        "id": "ZzVsDEyeFEwr",
        "outputId": "17d3723f-ffa7-4bd7-d08d-dac635252f07"
      },
      "outputs": [
        {
          "name": "stdout",
          "output_type": "stream",
          "text": [
            "Number of rows after dropping the duplicated rows:  424\n",
            "Number of columns after dropping the duplicated rows:  6\n",
            "Number of rows dropped:  21\n"
          ]
        }
      ],
      "source": [
        "# Dropping the duplicated rows if there is any\n",
        "# Printing the number of rows and columns after dropping the duplicated rows\n",
        "wODuplicates = df[~duplicates]\n",
        "rowUpdated, col = wODuplicates.shape\n",
        "\n",
        "print(\"Number of rows after dropping the duplicated rows: \", rowUpdated)\n",
        "print(\"Number of columns after dropping the duplicated rows: \", col)\n",
        "print(\"Number of rows dropped: \", row - rowUpdated)"
      ]
    },
    {
      "cell_type": "code",
      "execution_count": 196,
      "metadata": {
        "id": "4GQI-lg3FEwr",
        "outputId": "dab0b326-c033-4dde-cb1e-b3542cd6d0e6"
      },
      "outputs": [
        {
          "name": "stdout",
          "output_type": "stream",
          "text": [
            "After double checking, number of duplicated rows:  0\n"
          ]
        }
      ],
      "source": [
        "# Double checking if there is any duplicated rows\n",
        "doubleCheckDf = wODuplicates.duplicated()\n",
        "numDoubleCheck = doubleCheckDf.sum()\n",
        "\n",
        "print(\"After double checking, number of duplicated rows: \", numDoubleCheck)"
      ]
    },
    {
      "attachments": {},
      "cell_type": "markdown",
      "metadata": {
        "id": "7-ejiZkxIV0i"
      },
      "source": [
        "### **Adding a new column that is the days between today and oldest date.**\n",
        "[ Current Date - Old Date ]\n",
        "\n",
        "\n",
        "---\n",
        "\n"
      ]
    },
    {
      "cell_type": "code",
      "execution_count": 197,
      "metadata": {
        "id": "4dtQ2hNSFEws"
      },
      "outputs": [],
      "source": [
        "# Converting the date columns to datetime format\n",
        "# Calculating the difference between the current date and the old date\n",
        "# Adding a new column to the dataframe which is the difference between the current date and the old date\n",
        "df = wODuplicates\n",
        "\n",
        "df['Current Date'] = pd.to_datetime(df['Current Date'], dayfirst=True)\n",
        "df['Old Date'] = pd.to_datetime(df['Old Date'], dayfirst=True)\n",
        "df['Days Passed'] = (df['Current Date'] - df['Old Date']).dt.days"
      ]
    },
    {
      "cell_type": "code",
      "execution_count": 198,
      "metadata": {
        "id": "eUWGKQ_yFEws",
        "outputId": "ce1e80d5-6c69-4dcb-d02d-c5d36019d5ff"
      },
      "outputs": [
        {
          "data": {
            "text/html": [
              "<div>\n",
              "<style scoped>\n",
              "    .dataframe tbody tr th:only-of-type {\n",
              "        vertical-align: middle;\n",
              "    }\n",
              "\n",
              "    .dataframe tbody tr th {\n",
              "        vertical-align: top;\n",
              "    }\n",
              "\n",
              "    .dataframe thead th {\n",
              "        text-align: right;\n",
              "    }\n",
              "</style>\n",
              "<table border=\"1\" class=\"dataframe\">\n",
              "  <thead>\n",
              "    <tr style=\"text-align: right;\">\n",
              "      <th></th>\n",
              "      <th>Product Name</th>\n",
              "      <th>Current Date</th>\n",
              "      <th>Current Price</th>\n",
              "      <th>Old Date</th>\n",
              "      <th>Old Price</th>\n",
              "      <th>Category</th>\n",
              "      <th>Days Passed</th>\n",
              "    </tr>\n",
              "  </thead>\n",
              "  <tbody>\n",
              "    <tr>\n",
              "      <th>0</th>\n",
              "      <td>SteelSeries Rival 3 RGB Kablolu Optik Oyuncu M...</td>\n",
              "      <td>2023-06-10</td>\n",
              "      <td>600</td>\n",
              "      <td>2022-06-10</td>\n",
              "      <td>289</td>\n",
              "      <td>mouse</td>\n",
              "      <td>365</td>\n",
              "    </tr>\n",
              "    <tr>\n",
              "      <th>1</th>\n",
              "      <td>SteelSeries Rival 5 RGB Kablolu Optik Oyuncu M...</td>\n",
              "      <td>2023-06-10</td>\n",
              "      <td>1199</td>\n",
              "      <td>2022-06-10</td>\n",
              "      <td>629</td>\n",
              "      <td>mouse</td>\n",
              "      <td>365</td>\n",
              "    </tr>\n",
              "    <tr>\n",
              "      <th>2</th>\n",
              "      <td>Pro Plan Sterilised Somonlu ve Ton Balıklı 10 ...</td>\n",
              "      <td>2023-06-10</td>\n",
              "      <td>1619</td>\n",
              "      <td>2022-06-10</td>\n",
              "      <td>760</td>\n",
              "      <td>kedi-mamasi</td>\n",
              "      <td>365</td>\n",
              "    </tr>\n",
              "    <tr>\n",
              "      <th>3</th>\n",
              "      <td>Nutella 750 gr Kakaolu Fındık Kreması</td>\n",
              "      <td>2023-06-10</td>\n",
              "      <td>95</td>\n",
              "      <td>2022-06-11</td>\n",
              "      <td>44</td>\n",
              "      <td>ezme-krem-cikolata</td>\n",
              "      <td>364</td>\n",
              "    </tr>\n",
              "    <tr>\n",
              "      <th>4</th>\n",
              "      <td>Royal Canin Sterilised 37 15 kg Kısırlaştırılm...</td>\n",
              "      <td>2023-06-10</td>\n",
              "      <td>1775</td>\n",
              "      <td>2022-06-10</td>\n",
              "      <td>975</td>\n",
              "      <td>kedi-mamasi</td>\n",
              "      <td>365</td>\n",
              "    </tr>\n",
              "  </tbody>\n",
              "</table>\n",
              "</div>"
            ],
            "text/plain": [
              "                                        Product Name Current Date   \n",
              "0  SteelSeries Rival 3 RGB Kablolu Optik Oyuncu M...   2023-06-10  \\\n",
              "1  SteelSeries Rival 5 RGB Kablolu Optik Oyuncu M...   2023-06-10   \n",
              "2  Pro Plan Sterilised Somonlu ve Ton Balıklı 10 ...   2023-06-10   \n",
              "3              Nutella 750 gr Kakaolu Fındık Kreması   2023-06-10   \n",
              "4  Royal Canin Sterilised 37 15 kg Kısırlaştırılm...   2023-06-10   \n",
              "\n",
              "   Current Price   Old Date  Old Price            Category  Days Passed  \n",
              "0            600 2022-06-10        289               mouse          365  \n",
              "1           1199 2022-06-10        629               mouse          365  \n",
              "2           1619 2022-06-10        760         kedi-mamasi          365  \n",
              "3             95 2022-06-11         44  ezme-krem-cikolata          364  \n",
              "4           1775 2022-06-10        975         kedi-mamasi          365  "
            ]
          },
          "execution_count": 198,
          "metadata": {},
          "output_type": "execute_result"
        }
      ],
      "source": [
        "# After cleaning the dataset, Exploring the dataset\n",
        "df.head()"
      ]
    },
    {
      "cell_type": "code",
      "execution_count": 199,
      "metadata": {
        "id": "Ax__nFdfFEwt",
        "outputId": "3dd8bdf0-66d3-436a-c209-49870e67e966"
      },
      "outputs": [
        {
          "data": {
            "text/html": [
              "<div>\n",
              "<style scoped>\n",
              "    .dataframe tbody tr th:only-of-type {\n",
              "        vertical-align: middle;\n",
              "    }\n",
              "\n",
              "    .dataframe tbody tr th {\n",
              "        vertical-align: top;\n",
              "    }\n",
              "\n",
              "    .dataframe thead th {\n",
              "        text-align: right;\n",
              "    }\n",
              "</style>\n",
              "<table border=\"1\" class=\"dataframe\">\n",
              "  <thead>\n",
              "    <tr style=\"text-align: right;\">\n",
              "      <th></th>\n",
              "      <th>Current Date</th>\n",
              "      <th>Current Price</th>\n",
              "      <th>Old Date</th>\n",
              "      <th>Old Price</th>\n",
              "      <th>Days Passed</th>\n",
              "    </tr>\n",
              "  </thead>\n",
              "  <tbody>\n",
              "    <tr>\n",
              "      <th>count</th>\n",
              "      <td>424</td>\n",
              "      <td>424.000000</td>\n",
              "      <td>424</td>\n",
              "      <td>424.000000</td>\n",
              "      <td>424.000000</td>\n",
              "    </tr>\n",
              "    <tr>\n",
              "      <th>mean</th>\n",
              "      <td>2023-06-09 06:47:32.830188800</td>\n",
              "      <td>2656.801887</td>\n",
              "      <td>2022-06-21 05:15:50.943396352</td>\n",
              "      <td>1839.313679</td>\n",
              "      <td>353.063679</td>\n",
              "    </tr>\n",
              "    <tr>\n",
              "      <th>min</th>\n",
              "      <td>2023-06-09 00:00:00</td>\n",
              "      <td>2.000000</td>\n",
              "      <td>2022-06-09 00:00:00</td>\n",
              "      <td>1.000000</td>\n",
              "      <td>39.000000</td>\n",
              "    </tr>\n",
              "    <tr>\n",
              "      <th>25%</th>\n",
              "      <td>2023-06-09 00:00:00</td>\n",
              "      <td>107.750000</td>\n",
              "      <td>2022-06-10 00:00:00</td>\n",
              "      <td>74.750000</td>\n",
              "      <td>359.000000</td>\n",
              "    </tr>\n",
              "    <tr>\n",
              "      <th>50%</th>\n",
              "      <td>2023-06-09 00:00:00</td>\n",
              "      <td>376.000000</td>\n",
              "      <td>2022-06-10 00:00:00</td>\n",
              "      <td>259.000000</td>\n",
              "      <td>364.000000</td>\n",
              "    </tr>\n",
              "    <tr>\n",
              "      <th>75%</th>\n",
              "      <td>2023-06-10 00:00:00</td>\n",
              "      <td>1634.750000</td>\n",
              "      <td>2022-06-15 00:00:00</td>\n",
              "      <td>1149.000000</td>\n",
              "      <td>365.000000</td>\n",
              "    </tr>\n",
              "    <tr>\n",
              "      <th>max</th>\n",
              "      <td>2023-06-10 00:00:00</td>\n",
              "      <td>49849.000000</td>\n",
              "      <td>2023-05-02 00:00:00</td>\n",
              "      <td>31329.000000</td>\n",
              "      <td>365.000000</td>\n",
              "    </tr>\n",
              "    <tr>\n",
              "      <th>std</th>\n",
              "      <td>NaN</td>\n",
              "      <td>5973.177317</td>\n",
              "      <td>NaN</td>\n",
              "      <td>3989.107391</td>\n",
              "      <td>37.530233</td>\n",
              "    </tr>\n",
              "  </tbody>\n",
              "</table>\n",
              "</div>"
            ],
            "text/plain": [
              "                        Current Date  Current Price   \n",
              "count                            424     424.000000  \\\n",
              "mean   2023-06-09 06:47:32.830188800    2656.801887   \n",
              "min              2023-06-09 00:00:00       2.000000   \n",
              "25%              2023-06-09 00:00:00     107.750000   \n",
              "50%              2023-06-09 00:00:00     376.000000   \n",
              "75%              2023-06-10 00:00:00    1634.750000   \n",
              "max              2023-06-10 00:00:00   49849.000000   \n",
              "std                              NaN    5973.177317   \n",
              "\n",
              "                            Old Date     Old Price  Days Passed  \n",
              "count                            424    424.000000   424.000000  \n",
              "mean   2022-06-21 05:15:50.943396352   1839.313679   353.063679  \n",
              "min              2022-06-09 00:00:00      1.000000    39.000000  \n",
              "25%              2022-06-10 00:00:00     74.750000   359.000000  \n",
              "50%              2022-06-10 00:00:00    259.000000   364.000000  \n",
              "75%              2022-06-15 00:00:00   1149.000000   365.000000  \n",
              "max              2023-05-02 00:00:00  31329.000000   365.000000  \n",
              "std                              NaN   3989.107391    37.530233  "
            ]
          },
          "execution_count": 199,
          "metadata": {},
          "output_type": "execute_result"
        }
      ],
      "source": [
        "# Showing the statistical information of the dataset\n",
        "df.describe()"
      ]
    },
    {
      "attachments": {},
      "cell_type": "markdown",
      "metadata": {
        "id": "nmT23q-QIurr"
      },
      "source": [
        "### **Adding a new column named Price Increase Percantage and inserting the values.**\n",
        "\n",
        "\n",
        "---\n",
        "\n",
        "\n"
      ]
    },
    {
      "cell_type": "code",
      "execution_count": 200,
      "metadata": {
        "id": "ktMT2YStFEwt",
        "outputId": "e7dcb5a3-3f3f-478d-e5d8-886b3e0cecb9"
      },
      "outputs": [
        {
          "data": {
            "text/html": [
              "<div>\n",
              "<style scoped>\n",
              "    .dataframe tbody tr th:only-of-type {\n",
              "        vertical-align: middle;\n",
              "    }\n",
              "\n",
              "    .dataframe tbody tr th {\n",
              "        vertical-align: top;\n",
              "    }\n",
              "\n",
              "    .dataframe thead th {\n",
              "        text-align: right;\n",
              "    }\n",
              "</style>\n",
              "<table border=\"1\" class=\"dataframe\">\n",
              "  <thead>\n",
              "    <tr style=\"text-align: right;\">\n",
              "      <th></th>\n",
              "      <th>Current Date</th>\n",
              "      <th>Current Price</th>\n",
              "      <th>Old Date</th>\n",
              "      <th>Old Price</th>\n",
              "      <th>Days Passed</th>\n",
              "      <th>Price Increase Percentage</th>\n",
              "    </tr>\n",
              "  </thead>\n",
              "  <tbody>\n",
              "    <tr>\n",
              "      <th>count</th>\n",
              "      <td>424</td>\n",
              "      <td>424.000000</td>\n",
              "      <td>424</td>\n",
              "      <td>424.000000</td>\n",
              "      <td>424.000000</td>\n",
              "      <td>424.000000</td>\n",
              "    </tr>\n",
              "    <tr>\n",
              "      <th>mean</th>\n",
              "      <td>2023-06-09 06:47:32.830188800</td>\n",
              "      <td>2656.801887</td>\n",
              "      <td>2022-06-21 05:15:50.943396352</td>\n",
              "      <td>1839.313679</td>\n",
              "      <td>353.063679</td>\n",
              "      <td>27.341911</td>\n",
              "    </tr>\n",
              "    <tr>\n",
              "      <th>min</th>\n",
              "      <td>2023-06-09 00:00:00</td>\n",
              "      <td>2.000000</td>\n",
              "      <td>2022-06-09 00:00:00</td>\n",
              "      <td>1.000000</td>\n",
              "      <td>39.000000</td>\n",
              "      <td>-75.145955</td>\n",
              "    </tr>\n",
              "    <tr>\n",
              "      <th>25%</th>\n",
              "      <td>2023-06-09 00:00:00</td>\n",
              "      <td>107.750000</td>\n",
              "      <td>2022-06-10 00:00:00</td>\n",
              "      <td>74.750000</td>\n",
              "      <td>359.000000</td>\n",
              "      <td>18.116650</td>\n",
              "    </tr>\n",
              "    <tr>\n",
              "      <th>50%</th>\n",
              "      <td>2023-06-09 00:00:00</td>\n",
              "      <td>376.000000</td>\n",
              "      <td>2022-06-10 00:00:00</td>\n",
              "      <td>259.000000</td>\n",
              "      <td>364.000000</td>\n",
              "      <td>31.084613</td>\n",
              "    </tr>\n",
              "    <tr>\n",
              "      <th>75%</th>\n",
              "      <td>2023-06-10 00:00:00</td>\n",
              "      <td>1634.750000</td>\n",
              "      <td>2022-06-15 00:00:00</td>\n",
              "      <td>1149.000000</td>\n",
              "      <td>365.000000</td>\n",
              "      <td>41.817688</td>\n",
              "    </tr>\n",
              "    <tr>\n",
              "      <th>max</th>\n",
              "      <td>2023-06-10 00:00:00</td>\n",
              "      <td>49849.000000</td>\n",
              "      <td>2023-05-02 00:00:00</td>\n",
              "      <td>31329.000000</td>\n",
              "      <td>365.000000</td>\n",
              "      <td>76.956522</td>\n",
              "    </tr>\n",
              "    <tr>\n",
              "      <th>std</th>\n",
              "      <td>NaN</td>\n",
              "      <td>5973.177317</td>\n",
              "      <td>NaN</td>\n",
              "      <td>3989.107391</td>\n",
              "      <td>37.530233</td>\n",
              "      <td>23.272023</td>\n",
              "    </tr>\n",
              "  </tbody>\n",
              "</table>\n",
              "</div>"
            ],
            "text/plain": [
              "                        Current Date  Current Price   \n",
              "count                            424     424.000000  \\\n",
              "mean   2023-06-09 06:47:32.830188800    2656.801887   \n",
              "min              2023-06-09 00:00:00       2.000000   \n",
              "25%              2023-06-09 00:00:00     107.750000   \n",
              "50%              2023-06-09 00:00:00     376.000000   \n",
              "75%              2023-06-10 00:00:00    1634.750000   \n",
              "max              2023-06-10 00:00:00   49849.000000   \n",
              "std                              NaN    5973.177317   \n",
              "\n",
              "                            Old Date     Old Price  Days Passed   \n",
              "count                            424    424.000000   424.000000  \\\n",
              "mean   2022-06-21 05:15:50.943396352   1839.313679   353.063679   \n",
              "min              2022-06-09 00:00:00      1.000000    39.000000   \n",
              "25%              2022-06-10 00:00:00     74.750000   359.000000   \n",
              "50%              2022-06-10 00:00:00    259.000000   364.000000   \n",
              "75%              2022-06-15 00:00:00   1149.000000   365.000000   \n",
              "max              2023-05-02 00:00:00  31329.000000   365.000000   \n",
              "std                              NaN   3989.107391    37.530233   \n",
              "\n",
              "       Price Increase Percentage  \n",
              "count                 424.000000  \n",
              "mean                   27.341911  \n",
              "min                   -75.145955  \n",
              "25%                    18.116650  \n",
              "50%                    31.084613  \n",
              "75%                    41.817688  \n",
              "max                    76.956522  \n",
              "std                    23.272023  "
            ]
          },
          "execution_count": 200,
          "metadata": {},
          "output_type": "execute_result"
        }
      ],
      "source": [
        "df['Price Increase Percentage'] = (df['Current Price'] - df['Old Price']) / df['Current Price'] * 100\n",
        "\n",
        "# Showing the statistical information of the dataset\n",
        "df.describe()"
      ]
    },
    {
      "cell_type": "code",
      "execution_count": 201,
      "metadata": {
        "id": "MCsjgYt3FEwu",
        "outputId": "13f35852-24e7-4b6d-d16e-3fd737119789"
      },
      "outputs": [
        {
          "data": {
            "text/html": [
              "<div>\n",
              "<style scoped>\n",
              "    .dataframe tbody tr th:only-of-type {\n",
              "        vertical-align: middle;\n",
              "    }\n",
              "\n",
              "    .dataframe tbody tr th {\n",
              "        vertical-align: top;\n",
              "    }\n",
              "\n",
              "    .dataframe thead th {\n",
              "        text-align: right;\n",
              "    }\n",
              "</style>\n",
              "<table border=\"1\" class=\"dataframe\">\n",
              "  <thead>\n",
              "    <tr style=\"text-align: right;\">\n",
              "      <th></th>\n",
              "      <th>Product Name</th>\n",
              "      <th>Current Date</th>\n",
              "      <th>Current Price</th>\n",
              "      <th>Old Date</th>\n",
              "      <th>Old Price</th>\n",
              "      <th>Category</th>\n",
              "      <th>Days Passed</th>\n",
              "      <th>Price Increase Percentage</th>\n",
              "    </tr>\n",
              "  </thead>\n",
              "  <tbody>\n",
              "    <tr>\n",
              "      <th>126</th>\n",
              "      <td>Apple iPhone 13 Pro Max 5G 128GB 6GB Ram 6.7 i...</td>\n",
              "      <td>2023-06-09</td>\n",
              "      <td>49849</td>\n",
              "      <td>2022-06-10</td>\n",
              "      <td>31329</td>\n",
              "      <td>cep-telefonlari</td>\n",
              "      <td>364</td>\n",
              "      <td>37.152200</td>\n",
              "    </tr>\n",
              "    <tr>\n",
              "      <th>142</th>\n",
              "      <td>Apple Macbook Pro MYD82TU-A M1 8GB Ram 256GB S...</td>\n",
              "      <td>2023-06-09</td>\n",
              "      <td>34999</td>\n",
              "      <td>2022-06-10</td>\n",
              "      <td>21380</td>\n",
              "      <td>dizustu-bilgisayar</td>\n",
              "      <td>364</td>\n",
              "      <td>38.912540</td>\n",
              "    </tr>\n",
              "    <tr>\n",
              "      <th>17</th>\n",
              "      <td>iPhone 13 128 GB Yıldız Işığı</td>\n",
              "      <td>2023-06-10</td>\n",
              "      <td>32999</td>\n",
              "      <td>2022-06-10</td>\n",
              "      <td>17799</td>\n",
              "      <td>cep-telefonu</td>\n",
              "      <td>365</td>\n",
              "      <td>46.062002</td>\n",
              "    </tr>\n",
              "  </tbody>\n",
              "</table>\n",
              "</div>"
            ],
            "text/plain": [
              "                                          Product Name Current Date   \n",
              "126  Apple iPhone 13 Pro Max 5G 128GB 6GB Ram 6.7 i...   2023-06-09  \\\n",
              "142  Apple Macbook Pro MYD82TU-A M1 8GB Ram 256GB S...   2023-06-09   \n",
              "17                       iPhone 13 128 GB Yıldız Işığı   2023-06-10   \n",
              "\n",
              "     Current Price   Old Date  Old Price            Category  Days Passed   \n",
              "126          49849 2022-06-10      31329     cep-telefonlari          364  \\\n",
              "142          34999 2022-06-10      21380  dizustu-bilgisayar          364   \n",
              "17           32999 2022-06-10      17799        cep-telefonu          365   \n",
              "\n",
              "     Price Increase Percentage  \n",
              "126                  37.152200  \n",
              "142                  38.912540  \n",
              "17                   46.062002  "
            ]
          },
          "execution_count": 201,
          "metadata": {},
          "output_type": "execute_result"
        }
      ],
      "source": [
        "# Creating a new dataframe named \"df2\"\n",
        "# It will be sorted version of the \"df\" dataframe\n",
        "# Sorting according to the \"Current Price\" column (descending order)\n",
        "# Showing 3 products with the highest current price\n",
        "df2 = df.sort_values(by=['Current Price'], ascending=False)\n",
        "\n",
        "df2.head(3)"
      ]
    },
    {
      "cell_type": "code",
      "execution_count": 202,
      "metadata": {
        "id": "zwKC6R6fFEwu",
        "outputId": "2efd0e22-2945-4a1b-d226-ebce0950c32e"
      },
      "outputs": [
        {
          "data": {
            "text/html": [
              "<div>\n",
              "<style scoped>\n",
              "    .dataframe tbody tr th:only-of-type {\n",
              "        vertical-align: middle;\n",
              "    }\n",
              "\n",
              "    .dataframe tbody tr th {\n",
              "        vertical-align: top;\n",
              "    }\n",
              "\n",
              "    .dataframe thead th {\n",
              "        text-align: right;\n",
              "    }\n",
              "</style>\n",
              "<table border=\"1\" class=\"dataframe\">\n",
              "  <thead>\n",
              "    <tr style=\"text-align: right;\">\n",
              "      <th></th>\n",
              "      <th>Product Name</th>\n",
              "      <th>Current Date</th>\n",
              "      <th>Current Price</th>\n",
              "      <th>Old Date</th>\n",
              "      <th>Old Price</th>\n",
              "      <th>Category</th>\n",
              "      <th>Days Passed</th>\n",
              "      <th>Price Increase Percentage</th>\n",
              "    </tr>\n",
              "  </thead>\n",
              "  <tbody>\n",
              "    <tr>\n",
              "      <th>241</th>\n",
              "      <td>Xiaomi 20000 mAh 2.1A - 3A Çift Çıkışlı Taşına...</td>\n",
              "      <td>2023-06-09</td>\n",
              "      <td>690</td>\n",
              "      <td>2022-06-10</td>\n",
              "      <td>159</td>\n",
              "      <td>tasinabilir-sarj-cihazi-powerbank</td>\n",
              "      <td>364</td>\n",
              "      <td>76.956522</td>\n",
              "    </tr>\n",
              "    <tr>\n",
              "      <th>411</th>\n",
              "      <td>HP 106A-W1106A Orjinal Toner</td>\n",
              "      <td>2023-06-09</td>\n",
              "      <td>410</td>\n",
              "      <td>2022-06-11</td>\n",
              "      <td>108</td>\n",
              "      <td>tonerler</td>\n",
              "      <td>363</td>\n",
              "      <td>73.658537</td>\n",
              "    </tr>\n",
              "    <tr>\n",
              "      <th>260</th>\n",
              "      <td>Assassins Creed III Special Edition PC</td>\n",
              "      <td>2023-06-09</td>\n",
              "      <td>323</td>\n",
              "      <td>2022-06-22</td>\n",
              "      <td>89</td>\n",
              "      <td>bilgisayar-oyunlari</td>\n",
              "      <td>352</td>\n",
              "      <td>72.445820</td>\n",
              "    </tr>\n",
              "  </tbody>\n",
              "</table>\n",
              "</div>"
            ],
            "text/plain": [
              "                                          Product Name Current Date   \n",
              "241  Xiaomi 20000 mAh 2.1A - 3A Çift Çıkışlı Taşına...   2023-06-09  \\\n",
              "411                       HP 106A-W1106A Orjinal Toner   2023-06-09   \n",
              "260             Assassins Creed III Special Edition PC   2023-06-09   \n",
              "\n",
              "     Current Price   Old Date  Old Price                           Category   \n",
              "241            690 2022-06-10        159  tasinabilir-sarj-cihazi-powerbank  \\\n",
              "411            410 2022-06-11        108                           tonerler   \n",
              "260            323 2022-06-22         89                bilgisayar-oyunlari   \n",
              "\n",
              "     Days Passed  Price Increase Percentage  \n",
              "241          364                  76.956522  \n",
              "411          363                  73.658537  \n",
              "260          352                  72.445820  "
            ]
          },
          "execution_count": 202,
          "metadata": {},
          "output_type": "execute_result"
        }
      ],
      "source": [
        "# Creating a new dataframe named \"df3\"\n",
        "# It will be sorted version of the \"df\" dataframe\n",
        "# Sorting according to the \"Price Increase Percentage\" column (descending order)\n",
        "# Showing 3 products with the highest price increase percentage\n",
        "df3 = df.sort_values(by=['Price Increase Percentage'], ascending=False)\n",
        "\n",
        "df3.head(3)"
      ]
    },
    {
      "attachments": {},
      "cell_type": "markdown",
      "metadata": {
        "id": "NeDKOInML9rs"
      },
      "source": [
        "### **Plotting the \"Current Price\" Histogram**\n",
        "\n",
        "\n",
        "---\n",
        "\n"
      ]
    },
    {
      "cell_type": "code",
      "execution_count": 203,
      "metadata": {
        "id": "7riYqDEvFEwu",
        "outputId": "e56176ab-193d-43d7-a010-ac1a14fdd563"
      },
      "outputs": [
        {
          "data": {
            "image/png": "[encoded data removed]",
            "text/plain": [
              "<Figure size 640x480 with 1 Axes>"
            ]
          },
          "metadata": {},
          "output_type": "display_data"
        }
      ],
      "source": [
        "# Creating a histogram for the \"Current Price\" column with bins=25\n",
        "plt.hist(df['Current Price'], bins=25)\n",
        "plt.title(\"Current Price Histogram\")\n",
        "plt.xlabel(\"Current Price\")\n",
        "plt.ylabel(\"Frequency\")\n",
        "tick_positions = np.linspace(df['Current Price'].min(), df['Current Price'].max(), 10)\n",
        "plt.xticks(rotation=45)\n",
        "plt.xticks(tick_positions)\n",
        "\n",
        "plt.show()"
      ]
    },
    {
      "cell_type": "code",
      "execution_count": 204,
      "metadata": {
        "id": "WbZUo0mRFEwv",
        "outputId": "9fa8a331-66c9-4452-eddd-b67be859d809"
      },
      "outputs": [
        {
          "name": "stdout",
          "output_type": "stream",
          "text": [
            "count      424.000000\n",
            "mean      2656.801887\n",
            "std       5973.177317\n",
            "min          2.000000\n",
            "25%        107.750000\n",
            "50%        376.000000\n",
            "75%       1634.750000\n",
            "max      49849.000000\n",
            "Name: Current Price, dtype: float64\n"
          ]
        }
      ],
      "source": [
        "# Showing the statistical information of the \"Current Price\" column\n",
        "print(df['Current Price'].describe())"
      ]
    },
    {
      "attachments": {},
      "cell_type": "markdown",
      "metadata": {
        "id": "Fwucz0sYMCWQ"
      },
      "source": [
        "### **Plotting the \"Old Price\" Histogram**\n",
        "\n",
        "\n",
        "---\n",
        "\n"
      ]
    },
    {
      "cell_type": "code",
      "execution_count": 205,
      "metadata": {
        "id": "DWkpXbxCFEwv",
        "outputId": "3d583ecb-4520-4478-8db5-c3dc9552d0b1"
      },
      "outputs": [
        {
          "data": {
            "image/png": "[encoded data removed]",
            "text/plain": [
              "<Figure size 640x480 with 1 Axes>"
            ]
          },
          "metadata": {},
          "output_type": "display_data"
        }
      ],
      "source": [
        "# Creating a histogram for the \"Old Price\" column with bins=25\n",
        "plt.hist(df['Old Price'], bins=25)\n",
        "plt.title(\"Current Price Histogram\")\n",
        "plt.xlabel(\"Current Price\")\n",
        "plt.ylabel(\"Frequency\")\n",
        "tick_positions = np.linspace(df['Old Price'].min(), df['Old Price'].max(), 10)\n",
        "plt.xticks(rotation=45)\n",
        "plt.xticks(tick_positions)\n",
        "plt.show()"
      ]
    },
    {
      "cell_type": "code",
      "execution_count": 206,
      "metadata": {
        "id": "r9sdywUXFEwv",
        "outputId": "f264e8c8-63d7-43df-d2e6-cb46c366735c"
      },
      "outputs": [
        {
          "name": "stdout",
          "output_type": "stream",
          "text": [
            "count      424.000000\n",
            "mean      1839.313679\n",
            "std       3989.107391\n",
            "min          1.000000\n",
            "25%         74.750000\n",
            "50%        259.000000\n",
            "75%       1149.000000\n",
            "max      31329.000000\n",
            "Name: Old Price, dtype: float64\n"
          ]
        }
      ],
      "source": [
        "# Showing the statistical information of the \"Old Price\" column\n",
        "print(df['Old Price'].describe())"
      ]
    },
    {
      "attachments": {},
      "cell_type": "markdown",
      "metadata": {
        "id": "vdHog-ixMNeI"
      },
      "source": [
        "### **Plotting Correlation Heatmap Between ['Old Price', 'Current Price', 'Price Increase Percentage']**\n",
        "\n",
        "\n",
        "---\n",
        "\n"
      ]
    },
    {
      "cell_type": "code",
      "execution_count": 207,
      "metadata": {
        "id": "k9zYVgeJFEwv",
        "outputId": "0baed319-1927-477c-a4ff-cb1095bef5ba"
      },
      "outputs": [
        {
          "data": {
            "application/vnd.plotly.v1+json": {
              "config": {
                "plotlyServerURL": "https://plot.ly"
              },
              "data": [
                {
                  "colorscale": [
                    [
                      0,
                      "rgb(103,0,31)"
                    ],
                    [
                      0.1,
                      "rgb(178,24,43)"
                    ],
                    [
                      0.2,
                      "rgb(214,96,77)"
                    ],
                    [
                      0.3,
                      "rgb(244,165,130)"
                    ],
                    [
                      0.4,
                      "rgb(253,219,199)"
                    ],
                    [
                      0.5,
                      "rgb(247,247,247)"
                    ],
                    [
                      0.6,
                      "rgb(209,229,240)"
                    ],
                    [
                      0.7,
                      "rgb(146,197,222)"
                    ],
                    [
                      0.8,
                      "rgb(67,147,195)"
                    ],
                    [
                      0.9,
                      "rgb(33,102,172)"
                    ],
                    [
                      1,
                      "rgb(5,48,97)"
                    ]
                  ],
                  "hoverongaps": false,
                  "type": "heatmap",
                  "x": [
                    "Old Price",
                    "Current Price",
                    "Price Increase Percentage"
                  ],
                  "y": [
                    "Old Price",
                    "Current Price",
                    "Price Increase Percentage"
                  ],
                  "z": [
                    [
                      1,
                      0.9698498125906567,
                      -0.046308531536308574
                    ],
                    [
                      0.9698498125906567,
                      1,
                      0.06566754993307138
                    ],
                    [
                      -0.046308531536308574,
                      0.06566754993307138,
                      1
                    ]
                  ]
                }
              ],
              "layout": {
                "autosize": false,
                "height": 500,
                "margin": {
                  "b": 100,
                  "l": 100,
                  "r": 100,
                  "t": 100
                },
                "template": {
                  "data": {
                    "bar": [
                      {
                        "error_x": {
                          "color": "#2a3f5f"
                        },
                        "error_y": {
                          "color": "#2a3f5f"
                        },
                        "marker": {
                          "line": {
                            "color": "#E5ECF6",
                            "width": 0.5
                          },
                          "pattern": {
                            "fillmode": "overlay",
                            "size": 10,
                            "solidity": 0.2
                          }
                        },
                        "type": "bar"
                      }
                    ],
                    "barpolar": [
                      {
                        "marker": {
                          "line": {
                            "color": "#E5ECF6",
                            "width": 0.5
                          },
                          "pattern": {
                            "fillmode": "overlay",
                            "size": 10,
                            "solidity": 0.2
                          }
                        },
                        "type": "barpolar"
                      }
                    ],
                    "carpet": [
                      {
                        "aaxis": {
                          "endlinecolor": "#2a3f5f",
                          "gridcolor": "white",
                          "linecolor": "white",
                          "minorgridcolor": "white",
                          "startlinecolor": "#2a3f5f"
                        },
                        "baxis": {
                          "endlinecolor": "#2a3f5f",
                          "gridcolor": "white",
                          "linecolor": "white",
                          "minorgridcolor": "white",
                          "startlinecolor": "#2a3f5f"
                        },
                        "type": "carpet"
                      }
                    ],
                    "choropleth": [
                      {
                        "colorbar": {
                          "outlinewidth": 0,
                          "ticks": ""
                        },
                        "type": "choropleth"
                      }
                    ],
                    "contour": [
                      {
                        "colorbar": {
                          "outlinewidth": 0,
                          "ticks": ""
                        },
                        "colorscale": [
                          [
                            0,
                            "#0d0887"
                          ],
                          [
                            0.1111111111111111,
                            "#46039f"
                          ],
                          [
                            0.2222222222222222,
                            "#7201a8"
                          ],
                          [
                            0.3333333333333333,
                            "#9c179e"
                          ],
                          [
                            0.4444444444444444,
                            "#bd3786"
                          ],
                          [
                            0.5555555555555556,
                            "#d8576b"
                          ],
                          [
                            0.6666666666666666,
                            "#ed7953"
                          ],
                          [
                            0.7777777777777778,
                            "#fb9f3a"
                          ],
                          [
                            0.8888888888888888,
                            "#fdca26"
                          ],
                          [
                            1,
                            "#f0f921"
                          ]
                        ],
                        "type": "contour"
                      }
                    ],
                    "contourcarpet": [
                      {
                        "colorbar": {
                          "outlinewidth": 0,
                          "ticks": ""
                        },
                        "type": "contourcarpet"
                      }
                    ],
                    "heatmap": [
                      {
                        "colorbar": {
                          "outlinewidth": 0,
                          "ticks": ""
                        },
                        "colorscale": [
                          [
                            0,
                            "#0d0887"
                          ],
                          [
                            0.1111111111111111,
                            "#46039f"
                          ],
                          [
                            0.2222222222222222,
                            "#7201a8"
                          ],
                          [
                            0.3333333333333333,
                            "#9c179e"
                          ],
                          [
                            0.4444444444444444,
                            "#bd3786"
                          ],
                          [
                            0.5555555555555556,
                            "#d8576b"
                          ],
                          [
                            0.6666666666666666,
                            "#ed7953"
                          ],
                          [
                            0.7777777777777778,
                            "#fb9f3a"
                          ],
                          [
                            0.8888888888888888,
                            "#fdca26"
                          ],
                          [
                            1,
                            "#f0f921"
                          ]
                        ],
                        "type": "heatmap"
                      }
                    ],
                    "heatmapgl": [
                      {
                        "colorbar": {
                          "outlinewidth": 0,
                          "ticks": ""
                        },
                        "colorscale": [
                          [
                            0,
                            "#0d0887"
                          ],
                          [
                            0.1111111111111111,
                            "#46039f"
                          ],
                          [
                            0.2222222222222222,
                            "#7201a8"
                          ],
                          [
                            0.3333333333333333,
                            "#9c179e"
                          ],
                          [
                            0.4444444444444444,
                            "#bd3786"
                          ],
                          [
                            0.5555555555555556,
                            "#d8576b"
                          ],
                          [
                            0.6666666666666666,
                            "#ed7953"
                          ],
                          [
                            0.7777777777777778,
                            "#fb9f3a"
                          ],
                          [
                            0.8888888888888888,
                            "#fdca26"
                          ],
                          [
                            1,
                            "#f0f921"
                          ]
                        ],
                        "type": "heatmapgl"
                      }
                    ],
                    "histogram": [
                      {
                        "marker": {
                          "pattern": {
                            "fillmode": "overlay",
                            "size": 10,
                            "solidity": 0.2
                          }
                        },
                        "type": "histogram"
                      }
                    ],
                    "histogram2d": [
                      {
                        "colorbar": {
                          "outlinewidth": 0,
                          "ticks": ""
                        },
                        "colorscale": [
                          [
                            0,
                            "#0d0887"
                          ],
                          [
                            0.1111111111111111,
                            "#46039f"
                          ],
                          [
                            0.2222222222222222,
                            "#7201a8"
                          ],
                          [
                            0.3333333333333333,
                            "#9c179e"
                          ],
                          [
                            0.4444444444444444,
                            "#bd3786"
                          ],
                          [
                            0.5555555555555556,
                            "#d8576b"
                          ],
                          [
                            0.6666666666666666,
                            "#ed7953"
                          ],
                          [
                            0.7777777777777778,
                            "#fb9f3a"
                          ],
                          [
                            0.8888888888888888,
                            "#fdca26"
                          ],
                          [
                            1,
                            "#f0f921"
                          ]
                        ],
                        "type": "histogram2d"
                      }
                    ],
                    "histogram2dcontour": [
                      {
                        "colorbar": {
                          "outlinewidth": 0,
                          "ticks": ""
                        },
                        "colorscale": [
                          [
                            0,
                            "#0d0887"
                          ],
                          [
                            0.1111111111111111,
                            "#46039f"
                          ],
                          [
                            0.2222222222222222,
                            "#7201a8"
                          ],
                          [
                            0.3333333333333333,
                            "#9c179e"
                          ],
                          [
                            0.4444444444444444,
                            "#bd3786"
                          ],
                          [
                            0.5555555555555556,
                            "#d8576b"
                          ],
                          [
                            0.6666666666666666,
                            "#ed7953"
                          ],
                          [
                            0.7777777777777778,
                            "#fb9f3a"
                          ],
                          [
                            0.8888888888888888,
                            "#fdca26"
                          ],
                          [
                            1,
                            "#f0f921"
                          ]
                        ],
                        "type": "histogram2dcontour"
                      }
                    ],
                    "mesh3d": [
                      {
                        "colorbar": {
                          "outlinewidth": 0,
                          "ticks": ""
                        },
                        "type": "mesh3d"
                      }
                    ],
                    "parcoords": [
                      {
                        "line": {
                          "colorbar": {
                            "outlinewidth": 0,
                            "ticks": ""
                          }
                        },
                        "type": "parcoords"
                      }
                    ],
                    "pie": [
                      {
                        "automargin": true,
                        "type": "pie"
                      }
                    ],
                    "scatter": [
                      {
                        "fillpattern": {
                          "fillmode": "overlay",
                          "size": 10,
                          "solidity": 0.2
                        },
                        "type": "scatter"
                      }
                    ],
                    "scatter3d": [
                      {
                        "line": {
                          "colorbar": {
                            "outlinewidth": 0,
                            "ticks": ""
                          }
                        },
                        "marker": {
                          "colorbar": {
                            "outlinewidth": 0,
                            "ticks": ""
                          }
                        },
                        "type": "scatter3d"
                      }
                    ],
                    "scattercarpet": [
                      {
                        "marker": {
                          "colorbar": {
                            "outlinewidth": 0,
                            "ticks": ""
                          }
                        },
                        "type": "scattercarpet"
                      }
                    ],
                    "scattergeo": [
                      {
                        "marker": {
                          "colorbar": {
                            "outlinewidth": 0,
                            "ticks": ""
                          }
                        },
                        "type": "scattergeo"
                      }
                    ],
                    "scattergl": [
                      {
                        "marker": {
                          "colorbar": {
                            "outlinewidth": 0,
                            "ticks": ""
                          }
                        },
                        "type": "scattergl"
                      }
                    ],
                    "scattermapbox": [
                      {
                        "marker": {
                          "colorbar": {
                            "outlinewidth": 0,
                            "ticks": ""
                          }
                        },
                        "type": "scattermapbox"
                      }
                    ],
                    "scatterpolar": [
                      {
                        "marker": {
                          "colorbar": {
                            "outlinewidth": 0,
                            "ticks": ""
                          }
                        },
                        "type": "scatterpolar"
                      }
                    ],
                    "scatterpolargl": [
                      {
                        "marker": {
                          "colorbar": {
                            "outlinewidth": 0,
                            "ticks": ""
                          }
                        },
                        "type": "scatterpolargl"
                      }
                    ],
                    "scatterternary": [
                      {
                        "marker": {
                          "colorbar": {
                            "outlinewidth": 0,
                            "ticks": ""
                          }
                        },
                        "type": "scatterternary"
                      }
                    ],
                    "surface": [
                      {
                        "colorbar": {
                          "outlinewidth": 0,
                          "ticks": ""
                        },
                        "colorscale": [
                          [
                            0,
                            "#0d0887"
                          ],
                          [
                            0.1111111111111111,
                            "#46039f"
                          ],
                          [
                            0.2222222222222222,
                            "#7201a8"
                          ],
                          [
                            0.3333333333333333,
                            "#9c179e"
                          ],
                          [
                            0.4444444444444444,
                            "#bd3786"
                          ],
                          [
                            0.5555555555555556,
                            "#d8576b"
                          ],
                          [
                            0.6666666666666666,
                            "#ed7953"
                          ],
                          [
                            0.7777777777777778,
                            "#fb9f3a"
                          ],
                          [
                            0.8888888888888888,
                            "#fdca26"
                          ],
                          [
                            1,
                            "#f0f921"
                          ]
                        ],
                        "type": "surface"
                      }
                    ],
                    "table": [
                      {
                        "cells": {
                          "fill": {
                            "color": "#EBF0F8"
                          },
                          "line": {
                            "color": "white"
                          }
                        },
                        "header": {
                          "fill": {
                            "color": "#C8D4E3"
                          },
                          "line": {
                            "color": "white"
                          }
                        },
                        "type": "table"
                      }
                    ]
                  },
                  "layout": {
                    "annotationdefaults": {
                      "arrowcolor": "#2a3f5f",
                      "arrowhead": 0,
                      "arrowwidth": 1
                    },
                    "autotypenumbers": "strict",
                    "coloraxis": {
                      "colorbar": {
                        "outlinewidth": 0,
                        "ticks": ""
                      }
                    },
                    "colorscale": {
                      "diverging": [
                        [
                          0,
                          "#8e0152"
                        ],
                        [
                          0.1,
                          "#c51b7d"
                        ],
                        [
                          0.2,
                          "#de77ae"
                        ],
                        [
                          0.3,
                          "#f1b6da"
                        ],
                        [
                          0.4,
                          "#fde0ef"
                        ],
                        [
                          0.5,
                          "#f7f7f7"
                        ],
                        [
                          0.6,
                          "#e6f5d0"
                        ],
                        [
                          0.7,
                          "#b8e186"
                        ],
                        [
                          0.8,
                          "#7fbc41"
                        ],
                        [
                          0.9,
                          "#4d9221"
                        ],
                        [
                          1,
                          "#276419"
                        ]
                      ],
                      "sequential": [
                        [
                          0,
                          "#0d0887"
                        ],
                        [
                          0.1111111111111111,
                          "#46039f"
                        ],
                        [
                          0.2222222222222222,
                          "#7201a8"
                        ],
                        [
                          0.3333333333333333,
                          "#9c179e"
                        ],
                        [
                          0.4444444444444444,
                          "#bd3786"
                        ],
                        [
                          0.5555555555555556,
                          "#d8576b"
                        ],
                        [
                          0.6666666666666666,
                          "#ed7953"
                        ],
                        [
                          0.7777777777777778,
                          "#fb9f3a"
                        ],
                        [
                          0.8888888888888888,
                          "#fdca26"
                        ],
                        [
                          1,
                          "#f0f921"
                        ]
                      ],
                      "sequentialminus": [
                        [
                          0,
                          "#0d0887"
                        ],
                        [
                          0.1111111111111111,
                          "#46039f"
                        ],
                        [
                          0.2222222222222222,
                          "#7201a8"
                        ],
                        [
                          0.3333333333333333,
                          "#9c179e"
                        ],
                        [
                          0.4444444444444444,
                          "#bd3786"
                        ],
                        [
                          0.5555555555555556,
                          "#d8576b"
                        ],
                        [
                          0.6666666666666666,
                          "#ed7953"
                        ],
                        [
                          0.7777777777777778,
                          "#fb9f3a"
                        ],
                        [
                          0.8888888888888888,
                          "#fdca26"
                        ],
                        [
                          1,
                          "#f0f921"
                        ]
                      ]
                    },
                    "colorway": [
                      "#636efa",
                      "#EF553B",
                      "#00cc96",
                      "#ab63fa",
                      "#FFA15A",
                      "#19d3f3",
                      "#FF6692",
                      "#B6E880",
                      "#FF97FF",
                      "#FECB52"
                    ],
                    "font": {
                      "color": "#2a3f5f"
                    },
                    "geo": {
                      "bgcolor": "white",
                      "lakecolor": "white",
                      "landcolor": "#E5ECF6",
                      "showlakes": true,
                      "showland": true,
                      "subunitcolor": "white"
                    },
                    "hoverlabel": {
                      "align": "left"
                    },
                    "hovermode": "closest",
                    "mapbox": {
                      "style": "light"
                    },
                    "paper_bgcolor": "white",
                    "plot_bgcolor": "#E5ECF6",
                    "polar": {
                      "angularaxis": {
                        "gridcolor": "white",
                        "linecolor": "white",
                        "ticks": ""
                      },
                      "bgcolor": "#E5ECF6",
                      "radialaxis": {
                        "gridcolor": "white",
                        "linecolor": "white",
                        "ticks": ""
                      }
                    },
                    "scene": {
                      "xaxis": {
                        "backgroundcolor": "#E5ECF6",
                        "gridcolor": "white",
                        "gridwidth": 2,
                        "linecolor": "white",
                        "showbackground": true,
                        "ticks": "",
                        "zerolinecolor": "white"
                      },
                      "yaxis": {
                        "backgroundcolor": "#E5ECF6",
                        "gridcolor": "white",
                        "gridwidth": 2,
                        "linecolor": "white",
                        "showbackground": true,
                        "ticks": "",
                        "zerolinecolor": "white"
                      },
                      "zaxis": {
                        "backgroundcolor": "#E5ECF6",
                        "gridcolor": "white",
                        "gridwidth": 2,
                        "linecolor": "white",
                        "showbackground": true,
                        "ticks": "",
                        "zerolinecolor": "white"
                      }
                    },
                    "shapedefaults": {
                      "line": {
                        "color": "#2a3f5f"
                      }
                    },
                    "ternary": {
                      "aaxis": {
                        "gridcolor": "white",
                        "linecolor": "white",
                        "ticks": ""
                      },
                      "baxis": {
                        "gridcolor": "white",
                        "linecolor": "white",
                        "ticks": ""
                      },
                      "bgcolor": "#E5ECF6",
                      "caxis": {
                        "gridcolor": "white",
                        "linecolor": "white",
                        "ticks": ""
                      }
                    },
                    "title": {
                      "x": 0.05
                    },
                    "xaxis": {
                      "automargin": true,
                      "gridcolor": "white",
                      "linecolor": "white",
                      "ticks": "",
                      "title": {
                        "standoff": 15
                      },
                      "zerolinecolor": "white",
                      "zerolinewidth": 2
                    },
                    "yaxis": {
                      "automargin": true,
                      "gridcolor": "white",
                      "linecolor": "white",
                      "ticks": "",
                      "title": {
                        "standoff": 15
                      },
                      "zerolinecolor": "white",
                      "zerolinewidth": 2
                    }
                  }
                },
                "title": {
                  "text": "Correlation Heatmap"
                },
                "width": 500,
                "xaxis": {
                  "nticks": 3
                },
                "yaxis": {
                  "nticks": 3
                }
              }
            }
          },
          "metadata": {},
          "output_type": "display_data"
        }
      ],
      "source": [
        "# see if there is any strong correlation between the columns\n",
        "corr = df[['Old Price', 'Current Price', 'Price Increase Percentage']].corr()\n",
        "\n",
        "# Creation of the heatmap with Plotly\n",
        "fig = go.Figure(data=go.Heatmap(z=corr,x=corr.columns,y=corr.columns,hoverongaps = False,colorscale='RdBu'))\n",
        "fig.update_layout(title='Correlation Heatmap',xaxis_nticks=len(corr.columns),yaxis_nticks=len(corr.columns),autosize=False,width=500, height=500,margin=dict(l=100,r=100,b=100,t=100))\n",
        "fig.show()"
      ]
    },
    {
      "attachments": {},
      "cell_type": "markdown",
      "metadata": {
        "id": "iR8nQ0TDMZgZ"
      },
      "source": [
        "### **Plotting the relationship between the \"Current Price\" and \"Price Increase Percentage\"**\n",
        "\n",
        "\n",
        "---\n",
        "\n"
      ]
    },
    {
      "cell_type": "code",
      "execution_count": 208,
      "metadata": {
        "id": "BVjkq2KOFEww",
        "outputId": "f8273b44-8717-49bf-9d51-ea852dfb1a5f"
      },
      "outputs": [
        {
          "data": {
            "application/vnd.plotly.v1+json": {
              "config": {
                "plotlyServerURL": "https://plot.ly"
              },
              "data": [
                {
                  "hovertemplate": "Current Price=%{x}<br>Price Increase Percentage=%{y}<extra></extra>",
                  "legendgroup": "",
                  "marker": {
                    "color": "#636efa",
                    "symbol": "circle"
                  },
                  "mode": "markers",
                  "name": "",
                  "orientation": "v",
                  "showlegend": false,
                  "type": "scatter",
                  "x": [
                    600,
                    1199,
                    1619,
                    95,
                    1775,
                    1105,
                    144,
                    89,
                    3599,
                    254,
                    396,
                    32498,
                    212,
                    149,
                    124,
                    699,
                    1947,
                    32999,
                    16983,
                    7668,
                    14299,
                    10399,
                    1099,
                    3729,
                    18399,
                    8722,
                    19299,
                    8783,
                    9299,
                    2229,
                    1019,
                    3599,
                    1682,
                    1999,
                    7289,
                    10999,
                    3535,
                    5398,
                    2299,
                    519,
                    819,
                    3899,
                    1139,
                    9767,
                    798,
                    17999,
                    2998,
                    1031,
                    9999,
                    1690,
                    10498,
                    6849,
                    399,
                    359,
                    5369,
                    1210,
                    3650,
                    893,
                    359,
                    1899,
                    239,
                    6499,
                    1428,
                    8149,
                    6699,
                    891,
                    1939,
                    538,
                    1179,
                    797,
                    1099,
                    899,
                    999,
                    5839,
                    1163,
                    173,
                    27999,
                    3199,
                    27199,
                    799,
                    9658,
                    8499,
                    332,
                    16357,
                    789,
                    1149,
                    1799,
                    388,
                    389,
                    285,
                    149,
                    2999,
                    2999,
                    382,
                    584,
                    414,
                    394,
                    170,
                    86,
                    22,
                    92,
                    226,
                    226,
                    44,
                    237,
                    12,
                    25,
                    23,
                    16007,
                    16499,
                    16007,
                    16007,
                    18299,
                    395,
                    134,
                    279,
                    5811,
                    2279,
                    87,
                    64,
                    19999,
                    16999,
                    28347,
                    49849,
                    3099,
                    5898,
                    774,
                    509,
                    724,
                    14709,
                    349,
                    229,
                    699,
                    555,
                    993,
                    489,
                    299,
                    727,
                    24295,
                    34999,
                    24,
                    39,
                    9,
                    72,
                    49,
                    61,
                    62,
                    91,
                    58,
                    55,
                    4259,
                    399,
                    399,
                    2124,
                    241,
                    10,
                    66,
                    45,
                    92,
                    40,
                    179,
                    45,
                    23,
                    7,
                    14,
                    16499,
                    21409,
                    19000,
                    529,
                    7499,
                    38,
                    372,
                    255,
                    2398,
                    799,
                    17,
                    9,
                    448,
                    259,
                    1384,
                    38,
                    40,
                    269,
                    101,
                    235,
                    257,
                    295,
                    249,
                    296,
                    153,
                    249,
                    84,
                    9799,
                    19299,
                    9999,
                    913,
                    899,
                    369,
                    7826,
                    3757,
                    5461,
                    64,
                    89,
                    55,
                    40,
                    67,
                    50,
                    38,
                    79,
                    39,
                    29,
                    39,
                    39,
                    26,
                    7,
                    30,
                    24,
                    302,
                    488,
                    17,
                    115,
                    84,
                    1199,
                    2689,
                    2720,
                    1499,
                    2549,
                    59,
                    75,
                    159,
                    2254,
                    217,
                    199,
                    211,
                    257,
                    690,
                    429,
                    151,
                    1534,
                    1699,
                    699,
                    1699,
                    949,
                    1798,
                    489,
                    378,
                    9250,
                    2100,
                    24999,
                    739,
                    439,
                    139,
                    139,
                    947,
                    323,
                    39,
                    64,
                    36,
                    26,
                    142,
                    25,
                    14,
                    260,
                    269,
                    479,
                    542,
                    439,
                    745,
                    449,
                    1551,
                    1294,
                    689,
                    636,
                    489,
                    299,
                    429,
                    1239,
                    27,
                    28,
                    567,
                    599,
                    219,
                    269,
                    585,
                    6399,
                    7469,
                    1376,
                    5751,
                    45,
                    229,
                    129,
                    899,
                    749,
                    24,
                    196,
                    265,
                    47,
                    248,
                    51,
                    2,
                    26,
                    150,
                    2819,
                    134,
                    204,
                    439,
                    419,
                    26,
                    19,
                    290,
                    129,
                    127,
                    349,
                    30,
                    14,
                    15,
                    15,
                    139,
                    44,
                    299,
                    169,
                    233,
                    148,
                    699,
                    899,
                    549,
                    374,
                    538,
                    335,
                    629,
                    1249,
                    251,
                    419,
                    122,
                    239,
                    58,
                    2249,
                    3299,
                    139,
                    209,
                    1765,
                    17,
                    35,
                    49,
                    68,
                    44,
                    7172,
                    5529,
                    135,
                    287,
                    3481,
                    5892,
                    390,
                    639,
                    214,
                    384,
                    254,
                    74,
                    279,
                    293,
                    299,
                    1223,
                    999,
                    299,
                    67,
                    54,
                    432,
                    182,
                    1389,
                    809,
                    19,
                    19,
                    21,
                    7299,
                    16719,
                    275,
                    22,
                    19,
                    41,
                    29,
                    15,
                    36,
                    5749,
                    6142,
                    49,
                    47,
                    374,
                    99,
                    99,
                    129,
                    413,
                    88,
                    3350,
                    7999,
                    410,
                    263,
                    307,
                    459,
                    479,
                    380,
                    56,
                    56,
                    110,
                    209,
                    173,
                    220,
                    80,
                    293,
                    16,
                    219,
                    69,
                    14500,
                    290,
                    599,
                    118,
                    230,
                    169,
                    440,
                    189,
                    134,
                    212,
                    199,
                    216,
                    160
                  ],
                  "xaxis": "x",
                  "y": [
                    51.83333333333333,
                    47.539616346955796,
                    53.05744286596664,
                    53.68421052631579,
                    45.07042253521127,
                    37.37556561085973,
                    34.72222222222222,
                    22.47191011235955,
                    25.00694637399278,
                    45.2755905511811,
                    34.5959595959596,
                    44.61505323404517,
                    33.490566037735846,
                    -26.845637583892618,
                    15.32258064516129,
                    -6.008583690987124,
                    36.569080636877246,
                    46.06200187884482,
                    28.74050521109345,
                    2.20396452790819,
                    38.604098188684524,
                    -0.9616309260505819,
                    50.68243858052776,
                    -55.51086082059533,
                    30.97994456220447,
                    19.75464343040587,
                    39.898440333696044,
                    32.38073551178413,
                    -18.281535648994517,
                    51.054284432480934,
                    -15.701668302257115,
                    26.39622117254793,
                    28.953626634958386,
                    38.26913456728364,
                    14.775689394978736,
                    20.001818347122466,
                    20.254596888260252,
                    -0.018525379770285292,
                    49.238799478033926,
                    49.32562620423892,
                    -8.547008547008547,
                    22.210823288022567,
                    46.00526777875329,
                    28.330091123169858,
                    51.50375939849624,
                    39.05216956497583,
                    39.159439626417615,
                    35.59650824442289,
                    35.003500350035004,
                    32.01183431952663,
                    33.330158125357215,
                    39.5678201197255,
                    17.543859649122805,
                    31.47632311977716,
                    -39.672192214565094,
                    16.28099173553719,
                    13.726027397260273,
                    42.5531914893617,
                    41.78272980501393,
                    36.96682464454976,
                    -41.84100418410041,
                    15.617787351900292,
                    -29.481792717086837,
                    24.506074364952752,
                    32.84072249589491,
                    -38.94500561167228,
                    48.47859721505931,
                    9.851301115241636,
                    57.67599660729432,
                    44.416562107904646,
                    49.499545040946316,
                    16.129032258064516,
                    49.849849849849846,
                    51.20739852714505,
                    20.980223559759242,
                    29.47976878612717,
                    40.358584235151255,
                    25.007814942169425,
                    23.897937424170006,
                    -18.773466833541928,
                    -59.442948850693725,
                    -2.3532180256500763,
                    28.313253012048197,
                    41.61521061319313,
                    39.4169835234474,
                    45.25674499564839,
                    66.8704836020011,
                    40.4639175257732,
                    32.390745501285345,
                    36.84210526315789,
                    50.33557046979866,
                    33.344448149383126,
                    43.347782594198065,
                    37.43455497382199,
                    28.08219178082192,
                    35.990338164251206,
                    30.456852791878177,
                    35.88235294117647,
                    46.51162790697674,
                    0,
                    58.69565217391305,
                    34.070796460176986,
                    43.36283185840708,
                    40.909090909090914,
                    41.35021097046413,
                    33.33333333333333,
                    24,
                    21.73913043478261,
                    57.99962516399076,
                    51.76071277047094,
                    57.99962516399076,
                    55.83807084400575,
                    56.99765014481666,
                    30.37974683544304,
                    11.940298507462686,
                    18.63799283154122,
                    36.344863190500774,
                    25.142606406318563,
                    45.97701149425287,
                    51.5625,
                    26.75133756687834,
                    14.70674745573269,
                    36.26486047906304,
                    37.15219964292162,
                    36.78606001936108,
                    30.55272973889454,
                    58.78552971576227,
                    -0.19646365422396855,
                    32.04419889502763,
                    32.021211503161325,
                    11.74785100286533,
                    21.83406113537118,
                    42.91845493562232,
                    7.207207207207207,
                    -5.53877139979859,
                    24.539877300613497,
                    -50.50167224080268,
                    31.911966987620353,
                    30.849969129450507,
                    38.91254035829595,
                    45.83333333333333,
                    51.28205128205128,
                    44.44444444444444,
                    43.05555555555556,
                    22.448979591836736,
                    27.86885245901639,
                    32.25806451612903,
                    24.175824175824175,
                    41.37931034482759,
                    36.36363636363637,
                    0.23479690068091102,
                    12.781954887218044,
                    53.88471177944862,
                    11.016949152542372,
                    26.141078838174277,
                    -40,
                    54.54545454545454,
                    40,
                    8.695652173913043,
                    -52.5,
                    58.10055865921788,
                    -2.2222222222222223,
                    39.130434782608695,
                    14.285714285714285,
                    42.857142857142854,
                    45.45730044245106,
                    20.131720304544817,
                    34.321052631578944,
                    31.379962192816635,
                    25.336711561541534,
                    23.684210526315788,
                    9.946236559139784,
                    25.882352941176475,
                    39.574645537948285,
                    30.16270337922403,
                    58.82352941176471,
                    44.44444444444444,
                    55.80357142857143,
                    37.83783783783784,
                    59.898843930635834,
                    50,
                    2.5,
                    37.174721189591075,
                    24.752475247524753,
                    28.085106382978726,
                    21.011673151750973,
                    21.01694915254237,
                    20.080321285140563,
                    25,
                    15.686274509803921,
                    52.208835341365464,
                    20.238095238095237,
                    31.431778752933976,
                    15.197678636198766,
                    29.002900290029004,
                    24.53450164293538,
                    0,
                    18.97018970189702,
                    6.848964988499873,
                    20.01597018898057,
                    23.109320637245926,
                    46.875,
                    0,
                    25.454545454545453,
                    15,
                    37.3134328358209,
                    42,
                    23.684210526315788,
                    44.303797468354425,
                    -17.94871794871795,
                    13.793103448275861,
                    43.58974358974359,
                    30.76923076923077,
                    65.38461538461539,
                    42.857142857142854,
                    23.333333333333332,
                    -29.166666666666668,
                    20.86092715231788,
                    21.721311475409834,
                    11.76470588235294,
                    46.08695652173913,
                    34.523809523809526,
                    -75.14595496246872,
                    52.10115284492376,
                    32.97794117647059,
                    28.685790527018014,
                    18.830914083954493,
                    35.59322033898305,
                    2.666666666666667,
                    12.578616352201259,
                    15.74977817213842,
                    21.19815668202765,
                    10.050251256281408,
                    47.867298578199055,
                    34.24124513618677,
                    76.95652173913044,
                    3.263403263403263,
                    1.3245033112582782,
                    -40.09126466753585,
                    36.138905238375514,
                    -54.36337625178827,
                    45.61506768687463,
                    23.076923076923077,
                    30.53392658509455,
                    -14.92842535787321,
                    55.29100529100529,
                    28.64864864864865,
                    45.285714285714285,
                    20.236809472378894,
                    39.783491204330176,
                    31.890660592255127,
                    -32.37410071942446,
                    15.827338129496402,
                    -27.243928194297784,
                    72.44582043343654,
                    12.82051282051282,
                    65.625,
                    30.555555555555557,
                    42.30769230769231,
                    24.647887323943664,
                    56.00000000000001,
                    50,
                    15.384615384615385,
                    3.717472118959108,
                    32.150313152400834,
                    30.44280442804428,
                    9.111617312072893,
                    14.228187919463087,
                    5.122494432071269,
                    37.39522888459059,
                    35.16228748068006,
                    60.37735849056604,
                    56.132075471698116,
                    55.010224948875255,
                    10.033444816053512,
                    9.324009324009324,
                    42.453591606133976,
                    7.4074074074074066,
                    32.142857142857146,
                    38.2716049382716,
                    30.05008347245409,
                    45.662100456621005,
                    14.869888475836431,
                    -0.6837606837606838,
                    31.411157993436472,
                    36.41719105636631,
                    34.6656976744186,
                    4.399234915666841,
                    35.55555555555556,
                    21.83406113537118,
                    0,
                    64.51612903225806,
                    41.922563417890515,
                    29.166666666666668,
                    39.285714285714285,
                    36.60377358490566,
                    27.659574468085108,
                    41.12903225806452,
                    52.94117647058824,
                    50,
                    46.15384615384615,
                    68,
                    40.794608017027315,
                    43.28358208955223,
                    36.76470588235294,
                    -14.578587699316628,
                    36.0381861575179,
                    38.46153846153847,
                    52.63157894736842,
                    45.17241379310345,
                    34.883720930232556,
                    22.04724409448819,
                    36.96275071633238,
                    13.333333333333334,
                    28.57142857142857,
                    33.33333333333333,
                    26.666666666666668,
                    39.568345323741006,
                    25,
                    10.702341137123746,
                    20.710059171597635,
                    23.17596566523605,
                    16.216216216216218,
                    32.18884120171674,
                    11.67964404894327,
                    23.67941712204007,
                    25.668449197860966,
                    32.71375464684015,
                    27.46268656716418,
                    26.391096979332275,
                    47.55804643714972,
                    52.589641434262944,
                    33.65155131264916,
                    16.39344262295082,
                    28.03347280334728,
                    50,
                    58.69275233437084,
                    30.554713549560475,
                    6.474820143884892,
                    43.0622009569378,
                    31.1614730878187,
                    17.647058823529413,
                    34.285714285714285,
                    28.57142857142857,
                    33.82352941176471,
                    18.181818181818183,
                    48.494143892916895,
                    24.036896364622898,
                    -2.9629629629629632,
                    13.937282229965156,
                    33.955759839126685,
                    38.91717583163612,
                    34.61538461538461,
                    39.123630672926446,
                    34.57943925233645,
                    22.395833333333336,
                    40.94488188976378,
                    35.13513513513514,
                    17.921146953405017,
                    -33.44709897610921,
                    25.08361204013378,
                    -13.982011447260835,
                    -40.04004004004004,
                    -66.88963210702342,
                    -2.9850746268656714,
                    31.48148148148148,
                    46.99074074074074,
                    22.52747252747253,
                    43.412526997840175,
                    43.263288009888754,
                    47.368421052631575,
                    42.10526315789473,
                    57.14285714285714,
                    39.73147006439238,
                    18.954482923619835,
                    20.727272727272727,
                    40.909090909090914,
                    42.10526315789473,
                    14.634146341463413,
                    24.137931034482758,
                    66.66666666666666,
                    63.888888888888886,
                    39.27639589493825,
                    37.00748941712797,
                    34.69387755102041,
                    34.04255319148936,
                    36.096256684491976,
                    55.55555555555556,
                    30.303030303030305,
                    31.007751937984494,
                    39.70944309927361,
                    18.181818181818183,
                    13.104477611940299,
                    18.627328416052006,
                    73.65853658536585,
                    17.110266159695815,
                    18.892508143322477,
                    26.143790849673206,
                    -0.8350730688935281,
                    21.31578947368421,
                    21.428571428571427,
                    21.428571428571427,
                    28.18181818181818,
                    33.014354066985646,
                    19.653179190751445,
                    -4.545454545454546,
                    2.5,
                    0.6825938566552902,
                    37.5,
                    41.0958904109589,
                    71.01449275362319,
                    71.79310344827586,
                    18.275862068965516,
                    22.370617696160267,
                    7.627118644067797,
                    27.391304347826086,
                    24.2603550295858,
                    7.2727272727272725,
                    44.97354497354497,
                    52.23880597014925,
                    15.09433962264151,
                    -25.125628140703515,
                    51.388888888888886,
                    17.5
                  ],
                  "yaxis": "y"
                }
              ],
              "layout": {
                "legend": {
                  "tracegroupgap": 0
                },
                "template": {
                  "data": {
                    "bar": [
                      {
                        "error_x": {
                          "color": "#2a3f5f"
                        },
                        "error_y": {
                          "color": "#2a3f5f"
                        },
                        "marker": {
                          "line": {
                            "color": "#E5ECF6",
                            "width": 0.5
                          },
                          "pattern": {
                            "fillmode": "overlay",
                            "size": 10,
                            "solidity": 0.2
                          }
                        },
                        "type": "bar"
                      }
                    ],
                    "barpolar": [
                      {
                        "marker": {
                          "line": {
                            "color": "#E5ECF6",
                            "width": 0.5
                          },
                          "pattern": {
                            "fillmode": "overlay",
                            "size": 10,
                            "solidity": 0.2
                          }
                        },
                        "type": "barpolar"
                      }
                    ],
                    "carpet": [
                      {
                        "aaxis": {
                          "endlinecolor": "#2a3f5f",
                          "gridcolor": "white",
                          "linecolor": "white",
                          "minorgridcolor": "white",
                          "startlinecolor": "#2a3f5f"
                        },
                        "baxis": {
                          "endlinecolor": "#2a3f5f",
                          "gridcolor": "white",
                          "linecolor": "white",
                          "minorgridcolor": "white",
                          "startlinecolor": "#2a3f5f"
                        },
                        "type": "carpet"
                      }
                    ],
                    "choropleth": [
                      {
                        "colorbar": {
                          "outlinewidth": 0,
                          "ticks": ""
                        },
                        "type": "choropleth"
                      }
                    ],
                    "contour": [
                      {
                        "colorbar": {
                          "outlinewidth": 0,
                          "ticks": ""
                        },
                        "colorscale": [
                          [
                            0,
                            "#0d0887"
                          ],
                          [
                            0.1111111111111111,
                            "#46039f"
                          ],
                          [
                            0.2222222222222222,
                            "#7201a8"
                          ],
                          [
                            0.3333333333333333,
                            "#9c179e"
                          ],
                          [
                            0.4444444444444444,
                            "#bd3786"
                          ],
                          [
                            0.5555555555555556,
                            "#d8576b"
                          ],
                          [
                            0.6666666666666666,
                            "#ed7953"
                          ],
                          [
                            0.7777777777777778,
                            "#fb9f3a"
                          ],
                          [
                            0.8888888888888888,
                            "#fdca26"
                          ],
                          [
                            1,
                            "#f0f921"
                          ]
                        ],
                        "type": "contour"
                      }
                    ],
                    "contourcarpet": [
                      {
                        "colorbar": {
                          "outlinewidth": 0,
                          "ticks": ""
                        },
                        "type": "contourcarpet"
                      }
                    ],
                    "heatmap": [
                      {
                        "colorbar": {
                          "outlinewidth": 0,
                          "ticks": ""
                        },
                        "colorscale": [
                          [
                            0,
                            "#0d0887"
                          ],
                          [
                            0.1111111111111111,
                            "#46039f"
                          ],
                          [
                            0.2222222222222222,
                            "#7201a8"
                          ],
                          [
                            0.3333333333333333,
                            "#9c179e"
                          ],
                          [
                            0.4444444444444444,
                            "#bd3786"
                          ],
                          [
                            0.5555555555555556,
                            "#d8576b"
                          ],
                          [
                            0.6666666666666666,
                            "#ed7953"
                          ],
                          [
                            0.7777777777777778,
                            "#fb9f3a"
                          ],
                          [
                            0.8888888888888888,
                            "#fdca26"
                          ],
                          [
                            1,
                            "#f0f921"
                          ]
                        ],
                        "type": "heatmap"
                      }
                    ],
                    "heatmapgl": [
                      {
                        "colorbar": {
                          "outlinewidth": 0,
                          "ticks": ""
                        },
                        "colorscale": [
                          [
                            0,
                            "#0d0887"
                          ],
                          [
                            0.1111111111111111,
                            "#46039f"
                          ],
                          [
                            0.2222222222222222,
                            "#7201a8"
                          ],
                          [
                            0.3333333333333333,
                            "#9c179e"
                          ],
                          [
                            0.4444444444444444,
                            "#bd3786"
                          ],
                          [
                            0.5555555555555556,
                            "#d8576b"
                          ],
                          [
                            0.6666666666666666,
                            "#ed7953"
                          ],
                          [
                            0.7777777777777778,
                            "#fb9f3a"
                          ],
                          [
                            0.8888888888888888,
                            "#fdca26"
                          ],
                          [
                            1,
                            "#f0f921"
                          ]
                        ],
                        "type": "heatmapgl"
                      }
                    ],
                    "histogram": [
                      {
                        "marker": {
                          "pattern": {
                            "fillmode": "overlay",
                            "size": 10,
                            "solidity": 0.2
                          }
                        },
                        "type": "histogram"
                      }
                    ],
                    "histogram2d": [
                      {
                        "colorbar": {
                          "outlinewidth": 0,
                          "ticks": ""
                        },
                        "colorscale": [
                          [
                            0,
                            "#0d0887"
                          ],
                          [
                            0.1111111111111111,
                            "#46039f"
                          ],
                          [
                            0.2222222222222222,
                            "#7201a8"
                          ],
                          [
                            0.3333333333333333,
                            "#9c179e"
                          ],
                          [
                            0.4444444444444444,
                            "#bd3786"
                          ],
                          [
                            0.5555555555555556,
                            "#d8576b"
                          ],
                          [
                            0.6666666666666666,
                            "#ed7953"
                          ],
                          [
                            0.7777777777777778,
                            "#fb9f3a"
                          ],
                          [
                            0.8888888888888888,
                            "#fdca26"
                          ],
                          [
                            1,
                            "#f0f921"
                          ]
                        ],
                        "type": "histogram2d"
                      }
                    ],
                    "histogram2dcontour": [
                      {
                        "colorbar": {
                          "outlinewidth": 0,
                          "ticks": ""
                        },
                        "colorscale": [
                          [
                            0,
                            "#0d0887"
                          ],
                          [
                            0.1111111111111111,
                            "#46039f"
                          ],
                          [
                            0.2222222222222222,
                            "#7201a8"
                          ],
                          [
                            0.3333333333333333,
                            "#9c179e"
                          ],
                          [
                            0.4444444444444444,
                            "#bd3786"
                          ],
                          [
                            0.5555555555555556,
                            "#d8576b"
                          ],
                          [
                            0.6666666666666666,
                            "#ed7953"
                          ],
                          [
                            0.7777777777777778,
                            "#fb9f3a"
                          ],
                          [
                            0.8888888888888888,
                            "#fdca26"
                          ],
                          [
                            1,
                            "#f0f921"
                          ]
                        ],
                        "type": "histogram2dcontour"
                      }
                    ],
                    "mesh3d": [
                      {
                        "colorbar": {
                          "outlinewidth": 0,
                          "ticks": ""
                        },
                        "type": "mesh3d"
                      }
                    ],
                    "parcoords": [
                      {
                        "line": {
                          "colorbar": {
                            "outlinewidth": 0,
                            "ticks": ""
                          }
                        },
                        "type": "parcoords"
                      }
                    ],
                    "pie": [
                      {
                        "automargin": true,
                        "type": "pie"
                      }
                    ],
                    "scatter": [
                      {
                        "fillpattern": {
                          "fillmode": "overlay",
                          "size": 10,
                          "solidity": 0.2
                        },
                        "type": "scatter"
                      }
                    ],
                    "scatter3d": [
                      {
                        "line": {
                          "colorbar": {
                            "outlinewidth": 0,
                            "ticks": ""
                          }
                        },
                        "marker": {
                          "colorbar": {
                            "outlinewidth": 0,
                            "ticks": ""
                          }
                        },
                        "type": "scatter3d"
                      }
                    ],
                    "scattercarpet": [
                      {
                        "marker": {
                          "colorbar": {
                            "outlinewidth": 0,
                            "ticks": ""
                          }
                        },
                        "type": "scattercarpet"
                      }
                    ],
                    "scattergeo": [
                      {
                        "marker": {
                          "colorbar": {
                            "outlinewidth": 0,
                            "ticks": ""
                          }
                        },
                        "type": "scattergeo"
                      }
                    ],
                    "scattergl": [
                      {
                        "marker": {
                          "colorbar": {
                            "outlinewidth": 0,
                            "ticks": ""
                          }
                        },
                        "type": "scattergl"
                      }
                    ],
                    "scattermapbox": [
                      {
                        "marker": {
                          "colorbar": {
                            "outlinewidth": 0,
                            "ticks": ""
                          }
                        },
                        "type": "scattermapbox"
                      }
                    ],
                    "scatterpolar": [
                      {
                        "marker": {
                          "colorbar": {
                            "outlinewidth": 0,
                            "ticks": ""
                          }
                        },
                        "type": "scatterpolar"
                      }
                    ],
                    "scatterpolargl": [
                      {
                        "marker": {
                          "colorbar": {
                            "outlinewidth": 0,
                            "ticks": ""
                          }
                        },
                        "type": "scatterpolargl"
                      }
                    ],
                    "scatterternary": [
                      {
                        "marker": {
                          "colorbar": {
                            "outlinewidth": 0,
                            "ticks": ""
                          }
                        },
                        "type": "scatterternary"
                      }
                    ],
                    "surface": [
                      {
                        "colorbar": {
                          "outlinewidth": 0,
                          "ticks": ""
                        },
                        "colorscale": [
                          [
                            0,
                            "#0d0887"
                          ],
                          [
                            0.1111111111111111,
                            "#46039f"
                          ],
                          [
                            0.2222222222222222,
                            "#7201a8"
                          ],
                          [
                            0.3333333333333333,
                            "#9c179e"
                          ],
                          [
                            0.4444444444444444,
                            "#bd3786"
                          ],
                          [
                            0.5555555555555556,
                            "#d8576b"
                          ],
                          [
                            0.6666666666666666,
                            "#ed7953"
                          ],
                          [
                            0.7777777777777778,
                            "#fb9f3a"
                          ],
                          [
                            0.8888888888888888,
                            "#fdca26"
                          ],
                          [
                            1,
                            "#f0f921"
                          ]
                        ],
                        "type": "surface"
                      }
                    ],
                    "table": [
                      {
                        "cells": {
                          "fill": {
                            "color": "#EBF0F8"
                          },
                          "line": {
                            "color": "white"
                          }
                        },
                        "header": {
                          "fill": {
                            "color": "#C8D4E3"
                          },
                          "line": {
                            "color": "white"
                          }
                        },
                        "type": "table"
                      }
                    ]
                  },
                  "layout": {
                    "annotationdefaults": {
                      "arrowcolor": "#2a3f5f",
                      "arrowhead": 0,
                      "arrowwidth": 1
                    },
                    "autotypenumbers": "strict",
                    "coloraxis": {
                      "colorbar": {
                        "outlinewidth": 0,
                        "ticks": ""
                      }
                    },
                    "colorscale": {
                      "diverging": [
                        [
                          0,
                          "#8e0152"
                        ],
                        [
                          0.1,
                          "#c51b7d"
                        ],
                        [
                          0.2,
                          "#de77ae"
                        ],
                        [
                          0.3,
                          "#f1b6da"
                        ],
                        [
                          0.4,
                          "#fde0ef"
                        ],
                        [
                          0.5,
                          "#f7f7f7"
                        ],
                        [
                          0.6,
                          "#e6f5d0"
                        ],
                        [
                          0.7,
                          "#b8e186"
                        ],
                        [
                          0.8,
                          "#7fbc41"
                        ],
                        [
                          0.9,
                          "#4d9221"
                        ],
                        [
                          1,
                          "#276419"
                        ]
                      ],
                      "sequential": [
                        [
                          0,
                          "#0d0887"
                        ],
                        [
                          0.1111111111111111,
                          "#46039f"
                        ],
                        [
                          0.2222222222222222,
                          "#7201a8"
                        ],
                        [
                          0.3333333333333333,
                          "#9c179e"
                        ],
                        [
                          0.4444444444444444,
                          "#bd3786"
                        ],
                        [
                          0.5555555555555556,
                          "#d8576b"
                        ],
                        [
                          0.6666666666666666,
                          "#ed7953"
                        ],
                        [
                          0.7777777777777778,
                          "#fb9f3a"
                        ],
                        [
                          0.8888888888888888,
                          "#fdca26"
                        ],
                        [
                          1,
                          "#f0f921"
                        ]
                      ],
                      "sequentialminus": [
                        [
                          0,
                          "#0d0887"
                        ],
                        [
                          0.1111111111111111,
                          "#46039f"
                        ],
                        [
                          0.2222222222222222,
                          "#7201a8"
                        ],
                        [
                          0.3333333333333333,
                          "#9c179e"
                        ],
                        [
                          0.4444444444444444,
                          "#bd3786"
                        ],
                        [
                          0.5555555555555556,
                          "#d8576b"
                        ],
                        [
                          0.6666666666666666,
                          "#ed7953"
                        ],
                        [
                          0.7777777777777778,
                          "#fb9f3a"
                        ],
                        [
                          0.8888888888888888,
                          "#fdca26"
                        ],
                        [
                          1,
                          "#f0f921"
                        ]
                      ]
                    },
                    "colorway": [
                      "#636efa",
                      "#EF553B",
                      "#00cc96",
                      "#ab63fa",
                      "#FFA15A",
                      "#19d3f3",
                      "#FF6692",
                      "#B6E880",
                      "#FF97FF",
                      "#FECB52"
                    ],
                    "font": {
                      "color": "#2a3f5f"
                    },
                    "geo": {
                      "bgcolor": "white",
                      "lakecolor": "white",
                      "landcolor": "#E5ECF6",
                      "showlakes": true,
                      "showland": true,
                      "subunitcolor": "white"
                    },
                    "hoverlabel": {
                      "align": "left"
                    },
                    "hovermode": "closest",
                    "mapbox": {
                      "style": "light"
                    },
                    "paper_bgcolor": "white",
                    "plot_bgcolor": "#E5ECF6",
                    "polar": {
                      "angularaxis": {
                        "gridcolor": "white",
                        "linecolor": "white",
                        "ticks": ""
                      },
                      "bgcolor": "#E5ECF6",
                      "radialaxis": {
                        "gridcolor": "white",
                        "linecolor": "white",
                        "ticks": ""
                      }
                    },
                    "scene": {
                      "xaxis": {
                        "backgroundcolor": "#E5ECF6",
                        "gridcolor": "white",
                        "gridwidth": 2,
                        "linecolor": "white",
                        "showbackground": true,
                        "ticks": "",
                        "zerolinecolor": "white"
                      },
                      "yaxis": {
                        "backgroundcolor": "#E5ECF6",
                        "gridcolor": "white",
                        "gridwidth": 2,
                        "linecolor": "white",
                        "showbackground": true,
                        "ticks": "",
                        "zerolinecolor": "white"
                      },
                      "zaxis": {
                        "backgroundcolor": "#E5ECF6",
                        "gridcolor": "white",
                        "gridwidth": 2,
                        "linecolor": "white",
                        "showbackground": true,
                        "ticks": "",
                        "zerolinecolor": "white"
                      }
                    },
                    "shapedefaults": {
                      "line": {
                        "color": "#2a3f5f"
                      }
                    },
                    "ternary": {
                      "aaxis": {
                        "gridcolor": "white",
                        "linecolor": "white",
                        "ticks": ""
                      },
                      "baxis": {
                        "gridcolor": "white",
                        "linecolor": "white",
                        "ticks": ""
                      },
                      "bgcolor": "#E5ECF6",
                      "caxis": {
                        "gridcolor": "white",
                        "linecolor": "white",
                        "ticks": ""
                      }
                    },
                    "title": {
                      "x": 0.05
                    },
                    "xaxis": {
                      "automargin": true,
                      "gridcolor": "white",
                      "linecolor": "white",
                      "ticks": "",
                      "title": {
                        "standoff": 15
                      },
                      "zerolinecolor": "white",
                      "zerolinewidth": 2
                    },
                    "yaxis": {
                      "automargin": true,
                      "gridcolor": "white",
                      "linecolor": "white",
                      "ticks": "",
                      "title": {
                        "standoff": 15
                      },
                      "zerolinecolor": "white",
                      "zerolinewidth": 2
                    }
                  }
                },
                "title": {
                  "text": "Current Price vs Price Increase Percentage"
                },
                "xaxis": {
                  "anchor": "y",
                  "domain": [
                    0,
                    1
                  ],
                  "title": {
                    "text": "Current Price"
                  }
                },
                "yaxis": {
                  "anchor": "x",
                  "domain": [
                    0,
                    1
                  ],
                  "title": {
                    "text": "Price Increase Percentage"
                  }
                }
              }
            }
          },
          "metadata": {},
          "output_type": "display_data"
        }
      ],
      "source": [
        "fig = px.scatter(df, x=\"Current Price\", y=\"Price Increase Percentage\", title=\"Current Price vs Price Increase Percentage\")\n",
        "fig.show()"
      ]
    },
    {
      "attachments": {},
      "cell_type": "markdown",
      "metadata": {
        "id": "oPITqWAoMfff"
      },
      "source": [
        "### **Creating a new column named \"Price Increase Status\"**\n",
        "* If the price increase percentage is below 0, it will be \"***Decreased***\"<br>\n",
        "* If the price increase percentage is between 0 and 5, it will be \"***Stable***\"<br>\n",
        "* If the price increase percentage is between 5 and 30, it will be \"***Increased***\"<br>\n",
        "* If the price increase percentage is between 30 and 50, it will be \"***Highly Increased***\"<br>\n",
        "* If the price increase percentage is above 50, it will be \"***Extremely Increased***\"<br>\n",
        "\n",
        "\n",
        "---\n",
        "\n"
      ]
    },
    {
      "cell_type": "code",
      "execution_count": 209,
      "metadata": {
        "id": "sq-fQPV9FEww",
        "outputId": "4a18992c-8a24-4238-a135-f3364efa3f1f"
      },
      "outputs": [
        {
          "data": {
            "text/html": [
              "<div>\n",
              "<style scoped>\n",
              "    .dataframe tbody tr th:only-of-type {\n",
              "        vertical-align: middle;\n",
              "    }\n",
              "\n",
              "    .dataframe tbody tr th {\n",
              "        vertical-align: top;\n",
              "    }\n",
              "\n",
              "    .dataframe thead th {\n",
              "        text-align: right;\n",
              "    }\n",
              "</style>\n",
              "<table border=\"1\" class=\"dataframe\">\n",
              "  <thead>\n",
              "    <tr style=\"text-align: right;\">\n",
              "      <th></th>\n",
              "      <th>Product Name</th>\n",
              "      <th>Current Date</th>\n",
              "      <th>Current Price</th>\n",
              "      <th>Old Date</th>\n",
              "      <th>Old Price</th>\n",
              "      <th>Category</th>\n",
              "      <th>Days Passed</th>\n",
              "      <th>Price Increase Percentage</th>\n",
              "      <th>Price Increase Status</th>\n",
              "    </tr>\n",
              "  </thead>\n",
              "  <tbody>\n",
              "    <tr>\n",
              "      <th>0</th>\n",
              "      <td>SteelSeries Rival 3 RGB Kablolu Optik Oyuncu M...</td>\n",
              "      <td>2023-06-10</td>\n",
              "      <td>600</td>\n",
              "      <td>2022-06-10</td>\n",
              "      <td>289</td>\n",
              "      <td>mouse</td>\n",
              "      <td>365</td>\n",
              "      <td>51.833333</td>\n",
              "      <td>Extremely Increased</td>\n",
              "    </tr>\n",
              "    <tr>\n",
              "      <th>1</th>\n",
              "      <td>SteelSeries Rival 5 RGB Kablolu Optik Oyuncu M...</td>\n",
              "      <td>2023-06-10</td>\n",
              "      <td>1199</td>\n",
              "      <td>2022-06-10</td>\n",
              "      <td>629</td>\n",
              "      <td>mouse</td>\n",
              "      <td>365</td>\n",
              "      <td>47.539616</td>\n",
              "      <td>Highly Increased</td>\n",
              "    </tr>\n",
              "    <tr>\n",
              "      <th>2</th>\n",
              "      <td>Pro Plan Sterilised Somonlu ve Ton Balıklı 10 ...</td>\n",
              "      <td>2023-06-10</td>\n",
              "      <td>1619</td>\n",
              "      <td>2022-06-10</td>\n",
              "      <td>760</td>\n",
              "      <td>kedi-mamasi</td>\n",
              "      <td>365</td>\n",
              "      <td>53.057443</td>\n",
              "      <td>Extremely Increased</td>\n",
              "    </tr>\n",
              "    <tr>\n",
              "      <th>3</th>\n",
              "      <td>Nutella 750 gr Kakaolu Fındık Kreması</td>\n",
              "      <td>2023-06-10</td>\n",
              "      <td>95</td>\n",
              "      <td>2022-06-11</td>\n",
              "      <td>44</td>\n",
              "      <td>ezme-krem-cikolata</td>\n",
              "      <td>364</td>\n",
              "      <td>53.684211</td>\n",
              "      <td>Extremely Increased</td>\n",
              "    </tr>\n",
              "    <tr>\n",
              "      <th>4</th>\n",
              "      <td>Royal Canin Sterilised 37 15 kg Kısırlaştırılm...</td>\n",
              "      <td>2023-06-10</td>\n",
              "      <td>1775</td>\n",
              "      <td>2022-06-10</td>\n",
              "      <td>975</td>\n",
              "      <td>kedi-mamasi</td>\n",
              "      <td>365</td>\n",
              "      <td>45.070423</td>\n",
              "      <td>Highly Increased</td>\n",
              "    </tr>\n",
              "  </tbody>\n",
              "</table>\n",
              "</div>"
            ],
            "text/plain": [
              "                                        Product Name Current Date   \n",
              "0  SteelSeries Rival 3 RGB Kablolu Optik Oyuncu M...   2023-06-10  \\\n",
              "1  SteelSeries Rival 5 RGB Kablolu Optik Oyuncu M...   2023-06-10   \n",
              "2  Pro Plan Sterilised Somonlu ve Ton Balıklı 10 ...   2023-06-10   \n",
              "3              Nutella 750 gr Kakaolu Fındık Kreması   2023-06-10   \n",
              "4  Royal Canin Sterilised 37 15 kg Kısırlaştırılm...   2023-06-10   \n",
              "\n",
              "   Current Price   Old Date  Old Price            Category  Days Passed   \n",
              "0            600 2022-06-10        289               mouse          365  \\\n",
              "1           1199 2022-06-10        629               mouse          365   \n",
              "2           1619 2022-06-10        760         kedi-mamasi          365   \n",
              "3             95 2022-06-11         44  ezme-krem-cikolata          364   \n",
              "4           1775 2022-06-10        975         kedi-mamasi          365   \n",
              "\n",
              "   Price Increase Percentage Price Increase Status  \n",
              "0                  51.833333   Extremely Increased  \n",
              "1                  47.539616      Highly Increased  \n",
              "2                  53.057443   Extremely Increased  \n",
              "3                  53.684211   Extremely Increased  \n",
              "4                  45.070423      Highly Increased  "
            ]
          },
          "execution_count": 209,
          "metadata": {},
          "output_type": "execute_result"
        }
      ],
      "source": [
        "def priceIncreaseStatus(priceIncreasePercentage):\n",
        "    if priceIncreasePercentage < 0:\n",
        "        return \"Decreased\"\n",
        "    elif priceIncreasePercentage >= 0 and priceIncreasePercentage < 5:\n",
        "        return \"Stable\"\n",
        "    elif priceIncreasePercentage >= 5 and priceIncreasePercentage < 30:\n",
        "        return \"Increased\"\n",
        "    elif priceIncreasePercentage >= 30 and priceIncreasePercentage < 50:\n",
        "        return \"Highly Increased\"\n",
        "    else:\n",
        "        return \"Extremely Increased\"\n",
        "    \n",
        "\n",
        "df['Price Increase Status'] = df['Price Increase Percentage'].apply(priceIncreaseStatus)\n",
        "\n",
        "df.head()"
      ]
    },
    {
      "attachments": {},
      "cell_type": "markdown",
      "metadata": {
        "id": "NPFC7EgxM94T"
      },
      "source": [
        "### **Visualizing the \"Price Increase Status\" column with a bar plot**\n",
        "\n",
        "\n",
        "---\n",
        "\n",
        "\n",
        "\n",
        "\n"
      ]
    },
    {
      "cell_type": "code",
      "execution_count": 210,
      "metadata": {
        "id": "jcG6qDL4FEww",
        "outputId": "8a3f04d1-b66d-498b-ef19-5c47d7e92c40"
      },
      "outputs": [
        {
          "data": {
            "image/png": "[encoded data removed]",
            "text/plain": [
              "<Figure size 1000x500 with 1 Axes>"
            ]
          },
          "metadata": {},
          "output_type": "display_data"
        }
      ],
      "source": [
        "plt.figure(figsize=(10, 5))\n",
        "sns.countplot(data=df, x='Price Increase Status', hue='Price Increase Status', order = ['Decreased', 'Stable', 'Increased', 'Highly Increased', 'Extremely Increased'])\n",
        "plt.title(\"Price Increase Status\")\n",
        "plt.xlabel(\"Price Increase Status\")\n",
        "plt.ylabel(\"Frequency\")\n",
        "plt.show()"
      ]
    },
    {
      "attachments": {},
      "cell_type": "markdown",
      "metadata": {
        "id": "9sbbSGrfNB8m"
      },
      "source": [
        "### **Dropping negative price increase percentage values**\n",
        "\n",
        "\n",
        "---\n",
        "\n"
      ]
    },
    {
      "cell_type": "code",
      "execution_count": 211,
      "metadata": {
        "id": "t-KpRA4JFEww",
        "outputId": "4400aae9-516e-42af-a68c-226bef052a58"
      },
      "outputs": [
        {
          "data": {
            "image/png": "[encoded data removed]",
            "text/plain": [
              "<Figure size 1000x500 with 1 Axes>"
            ]
          },
          "metadata": {},
          "output_type": "display_data"
        }
      ],
      "source": [
        "## Check if there is negative price increase percentage\n",
        "## if there is any, drop it since it is impossible to have negative price increase percentage in Turkey's circumstances\n",
        "df = df.drop(df[df['Price Increase Percentage'] < 0].index)\n",
        "\n",
        "# Visualizing the \"Price Increase Status\" after dropping the negative price increase percentage\n",
        "plt.figure(figsize=(10, 5))\n",
        "sns.countplot(data=df, x='Price Increase Status', hue='Price Increase Status', order = ['Decreased', 'Stable', 'Increased', 'Highly Increased', 'Extremely Increased'])\n",
        "plt.title(\"Price Increase Status\")\n",
        "plt.xlabel(\"Price Increase Status\")\n",
        "plt.ylabel(\"Frequency\")\n",
        "plt.show()"
      ]
    },
    {
      "attachments": {},
      "cell_type": "markdown",
      "metadata": {
        "id": "shQqi97mNJRS"
      },
      "source": [
        "### **Clustering the products according to their categories**\n",
        "\n",
        "\n",
        "---\n",
        "\n"
      ]
    },
    {
      "cell_type": "code",
      "execution_count": 212,
      "metadata": {
        "id": "LzIRDP1JFEwx"
      },
      "outputs": [
        {
          "data": {
            "application/vnd.plotly.v1+json": {
              "config": {
                "plotlyServerURL": "https://plot.ly"
              },
              "data": [
                {
                  "alignmentgroup": "True",
                  "hovertemplate": "Category=%{x}<br>Price Increase Percentage=%{marker.color}<extra></extra>",
                  "legendgroup": "",
                  "marker": {
                    "color": [
                      73.65853658536585,
                      65.27777777777777,
                      57.07692307692308,
                      56.063614298824746,
                      55.29100529100529,
                      52.94117647058824,
                      52.10115284492376,
                      51.5625,
                      51.388888888888886,
                      51.29280255594714,
                      51.28205128205128,
                      51.18008439901504,
                      50,
                      50,
                      49.83061101028433,
                      49.32562620423892,
                      49.238799478033926,
                      49.238589660393686,
                      49.06393270058896,
                      48.87218045112781,
                      48.494143892916895,
                      48.179831057852816,
                      47.55804643714972,
                      47.272727272727266,
                      47.06794630448661,
                      46.99074074074074,
                      44.13657928146647,
                      43.75008956654716,
                      43.608058608058606,
                      43.58883786647827,
                      43.337907503864464,
                      42.92929292929293,
                      42.91845493562232,
                      42.52383892596828,
                      41.922563417890515,
                      41.61521061319313,
                      41.50717703349282,
                      41.35021097046413,
                      41.12903225806452,
                      41.0958904109589,
                      40.985193210545326,
                      40.94488188976378,
                      40.909090909090914,
                      40.794608017027315,
                      40.206932963531905,
                      39.80829819696224,
                      39.5678201197255,
                      39.209851321837625,
                      39.18456271397448,
                      38.71681415929203,
                      38.604098188684524,
                      38.37595683547913,
                      38.346115371790596,
                      38.14194265603311,
                      37.5,
                      37.436944588369656,
                      36.96682464454976,
                      36.96275071633238,
                      36.60377358490566,
                      36.43646783538141,
                      36.42733151352927,
                      36.333689458689456,
                      35.83707589829265,
                      35.71645253837998,
                      35.13513513513514,
                      35.0690933602966,
                      35.003500350035004,
                      34.88125474387323,
                      34.83835005574136,
                      34.61538461538461,
                      34.523809523809526,
                      34.520305571827954,
                      34.285714285714285,
                      34.109847965768616,
                      34.10749628177185,
                      33.8770136307311,
                      33.82352941176471,
                      33.801797184186356,
                      33.66063494565266,
                      33.552004311238235,
                      33.490566037735846,
                      33.46521592619326,
                      33.42825940628918,
                      33.42278870057197,
                      33.33333333333333,
                      33.330158125357215,
                      33.30335779285827,
                      33.07530578296409,
                      33.014354066985646,
                      32.75837337732195,
                      32.467247097844115,
                      32.2841726618705,
                      31.911966987620353,
                      31.48148148148148,
                      31.39039080224727,
                      31.292579858615746,
                      31.1614730878187,
                      30.554713549560475,
                      30.37974683544304,
                      30.01449843260188,
                      29.523809523809522,
                      29.47976878612717,
                      29.384025935750074,
                      29.014920613554345,
                      28.74050521109345,
                      28.685790527018014,
                      28.57142857142857,
                      28.465482512360374,
                      28.392857142857142,
                      28.385212202938455,
                      28.330091123169858,
                      28.18181818181818,
                      28.03347280334728,
                      27.99823633156966,
                      27.659574468085108,
                      25.956173664345826,
                      25.90442763021254,
                      25.48676115931907,
                      25.23235163534113,
                      25.17413493626738,
                      25.08361204013378,
                      25.022401433691755,
                      25.00694637399278,
                      24.92258384510423,
                      24.768510550411346,
                      24.752475247524753,
                      24.67393315995052,
                      24.2603550295858,
                      24.18300565871449,
                      24.036896364622898,
                      23.897937424170006,
                      23.716371172161633,
                      22.917516015123464,
                      22.869565217391305,
                      22.58477628372361,
                      22.52747252747253,
                      22.51814949649784,
                      22.47191011235955,
                      22.370617696160267,
                      22.103529899801405,
                      21.428571428571427,
                      21.31578947368421,
                      21.29111931386386,
                      21.25,
                      21.230478041575843,
                      20.980223559759242,
                      20.710059171597635,
                      20.603681915398937,
                      20.001818347122466,
                      19.77244528235402,
                      19.696090940726133,
                      19.689659339209967,
                      19.653179190751445,
                      19.386038687973084,
                      18.731704274816895,
                      18.627328416052006,
                      18.181818181818183,
                      17.647058823529413,
                      17.270712188939807,
                      17.110266159695815,
                      16.946167785950326,
                      16.790956069118256,
                      16.658085271575455,
                      16.39344262295082,
                      16.28099173553719,
                      16.129032258064516,
                      15.289145669501952,
                      15.09433962264151,
                      13.937282229965156,
                      13.104477611940299,
                      11.67964404894327,
                      7.627118644067797,
                      7.2727272727272725,
                      7.207207207207207,
                      2.5,
                      0.6825938566552902
                    ],
                    "coloraxis": "coloraxis",
                    "pattern": {
                      "shape": ""
                    }
                  },
                  "name": "",
                  "offsetgroup": "",
                  "orientation": "v",
                  "showlegend": false,
                  "textposition": "auto",
                  "type": "bar",
                  "x": [
                    "tonerler",
                    "banyo-bakim-aksesuarlari",
                    "not-defteri-bloknot",
                    "turk-kahve-makinesi",
                    "flash-bellekler",
                    "dudak-bakimi-koruyucu",
                    "mini-midi-firinlar",
                    "kahvaltilik-gevrek",
                    "bitkisel-besin-destekleri",
                    "oyuncu-mouse",
                    "dis-macunlari",
                    "isiticilar",
                    "mouse-pad",
                    "yara-bandi",
                    "ezme-krem-cikolata",
                    "baskul",
                    "anakart",
                    "dizustu-bilgisayar-aksesuarlari",
                    "kedi-mamasi",
                    "yazi-tahtasi-kalemi",
                    "klasik-gitarlar",
                    "bluetooth-kulaklik",
                    "oyuncu-klavyesi",
                    "spiralli-defter",
                    "mouse",
                    "tavla",
                    "bilgisayar-oyunlari",
                    "calisma-koltugu",
                    "kursun-kalem-ucu-min",
                    "suluk-matara",
                    "cay-makineleri",
                    "erkek-cuzdan",
                    "tencere-tava-setleri",
                    "klavye",
                    "oyuncu-kulakliklari",
                    "fotograf-makinesi",
                    "tirnak-makasi",
                    "tiras-bicagi",
                    "dermokozmetik-urunler",
                    "bilgisayar-cevirici-ve-adaptoru",
                    "tukenmez-kalem",
                    "sicak-su-torbasi",
                    "vazelin",
                    "cep-telefonu-kalemi",
                    "kulaklik",
                    "oyun-kolu",
                    "epilasyon-aleti",
                    "yetiskinler-icin-oyunlar",
                    "silgi",
                    "gunes-kremi",
                    "robot-supurge",
                    "bulasik-makinesi-tableti",
                    "buzdolabi",
                    "bulasik-makineleri",
                    "ezme-perle-kedi-mamasi",
                    "cep-telefonlari",
                    "bilgisayar-kasasi",
                    "harita-kure",
                    "termoslar",
                    "buzdolaplari",
                    "kettle",
                    "kalemlik-kalem-kutusu",
                    "tiras-makineleri",
                    "xbox-series",
                    "kamp-aksesuari",
                    "dis-macunu",
                    "nintendo-switch",
                    "dizustu-bilgisayar",
                    "fosforlu-kalem",
                    "ocaklar",
                    "tiras-makinesi",
                    "mekanik-kursun-versatil-kalem",
                    "alarmli-saatler-radyolar",
                    "kutu-oyunu",
                    "sampuan-ve-sac-kremi",
                    "dis-fircalari",
                    "tiras-bicagi-ve-yedekleri",
                    "tasinabilir-sarj-cihazi-powerbank",
                    "cep-telefonu",
                    "bayan-cuzdan",
                    "akim-korumali-priz",
                    "suluk",
                    "kopek-mamasi",
                    "klavye-mouse",
                    "makarna",
                    "sanal-gerceklik-gozlugu",
                    "tablet-pc",
                    "tasinabilir-hard-diskler",
                    "stor-perde",
                    "ocak",
                    "hijyenik-pedler-ve-tamponlar",
                    "rimeller-maskaralar",
                    "kadin-terlikleri-ve-sandaletleri",
                    "satranc",
                    "dijital-fotograf-makineleri",
                    "sabunlar",
                    "unisex-gunes-gozlukleri",
                    "konsol-aksesuarlari",
                    "camasir-askisi",
                    "sprey-deodorantlar",
                    "oje",
                    "kedi-kumu",
                    "dus-jelleri-ve-banyo-kopukleri",
                    "kupa",
                    "ps5",
                    "ankastre-mikrodalga-firinlar",
                    "tiras-jelleri-kopukleri-kremleri",
                    "puzzle-aksesuarlari",
                    "gunes-kremleri-ve-losyonlari",
                    "tost-makineleri",
                    "espresso-makinesi",
                    "fon-perde",
                    "oyuncu-mouse-pad",
                    "cok-satan-kitaplar",
                    "makyaj-temizleyicileri",
                    "toplar",
                    "mikrodalga-firinlar",
                    "masa-lambasi",
                    "erkek-t-shirt",
                    "spor-ayakkabi",
                    "waffle-makinesi",
                    "tuvalet-kagidi",
                    "oyuncu-koltugu",
                    "kahve-makineleri",
                    "playstation-4-ps4-oyunlari",
                    "hesap-makinesi",
                    "sirt-cantasi-outdoor",
                    "kamp-sandalyesi",
                    "su-isiticilari-kettle",
                    "elektro-gitarlar",
                    "laptop-notebook",
                    "cep-telefonu-sarj-cihazi",
                    "bluetooth-hoparlor",
                    "sut",
                    "oyun-konsollari",
                    "tripodlar",
                    "kilim",
                    "kagit-havlu",
                    "cakmak",
                    "utuler",
                    "mutfak-havlusu",
                    "nevresim-takimi",
                    "sac-kurutma-makineleri",
                    "el-bakimi",
                    "fritoz",
                    "erkek-bakim-seti",
                    "pratik-mutfak-gerecleri",
                    "erkek-terlikleri-ve-sandaletleri",
                    "direksiyon-seti",
                    "akilli-saat",
                    "matara",
                    "monitor",
                    "dus-banyo-perdesi",
                    "cimbizlar",
                    "cep-telefonu-kilifi",
                    "studyo-ve-sahne-ekipmanlari",
                    "agda-urunleri-ve-makineleri",
                    "toka-tac-sac-bandi",
                    "vantilatorler",
                    "kartuslar",
                    "defter",
                    "baskul-tartilar",
                    "sehir-gezi-bisikletleri",
                    "mat",
                    "ram",
                    "sarjli-supurge",
                    "tost-makinesi",
                    "anahtarlik",
                    "tenis-badminton",
                    "kemanlar",
                    "bayan-sweatshirt",
                    "masa-saati",
                    "unisex-bel-cantasi",
                    "termos",
                    "el-yuz-havlusu",
                    "yorgan"
                  ],
                  "xaxis": "x",
                  "y": [
                    73.65853658536585,
                    65.27777777777777,
                    57.07692307692308,
                    56.063614298824746,
                    55.29100529100529,
                    52.94117647058824,
                    52.10115284492376,
                    51.5625,
                    51.388888888888886,
                    51.29280255594714,
                    51.28205128205128,
                    51.18008439901504,
                    50,
                    50,
                    49.83061101028433,
                    49.32562620423892,
                    49.238799478033926,
                    49.238589660393686,
                    49.06393270058896,
                    48.87218045112781,
                    48.494143892916895,
                    48.179831057852816,
                    47.55804643714972,
                    47.272727272727266,
                    47.06794630448661,
                    46.99074074074074,
                    44.13657928146647,
                    43.75008956654716,
                    43.608058608058606,
                    43.58883786647827,
                    43.337907503864464,
                    42.92929292929293,
                    42.91845493562232,
                    42.52383892596828,
                    41.922563417890515,
                    41.61521061319313,
                    41.50717703349282,
                    41.35021097046413,
                    41.12903225806452,
                    41.0958904109589,
                    40.985193210545326,
                    40.94488188976378,
                    40.909090909090914,
                    40.794608017027315,
                    40.206932963531905,
                    39.80829819696224,
                    39.5678201197255,
                    39.209851321837625,
                    39.18456271397448,
                    38.71681415929203,
                    38.604098188684524,
                    38.37595683547913,
                    38.346115371790596,
                    38.14194265603311,
                    37.5,
                    37.436944588369656,
                    36.96682464454976,
                    36.96275071633238,
                    36.60377358490566,
                    36.43646783538141,
                    36.42733151352927,
                    36.333689458689456,
                    35.83707589829265,
                    35.71645253837998,
                    35.13513513513514,
                    35.0690933602966,
                    35.003500350035004,
                    34.88125474387323,
                    34.83835005574136,
                    34.61538461538461,
                    34.523809523809526,
                    34.520305571827954,
                    34.285714285714285,
                    34.109847965768616,
                    34.10749628177185,
                    33.8770136307311,
                    33.82352941176471,
                    33.801797184186356,
                    33.66063494565266,
                    33.552004311238235,
                    33.490566037735846,
                    33.46521592619326,
                    33.42825940628918,
                    33.42278870057197,
                    33.33333333333333,
                    33.330158125357215,
                    33.30335779285827,
                    33.07530578296409,
                    33.014354066985646,
                    32.75837337732195,
                    32.467247097844115,
                    32.2841726618705,
                    31.911966987620353,
                    31.48148148148148,
                    31.39039080224727,
                    31.292579858615746,
                    31.1614730878187,
                    30.554713549560475,
                    30.37974683544304,
                    30.01449843260188,
                    29.523809523809522,
                    29.47976878612717,
                    29.384025935750074,
                    29.014920613554345,
                    28.74050521109345,
                    28.685790527018014,
                    28.57142857142857,
                    28.465482512360374,
                    28.392857142857142,
                    28.385212202938455,
                    28.330091123169858,
                    28.18181818181818,
                    28.03347280334728,
                    27.99823633156966,
                    27.659574468085108,
                    25.956173664345826,
                    25.90442763021254,
                    25.48676115931907,
                    25.23235163534113,
                    25.17413493626738,
                    25.08361204013378,
                    25.022401433691755,
                    25.00694637399278,
                    24.92258384510423,
                    24.768510550411346,
                    24.752475247524753,
                    24.67393315995052,
                    24.2603550295858,
                    24.18300565871449,
                    24.036896364622898,
                    23.897937424170006,
                    23.716371172161633,
                    22.917516015123464,
                    22.869565217391305,
                    22.58477628372361,
                    22.52747252747253,
                    22.51814949649784,
                    22.47191011235955,
                    22.370617696160267,
                    22.103529899801405,
                    21.428571428571427,
                    21.31578947368421,
                    21.29111931386386,
                    21.25,
                    21.230478041575843,
                    20.980223559759242,
                    20.710059171597635,
                    20.603681915398937,
                    20.001818347122466,
                    19.77244528235402,
                    19.696090940726133,
                    19.689659339209967,
                    19.653179190751445,
                    19.386038687973084,
                    18.731704274816895,
                    18.627328416052006,
                    18.181818181818183,
                    17.647058823529413,
                    17.270712188939807,
                    17.110266159695815,
                    16.946167785950326,
                    16.790956069118256,
                    16.658085271575455,
                    16.39344262295082,
                    16.28099173553719,
                    16.129032258064516,
                    15.289145669501952,
                    15.09433962264151,
                    13.937282229965156,
                    13.104477611940299,
                    11.67964404894327,
                    7.627118644067797,
                    7.2727272727272725,
                    7.207207207207207,
                    2.5,
                    0.6825938566552902
                  ],
                  "yaxis": "y"
                }
              ],
              "layout": {
                "barmode": "relative",
                "coloraxis": {
                  "colorbar": {
                    "title": {
                      "text": "Price Increase Percentage"
                    }
                  },
                  "colorscale": [
                    [
                      0,
                      "rgb(0,0,255)"
                    ],
                    [
                      1,
                      "rgb(255,0,0)"
                    ]
                  ]
                },
                "legend": {
                  "tracegroupgap": 0
                },
                "template": {
                  "data": {
                    "bar": [
                      {
                        "error_x": {
                          "color": "#2a3f5f"
                        },
                        "error_y": {
                          "color": "#2a3f5f"
                        },
                        "marker": {
                          "line": {
                            "color": "#E5ECF6",
                            "width": 0.5
                          },
                          "pattern": {
                            "fillmode": "overlay",
                            "size": 10,
                            "solidity": 0.2
                          }
                        },
                        "type": "bar"
                      }
                    ],
                    "barpolar": [
                      {
                        "marker": {
                          "line": {
                            "color": "#E5ECF6",
                            "width": 0.5
                          },
                          "pattern": {
                            "fillmode": "overlay",
                            "size": 10,
                            "solidity": 0.2
                          }
                        },
                        "type": "barpolar"
                      }
                    ],
                    "carpet": [
                      {
                        "aaxis": {
                          "endlinecolor": "#2a3f5f",
                          "gridcolor": "white",
                          "linecolor": "white",
                          "minorgridcolor": "white",
                          "startlinecolor": "#2a3f5f"
                        },
                        "baxis": {
                          "endlinecolor": "#2a3f5f",
                          "gridcolor": "white",
                          "linecolor": "white",
                          "minorgridcolor": "white",
                          "startlinecolor": "#2a3f5f"
                        },
                        "type": "carpet"
                      }
                    ],
                    "choropleth": [
                      {
                        "colorbar": {
                          "outlinewidth": 0,
                          "ticks": ""
                        },
                        "type": "choropleth"
                      }
                    ],
                    "contour": [
                      {
                        "colorbar": {
                          "outlinewidth": 0,
                          "ticks": ""
                        },
                        "colorscale": [
                          [
                            0,
                            "#0d0887"
                          ],
                          [
                            0.1111111111111111,
                            "#46039f"
                          ],
                          [
                            0.2222222222222222,
                            "#7201a8"
                          ],
                          [
                            0.3333333333333333,
                            "#9c179e"
                          ],
                          [
                            0.4444444444444444,
                            "#bd3786"
                          ],
                          [
                            0.5555555555555556,
                            "#d8576b"
                          ],
                          [
                            0.6666666666666666,
                            "#ed7953"
                          ],
                          [
                            0.7777777777777778,
                            "#fb9f3a"
                          ],
                          [
                            0.8888888888888888,
                            "#fdca26"
                          ],
                          [
                            1,
                            "#f0f921"
                          ]
                        ],
                        "type": "contour"
                      }
                    ],
                    "contourcarpet": [
                      {
                        "colorbar": {
                          "outlinewidth": 0,
                          "ticks": ""
                        },
                        "type": "contourcarpet"
                      }
                    ],
                    "heatmap": [
                      {
                        "colorbar": {
                          "outlinewidth": 0,
                          "ticks": ""
                        },
                        "colorscale": [
                          [
                            0,
                            "#0d0887"
                          ],
                          [
                            0.1111111111111111,
                            "#46039f"
                          ],
                          [
                            0.2222222222222222,
                            "#7201a8"
                          ],
                          [
                            0.3333333333333333,
                            "#9c179e"
                          ],
                          [
                            0.4444444444444444,
                            "#bd3786"
                          ],
                          [
                            0.5555555555555556,
                            "#d8576b"
                          ],
                          [
                            0.6666666666666666,
                            "#ed7953"
                          ],
                          [
                            0.7777777777777778,
                            "#fb9f3a"
                          ],
                          [
                            0.8888888888888888,
                            "#fdca26"
                          ],
                          [
                            1,
                            "#f0f921"
                          ]
                        ],
                        "type": "heatmap"
                      }
                    ],
                    "heatmapgl": [
                      {
                        "colorbar": {
                          "outlinewidth": 0,
                          "ticks": ""
                        },
                        "colorscale": [
                          [
                            0,
                            "#0d0887"
                          ],
                          [
                            0.1111111111111111,
                            "#46039f"
                          ],
                          [
                            0.2222222222222222,
                            "#7201a8"
                          ],
                          [
                            0.3333333333333333,
                            "#9c179e"
                          ],
                          [
                            0.4444444444444444,
                            "#bd3786"
                          ],
                          [
                            0.5555555555555556,
                            "#d8576b"
                          ],
                          [
                            0.6666666666666666,
                            "#ed7953"
                          ],
                          [
                            0.7777777777777778,
                            "#fb9f3a"
                          ],
                          [
                            0.8888888888888888,
                            "#fdca26"
                          ],
                          [
                            1,
                            "#f0f921"
                          ]
                        ],
                        "type": "heatmapgl"
                      }
                    ],
                    "histogram": [
                      {
                        "marker": {
                          "pattern": {
                            "fillmode": "overlay",
                            "size": 10,
                            "solidity": 0.2
                          }
                        },
                        "type": "histogram"
                      }
                    ],
                    "histogram2d": [
                      {
                        "colorbar": {
                          "outlinewidth": 0,
                          "ticks": ""
                        },
                        "colorscale": [
                          [
                            0,
                            "#0d0887"
                          ],
                          [
                            0.1111111111111111,
                            "#46039f"
                          ],
                          [
                            0.2222222222222222,
                            "#7201a8"
                          ],
                          [
                            0.3333333333333333,
                            "#9c179e"
                          ],
                          [
                            0.4444444444444444,
                            "#bd3786"
                          ],
                          [
                            0.5555555555555556,
                            "#d8576b"
                          ],
                          [
                            0.6666666666666666,
                            "#ed7953"
                          ],
                          [
                            0.7777777777777778,
                            "#fb9f3a"
                          ],
                          [
                            0.8888888888888888,
                            "#fdca26"
                          ],
                          [
                            1,
                            "#f0f921"
                          ]
                        ],
                        "type": "histogram2d"
                      }
                    ],
                    "histogram2dcontour": [
                      {
                        "colorbar": {
                          "outlinewidth": 0,
                          "ticks": ""
                        },
                        "colorscale": [
                          [
                            0,
                            "#0d0887"
                          ],
                          [
                            0.1111111111111111,
                            "#46039f"
                          ],
                          [
                            0.2222222222222222,
                            "#7201a8"
                          ],
                          [
                            0.3333333333333333,
                            "#9c179e"
                          ],
                          [
                            0.4444444444444444,
                            "#bd3786"
                          ],
                          [
                            0.5555555555555556,
                            "#d8576b"
                          ],
                          [
                            0.6666666666666666,
                            "#ed7953"
                          ],
                          [
                            0.7777777777777778,
                            "#fb9f3a"
                          ],
                          [
                            0.8888888888888888,
                            "#fdca26"
                          ],
                          [
                            1,
                            "#f0f921"
                          ]
                        ],
                        "type": "histogram2dcontour"
                      }
                    ],
                    "mesh3d": [
                      {
                        "colorbar": {
                          "outlinewidth": 0,
                          "ticks": ""
                        },
                        "type": "mesh3d"
                      }
                    ],
                    "parcoords": [
                      {
                        "line": {
                          "colorbar": {
                            "outlinewidth": 0,
                            "ticks": ""
                          }
                        },
                        "type": "parcoords"
                      }
                    ],
                    "pie": [
                      {
                        "automargin": true,
                        "type": "pie"
                      }
                    ],
                    "scatter": [
                      {
                        "fillpattern": {
                          "fillmode": "overlay",
                          "size": 10,
                          "solidity": 0.2
                        },
                        "type": "scatter"
                      }
                    ],
                    "scatter3d": [
                      {
                        "line": {
                          "colorbar": {
                            "outlinewidth": 0,
                            "ticks": ""
                          }
                        },
                        "marker": {
                          "colorbar": {
                            "outlinewidth": 0,
                            "ticks": ""
                          }
                        },
                        "type": "scatter3d"
                      }
                    ],
                    "scattercarpet": [
                      {
                        "marker": {
                          "colorbar": {
                            "outlinewidth": 0,
                            "ticks": ""
                          }
                        },
                        "type": "scattercarpet"
                      }
                    ],
                    "scattergeo": [
                      {
                        "marker": {
                          "colorbar": {
                            "outlinewidth": 0,
                            "ticks": ""
                          }
                        },
                        "type": "scattergeo"
                      }
                    ],
                    "scattergl": [
                      {
                        "marker": {
                          "colorbar": {
                            "outlinewidth": 0,
                            "ticks": ""
                          }
                        },
                        "type": "scattergl"
                      }
                    ],
                    "scattermapbox": [
                      {
                        "marker": {
                          "colorbar": {
                            "outlinewidth": 0,
                            "ticks": ""
                          }
                        },
                        "type": "scattermapbox"
                      }
                    ],
                    "scatterpolar": [
                      {
                        "marker": {
                          "colorbar": {
                            "outlinewidth": 0,
                            "ticks": ""
                          }
                        },
                        "type": "scatterpolar"
                      }
                    ],
                    "scatterpolargl": [
                      {
                        "marker": {
                          "colorbar": {
                            "outlinewidth": 0,
                            "ticks": ""
                          }
                        },
                        "type": "scatterpolargl"
                      }
                    ],
                    "scatterternary": [
                      {
                        "marker": {
                          "colorbar": {
                            "outlinewidth": 0,
                            "ticks": ""
                          }
                        },
                        "type": "scatterternary"
                      }
                    ],
                    "surface": [
                      {
                        "colorbar": {
                          "outlinewidth": 0,
                          "ticks": ""
                        },
                        "colorscale": [
                          [
                            0,
                            "#0d0887"
                          ],
                          [
                            0.1111111111111111,
                            "#46039f"
                          ],
                          [
                            0.2222222222222222,
                            "#7201a8"
                          ],
                          [
                            0.3333333333333333,
                            "#9c179e"
                          ],
                          [
                            0.4444444444444444,
                            "#bd3786"
                          ],
                          [
                            0.5555555555555556,
                            "#d8576b"
                          ],
                          [
                            0.6666666666666666,
                            "#ed7953"
                          ],
                          [
                            0.7777777777777778,
                            "#fb9f3a"
                          ],
                          [
                            0.8888888888888888,
                            "#fdca26"
                          ],
                          [
                            1,
                            "#f0f921"
                          ]
                        ],
                        "type": "surface"
                      }
                    ],
                    "table": [
                      {
                        "cells": {
                          "fill": {
                            "color": "#EBF0F8"
                          },
                          "line": {
                            "color": "white"
                          }
                        },
                        "header": {
                          "fill": {
                            "color": "#C8D4E3"
                          },
                          "line": {
                            "color": "white"
                          }
                        },
                        "type": "table"
                      }
                    ]
                  },
                  "layout": {
                    "annotationdefaults": {
                      "arrowcolor": "#2a3f5f",
                      "arrowhead": 0,
                      "arrowwidth": 1
                    },
                    "autotypenumbers": "strict",
                    "coloraxis": {
                      "colorbar": {
                        "outlinewidth": 0,
                        "ticks": ""
                      }
                    },
                    "colorscale": {
                      "diverging": [
                        [
                          0,
                          "#8e0152"
                        ],
                        [
                          0.1,
                          "#c51b7d"
                        ],
                        [
                          0.2,
                          "#de77ae"
                        ],
                        [
                          0.3,
                          "#f1b6da"
                        ],
                        [
                          0.4,
                          "#fde0ef"
                        ],
                        [
                          0.5,
                          "#f7f7f7"
                        ],
                        [
                          0.6,
                          "#e6f5d0"
                        ],
                        [
                          0.7,
                          "#b8e186"
                        ],
                        [
                          0.8,
                          "#7fbc41"
                        ],
                        [
                          0.9,
                          "#4d9221"
                        ],
                        [
                          1,
                          "#276419"
                        ]
                      ],
                      "sequential": [
                        [
                          0,
                          "#0d0887"
                        ],
                        [
                          0.1111111111111111,
                          "#46039f"
                        ],
                        [
                          0.2222222222222222,
                          "#7201a8"
                        ],
                        [
                          0.3333333333333333,
                          "#9c179e"
                        ],
                        [
                          0.4444444444444444,
                          "#bd3786"
                        ],
                        [
                          0.5555555555555556,
                          "#d8576b"
                        ],
                        [
                          0.6666666666666666,
                          "#ed7953"
                        ],
                        [
                          0.7777777777777778,
                          "#fb9f3a"
                        ],
                        [
                          0.8888888888888888,
                          "#fdca26"
                        ],
                        [
                          1,
                          "#f0f921"
                        ]
                      ],
                      "sequentialminus": [
                        [
                          0,
                          "#0d0887"
                        ],
                        [
                          0.1111111111111111,
                          "#46039f"
                        ],
                        [
                          0.2222222222222222,
                          "#7201a8"
                        ],
                        [
                          0.3333333333333333,
                          "#9c179e"
                        ],
                        [
                          0.4444444444444444,
                          "#bd3786"
                        ],
                        [
                          0.5555555555555556,
                          "#d8576b"
                        ],
                        [
                          0.6666666666666666,
                          "#ed7953"
                        ],
                        [
                          0.7777777777777778,
                          "#fb9f3a"
                        ],
                        [
                          0.8888888888888888,
                          "#fdca26"
                        ],
                        [
                          1,
                          "#f0f921"
                        ]
                      ]
                    },
                    "colorway": [
                      "#636efa",
                      "#EF553B",
                      "#00cc96",
                      "#ab63fa",
                      "#FFA15A",
                      "#19d3f3",
                      "#FF6692",
                      "#B6E880",
                      "#FF97FF",
                      "#FECB52"
                    ],
                    "font": {
                      "color": "#2a3f5f"
                    },
                    "geo": {
                      "bgcolor": "white",
                      "lakecolor": "white",
                      "landcolor": "#E5ECF6",
                      "showlakes": true,
                      "showland": true,
                      "subunitcolor": "white"
                    },
                    "hoverlabel": {
                      "align": "left"
                    },
                    "hovermode": "closest",
                    "mapbox": {
                      "style": "light"
                    },
                    "paper_bgcolor": "white",
                    "plot_bgcolor": "#E5ECF6",
                    "polar": {
                      "angularaxis": {
                        "gridcolor": "white",
                        "linecolor": "white",
                        "ticks": ""
                      },
                      "bgcolor": "#E5ECF6",
                      "radialaxis": {
                        "gridcolor": "white",
                        "linecolor": "white",
                        "ticks": ""
                      }
                    },
                    "scene": {
                      "xaxis": {
                        "backgroundcolor": "#E5ECF6",
                        "gridcolor": "white",
                        "gridwidth": 2,
                        "linecolor": "white",
                        "showbackground": true,
                        "ticks": "",
                        "zerolinecolor": "white"
                      },
                      "yaxis": {
                        "backgroundcolor": "#E5ECF6",
                        "gridcolor": "white",
                        "gridwidth": 2,
                        "linecolor": "white",
                        "showbackground": true,
                        "ticks": "",
                        "zerolinecolor": "white"
                      },
                      "zaxis": {
                        "backgroundcolor": "#E5ECF6",
                        "gridcolor": "white",
                        "gridwidth": 2,
                        "linecolor": "white",
                        "showbackground": true,
                        "ticks": "",
                        "zerolinecolor": "white"
                      }
                    },
                    "shapedefaults": {
                      "line": {
                        "color": "#2a3f5f"
                      }
                    },
                    "ternary": {
                      "aaxis": {
                        "gridcolor": "white",
                        "linecolor": "white",
                        "ticks": ""
                      },
                      "baxis": {
                        "gridcolor": "white",
                        "linecolor": "white",
                        "ticks": ""
                      },
                      "bgcolor": "#E5ECF6",
                      "caxis": {
                        "gridcolor": "white",
                        "linecolor": "white",
                        "ticks": ""
                      }
                    },
                    "title": {
                      "x": 0.05
                    },
                    "xaxis": {
                      "automargin": true,
                      "gridcolor": "white",
                      "linecolor": "white",
                      "ticks": "",
                      "title": {
                        "standoff": 15
                      },
                      "zerolinecolor": "white",
                      "zerolinewidth": 2
                    },
                    "yaxis": {
                      "automargin": true,
                      "gridcolor": "white",
                      "linecolor": "white",
                      "ticks": "",
                      "title": {
                        "standoff": 15
                      },
                      "zerolinecolor": "white",
                      "zerolinewidth": 2
                    }
                  }
                },
                "title": {
                  "text": "Average Price Increase Percentage by Category"
                },
                "xaxis": {
                  "anchor": "y",
                  "categoryorder": "total descending",
                  "domain": [
                    0,
                    1
                  ],
                  "title": {
                    "text": "Category"
                  }
                },
                "yaxis": {
                  "anchor": "x",
                  "domain": [
                    0,
                    1
                  ],
                  "title": {
                    "text": "Price Increase Percentage"
                  }
                }
              }
            }
          },
          "metadata": {},
          "output_type": "display_data"
        }
      ],
      "source": [
        "# Clustering the products according to their categories and showing the average price increase percentage for each category\n",
        "fig = px.bar(avg_price_increase_by_category, \n",
        "             x=\"Category\", \n",
        "             y=\"Price Increase Percentage\", \n",
        "             color=\"Price Increase Percentage\", \n",
        "             title='Average Price Increase Percentage by Category', \n",
        "             color_continuous_scale='Bluered')\n",
        "\n",
        "fig.update_layout(xaxis={'categoryorder':'total descending'})\n",
        "fig.show()"
      ]
    },
    {
      "cell_type": "code",
      "execution_count": 213,
      "metadata": {
        "id": "7YiheJQrFEwx",
        "outputId": "7b57c739-e726-4537-9334-48d97ee99864"
      },
      "outputs": [
        {
          "data": {
            "application/vnd.plotly.v1+json": {
              "config": {
                "plotlyServerURL": "https://plot.ly"
              },
              "data": [
                {
                  "hovertemplate": "Category=%{x}<br>Price Increase Percentage=%{y}<extra></extra>",
                  "legendgroup": "tonerler",
                  "marker": {
                    "color": "#636efa",
                    "symbol": "circle"
                  },
                  "mode": "markers",
                  "name": "tonerler",
                  "orientation": "v",
                  "showlegend": true,
                  "type": "scatter",
                  "x": [
                    "tonerler"
                  ],
                  "xaxis": "x",
                  "y": [
                    73.65853658536585
                  ],
                  "yaxis": "y"
                },
                {
                  "hovertemplate": "Category=%{x}<br>Price Increase Percentage=%{y}<extra></extra>",
                  "legendgroup": "banyo-bakim-aksesuarlari",
                  "marker": {
                    "color": "#EF553B",
                    "symbol": "circle"
                  },
                  "mode": "markers",
                  "name": "banyo-bakim-aksesuarlari",
                  "orientation": "v",
                  "showlegend": true,
                  "type": "scatter",
                  "x": [
                    "banyo-bakim-aksesuarlari"
                  ],
                  "xaxis": "x",
                  "y": [
                    65.27777777777777
                  ],
                  "yaxis": "y"
                },
                {
                  "hovertemplate": "Category=%{x}<br>Price Increase Percentage=%{y}<extra></extra>",
                  "legendgroup": "not-defteri-bloknot",
                  "marker": {
                    "color": "#00cc96",
                    "symbol": "circle"
                  },
                  "mode": "markers",
                  "name": "not-defteri-bloknot",
                  "orientation": "v",
                  "showlegend": true,
                  "type": "scatter",
                  "x": [
                    "not-defteri-bloknot"
                  ],
                  "xaxis": "x",
                  "y": [
                    57.07692307692308
                  ],
                  "yaxis": "y"
                },
                {
                  "hovertemplate": "Category=%{x}<br>Price Increase Percentage=%{y}<extra></extra>",
                  "legendgroup": "turk-kahve-makinesi",
                  "marker": {
                    "color": "#ab63fa",
                    "symbol": "circle"
                  },
                  "mode": "markers",
                  "name": "turk-kahve-makinesi",
                  "orientation": "v",
                  "showlegend": true,
                  "type": "scatter",
                  "x": [
                    "turk-kahve-makinesi"
                  ],
                  "xaxis": "x",
                  "y": [
                    56.063614298824746
                  ],
                  "yaxis": "y"
                },
                {
                  "hovertemplate": "Category=%{x}<br>Price Increase Percentage=%{y}<extra></extra>",
                  "legendgroup": "flash-bellekler",
                  "marker": {
                    "color": "#FFA15A",
                    "symbol": "circle"
                  },
                  "mode": "markers",
                  "name": "flash-bellekler",
                  "orientation": "v",
                  "showlegend": true,
                  "type": "scatter",
                  "x": [
                    "flash-bellekler"
                  ],
                  "xaxis": "x",
                  "y": [
                    55.29100529100529
                  ],
                  "yaxis": "y"
                },
                {
                  "hovertemplate": "Category=%{x}<br>Price Increase Percentage=%{y}<extra></extra>",
                  "legendgroup": "dudak-bakimi-koruyucu",
                  "marker": {
                    "color": "#19d3f3",
                    "symbol": "circle"
                  },
                  "mode": "markers",
                  "name": "dudak-bakimi-koruyucu",
                  "orientation": "v",
                  "showlegend": true,
                  "type": "scatter",
                  "x": [
                    "dudak-bakimi-koruyucu"
                  ],
                  "xaxis": "x",
                  "y": [
                    52.94117647058824
                  ],
                  "yaxis": "y"
                },
                {
                  "hovertemplate": "Category=%{x}<br>Price Increase Percentage=%{y}<extra></extra>",
                  "legendgroup": "mini-midi-firinlar",
                  "marker": {
                    "color": "#FF6692",
                    "symbol": "circle"
                  },
                  "mode": "markers",
                  "name": "mini-midi-firinlar",
                  "orientation": "v",
                  "showlegend": true,
                  "type": "scatter",
                  "x": [
                    "mini-midi-firinlar"
                  ],
                  "xaxis": "x",
                  "y": [
                    52.10115284492376
                  ],
                  "yaxis": "y"
                },
                {
                  "hovertemplate": "Category=%{x}<br>Price Increase Percentage=%{y}<extra></extra>",
                  "legendgroup": "kahvaltilik-gevrek",
                  "marker": {
                    "color": "#B6E880",
                    "symbol": "circle"
                  },
                  "mode": "markers",
                  "name": "kahvaltilik-gevrek",
                  "orientation": "v",
                  "showlegend": true,
                  "type": "scatter",
                  "x": [
                    "kahvaltilik-gevrek"
                  ],
                  "xaxis": "x",
                  "y": [
                    51.5625
                  ],
                  "yaxis": "y"
                },
                {
                  "hovertemplate": "Category=%{x}<br>Price Increase Percentage=%{y}<extra></extra>",
                  "legendgroup": "bitkisel-besin-destekleri",
                  "marker": {
                    "color": "#FF97FF",
                    "symbol": "circle"
                  },
                  "mode": "markers",
                  "name": "bitkisel-besin-destekleri",
                  "orientation": "v",
                  "showlegend": true,
                  "type": "scatter",
                  "x": [
                    "bitkisel-besin-destekleri"
                  ],
                  "xaxis": "x",
                  "y": [
                    51.388888888888886
                  ],
                  "yaxis": "y"
                },
                {
                  "hovertemplate": "Category=%{x}<br>Price Increase Percentage=%{y}<extra></extra>",
                  "legendgroup": "oyuncu-mouse",
                  "marker": {
                    "color": "#FECB52",
                    "symbol": "circle"
                  },
                  "mode": "markers",
                  "name": "oyuncu-mouse",
                  "orientation": "v",
                  "showlegend": true,
                  "type": "scatter",
                  "x": [
                    "oyuncu-mouse"
                  ],
                  "xaxis": "x",
                  "y": [
                    51.29280255594714
                  ],
                  "yaxis": "y"
                },
                {
                  "hovertemplate": "Category=%{x}<br>Price Increase Percentage=%{y}<extra></extra>",
                  "legendgroup": "dis-macunlari",
                  "marker": {
                    "color": "#636efa",
                    "symbol": "circle"
                  },
                  "mode": "markers",
                  "name": "dis-macunlari",
                  "orientation": "v",
                  "showlegend": true,
                  "type": "scatter",
                  "x": [
                    "dis-macunlari"
                  ],
                  "xaxis": "x",
                  "y": [
                    51.28205128205128
                  ],
                  "yaxis": "y"
                },
                {
                  "hovertemplate": "Category=%{x}<br>Price Increase Percentage=%{y}<extra></extra>",
                  "legendgroup": "isiticilar",
                  "marker": {
                    "color": "#EF553B",
                    "symbol": "circle"
                  },
                  "mode": "markers",
                  "name": "isiticilar",
                  "orientation": "v",
                  "showlegend": true,
                  "type": "scatter",
                  "x": [
                    "isiticilar"
                  ],
                  "xaxis": "x",
                  "y": [
                    51.18008439901504
                  ],
                  "yaxis": "y"
                },
                {
                  "hovertemplate": "Category=%{x}<br>Price Increase Percentage=%{y}<extra></extra>",
                  "legendgroup": "mouse-pad",
                  "marker": {
                    "color": "#00cc96",
                    "symbol": "circle"
                  },
                  "mode": "markers",
                  "name": "mouse-pad",
                  "orientation": "v",
                  "showlegend": true,
                  "type": "scatter",
                  "x": [
                    "mouse-pad"
                  ],
                  "xaxis": "x",
                  "y": [
                    50
                  ],
                  "yaxis": "y"
                },
                {
                  "hovertemplate": "Category=%{x}<br>Price Increase Percentage=%{y}<extra></extra>",
                  "legendgroup": "yara-bandi",
                  "marker": {
                    "color": "#ab63fa",
                    "symbol": "circle"
                  },
                  "mode": "markers",
                  "name": "yara-bandi",
                  "orientation": "v",
                  "showlegend": true,
                  "type": "scatter",
                  "x": [
                    "yara-bandi"
                  ],
                  "xaxis": "x",
                  "y": [
                    50
                  ],
                  "yaxis": "y"
                },
                {
                  "hovertemplate": "Category=%{x}<br>Price Increase Percentage=%{y}<extra></extra>",
                  "legendgroup": "ezme-krem-cikolata",
                  "marker": {
                    "color": "#FFA15A",
                    "symbol": "circle"
                  },
                  "mode": "markers",
                  "name": "ezme-krem-cikolata",
                  "orientation": "v",
                  "showlegend": true,
                  "type": "scatter",
                  "x": [
                    "ezme-krem-cikolata"
                  ],
                  "xaxis": "x",
                  "y": [
                    49.83061101028433
                  ],
                  "yaxis": "y"
                },
                {
                  "hovertemplate": "Category=%{x}<br>Price Increase Percentage=%{y}<extra></extra>",
                  "legendgroup": "baskul",
                  "marker": {
                    "color": "#19d3f3",
                    "symbol": "circle"
                  },
                  "mode": "markers",
                  "name": "baskul",
                  "orientation": "v",
                  "showlegend": true,
                  "type": "scatter",
                  "x": [
                    "baskul"
                  ],
                  "xaxis": "x",
                  "y": [
                    49.32562620423892
                  ],
                  "yaxis": "y"
                },
                {
                  "hovertemplate": "Category=%{x}<br>Price Increase Percentage=%{y}<extra></extra>",
                  "legendgroup": "anakart",
                  "marker": {
                    "color": "#FF6692",
                    "symbol": "circle"
                  },
                  "mode": "markers",
                  "name": "anakart",
                  "orientation": "v",
                  "showlegend": true,
                  "type": "scatter",
                  "x": [
                    "anakart"
                  ],
                  "xaxis": "x",
                  "y": [
                    49.238799478033926
                  ],
                  "yaxis": "y"
                },
                {
                  "hovertemplate": "Category=%{x}<br>Price Increase Percentage=%{y}<extra></extra>",
                  "legendgroup": "dizustu-bilgisayar-aksesuarlari",
                  "marker": {
                    "color": "#B6E880",
                    "symbol": "circle"
                  },
                  "mode": "markers",
                  "name": "dizustu-bilgisayar-aksesuarlari",
                  "orientation": "v",
                  "showlegend": true,
                  "type": "scatter",
                  "x": [
                    "dizustu-bilgisayar-aksesuarlari"
                  ],
                  "xaxis": "x",
                  "y": [
                    49.238589660393686
                  ],
                  "yaxis": "y"
                },
                {
                  "hovertemplate": "Category=%{x}<br>Price Increase Percentage=%{y}<extra></extra>",
                  "legendgroup": "kedi-mamasi",
                  "marker": {
                    "color": "#FF97FF",
                    "symbol": "circle"
                  },
                  "mode": "markers",
                  "name": "kedi-mamasi",
                  "orientation": "v",
                  "showlegend": true,
                  "type": "scatter",
                  "x": [
                    "kedi-mamasi"
                  ],
                  "xaxis": "x",
                  "y": [
                    49.06393270058896
                  ],
                  "yaxis": "y"
                },
                {
                  "hovertemplate": "Category=%{x}<br>Price Increase Percentage=%{y}<extra></extra>",
                  "legendgroup": "yazi-tahtasi-kalemi",
                  "marker": {
                    "color": "#FECB52",
                    "symbol": "circle"
                  },
                  "mode": "markers",
                  "name": "yazi-tahtasi-kalemi",
                  "orientation": "v",
                  "showlegend": true,
                  "type": "scatter",
                  "x": [
                    "yazi-tahtasi-kalemi"
                  ],
                  "xaxis": "x",
                  "y": [
                    48.87218045112781
                  ],
                  "yaxis": "y"
                },
                {
                  "hovertemplate": "Category=%{x}<br>Price Increase Percentage=%{y}<extra></extra>",
                  "legendgroup": "klasik-gitarlar",
                  "marker": {
                    "color": "#636efa",
                    "symbol": "circle"
                  },
                  "mode": "markers",
                  "name": "klasik-gitarlar",
                  "orientation": "v",
                  "showlegend": true,
                  "type": "scatter",
                  "x": [
                    "klasik-gitarlar"
                  ],
                  "xaxis": "x",
                  "y": [
                    48.494143892916895
                  ],
                  "yaxis": "y"
                },
                {
                  "hovertemplate": "Category=%{x}<br>Price Increase Percentage=%{y}<extra></extra>",
                  "legendgroup": "bluetooth-kulaklik",
                  "marker": {
                    "color": "#EF553B",
                    "symbol": "circle"
                  },
                  "mode": "markers",
                  "name": "bluetooth-kulaklik",
                  "orientation": "v",
                  "showlegend": true,
                  "type": "scatter",
                  "x": [
                    "bluetooth-kulaklik"
                  ],
                  "xaxis": "x",
                  "y": [
                    48.179831057852816
                  ],
                  "yaxis": "y"
                },
                {
                  "hovertemplate": "Category=%{x}<br>Price Increase Percentage=%{y}<extra></extra>",
                  "legendgroup": "oyuncu-klavyesi",
                  "marker": {
                    "color": "#00cc96",
                    "symbol": "circle"
                  },
                  "mode": "markers",
                  "name": "oyuncu-klavyesi",
                  "orientation": "v",
                  "showlegend": true,
                  "type": "scatter",
                  "x": [
                    "oyuncu-klavyesi"
                  ],
                  "xaxis": "x",
                  "y": [
                    47.55804643714972
                  ],
                  "yaxis": "y"
                },
                {
                  "hovertemplate": "Category=%{x}<br>Price Increase Percentage=%{y}<extra></extra>",
                  "legendgroup": "spiralli-defter",
                  "marker": {
                    "color": "#ab63fa",
                    "symbol": "circle"
                  },
                  "mode": "markers",
                  "name": "spiralli-defter",
                  "orientation": "v",
                  "showlegend": true,
                  "type": "scatter",
                  "x": [
                    "spiralli-defter"
                  ],
                  "xaxis": "x",
                  "y": [
                    47.272727272727266
                  ],
                  "yaxis": "y"
                },
                {
                  "hovertemplate": "Category=%{x}<br>Price Increase Percentage=%{y}<extra></extra>",
                  "legendgroup": "mouse",
                  "marker": {
                    "color": "#FFA15A",
                    "symbol": "circle"
                  },
                  "mode": "markers",
                  "name": "mouse",
                  "orientation": "v",
                  "showlegend": true,
                  "type": "scatter",
                  "x": [
                    "mouse"
                  ],
                  "xaxis": "x",
                  "y": [
                    47.06794630448661
                  ],
                  "yaxis": "y"
                },
                {
                  "hovertemplate": "Category=%{x}<br>Price Increase Percentage=%{y}<extra></extra>",
                  "legendgroup": "tavla",
                  "marker": {
                    "color": "#19d3f3",
                    "symbol": "circle"
                  },
                  "mode": "markers",
                  "name": "tavla",
                  "orientation": "v",
                  "showlegend": true,
                  "type": "scatter",
                  "x": [
                    "tavla"
                  ],
                  "xaxis": "x",
                  "y": [
                    46.99074074074074
                  ],
                  "yaxis": "y"
                },
                {
                  "hovertemplate": "Category=%{x}<br>Price Increase Percentage=%{y}<extra></extra>",
                  "legendgroup": "bilgisayar-oyunlari",
                  "marker": {
                    "color": "#FF6692",
                    "symbol": "circle"
                  },
                  "mode": "markers",
                  "name": "bilgisayar-oyunlari",
                  "orientation": "v",
                  "showlegend": true,
                  "type": "scatter",
                  "x": [
                    "bilgisayar-oyunlari"
                  ],
                  "xaxis": "x",
                  "y": [
                    44.13657928146647
                  ],
                  "yaxis": "y"
                },
                {
                  "hovertemplate": "Category=%{x}<br>Price Increase Percentage=%{y}<extra></extra>",
                  "legendgroup": "calisma-koltugu",
                  "marker": {
                    "color": "#B6E880",
                    "symbol": "circle"
                  },
                  "mode": "markers",
                  "name": "calisma-koltugu",
                  "orientation": "v",
                  "showlegend": true,
                  "type": "scatter",
                  "x": [
                    "calisma-koltugu"
                  ],
                  "xaxis": "x",
                  "y": [
                    43.75008956654716
                  ],
                  "yaxis": "y"
                },
                {
                  "hovertemplate": "Category=%{x}<br>Price Increase Percentage=%{y}<extra></extra>",
                  "legendgroup": "kursun-kalem-ucu-min",
                  "marker": {
                    "color": "#FF97FF",
                    "symbol": "circle"
                  },
                  "mode": "markers",
                  "name": "kursun-kalem-ucu-min",
                  "orientation": "v",
                  "showlegend": true,
                  "type": "scatter",
                  "x": [
                    "kursun-kalem-ucu-min"
                  ],
                  "xaxis": "x",
                  "y": [
                    43.608058608058606
                  ],
                  "yaxis": "y"
                },
                {
                  "hovertemplate": "Category=%{x}<br>Price Increase Percentage=%{y}<extra></extra>",
                  "legendgroup": "suluk-matara",
                  "marker": {
                    "color": "#FECB52",
                    "symbol": "circle"
                  },
                  "mode": "markers",
                  "name": "suluk-matara",
                  "orientation": "v",
                  "showlegend": true,
                  "type": "scatter",
                  "x": [
                    "suluk-matara"
                  ],
                  "xaxis": "x",
                  "y": [
                    43.58883786647827
                  ],
                  "yaxis": "y"
                },
                {
                  "hovertemplate": "Category=%{x}<br>Price Increase Percentage=%{y}<extra></extra>",
                  "legendgroup": "cay-makineleri",
                  "marker": {
                    "color": "#636efa",
                    "symbol": "circle"
                  },
                  "mode": "markers",
                  "name": "cay-makineleri",
                  "orientation": "v",
                  "showlegend": true,
                  "type": "scatter",
                  "x": [
                    "cay-makineleri"
                  ],
                  "xaxis": "x",
                  "y": [
                    43.337907503864464
                  ],
                  "yaxis": "y"
                },
                {
                  "hovertemplate": "Category=%{x}<br>Price Increase Percentage=%{y}<extra></extra>",
                  "legendgroup": "erkek-cuzdan",
                  "marker": {
                    "color": "#EF553B",
                    "symbol": "circle"
                  },
                  "mode": "markers",
                  "name": "erkek-cuzdan",
                  "orientation": "v",
                  "showlegend": true,
                  "type": "scatter",
                  "x": [
                    "erkek-cuzdan"
                  ],
                  "xaxis": "x",
                  "y": [
                    42.92929292929293
                  ],
                  "yaxis": "y"
                },
                {
                  "hovertemplate": "Category=%{x}<br>Price Increase Percentage=%{y}<extra></extra>",
                  "legendgroup": "tencere-tava-setleri",
                  "marker": {
                    "color": "#00cc96",
                    "symbol": "circle"
                  },
                  "mode": "markers",
                  "name": "tencere-tava-setleri",
                  "orientation": "v",
                  "showlegend": true,
                  "type": "scatter",
                  "x": [
                    "tencere-tava-setleri"
                  ],
                  "xaxis": "x",
                  "y": [
                    42.91845493562232
                  ],
                  "yaxis": "y"
                },
                {
                  "hovertemplate": "Category=%{x}<br>Price Increase Percentage=%{y}<extra></extra>",
                  "legendgroup": "klavye",
                  "marker": {
                    "color": "#ab63fa",
                    "symbol": "circle"
                  },
                  "mode": "markers",
                  "name": "klavye",
                  "orientation": "v",
                  "showlegend": true,
                  "type": "scatter",
                  "x": [
                    "klavye"
                  ],
                  "xaxis": "x",
                  "y": [
                    42.52383892596828
                  ],
                  "yaxis": "y"
                },
                {
                  "hovertemplate": "Category=%{x}<br>Price Increase Percentage=%{y}<extra></extra>",
                  "legendgroup": "oyuncu-kulakliklari",
                  "marker": {
                    "color": "#FFA15A",
                    "symbol": "circle"
                  },
                  "mode": "markers",
                  "name": "oyuncu-kulakliklari",
                  "orientation": "v",
                  "showlegend": true,
                  "type": "scatter",
                  "x": [
                    "oyuncu-kulakliklari"
                  ],
                  "xaxis": "x",
                  "y": [
                    41.922563417890515
                  ],
                  "yaxis": "y"
                },
                {
                  "hovertemplate": "Category=%{x}<br>Price Increase Percentage=%{y}<extra></extra>",
                  "legendgroup": "fotograf-makinesi",
                  "marker": {
                    "color": "#19d3f3",
                    "symbol": "circle"
                  },
                  "mode": "markers",
                  "name": "fotograf-makinesi",
                  "orientation": "v",
                  "showlegend": true,
                  "type": "scatter",
                  "x": [
                    "fotograf-makinesi"
                  ],
                  "xaxis": "x",
                  "y": [
                    41.61521061319313
                  ],
                  "yaxis": "y"
                },
                {
                  "hovertemplate": "Category=%{x}<br>Price Increase Percentage=%{y}<extra></extra>",
                  "legendgroup": "tirnak-makasi",
                  "marker": {
                    "color": "#FF6692",
                    "symbol": "circle"
                  },
                  "mode": "markers",
                  "name": "tirnak-makasi",
                  "orientation": "v",
                  "showlegend": true,
                  "type": "scatter",
                  "x": [
                    "tirnak-makasi"
                  ],
                  "xaxis": "x",
                  "y": [
                    41.50717703349282
                  ],
                  "yaxis": "y"
                },
                {
                  "hovertemplate": "Category=%{x}<br>Price Increase Percentage=%{y}<extra></extra>",
                  "legendgroup": "tiras-bicagi",
                  "marker": {
                    "color": "#B6E880",
                    "symbol": "circle"
                  },
                  "mode": "markers",
                  "name": "tiras-bicagi",
                  "orientation": "v",
                  "showlegend": true,
                  "type": "scatter",
                  "x": [
                    "tiras-bicagi"
                  ],
                  "xaxis": "x",
                  "y": [
                    41.35021097046413
                  ],
                  "yaxis": "y"
                },
                {
                  "hovertemplate": "Category=%{x}<br>Price Increase Percentage=%{y}<extra></extra>",
                  "legendgroup": "dermokozmetik-urunler",
                  "marker": {
                    "color": "#FF97FF",
                    "symbol": "circle"
                  },
                  "mode": "markers",
                  "name": "dermokozmetik-urunler",
                  "orientation": "v",
                  "showlegend": true,
                  "type": "scatter",
                  "x": [
                    "dermokozmetik-urunler"
                  ],
                  "xaxis": "x",
                  "y": [
                    41.12903225806452
                  ],
                  "yaxis": "y"
                },
                {
                  "hovertemplate": "Category=%{x}<br>Price Increase Percentage=%{y}<extra></extra>",
                  "legendgroup": "bilgisayar-cevirici-ve-adaptoru",
                  "marker": {
                    "color": "#FECB52",
                    "symbol": "circle"
                  },
                  "mode": "markers",
                  "name": "bilgisayar-cevirici-ve-adaptoru",
                  "orientation": "v",
                  "showlegend": true,
                  "type": "scatter",
                  "x": [
                    "bilgisayar-cevirici-ve-adaptoru"
                  ],
                  "xaxis": "x",
                  "y": [
                    41.0958904109589
                  ],
                  "yaxis": "y"
                },
                {
                  "hovertemplate": "Category=%{x}<br>Price Increase Percentage=%{y}<extra></extra>",
                  "legendgroup": "tukenmez-kalem",
                  "marker": {
                    "color": "#636efa",
                    "symbol": "circle"
                  },
                  "mode": "markers",
                  "name": "tukenmez-kalem",
                  "orientation": "v",
                  "showlegend": true,
                  "type": "scatter",
                  "x": [
                    "tukenmez-kalem"
                  ],
                  "xaxis": "x",
                  "y": [
                    40.985193210545326
                  ],
                  "yaxis": "y"
                },
                {
                  "hovertemplate": "Category=%{x}<br>Price Increase Percentage=%{y}<extra></extra>",
                  "legendgroup": "sicak-su-torbasi",
                  "marker": {
                    "color": "#EF553B",
                    "symbol": "circle"
                  },
                  "mode": "markers",
                  "name": "sicak-su-torbasi",
                  "orientation": "v",
                  "showlegend": true,
                  "type": "scatter",
                  "x": [
                    "sicak-su-torbasi"
                  ],
                  "xaxis": "x",
                  "y": [
                    40.94488188976378
                  ],
                  "yaxis": "y"
                },
                {
                  "hovertemplate": "Category=%{x}<br>Price Increase Percentage=%{y}<extra></extra>",
                  "legendgroup": "vazelin",
                  "marker": {
                    "color": "#00cc96",
                    "symbol": "circle"
                  },
                  "mode": "markers",
                  "name": "vazelin",
                  "orientation": "v",
                  "showlegend": true,
                  "type": "scatter",
                  "x": [
                    "vazelin"
                  ],
                  "xaxis": "x",
                  "y": [
                    40.909090909090914
                  ],
                  "yaxis": "y"
                },
                {
                  "hovertemplate": "Category=%{x}<br>Price Increase Percentage=%{y}<extra></extra>",
                  "legendgroup": "cep-telefonu-kalemi",
                  "marker": {
                    "color": "#ab63fa",
                    "symbol": "circle"
                  },
                  "mode": "markers",
                  "name": "cep-telefonu-kalemi",
                  "orientation": "v",
                  "showlegend": true,
                  "type": "scatter",
                  "x": [
                    "cep-telefonu-kalemi"
                  ],
                  "xaxis": "x",
                  "y": [
                    40.794608017027315
                  ],
                  "yaxis": "y"
                },
                {
                  "hovertemplate": "Category=%{x}<br>Price Increase Percentage=%{y}<extra></extra>",
                  "legendgroup": "kulaklik",
                  "marker": {
                    "color": "#FFA15A",
                    "symbol": "circle"
                  },
                  "mode": "markers",
                  "name": "kulaklik",
                  "orientation": "v",
                  "showlegend": true,
                  "type": "scatter",
                  "x": [
                    "kulaklik"
                  ],
                  "xaxis": "x",
                  "y": [
                    40.206932963531905
                  ],
                  "yaxis": "y"
                },
                {
                  "hovertemplate": "Category=%{x}<br>Price Increase Percentage=%{y}<extra></extra>",
                  "legendgroup": "oyun-kolu",
                  "marker": {
                    "color": "#19d3f3",
                    "symbol": "circle"
                  },
                  "mode": "markers",
                  "name": "oyun-kolu",
                  "orientation": "v",
                  "showlegend": true,
                  "type": "scatter",
                  "x": [
                    "oyun-kolu"
                  ],
                  "xaxis": "x",
                  "y": [
                    39.80829819696224
                  ],
                  "yaxis": "y"
                },
                {
                  "hovertemplate": "Category=%{x}<br>Price Increase Percentage=%{y}<extra></extra>",
                  "legendgroup": "epilasyon-aleti",
                  "marker": {
                    "color": "#FF6692",
                    "symbol": "circle"
                  },
                  "mode": "markers",
                  "name": "epilasyon-aleti",
                  "orientation": "v",
                  "showlegend": true,
                  "type": "scatter",
                  "x": [
                    "epilasyon-aleti"
                  ],
                  "xaxis": "x",
                  "y": [
                    39.5678201197255
                  ],
                  "yaxis": "y"
                },
                {
                  "hovertemplate": "Category=%{x}<br>Price Increase Percentage=%{y}<extra></extra>",
                  "legendgroup": "yetiskinler-icin-oyunlar",
                  "marker": {
                    "color": "#B6E880",
                    "symbol": "circle"
                  },
                  "mode": "markers",
                  "name": "yetiskinler-icin-oyunlar",
                  "orientation": "v",
                  "showlegend": true,
                  "type": "scatter",
                  "x": [
                    "yetiskinler-icin-oyunlar"
                  ],
                  "xaxis": "x",
                  "y": [
                    39.209851321837625
                  ],
                  "yaxis": "y"
                },
                {
                  "hovertemplate": "Category=%{x}<br>Price Increase Percentage=%{y}<extra></extra>",
                  "legendgroup": "silgi",
                  "marker": {
                    "color": "#FF97FF",
                    "symbol": "circle"
                  },
                  "mode": "markers",
                  "name": "silgi",
                  "orientation": "v",
                  "showlegend": true,
                  "type": "scatter",
                  "x": [
                    "silgi"
                  ],
                  "xaxis": "x",
                  "y": [
                    39.18456271397448
                  ],
                  "yaxis": "y"
                },
                {
                  "hovertemplate": "Category=%{x}<br>Price Increase Percentage=%{y}<extra></extra>",
                  "legendgroup": "gunes-kremi",
                  "marker": {
                    "color": "#FECB52",
                    "symbol": "circle"
                  },
                  "mode": "markers",
                  "name": "gunes-kremi",
                  "orientation": "v",
                  "showlegend": true,
                  "type": "scatter",
                  "x": [
                    "gunes-kremi"
                  ],
                  "xaxis": "x",
                  "y": [
                    38.71681415929203
                  ],
                  "yaxis": "y"
                },
                {
                  "hovertemplate": "Category=%{x}<br>Price Increase Percentage=%{y}<extra></extra>",
                  "legendgroup": "robot-supurge",
                  "marker": {
                    "color": "#636efa",
                    "symbol": "circle"
                  },
                  "mode": "markers",
                  "name": "robot-supurge",
                  "orientation": "v",
                  "showlegend": true,
                  "type": "scatter",
                  "x": [
                    "robot-supurge"
                  ],
                  "xaxis": "x",
                  "y": [
                    38.604098188684524
                  ],
                  "yaxis": "y"
                },
                {
                  "hovertemplate": "Category=%{x}<br>Price Increase Percentage=%{y}<extra></extra>",
                  "legendgroup": "bulasik-makinesi-tableti",
                  "marker": {
                    "color": "#EF553B",
                    "symbol": "circle"
                  },
                  "mode": "markers",
                  "name": "bulasik-makinesi-tableti",
                  "orientation": "v",
                  "showlegend": true,
                  "type": "scatter",
                  "x": [
                    "bulasik-makinesi-tableti"
                  ],
                  "xaxis": "x",
                  "y": [
                    38.37595683547913
                  ],
                  "yaxis": "y"
                },
                {
                  "hovertemplate": "Category=%{x}<br>Price Increase Percentage=%{y}<extra></extra>",
                  "legendgroup": "buzdolabi",
                  "marker": {
                    "color": "#00cc96",
                    "symbol": "circle"
                  },
                  "mode": "markers",
                  "name": "buzdolabi",
                  "orientation": "v",
                  "showlegend": true,
                  "type": "scatter",
                  "x": [
                    "buzdolabi"
                  ],
                  "xaxis": "x",
                  "y": [
                    38.346115371790596
                  ],
                  "yaxis": "y"
                },
                {
                  "hovertemplate": "Category=%{x}<br>Price Increase Percentage=%{y}<extra></extra>",
                  "legendgroup": "bulasik-makineleri",
                  "marker": {
                    "color": "#ab63fa",
                    "symbol": "circle"
                  },
                  "mode": "markers",
                  "name": "bulasik-makineleri",
                  "orientation": "v",
                  "showlegend": true,
                  "type": "scatter",
                  "x": [
                    "bulasik-makineleri"
                  ],
                  "xaxis": "x",
                  "y": [
                    38.14194265603311
                  ],
                  "yaxis": "y"
                },
                {
                  "hovertemplate": "Category=%{x}<br>Price Increase Percentage=%{y}<extra></extra>",
                  "legendgroup": "ezme-perle-kedi-mamasi",
                  "marker": {
                    "color": "#FFA15A",
                    "symbol": "circle"
                  },
                  "mode": "markers",
                  "name": "ezme-perle-kedi-mamasi",
                  "orientation": "v",
                  "showlegend": true,
                  "type": "scatter",
                  "x": [
                    "ezme-perle-kedi-mamasi"
                  ],
                  "xaxis": "x",
                  "y": [
                    37.5
                  ],
                  "yaxis": "y"
                },
                {
                  "hovertemplate": "Category=%{x}<br>Price Increase Percentage=%{y}<extra></extra>",
                  "legendgroup": "cep-telefonlari",
                  "marker": {
                    "color": "#19d3f3",
                    "symbol": "circle"
                  },
                  "mode": "markers",
                  "name": "cep-telefonlari",
                  "orientation": "v",
                  "showlegend": true,
                  "type": "scatter",
                  "x": [
                    "cep-telefonlari"
                  ],
                  "xaxis": "x",
                  "y": [
                    37.436944588369656
                  ],
                  "yaxis": "y"
                },
                {
                  "hovertemplate": "Category=%{x}<br>Price Increase Percentage=%{y}<extra></extra>",
                  "legendgroup": "bilgisayar-kasasi",
                  "marker": {
                    "color": "#FF6692",
                    "symbol": "circle"
                  },
                  "mode": "markers",
                  "name": "bilgisayar-kasasi",
                  "orientation": "v",
                  "showlegend": true,
                  "type": "scatter",
                  "x": [
                    "bilgisayar-kasasi"
                  ],
                  "xaxis": "x",
                  "y": [
                    36.96682464454976
                  ],
                  "yaxis": "y"
                },
                {
                  "hovertemplate": "Category=%{x}<br>Price Increase Percentage=%{y}<extra></extra>",
                  "legendgroup": "harita-kure",
                  "marker": {
                    "color": "#B6E880",
                    "symbol": "circle"
                  },
                  "mode": "markers",
                  "name": "harita-kure",
                  "orientation": "v",
                  "showlegend": true,
                  "type": "scatter",
                  "x": [
                    "harita-kure"
                  ],
                  "xaxis": "x",
                  "y": [
                    36.96275071633238
                  ],
                  "yaxis": "y"
                },
                {
                  "hovertemplate": "Category=%{x}<br>Price Increase Percentage=%{y}<extra></extra>",
                  "legendgroup": "termoslar",
                  "marker": {
                    "color": "#FF97FF",
                    "symbol": "circle"
                  },
                  "mode": "markers",
                  "name": "termoslar",
                  "orientation": "v",
                  "showlegend": true,
                  "type": "scatter",
                  "x": [
                    "termoslar"
                  ],
                  "xaxis": "x",
                  "y": [
                    36.60377358490566
                  ],
                  "yaxis": "y"
                },
                {
                  "hovertemplate": "Category=%{x}<br>Price Increase Percentage=%{y}<extra></extra>",
                  "legendgroup": "buzdolaplari",
                  "marker": {
                    "color": "#FECB52",
                    "symbol": "circle"
                  },
                  "mode": "markers",
                  "name": "buzdolaplari",
                  "orientation": "v",
                  "showlegend": true,
                  "type": "scatter",
                  "x": [
                    "buzdolaplari"
                  ],
                  "xaxis": "x",
                  "y": [
                    36.43646783538141
                  ],
                  "yaxis": "y"
                },
                {
                  "hovertemplate": "Category=%{x}<br>Price Increase Percentage=%{y}<extra></extra>",
                  "legendgroup": "kettle",
                  "marker": {
                    "color": "#636efa",
                    "symbol": "circle"
                  },
                  "mode": "markers",
                  "name": "kettle",
                  "orientation": "v",
                  "showlegend": true,
                  "type": "scatter",
                  "x": [
                    "kettle"
                  ],
                  "xaxis": "x",
                  "y": [
                    36.42733151352927
                  ],
                  "yaxis": "y"
                },
                {
                  "hovertemplate": "Category=%{x}<br>Price Increase Percentage=%{y}<extra></extra>",
                  "legendgroup": "kalemlik-kalem-kutusu",
                  "marker": {
                    "color": "#EF553B",
                    "symbol": "circle"
                  },
                  "mode": "markers",
                  "name": "kalemlik-kalem-kutusu",
                  "orientation": "v",
                  "showlegend": true,
                  "type": "scatter",
                  "x": [
                    "kalemlik-kalem-kutusu"
                  ],
                  "xaxis": "x",
                  "y": [
                    36.333689458689456
                  ],
                  "yaxis": "y"
                },
                {
                  "hovertemplate": "Category=%{x}<br>Price Increase Percentage=%{y}<extra></extra>",
                  "legendgroup": "tiras-makineleri",
                  "marker": {
                    "color": "#00cc96",
                    "symbol": "circle"
                  },
                  "mode": "markers",
                  "name": "tiras-makineleri",
                  "orientation": "v",
                  "showlegend": true,
                  "type": "scatter",
                  "x": [
                    "tiras-makineleri"
                  ],
                  "xaxis": "x",
                  "y": [
                    35.83707589829265
                  ],
                  "yaxis": "y"
                },
                {
                  "hovertemplate": "Category=%{x}<br>Price Increase Percentage=%{y}<extra></extra>",
                  "legendgroup": "xbox-series",
                  "marker": {
                    "color": "#ab63fa",
                    "symbol": "circle"
                  },
                  "mode": "markers",
                  "name": "xbox-series",
                  "orientation": "v",
                  "showlegend": true,
                  "type": "scatter",
                  "x": [
                    "xbox-series"
                  ],
                  "xaxis": "x",
                  "y": [
                    35.71645253837998
                  ],
                  "yaxis": "y"
                },
                {
                  "hovertemplate": "Category=%{x}<br>Price Increase Percentage=%{y}<extra></extra>",
                  "legendgroup": "kamp-aksesuari",
                  "marker": {
                    "color": "#FFA15A",
                    "symbol": "circle"
                  },
                  "mode": "markers",
                  "name": "kamp-aksesuari",
                  "orientation": "v",
                  "showlegend": true,
                  "type": "scatter",
                  "x": [
                    "kamp-aksesuari"
                  ],
                  "xaxis": "x",
                  "y": [
                    35.13513513513514
                  ],
                  "yaxis": "y"
                },
                {
                  "hovertemplate": "Category=%{x}<br>Price Increase Percentage=%{y}<extra></extra>",
                  "legendgroup": "dis-macunu",
                  "marker": {
                    "color": "#19d3f3",
                    "symbol": "circle"
                  },
                  "mode": "markers",
                  "name": "dis-macunu",
                  "orientation": "v",
                  "showlegend": true,
                  "type": "scatter",
                  "x": [
                    "dis-macunu"
                  ],
                  "xaxis": "x",
                  "y": [
                    35.0690933602966
                  ],
                  "yaxis": "y"
                },
                {
                  "hovertemplate": "Category=%{x}<br>Price Increase Percentage=%{y}<extra></extra>",
                  "legendgroup": "nintendo-switch",
                  "marker": {
                    "color": "#FF6692",
                    "symbol": "circle"
                  },
                  "mode": "markers",
                  "name": "nintendo-switch",
                  "orientation": "v",
                  "showlegend": true,
                  "type": "scatter",
                  "x": [
                    "nintendo-switch"
                  ],
                  "xaxis": "x",
                  "y": [
                    35.003500350035004
                  ],
                  "yaxis": "y"
                },
                {
                  "hovertemplate": "Category=%{x}<br>Price Increase Percentage=%{y}<extra></extra>",
                  "legendgroup": "dizustu-bilgisayar",
                  "marker": {
                    "color": "#B6E880",
                    "symbol": "circle"
                  },
                  "mode": "markers",
                  "name": "dizustu-bilgisayar",
                  "orientation": "v",
                  "showlegend": true,
                  "type": "scatter",
                  "x": [
                    "dizustu-bilgisayar"
                  ],
                  "xaxis": "x",
                  "y": [
                    34.88125474387323
                  ],
                  "yaxis": "y"
                },
                {
                  "hovertemplate": "Category=%{x}<br>Price Increase Percentage=%{y}<extra></extra>",
                  "legendgroup": "fosforlu-kalem",
                  "marker": {
                    "color": "#FF97FF",
                    "symbol": "circle"
                  },
                  "mode": "markers",
                  "name": "fosforlu-kalem",
                  "orientation": "v",
                  "showlegend": true,
                  "type": "scatter",
                  "x": [
                    "fosforlu-kalem"
                  ],
                  "xaxis": "x",
                  "y": [
                    34.83835005574136
                  ],
                  "yaxis": "y"
                },
                {
                  "hovertemplate": "Category=%{x}<br>Price Increase Percentage=%{y}<extra></extra>",
                  "legendgroup": "ocaklar",
                  "marker": {
                    "color": "#FECB52",
                    "symbol": "circle"
                  },
                  "mode": "markers",
                  "name": "ocaklar",
                  "orientation": "v",
                  "showlegend": true,
                  "type": "scatter",
                  "x": [
                    "ocaklar"
                  ],
                  "xaxis": "x",
                  "y": [
                    34.61538461538461
                  ],
                  "yaxis": "y"
                },
                {
                  "hovertemplate": "Category=%{x}<br>Price Increase Percentage=%{y}<extra></extra>",
                  "legendgroup": "tiras-makinesi",
                  "marker": {
                    "color": "#636efa",
                    "symbol": "circle"
                  },
                  "mode": "markers",
                  "name": "tiras-makinesi",
                  "orientation": "v",
                  "showlegend": true,
                  "type": "scatter",
                  "x": [
                    "tiras-makinesi"
                  ],
                  "xaxis": "x",
                  "y": [
                    34.523809523809526
                  ],
                  "yaxis": "y"
                },
                {
                  "hovertemplate": "Category=%{x}<br>Price Increase Percentage=%{y}<extra></extra>",
                  "legendgroup": "mekanik-kursun-versatil-kalem",
                  "marker": {
                    "color": "#EF553B",
                    "symbol": "circle"
                  },
                  "mode": "markers",
                  "name": "mekanik-kursun-versatil-kalem",
                  "orientation": "v",
                  "showlegend": true,
                  "type": "scatter",
                  "x": [
                    "mekanik-kursun-versatil-kalem"
                  ],
                  "xaxis": "x",
                  "y": [
                    34.520305571827954
                  ],
                  "yaxis": "y"
                },
                {
                  "hovertemplate": "Category=%{x}<br>Price Increase Percentage=%{y}<extra></extra>",
                  "legendgroup": "alarmli-saatler-radyolar",
                  "marker": {
                    "color": "#00cc96",
                    "symbol": "circle"
                  },
                  "mode": "markers",
                  "name": "alarmli-saatler-radyolar",
                  "orientation": "v",
                  "showlegend": true,
                  "type": "scatter",
                  "x": [
                    "alarmli-saatler-radyolar"
                  ],
                  "xaxis": "x",
                  "y": [
                    34.285714285714285
                  ],
                  "yaxis": "y"
                },
                {
                  "hovertemplate": "Category=%{x}<br>Price Increase Percentage=%{y}<extra></extra>",
                  "legendgroup": "kutu-oyunu",
                  "marker": {
                    "color": "#ab63fa",
                    "symbol": "circle"
                  },
                  "mode": "markers",
                  "name": "kutu-oyunu",
                  "orientation": "v",
                  "showlegend": true,
                  "type": "scatter",
                  "x": [
                    "kutu-oyunu"
                  ],
                  "xaxis": "x",
                  "y": [
                    34.109847965768616
                  ],
                  "yaxis": "y"
                },
                {
                  "hovertemplate": "Category=%{x}<br>Price Increase Percentage=%{y}<extra></extra>",
                  "legendgroup": "sampuan-ve-sac-kremi",
                  "marker": {
                    "color": "#FFA15A",
                    "symbol": "circle"
                  },
                  "mode": "markers",
                  "name": "sampuan-ve-sac-kremi",
                  "orientation": "v",
                  "showlegend": true,
                  "type": "scatter",
                  "x": [
                    "sampuan-ve-sac-kremi"
                  ],
                  "xaxis": "x",
                  "y": [
                    34.10749628177185
                  ],
                  "yaxis": "y"
                },
                {
                  "hovertemplate": "Category=%{x}<br>Price Increase Percentage=%{y}<extra></extra>",
                  "legendgroup": "dis-fircalari",
                  "marker": {
                    "color": "#19d3f3",
                    "symbol": "circle"
                  },
                  "mode": "markers",
                  "name": "dis-fircalari",
                  "orientation": "v",
                  "showlegend": true,
                  "type": "scatter",
                  "x": [
                    "dis-fircalari"
                  ],
                  "xaxis": "x",
                  "y": [
                    33.8770136307311
                  ],
                  "yaxis": "y"
                },
                {
                  "hovertemplate": "Category=%{x}<br>Price Increase Percentage=%{y}<extra></extra>",
                  "legendgroup": "tiras-bicagi-ve-yedekleri",
                  "marker": {
                    "color": "#FF6692",
                    "symbol": "circle"
                  },
                  "mode": "markers",
                  "name": "tiras-bicagi-ve-yedekleri",
                  "orientation": "v",
                  "showlegend": true,
                  "type": "scatter",
                  "x": [
                    "tiras-bicagi-ve-yedekleri"
                  ],
                  "xaxis": "x",
                  "y": [
                    33.82352941176471
                  ],
                  "yaxis": "y"
                },
                {
                  "hovertemplate": "Category=%{x}<br>Price Increase Percentage=%{y}<extra></extra>",
                  "legendgroup": "tasinabilir-sarj-cihazi-powerbank",
                  "marker": {
                    "color": "#B6E880",
                    "symbol": "circle"
                  },
                  "mode": "markers",
                  "name": "tasinabilir-sarj-cihazi-powerbank",
                  "orientation": "v",
                  "showlegend": true,
                  "type": "scatter",
                  "x": [
                    "tasinabilir-sarj-cihazi-powerbank"
                  ],
                  "xaxis": "x",
                  "y": [
                    33.801797184186356
                  ],
                  "yaxis": "y"
                },
                {
                  "hovertemplate": "Category=%{x}<br>Price Increase Percentage=%{y}<extra></extra>",
                  "legendgroup": "cep-telefonu",
                  "marker": {
                    "color": "#FF97FF",
                    "symbol": "circle"
                  },
                  "mode": "markers",
                  "name": "cep-telefonu",
                  "orientation": "v",
                  "showlegend": true,
                  "type": "scatter",
                  "x": [
                    "cep-telefonu"
                  ],
                  "xaxis": "x",
                  "y": [
                    33.66063494565266
                  ],
                  "yaxis": "y"
                },
                {
                  "hovertemplate": "Category=%{x}<br>Price Increase Percentage=%{y}<extra></extra>",
                  "legendgroup": "bayan-cuzdan",
                  "marker": {
                    "color": "#FECB52",
                    "symbol": "circle"
                  },
                  "mode": "markers",
                  "name": "bayan-cuzdan",
                  "orientation": "v",
                  "showlegend": true,
                  "type": "scatter",
                  "x": [
                    "bayan-cuzdan"
                  ],
                  "xaxis": "x",
                  "y": [
                    33.552004311238235
                  ],
                  "yaxis": "y"
                },
                {
                  "hovertemplate": "Category=%{x}<br>Price Increase Percentage=%{y}<extra></extra>",
                  "legendgroup": "akim-korumali-priz",
                  "marker": {
                    "color": "#636efa",
                    "symbol": "circle"
                  },
                  "mode": "markers",
                  "name": "akim-korumali-priz",
                  "orientation": "v",
                  "showlegend": true,
                  "type": "scatter",
                  "x": [
                    "akim-korumali-priz"
                  ],
                  "xaxis": "x",
                  "y": [
                    33.490566037735846
                  ],
                  "yaxis": "y"
                },
                {
                  "hovertemplate": "Category=%{x}<br>Price Increase Percentage=%{y}<extra></extra>",
                  "legendgroup": "suluk",
                  "marker": {
                    "color": "#EF553B",
                    "symbol": "circle"
                  },
                  "mode": "markers",
                  "name": "suluk",
                  "orientation": "v",
                  "showlegend": true,
                  "type": "scatter",
                  "x": [
                    "suluk"
                  ],
                  "xaxis": "x",
                  "y": [
                    33.46521592619326
                  ],
                  "yaxis": "y"
                },
                {
                  "hovertemplate": "Category=%{x}<br>Price Increase Percentage=%{y}<extra></extra>",
                  "legendgroup": "kopek-mamasi",
                  "marker": {
                    "color": "#00cc96",
                    "symbol": "circle"
                  },
                  "mode": "markers",
                  "name": "kopek-mamasi",
                  "orientation": "v",
                  "showlegend": true,
                  "type": "scatter",
                  "x": [
                    "kopek-mamasi"
                  ],
                  "xaxis": "x",
                  "y": [
                    33.42825940628918
                  ],
                  "yaxis": "y"
                },
                {
                  "hovertemplate": "Category=%{x}<br>Price Increase Percentage=%{y}<extra></extra>",
                  "legendgroup": "klavye-mouse",
                  "marker": {
                    "color": "#ab63fa",
                    "symbol": "circle"
                  },
                  "mode": "markers",
                  "name": "klavye-mouse",
                  "orientation": "v",
                  "showlegend": true,
                  "type": "scatter",
                  "x": [
                    "klavye-mouse"
                  ],
                  "xaxis": "x",
                  "y": [
                    33.42278870057197
                  ],
                  "yaxis": "y"
                },
                {
                  "hovertemplate": "Category=%{x}<br>Price Increase Percentage=%{y}<extra></extra>",
                  "legendgroup": "makarna",
                  "marker": {
                    "color": "#FFA15A",
                    "symbol": "circle"
                  },
                  "mode": "markers",
                  "name": "makarna",
                  "orientation": "v",
                  "showlegend": true,
                  "type": "scatter",
                  "x": [
                    "makarna"
                  ],
                  "xaxis": "x",
                  "y": [
                    33.33333333333333
                  ],
                  "yaxis": "y"
                },
                {
                  "hovertemplate": "Category=%{x}<br>Price Increase Percentage=%{y}<extra></extra>",
                  "legendgroup": "sanal-gerceklik-gozlugu",
                  "marker": {
                    "color": "#19d3f3",
                    "symbol": "circle"
                  },
                  "mode": "markers",
                  "name": "sanal-gerceklik-gozlugu",
                  "orientation": "v",
                  "showlegend": true,
                  "type": "scatter",
                  "x": [
                    "sanal-gerceklik-gozlugu"
                  ],
                  "xaxis": "x",
                  "y": [
                    33.330158125357215
                  ],
                  "yaxis": "y"
                },
                {
                  "hovertemplate": "Category=%{x}<br>Price Increase Percentage=%{y}<extra></extra>",
                  "legendgroup": "tablet-pc",
                  "marker": {
                    "color": "#FF6692",
                    "symbol": "circle"
                  },
                  "mode": "markers",
                  "name": "tablet-pc",
                  "orientation": "v",
                  "showlegend": true,
                  "type": "scatter",
                  "x": [
                    "tablet-pc"
                  ],
                  "xaxis": "x",
                  "y": [
                    33.30335779285827
                  ],
                  "yaxis": "y"
                },
                {
                  "hovertemplate": "Category=%{x}<br>Price Increase Percentage=%{y}<extra></extra>",
                  "legendgroup": "tasinabilir-hard-diskler",
                  "marker": {
                    "color": "#B6E880",
                    "symbol": "circle"
                  },
                  "mode": "markers",
                  "name": "tasinabilir-hard-diskler",
                  "orientation": "v",
                  "showlegend": true,
                  "type": "scatter",
                  "x": [
                    "tasinabilir-hard-diskler"
                  ],
                  "xaxis": "x",
                  "y": [
                    33.07530578296409
                  ],
                  "yaxis": "y"
                },
                {
                  "hovertemplate": "Category=%{x}<br>Price Increase Percentage=%{y}<extra></extra>",
                  "legendgroup": "stor-perde",
                  "marker": {
                    "color": "#FF97FF",
                    "symbol": "circle"
                  },
                  "mode": "markers",
                  "name": "stor-perde",
                  "orientation": "v",
                  "showlegend": true,
                  "type": "scatter",
                  "x": [
                    "stor-perde"
                  ],
                  "xaxis": "x",
                  "y": [
                    33.014354066985646
                  ],
                  "yaxis": "y"
                },
                {
                  "hovertemplate": "Category=%{x}<br>Price Increase Percentage=%{y}<extra></extra>",
                  "legendgroup": "ocak",
                  "marker": {
                    "color": "#FECB52",
                    "symbol": "circle"
                  },
                  "mode": "markers",
                  "name": "ocak",
                  "orientation": "v",
                  "showlegend": true,
                  "type": "scatter",
                  "x": [
                    "ocak"
                  ],
                  "xaxis": "x",
                  "y": [
                    32.75837337732195
                  ],
                  "yaxis": "y"
                },
                {
                  "hovertemplate": "Category=%{x}<br>Price Increase Percentage=%{y}<extra></extra>",
                  "legendgroup": "hijyenik-pedler-ve-tamponlar",
                  "marker": {
                    "color": "#636efa",
                    "symbol": "circle"
                  },
                  "mode": "markers",
                  "name": "hijyenik-pedler-ve-tamponlar",
                  "orientation": "v",
                  "showlegend": true,
                  "type": "scatter",
                  "x": [
                    "hijyenik-pedler-ve-tamponlar"
                  ],
                  "xaxis": "x",
                  "y": [
                    32.467247097844115
                  ],
                  "yaxis": "y"
                },
                {
                  "hovertemplate": "Category=%{x}<br>Price Increase Percentage=%{y}<extra></extra>",
                  "legendgroup": "rimeller-maskaralar",
                  "marker": {
                    "color": "#EF553B",
                    "symbol": "circle"
                  },
                  "mode": "markers",
                  "name": "rimeller-maskaralar",
                  "orientation": "v",
                  "showlegend": true,
                  "type": "scatter",
                  "x": [
                    "rimeller-maskaralar"
                  ],
                  "xaxis": "x",
                  "y": [
                    32.2841726618705
                  ],
                  "yaxis": "y"
                },
                {
                  "hovertemplate": "Category=%{x}<br>Price Increase Percentage=%{y}<extra></extra>",
                  "legendgroup": "kadin-terlikleri-ve-sandaletleri",
                  "marker": {
                    "color": "#00cc96",
                    "symbol": "circle"
                  },
                  "mode": "markers",
                  "name": "kadin-terlikleri-ve-sandaletleri",
                  "orientation": "v",
                  "showlegend": true,
                  "type": "scatter",
                  "x": [
                    "kadin-terlikleri-ve-sandaletleri"
                  ],
                  "xaxis": "x",
                  "y": [
                    31.911966987620353
                  ],
                  "yaxis": "y"
                },
                {
                  "hovertemplate": "Category=%{x}<br>Price Increase Percentage=%{y}<extra></extra>",
                  "legendgroup": "satranc",
                  "marker": {
                    "color": "#ab63fa",
                    "symbol": "circle"
                  },
                  "mode": "markers",
                  "name": "satranc",
                  "orientation": "v",
                  "showlegend": true,
                  "type": "scatter",
                  "x": [
                    "satranc"
                  ],
                  "xaxis": "x",
                  "y": [
                    31.48148148148148
                  ],
                  "yaxis": "y"
                },
                {
                  "hovertemplate": "Category=%{x}<br>Price Increase Percentage=%{y}<extra></extra>",
                  "legendgroup": "dijital-fotograf-makineleri",
                  "marker": {
                    "color": "#FFA15A",
                    "symbol": "circle"
                  },
                  "mode": "markers",
                  "name": "dijital-fotograf-makineleri",
                  "orientation": "v",
                  "showlegend": true,
                  "type": "scatter",
                  "x": [
                    "dijital-fotograf-makineleri"
                  ],
                  "xaxis": "x",
                  "y": [
                    31.39039080224727
                  ],
                  "yaxis": "y"
                },
                {
                  "hovertemplate": "Category=%{x}<br>Price Increase Percentage=%{y}<extra></extra>",
                  "legendgroup": "sabunlar",
                  "marker": {
                    "color": "#19d3f3",
                    "symbol": "circle"
                  },
                  "mode": "markers",
                  "name": "sabunlar",
                  "orientation": "v",
                  "showlegend": true,
                  "type": "scatter",
                  "x": [
                    "sabunlar"
                  ],
                  "xaxis": "x",
                  "y": [
                    31.292579858615746
                  ],
                  "yaxis": "y"
                },
                {
                  "hovertemplate": "Category=%{x}<br>Price Increase Percentage=%{y}<extra></extra>",
                  "legendgroup": "unisex-gunes-gozlukleri",
                  "marker": {
                    "color": "#FF6692",
                    "symbol": "circle"
                  },
                  "mode": "markers",
                  "name": "unisex-gunes-gozlukleri",
                  "orientation": "v",
                  "showlegend": true,
                  "type": "scatter",
                  "x": [
                    "unisex-gunes-gozlukleri"
                  ],
                  "xaxis": "x",
                  "y": [
                    31.1614730878187
                  ],
                  "yaxis": "y"
                },
                {
                  "hovertemplate": "Category=%{x}<br>Price Increase Percentage=%{y}<extra></extra>",
                  "legendgroup": "konsol-aksesuarlari",
                  "marker": {
                    "color": "#B6E880",
                    "symbol": "circle"
                  },
                  "mode": "markers",
                  "name": "konsol-aksesuarlari",
                  "orientation": "v",
                  "showlegend": true,
                  "type": "scatter",
                  "x": [
                    "konsol-aksesuarlari"
                  ],
                  "xaxis": "x",
                  "y": [
                    30.554713549560475
                  ],
                  "yaxis": "y"
                },
                {
                  "hovertemplate": "Category=%{x}<br>Price Increase Percentage=%{y}<extra></extra>",
                  "legendgroup": "camasir-askisi",
                  "marker": {
                    "color": "#FF97FF",
                    "symbol": "circle"
                  },
                  "mode": "markers",
                  "name": "camasir-askisi",
                  "orientation": "v",
                  "showlegend": true,
                  "type": "scatter",
                  "x": [
                    "camasir-askisi"
                  ],
                  "xaxis": "x",
                  "y": [
                    30.37974683544304
                  ],
                  "yaxis": "y"
                },
                {
                  "hovertemplate": "Category=%{x}<br>Price Increase Percentage=%{y}<extra></extra>",
                  "legendgroup": "sprey-deodorantlar",
                  "marker": {
                    "color": "#FECB52",
                    "symbol": "circle"
                  },
                  "mode": "markers",
                  "name": "sprey-deodorantlar",
                  "orientation": "v",
                  "showlegend": true,
                  "type": "scatter",
                  "x": [
                    "sprey-deodorantlar"
                  ],
                  "xaxis": "x",
                  "y": [
                    30.01449843260188
                  ],
                  "yaxis": "y"
                },
                {
                  "hovertemplate": "Category=%{x}<br>Price Increase Percentage=%{y}<extra></extra>",
                  "legendgroup": "oje",
                  "marker": {
                    "color": "#636efa",
                    "symbol": "circle"
                  },
                  "mode": "markers",
                  "name": "oje",
                  "orientation": "v",
                  "showlegend": true,
                  "type": "scatter",
                  "x": [
                    "oje"
                  ],
                  "xaxis": "x",
                  "y": [
                    29.523809523809522
                  ],
                  "yaxis": "y"
                },
                {
                  "hovertemplate": "Category=%{x}<br>Price Increase Percentage=%{y}<extra></extra>",
                  "legendgroup": "kedi-kumu",
                  "marker": {
                    "color": "#EF553B",
                    "symbol": "circle"
                  },
                  "mode": "markers",
                  "name": "kedi-kumu",
                  "orientation": "v",
                  "showlegend": true,
                  "type": "scatter",
                  "x": [
                    "kedi-kumu"
                  ],
                  "xaxis": "x",
                  "y": [
                    29.47976878612717
                  ],
                  "yaxis": "y"
                },
                {
                  "hovertemplate": "Category=%{x}<br>Price Increase Percentage=%{y}<extra></extra>",
                  "legendgroup": "dus-jelleri-ve-banyo-kopukleri",
                  "marker": {
                    "color": "#00cc96",
                    "symbol": "circle"
                  },
                  "mode": "markers",
                  "name": "dus-jelleri-ve-banyo-kopukleri",
                  "orientation": "v",
                  "showlegend": true,
                  "type": "scatter",
                  "x": [
                    "dus-jelleri-ve-banyo-kopukleri"
                  ],
                  "xaxis": "x",
                  "y": [
                    29.384025935750074
                  ],
                  "yaxis": "y"
                },
                {
                  "hovertemplate": "Category=%{x}<br>Price Increase Percentage=%{y}<extra></extra>",
                  "legendgroup": "kupa",
                  "marker": {
                    "color": "#ab63fa",
                    "symbol": "circle"
                  },
                  "mode": "markers",
                  "name": "kupa",
                  "orientation": "v",
                  "showlegend": true,
                  "type": "scatter",
                  "x": [
                    "kupa"
                  ],
                  "xaxis": "x",
                  "y": [
                    29.014920613554345
                  ],
                  "yaxis": "y"
                },
                {
                  "hovertemplate": "Category=%{x}<br>Price Increase Percentage=%{y}<extra></extra>",
                  "legendgroup": "ps5",
                  "marker": {
                    "color": "#FFA15A",
                    "symbol": "circle"
                  },
                  "mode": "markers",
                  "name": "ps5",
                  "orientation": "v",
                  "showlegend": true,
                  "type": "scatter",
                  "x": [
                    "ps5"
                  ],
                  "xaxis": "x",
                  "y": [
                    28.74050521109345
                  ],
                  "yaxis": "y"
                },
                {
                  "hovertemplate": "Category=%{x}<br>Price Increase Percentage=%{y}<extra></extra>",
                  "legendgroup": "ankastre-mikrodalga-firinlar",
                  "marker": {
                    "color": "#19d3f3",
                    "symbol": "circle"
                  },
                  "mode": "markers",
                  "name": "ankastre-mikrodalga-firinlar",
                  "orientation": "v",
                  "showlegend": true,
                  "type": "scatter",
                  "x": [
                    "ankastre-mikrodalga-firinlar"
                  ],
                  "xaxis": "x",
                  "y": [
                    28.685790527018014
                  ],
                  "yaxis": "y"
                },
                {
                  "hovertemplate": "Category=%{x}<br>Price Increase Percentage=%{y}<extra></extra>",
                  "legendgroup": "tiras-jelleri-kopukleri-kremleri",
                  "marker": {
                    "color": "#FF6692",
                    "symbol": "circle"
                  },
                  "mode": "markers",
                  "name": "tiras-jelleri-kopukleri-kremleri",
                  "orientation": "v",
                  "showlegend": true,
                  "type": "scatter",
                  "x": [
                    "tiras-jelleri-kopukleri-kremleri"
                  ],
                  "xaxis": "x",
                  "y": [
                    28.57142857142857
                  ],
                  "yaxis": "y"
                },
                {
                  "hovertemplate": "Category=%{x}<br>Price Increase Percentage=%{y}<extra></extra>",
                  "legendgroup": "puzzle-aksesuarlari",
                  "marker": {
                    "color": "#B6E880",
                    "symbol": "circle"
                  },
                  "mode": "markers",
                  "name": "puzzle-aksesuarlari",
                  "orientation": "v",
                  "showlegend": true,
                  "type": "scatter",
                  "x": [
                    "puzzle-aksesuarlari"
                  ],
                  "xaxis": "x",
                  "y": [
                    28.465482512360374
                  ],
                  "yaxis": "y"
                },
                {
                  "hovertemplate": "Category=%{x}<br>Price Increase Percentage=%{y}<extra></extra>",
                  "legendgroup": "gunes-kremleri-ve-losyonlari",
                  "marker": {
                    "color": "#FF97FF",
                    "symbol": "circle"
                  },
                  "mode": "markers",
                  "name": "gunes-kremleri-ve-losyonlari",
                  "orientation": "v",
                  "showlegend": true,
                  "type": "scatter",
                  "x": [
                    "gunes-kremleri-ve-losyonlari"
                  ],
                  "xaxis": "x",
                  "y": [
                    28.392857142857142
                  ],
                  "yaxis": "y"
                },
                {
                  "hovertemplate": "Category=%{x}<br>Price Increase Percentage=%{y}<extra></extra>",
                  "legendgroup": "tost-makineleri",
                  "marker": {
                    "color": "#FECB52",
                    "symbol": "circle"
                  },
                  "mode": "markers",
                  "name": "tost-makineleri",
                  "orientation": "v",
                  "showlegend": true,
                  "type": "scatter",
                  "x": [
                    "tost-makineleri"
                  ],
                  "xaxis": "x",
                  "y": [
                    28.385212202938455
                  ],
                  "yaxis": "y"
                },
                {
                  "hovertemplate": "Category=%{x}<br>Price Increase Percentage=%{y}<extra></extra>",
                  "legendgroup": "espresso-makinesi",
                  "marker": {
                    "color": "#636efa",
                    "symbol": "circle"
                  },
                  "mode": "markers",
                  "name": "espresso-makinesi",
                  "orientation": "v",
                  "showlegend": true,
                  "type": "scatter",
                  "x": [
                    "espresso-makinesi"
                  ],
                  "xaxis": "x",
                  "y": [
                    28.330091123169858
                  ],
                  "yaxis": "y"
                },
                {
                  "hovertemplate": "Category=%{x}<br>Price Increase Percentage=%{y}<extra></extra>",
                  "legendgroup": "fon-perde",
                  "marker": {
                    "color": "#EF553B",
                    "symbol": "circle"
                  },
                  "mode": "markers",
                  "name": "fon-perde",
                  "orientation": "v",
                  "showlegend": true,
                  "type": "scatter",
                  "x": [
                    "fon-perde"
                  ],
                  "xaxis": "x",
                  "y": [
                    28.18181818181818
                  ],
                  "yaxis": "y"
                },
                {
                  "hovertemplate": "Category=%{x}<br>Price Increase Percentage=%{y}<extra></extra>",
                  "legendgroup": "oyuncu-mouse-pad",
                  "marker": {
                    "color": "#00cc96",
                    "symbol": "circle"
                  },
                  "mode": "markers",
                  "name": "oyuncu-mouse-pad",
                  "orientation": "v",
                  "showlegend": true,
                  "type": "scatter",
                  "x": [
                    "oyuncu-mouse-pad"
                  ],
                  "xaxis": "x",
                  "y": [
                    28.03347280334728
                  ],
                  "yaxis": "y"
                },
                {
                  "hovertemplate": "Category=%{x}<br>Price Increase Percentage=%{y}<extra></extra>",
                  "legendgroup": "cok-satan-kitaplar",
                  "marker": {
                    "color": "#ab63fa",
                    "symbol": "circle"
                  },
                  "mode": "markers",
                  "name": "cok-satan-kitaplar",
                  "orientation": "v",
                  "showlegend": true,
                  "type": "scatter",
                  "x": [
                    "cok-satan-kitaplar"
                  ],
                  "xaxis": "x",
                  "y": [
                    27.99823633156966
                  ],
                  "yaxis": "y"
                },
                {
                  "hovertemplate": "Category=%{x}<br>Price Increase Percentage=%{y}<extra></extra>",
                  "legendgroup": "makyaj-temizleyicileri",
                  "marker": {
                    "color": "#FFA15A",
                    "symbol": "circle"
                  },
                  "mode": "markers",
                  "name": "makyaj-temizleyicileri",
                  "orientation": "v",
                  "showlegend": true,
                  "type": "scatter",
                  "x": [
                    "makyaj-temizleyicileri"
                  ],
                  "xaxis": "x",
                  "y": [
                    27.659574468085108
                  ],
                  "yaxis": "y"
                },
                {
                  "hovertemplate": "Category=%{x}<br>Price Increase Percentage=%{y}<extra></extra>",
                  "legendgroup": "toplar",
                  "marker": {
                    "color": "#19d3f3",
                    "symbol": "circle"
                  },
                  "mode": "markers",
                  "name": "toplar",
                  "orientation": "v",
                  "showlegend": true,
                  "type": "scatter",
                  "x": [
                    "toplar"
                  ],
                  "xaxis": "x",
                  "y": [
                    25.956173664345826
                  ],
                  "yaxis": "y"
                },
                {
                  "hovertemplate": "Category=%{x}<br>Price Increase Percentage=%{y}<extra></extra>",
                  "legendgroup": "mikrodalga-firinlar",
                  "marker": {
                    "color": "#FF6692",
                    "symbol": "circle"
                  },
                  "mode": "markers",
                  "name": "mikrodalga-firinlar",
                  "orientation": "v",
                  "showlegend": true,
                  "type": "scatter",
                  "x": [
                    "mikrodalga-firinlar"
                  ],
                  "xaxis": "x",
                  "y": [
                    25.90442763021254
                  ],
                  "yaxis": "y"
                },
                {
                  "hovertemplate": "Category=%{x}<br>Price Increase Percentage=%{y}<extra></extra>",
                  "legendgroup": "masa-lambasi",
                  "marker": {
                    "color": "#B6E880",
                    "symbol": "circle"
                  },
                  "mode": "markers",
                  "name": "masa-lambasi",
                  "orientation": "v",
                  "showlegend": true,
                  "type": "scatter",
                  "x": [
                    "masa-lambasi"
                  ],
                  "xaxis": "x",
                  "y": [
                    25.48676115931907
                  ],
                  "yaxis": "y"
                },
                {
                  "hovertemplate": "Category=%{x}<br>Price Increase Percentage=%{y}<extra></extra>",
                  "legendgroup": "erkek-t-shirt",
                  "marker": {
                    "color": "#FF97FF",
                    "symbol": "circle"
                  },
                  "mode": "markers",
                  "name": "erkek-t-shirt",
                  "orientation": "v",
                  "showlegend": true,
                  "type": "scatter",
                  "x": [
                    "erkek-t-shirt"
                  ],
                  "xaxis": "x",
                  "y": [
                    25.23235163534113
                  ],
                  "yaxis": "y"
                },
                {
                  "hovertemplate": "Category=%{x}<br>Price Increase Percentage=%{y}<extra></extra>",
                  "legendgroup": "spor-ayakkabi",
                  "marker": {
                    "color": "#FECB52",
                    "symbol": "circle"
                  },
                  "mode": "markers",
                  "name": "spor-ayakkabi",
                  "orientation": "v",
                  "showlegend": true,
                  "type": "scatter",
                  "x": [
                    "spor-ayakkabi"
                  ],
                  "xaxis": "x",
                  "y": [
                    25.17413493626738
                  ],
                  "yaxis": "y"
                },
                {
                  "hovertemplate": "Category=%{x}<br>Price Increase Percentage=%{y}<extra></extra>",
                  "legendgroup": "waffle-makinesi",
                  "marker": {
                    "color": "#636efa",
                    "symbol": "circle"
                  },
                  "mode": "markers",
                  "name": "waffle-makinesi",
                  "orientation": "v",
                  "showlegend": true,
                  "type": "scatter",
                  "x": [
                    "waffle-makinesi"
                  ],
                  "xaxis": "x",
                  "y": [
                    25.08361204013378
                  ],
                  "yaxis": "y"
                },
                {
                  "hovertemplate": "Category=%{x}<br>Price Increase Percentage=%{y}<extra></extra>",
                  "legendgroup": "tuvalet-kagidi",
                  "marker": {
                    "color": "#EF553B",
                    "symbol": "circle"
                  },
                  "mode": "markers",
                  "name": "tuvalet-kagidi",
                  "orientation": "v",
                  "showlegend": true,
                  "type": "scatter",
                  "x": [
                    "tuvalet-kagidi"
                  ],
                  "xaxis": "x",
                  "y": [
                    25.022401433691755
                  ],
                  "yaxis": "y"
                },
                {
                  "hovertemplate": "Category=%{x}<br>Price Increase Percentage=%{y}<extra></extra>",
                  "legendgroup": "oyuncu-koltugu",
                  "marker": {
                    "color": "#00cc96",
                    "symbol": "circle"
                  },
                  "mode": "markers",
                  "name": "oyuncu-koltugu",
                  "orientation": "v",
                  "showlegend": true,
                  "type": "scatter",
                  "x": [
                    "oyuncu-koltugu"
                  ],
                  "xaxis": "x",
                  "y": [
                    25.00694637399278
                  ],
                  "yaxis": "y"
                },
                {
                  "hovertemplate": "Category=%{x}<br>Price Increase Percentage=%{y}<extra></extra>",
                  "legendgroup": "kahve-makineleri",
                  "marker": {
                    "color": "#ab63fa",
                    "symbol": "circle"
                  },
                  "mode": "markers",
                  "name": "kahve-makineleri",
                  "orientation": "v",
                  "showlegend": true,
                  "type": "scatter",
                  "x": [
                    "kahve-makineleri"
                  ],
                  "xaxis": "x",
                  "y": [
                    24.92258384510423
                  ],
                  "yaxis": "y"
                },
                {
                  "hovertemplate": "Category=%{x}<br>Price Increase Percentage=%{y}<extra></extra>",
                  "legendgroup": "playstation-4-ps4-oyunlari",
                  "marker": {
                    "color": "#FFA15A",
                    "symbol": "circle"
                  },
                  "mode": "markers",
                  "name": "playstation-4-ps4-oyunlari",
                  "orientation": "v",
                  "showlegend": true,
                  "type": "scatter",
                  "x": [
                    "playstation-4-ps4-oyunlari"
                  ],
                  "xaxis": "x",
                  "y": [
                    24.768510550411346
                  ],
                  "yaxis": "y"
                },
                {
                  "hovertemplate": "Category=%{x}<br>Price Increase Percentage=%{y}<extra></extra>",
                  "legendgroup": "hesap-makinesi",
                  "marker": {
                    "color": "#19d3f3",
                    "symbol": "circle"
                  },
                  "mode": "markers",
                  "name": "hesap-makinesi",
                  "orientation": "v",
                  "showlegend": true,
                  "type": "scatter",
                  "x": [
                    "hesap-makinesi"
                  ],
                  "xaxis": "x",
                  "y": [
                    24.752475247524753
                  ],
                  "yaxis": "y"
                },
                {
                  "hovertemplate": "Category=%{x}<br>Price Increase Percentage=%{y}<extra></extra>",
                  "legendgroup": "sirt-cantasi-outdoor",
                  "marker": {
                    "color": "#FF6692",
                    "symbol": "circle"
                  },
                  "mode": "markers",
                  "name": "sirt-cantasi-outdoor",
                  "orientation": "v",
                  "showlegend": true,
                  "type": "scatter",
                  "x": [
                    "sirt-cantasi-outdoor"
                  ],
                  "xaxis": "x",
                  "y": [
                    24.67393315995052
                  ],
                  "yaxis": "y"
                },
                {
                  "hovertemplate": "Category=%{x}<br>Price Increase Percentage=%{y}<extra></extra>",
                  "legendgroup": "kamp-sandalyesi",
                  "marker": {
                    "color": "#B6E880",
                    "symbol": "circle"
                  },
                  "mode": "markers",
                  "name": "kamp-sandalyesi",
                  "orientation": "v",
                  "showlegend": true,
                  "type": "scatter",
                  "x": [
                    "kamp-sandalyesi"
                  ],
                  "xaxis": "x",
                  "y": [
                    24.2603550295858
                  ],
                  "yaxis": "y"
                },
                {
                  "hovertemplate": "Category=%{x}<br>Price Increase Percentage=%{y}<extra></extra>",
                  "legendgroup": "su-isiticilari-kettle",
                  "marker": {
                    "color": "#FF97FF",
                    "symbol": "circle"
                  },
                  "mode": "markers",
                  "name": "su-isiticilari-kettle",
                  "orientation": "v",
                  "showlegend": true,
                  "type": "scatter",
                  "x": [
                    "su-isiticilari-kettle"
                  ],
                  "xaxis": "x",
                  "y": [
                    24.18300565871449
                  ],
                  "yaxis": "y"
                },
                {
                  "hovertemplate": "Category=%{x}<br>Price Increase Percentage=%{y}<extra></extra>",
                  "legendgroup": "elektro-gitarlar",
                  "marker": {
                    "color": "#FECB52",
                    "symbol": "circle"
                  },
                  "mode": "markers",
                  "name": "elektro-gitarlar",
                  "orientation": "v",
                  "showlegend": true,
                  "type": "scatter",
                  "x": [
                    "elektro-gitarlar"
                  ],
                  "xaxis": "x",
                  "y": [
                    24.036896364622898
                  ],
                  "yaxis": "y"
                },
                {
                  "hovertemplate": "Category=%{x}<br>Price Increase Percentage=%{y}<extra></extra>",
                  "legendgroup": "laptop-notebook",
                  "marker": {
                    "color": "#636efa",
                    "symbol": "circle"
                  },
                  "mode": "markers",
                  "name": "laptop-notebook",
                  "orientation": "v",
                  "showlegend": true,
                  "type": "scatter",
                  "x": [
                    "laptop-notebook"
                  ],
                  "xaxis": "x",
                  "y": [
                    23.897937424170006
                  ],
                  "yaxis": "y"
                },
                {
                  "hovertemplate": "Category=%{x}<br>Price Increase Percentage=%{y}<extra></extra>",
                  "legendgroup": "cep-telefonu-sarj-cihazi",
                  "marker": {
                    "color": "#EF553B",
                    "symbol": "circle"
                  },
                  "mode": "markers",
                  "name": "cep-telefonu-sarj-cihazi",
                  "orientation": "v",
                  "showlegend": true,
                  "type": "scatter",
                  "x": [
                    "cep-telefonu-sarj-cihazi"
                  ],
                  "xaxis": "x",
                  "y": [
                    23.716371172161633
                  ],
                  "yaxis": "y"
                },
                {
                  "hovertemplate": "Category=%{x}<br>Price Increase Percentage=%{y}<extra></extra>",
                  "legendgroup": "bluetooth-hoparlor",
                  "marker": {
                    "color": "#00cc96",
                    "symbol": "circle"
                  },
                  "mode": "markers",
                  "name": "bluetooth-hoparlor",
                  "orientation": "v",
                  "showlegend": true,
                  "type": "scatter",
                  "x": [
                    "bluetooth-hoparlor"
                  ],
                  "xaxis": "x",
                  "y": [
                    22.917516015123464
                  ],
                  "yaxis": "y"
                },
                {
                  "hovertemplate": "Category=%{x}<br>Price Increase Percentage=%{y}<extra></extra>",
                  "legendgroup": "sut",
                  "marker": {
                    "color": "#ab63fa",
                    "symbol": "circle"
                  },
                  "mode": "markers",
                  "name": "sut",
                  "orientation": "v",
                  "showlegend": true,
                  "type": "scatter",
                  "x": [
                    "sut"
                  ],
                  "xaxis": "x",
                  "y": [
                    22.869565217391305
                  ],
                  "yaxis": "y"
                },
                {
                  "hovertemplate": "Category=%{x}<br>Price Increase Percentage=%{y}<extra></extra>",
                  "legendgroup": "oyun-konsollari",
                  "marker": {
                    "color": "#FFA15A",
                    "symbol": "circle"
                  },
                  "mode": "markers",
                  "name": "oyun-konsollari",
                  "orientation": "v",
                  "showlegend": true,
                  "type": "scatter",
                  "x": [
                    "oyun-konsollari"
                  ],
                  "xaxis": "x",
                  "y": [
                    22.58477628372361
                  ],
                  "yaxis": "y"
                },
                {
                  "hovertemplate": "Category=%{x}<br>Price Increase Percentage=%{y}<extra></extra>",
                  "legendgroup": "tripodlar",
                  "marker": {
                    "color": "#19d3f3",
                    "symbol": "circle"
                  },
                  "mode": "markers",
                  "name": "tripodlar",
                  "orientation": "v",
                  "showlegend": true,
                  "type": "scatter",
                  "x": [
                    "tripodlar"
                  ],
                  "xaxis": "x",
                  "y": [
                    22.52747252747253
                  ],
                  "yaxis": "y"
                },
                {
                  "hovertemplate": "Category=%{x}<br>Price Increase Percentage=%{y}<extra></extra>",
                  "legendgroup": "kilim",
                  "marker": {
                    "color": "#FF6692",
                    "symbol": "circle"
                  },
                  "mode": "markers",
                  "name": "kilim",
                  "orientation": "v",
                  "showlegend": true,
                  "type": "scatter",
                  "x": [
                    "kilim"
                  ],
                  "xaxis": "x",
                  "y": [
                    22.51814949649784
                  ],
                  "yaxis": "y"
                },
                {
                  "hovertemplate": "Category=%{x}<br>Price Increase Percentage=%{y}<extra></extra>",
                  "legendgroup": "kagit-havlu",
                  "marker": {
                    "color": "#B6E880",
                    "symbol": "circle"
                  },
                  "mode": "markers",
                  "name": "kagit-havlu",
                  "orientation": "v",
                  "showlegend": true,
                  "type": "scatter",
                  "x": [
                    "kagit-havlu"
                  ],
                  "xaxis": "x",
                  "y": [
                    22.47191011235955
                  ],
                  "yaxis": "y"
                },
                {
                  "hovertemplate": "Category=%{x}<br>Price Increase Percentage=%{y}<extra></extra>",
                  "legendgroup": "cakmak",
                  "marker": {
                    "color": "#FF97FF",
                    "symbol": "circle"
                  },
                  "mode": "markers",
                  "name": "cakmak",
                  "orientation": "v",
                  "showlegend": true,
                  "type": "scatter",
                  "x": [
                    "cakmak"
                  ],
                  "xaxis": "x",
                  "y": [
                    22.370617696160267
                  ],
                  "yaxis": "y"
                },
                {
                  "hovertemplate": "Category=%{x}<br>Price Increase Percentage=%{y}<extra></extra>",
                  "legendgroup": "utuler",
                  "marker": {
                    "color": "#FECB52",
                    "symbol": "circle"
                  },
                  "mode": "markers",
                  "name": "utuler",
                  "orientation": "v",
                  "showlegend": true,
                  "type": "scatter",
                  "x": [
                    "utuler"
                  ],
                  "xaxis": "x",
                  "y": [
                    22.103529899801405
                  ],
                  "yaxis": "y"
                },
                {
                  "hovertemplate": "Category=%{x}<br>Price Increase Percentage=%{y}<extra></extra>",
                  "legendgroup": "mutfak-havlusu",
                  "marker": {
                    "color": "#636efa",
                    "symbol": "circle"
                  },
                  "mode": "markers",
                  "name": "mutfak-havlusu",
                  "orientation": "v",
                  "showlegend": true,
                  "type": "scatter",
                  "x": [
                    "mutfak-havlusu"
                  ],
                  "xaxis": "x",
                  "y": [
                    21.428571428571427
                  ],
                  "yaxis": "y"
                },
                {
                  "hovertemplate": "Category=%{x}<br>Price Increase Percentage=%{y}<extra></extra>",
                  "legendgroup": "nevresim-takimi",
                  "marker": {
                    "color": "#EF553B",
                    "symbol": "circle"
                  },
                  "mode": "markers",
                  "name": "nevresim-takimi",
                  "orientation": "v",
                  "showlegend": true,
                  "type": "scatter",
                  "x": [
                    "nevresim-takimi"
                  ],
                  "xaxis": "x",
                  "y": [
                    21.31578947368421
                  ],
                  "yaxis": "y"
                },
                {
                  "hovertemplate": "Category=%{x}<br>Price Increase Percentage=%{y}<extra></extra>",
                  "legendgroup": "sac-kurutma-makineleri",
                  "marker": {
                    "color": "#00cc96",
                    "symbol": "circle"
                  },
                  "mode": "markers",
                  "name": "sac-kurutma-makineleri",
                  "orientation": "v",
                  "showlegend": true,
                  "type": "scatter",
                  "x": [
                    "sac-kurutma-makineleri"
                  ],
                  "xaxis": "x",
                  "y": [
                    21.29111931386386
                  ],
                  "yaxis": "y"
                },
                {
                  "hovertemplate": "Category=%{x}<br>Price Increase Percentage=%{y}<extra></extra>",
                  "legendgroup": "el-bakimi",
                  "marker": {
                    "color": "#ab63fa",
                    "symbol": "circle"
                  },
                  "mode": "markers",
                  "name": "el-bakimi",
                  "orientation": "v",
                  "showlegend": true,
                  "type": "scatter",
                  "x": [
                    "el-bakimi"
                  ],
                  "xaxis": "x",
                  "y": [
                    21.25
                  ],
                  "yaxis": "y"
                },
                {
                  "hovertemplate": "Category=%{x}<br>Price Increase Percentage=%{y}<extra></extra>",
                  "legendgroup": "fritoz",
                  "marker": {
                    "color": "#FFA15A",
                    "symbol": "circle"
                  },
                  "mode": "markers",
                  "name": "fritoz",
                  "orientation": "v",
                  "showlegend": true,
                  "type": "scatter",
                  "x": [
                    "fritoz"
                  ],
                  "xaxis": "x",
                  "y": [
                    21.230478041575843
                  ],
                  "yaxis": "y"
                },
                {
                  "hovertemplate": "Category=%{x}<br>Price Increase Percentage=%{y}<extra></extra>",
                  "legendgroup": "erkek-bakim-seti",
                  "marker": {
                    "color": "#19d3f3",
                    "symbol": "circle"
                  },
                  "mode": "markers",
                  "name": "erkek-bakim-seti",
                  "orientation": "v",
                  "showlegend": true,
                  "type": "scatter",
                  "x": [
                    "erkek-bakim-seti"
                  ],
                  "xaxis": "x",
                  "y": [
                    20.980223559759242
                  ],
                  "yaxis": "y"
                },
                {
                  "hovertemplate": "Category=%{x}<br>Price Increase Percentage=%{y}<extra></extra>",
                  "legendgroup": "pratik-mutfak-gerecleri",
                  "marker": {
                    "color": "#FF6692",
                    "symbol": "circle"
                  },
                  "mode": "markers",
                  "name": "pratik-mutfak-gerecleri",
                  "orientation": "v",
                  "showlegend": true,
                  "type": "scatter",
                  "x": [
                    "pratik-mutfak-gerecleri"
                  ],
                  "xaxis": "x",
                  "y": [
                    20.710059171597635
                  ],
                  "yaxis": "y"
                },
                {
                  "hovertemplate": "Category=%{x}<br>Price Increase Percentage=%{y}<extra></extra>",
                  "legendgroup": "erkek-terlikleri-ve-sandaletleri",
                  "marker": {
                    "color": "#B6E880",
                    "symbol": "circle"
                  },
                  "mode": "markers",
                  "name": "erkek-terlikleri-ve-sandaletleri",
                  "orientation": "v",
                  "showlegend": true,
                  "type": "scatter",
                  "x": [
                    "erkek-terlikleri-ve-sandaletleri"
                  ],
                  "xaxis": "x",
                  "y": [
                    20.603681915398937
                  ],
                  "yaxis": "y"
                },
                {
                  "hovertemplate": "Category=%{x}<br>Price Increase Percentage=%{y}<extra></extra>",
                  "legendgroup": "direksiyon-seti",
                  "marker": {
                    "color": "#FF97FF",
                    "symbol": "circle"
                  },
                  "mode": "markers",
                  "name": "direksiyon-seti",
                  "orientation": "v",
                  "showlegend": true,
                  "type": "scatter",
                  "x": [
                    "direksiyon-seti"
                  ],
                  "xaxis": "x",
                  "y": [
                    20.001818347122466
                  ],
                  "yaxis": "y"
                },
                {
                  "hovertemplate": "Category=%{x}<br>Price Increase Percentage=%{y}<extra></extra>",
                  "legendgroup": "akilli-saat",
                  "marker": {
                    "color": "#FECB52",
                    "symbol": "circle"
                  },
                  "mode": "markers",
                  "name": "akilli-saat",
                  "orientation": "v",
                  "showlegend": true,
                  "type": "scatter",
                  "x": [
                    "akilli-saat"
                  ],
                  "xaxis": "x",
                  "y": [
                    19.77244528235402
                  ],
                  "yaxis": "y"
                },
                {
                  "hovertemplate": "Category=%{x}<br>Price Increase Percentage=%{y}<extra></extra>",
                  "legendgroup": "matara",
                  "marker": {
                    "color": "#636efa",
                    "symbol": "circle"
                  },
                  "mode": "markers",
                  "name": "matara",
                  "orientation": "v",
                  "showlegend": true,
                  "type": "scatter",
                  "x": [
                    "matara"
                  ],
                  "xaxis": "x",
                  "y": [
                    19.696090940726133
                  ],
                  "yaxis": "y"
                },
                {
                  "hovertemplate": "Category=%{x}<br>Price Increase Percentage=%{y}<extra></extra>",
                  "legendgroup": "monitor",
                  "marker": {
                    "color": "#EF553B",
                    "symbol": "circle"
                  },
                  "mode": "markers",
                  "name": "monitor",
                  "orientation": "v",
                  "showlegend": true,
                  "type": "scatter",
                  "x": [
                    "monitor"
                  ],
                  "xaxis": "x",
                  "y": [
                    19.689659339209967
                  ],
                  "yaxis": "y"
                },
                {
                  "hovertemplate": "Category=%{x}<br>Price Increase Percentage=%{y}<extra></extra>",
                  "legendgroup": "dus-banyo-perdesi",
                  "marker": {
                    "color": "#00cc96",
                    "symbol": "circle"
                  },
                  "mode": "markers",
                  "name": "dus-banyo-perdesi",
                  "orientation": "v",
                  "showlegend": true,
                  "type": "scatter",
                  "x": [
                    "dus-banyo-perdesi"
                  ],
                  "xaxis": "x",
                  "y": [
                    19.653179190751445
                  ],
                  "yaxis": "y"
                },
                {
                  "hovertemplate": "Category=%{x}<br>Price Increase Percentage=%{y}<extra></extra>",
                  "legendgroup": "cimbizlar",
                  "marker": {
                    "color": "#ab63fa",
                    "symbol": "circle"
                  },
                  "mode": "markers",
                  "name": "cimbizlar",
                  "orientation": "v",
                  "showlegend": true,
                  "type": "scatter",
                  "x": [
                    "cimbizlar"
                  ],
                  "xaxis": "x",
                  "y": [
                    19.386038687973084
                  ],
                  "yaxis": "y"
                },
                {
                  "hovertemplate": "Category=%{x}<br>Price Increase Percentage=%{y}<extra></extra>",
                  "legendgroup": "cep-telefonu-kilifi",
                  "marker": {
                    "color": "#FFA15A",
                    "symbol": "circle"
                  },
                  "mode": "markers",
                  "name": "cep-telefonu-kilifi",
                  "orientation": "v",
                  "showlegend": true,
                  "type": "scatter",
                  "x": [
                    "cep-telefonu-kilifi"
                  ],
                  "xaxis": "x",
                  "y": [
                    18.731704274816895
                  ],
                  "yaxis": "y"
                },
                {
                  "hovertemplate": "Category=%{x}<br>Price Increase Percentage=%{y}<extra></extra>",
                  "legendgroup": "studyo-ve-sahne-ekipmanlari",
                  "marker": {
                    "color": "#19d3f3",
                    "symbol": "circle"
                  },
                  "mode": "markers",
                  "name": "studyo-ve-sahne-ekipmanlari",
                  "orientation": "v",
                  "showlegend": true,
                  "type": "scatter",
                  "x": [
                    "studyo-ve-sahne-ekipmanlari"
                  ],
                  "xaxis": "x",
                  "y": [
                    18.627328416052006
                  ],
                  "yaxis": "y"
                },
                {
                  "hovertemplate": "Category=%{x}<br>Price Increase Percentage=%{y}<extra></extra>",
                  "legendgroup": "agda-urunleri-ve-makineleri",
                  "marker": {
                    "color": "#FF6692",
                    "symbol": "circle"
                  },
                  "mode": "markers",
                  "name": "agda-urunleri-ve-makineleri",
                  "orientation": "v",
                  "showlegend": true,
                  "type": "scatter",
                  "x": [
                    "agda-urunleri-ve-makineleri"
                  ],
                  "xaxis": "x",
                  "y": [
                    18.181818181818183
                  ],
                  "yaxis": "y"
                },
                {
                  "hovertemplate": "Category=%{x}<br>Price Increase Percentage=%{y}<extra></extra>",
                  "legendgroup": "toka-tac-sac-bandi",
                  "marker": {
                    "color": "#B6E880",
                    "symbol": "circle"
                  },
                  "mode": "markers",
                  "name": "toka-tac-sac-bandi",
                  "orientation": "v",
                  "showlegend": true,
                  "type": "scatter",
                  "x": [
                    "toka-tac-sac-bandi"
                  ],
                  "xaxis": "x",
                  "y": [
                    17.647058823529413
                  ],
                  "yaxis": "y"
                },
                {
                  "hovertemplate": "Category=%{x}<br>Price Increase Percentage=%{y}<extra></extra>",
                  "legendgroup": "vantilatorler",
                  "marker": {
                    "color": "#FF97FF",
                    "symbol": "circle"
                  },
                  "mode": "markers",
                  "name": "vantilatorler",
                  "orientation": "v",
                  "showlegend": true,
                  "type": "scatter",
                  "x": [
                    "vantilatorler"
                  ],
                  "xaxis": "x",
                  "y": [
                    17.270712188939807
                  ],
                  "yaxis": "y"
                },
                {
                  "hovertemplate": "Category=%{x}<br>Price Increase Percentage=%{y}<extra></extra>",
                  "legendgroup": "kartuslar",
                  "marker": {
                    "color": "#FECB52",
                    "symbol": "circle"
                  },
                  "mode": "markers",
                  "name": "kartuslar",
                  "orientation": "v",
                  "showlegend": true,
                  "type": "scatter",
                  "x": [
                    "kartuslar"
                  ],
                  "xaxis": "x",
                  "y": [
                    17.110266159695815
                  ],
                  "yaxis": "y"
                },
                {
                  "hovertemplate": "Category=%{x}<br>Price Increase Percentage=%{y}<extra></extra>",
                  "legendgroup": "defter",
                  "marker": {
                    "color": "#636efa",
                    "symbol": "circle"
                  },
                  "mode": "markers",
                  "name": "defter",
                  "orientation": "v",
                  "showlegend": true,
                  "type": "scatter",
                  "x": [
                    "defter"
                  ],
                  "xaxis": "x",
                  "y": [
                    16.946167785950326
                  ],
                  "yaxis": "y"
                },
                {
                  "hovertemplate": "Category=%{x}<br>Price Increase Percentage=%{y}<extra></extra>",
                  "legendgroup": "baskul-tartilar",
                  "marker": {
                    "color": "#EF553B",
                    "symbol": "circle"
                  },
                  "mode": "markers",
                  "name": "baskul-tartilar",
                  "orientation": "v",
                  "showlegend": true,
                  "type": "scatter",
                  "x": [
                    "baskul-tartilar"
                  ],
                  "xaxis": "x",
                  "y": [
                    16.790956069118256
                  ],
                  "yaxis": "y"
                },
                {
                  "hovertemplate": "Category=%{x}<br>Price Increase Percentage=%{y}<extra></extra>",
                  "legendgroup": "sehir-gezi-bisikletleri",
                  "marker": {
                    "color": "#00cc96",
                    "symbol": "circle"
                  },
                  "mode": "markers",
                  "name": "sehir-gezi-bisikletleri",
                  "orientation": "v",
                  "showlegend": true,
                  "type": "scatter",
                  "x": [
                    "sehir-gezi-bisikletleri"
                  ],
                  "xaxis": "x",
                  "y": [
                    16.658085271575455
                  ],
                  "yaxis": "y"
                },
                {
                  "hovertemplate": "Category=%{x}<br>Price Increase Percentage=%{y}<extra></extra>",
                  "legendgroup": "mat",
                  "marker": {
                    "color": "#ab63fa",
                    "symbol": "circle"
                  },
                  "mode": "markers",
                  "name": "mat",
                  "orientation": "v",
                  "showlegend": true,
                  "type": "scatter",
                  "x": [
                    "mat"
                  ],
                  "xaxis": "x",
                  "y": [
                    16.39344262295082
                  ],
                  "yaxis": "y"
                },
                {
                  "hovertemplate": "Category=%{x}<br>Price Increase Percentage=%{y}<extra></extra>",
                  "legendgroup": "ram",
                  "marker": {
                    "color": "#FFA15A",
                    "symbol": "circle"
                  },
                  "mode": "markers",
                  "name": "ram",
                  "orientation": "v",
                  "showlegend": true,
                  "type": "scatter",
                  "x": [
                    "ram"
                  ],
                  "xaxis": "x",
                  "y": [
                    16.28099173553719
                  ],
                  "yaxis": "y"
                },
                {
                  "hovertemplate": "Category=%{x}<br>Price Increase Percentage=%{y}<extra></extra>",
                  "legendgroup": "sarjli-supurge",
                  "marker": {
                    "color": "#19d3f3",
                    "symbol": "circle"
                  },
                  "mode": "markers",
                  "name": "sarjli-supurge",
                  "orientation": "v",
                  "showlegend": true,
                  "type": "scatter",
                  "x": [
                    "sarjli-supurge"
                  ],
                  "xaxis": "x",
                  "y": [
                    16.129032258064516
                  ],
                  "yaxis": "y"
                },
                {
                  "hovertemplate": "Category=%{x}<br>Price Increase Percentage=%{y}<extra></extra>",
                  "legendgroup": "tost-makinesi",
                  "marker": {
                    "color": "#FF6692",
                    "symbol": "circle"
                  },
                  "mode": "markers",
                  "name": "tost-makinesi",
                  "orientation": "v",
                  "showlegend": true,
                  "type": "scatter",
                  "x": [
                    "tost-makinesi"
                  ],
                  "xaxis": "x",
                  "y": [
                    15.289145669501952
                  ],
                  "yaxis": "y"
                },
                {
                  "hovertemplate": "Category=%{x}<br>Price Increase Percentage=%{y}<extra></extra>",
                  "legendgroup": "anahtarlik",
                  "marker": {
                    "color": "#B6E880",
                    "symbol": "circle"
                  },
                  "mode": "markers",
                  "name": "anahtarlik",
                  "orientation": "v",
                  "showlegend": true,
                  "type": "scatter",
                  "x": [
                    "anahtarlik"
                  ],
                  "xaxis": "x",
                  "y": [
                    15.09433962264151
                  ],
                  "yaxis": "y"
                },
                {
                  "hovertemplate": "Category=%{x}<br>Price Increase Percentage=%{y}<extra></extra>",
                  "legendgroup": "tenis-badminton",
                  "marker": {
                    "color": "#FF97FF",
                    "symbol": "circle"
                  },
                  "mode": "markers",
                  "name": "tenis-badminton",
                  "orientation": "v",
                  "showlegend": true,
                  "type": "scatter",
                  "x": [
                    "tenis-badminton"
                  ],
                  "xaxis": "x",
                  "y": [
                    13.937282229965156
                  ],
                  "yaxis": "y"
                },
                {
                  "hovertemplate": "Category=%{x}<br>Price Increase Percentage=%{y}<extra></extra>",
                  "legendgroup": "kemanlar",
                  "marker": {
                    "color": "#FECB52",
                    "symbol": "circle"
                  },
                  "mode": "markers",
                  "name": "kemanlar",
                  "orientation": "v",
                  "showlegend": true,
                  "type": "scatter",
                  "x": [
                    "kemanlar"
                  ],
                  "xaxis": "x",
                  "y": [
                    13.104477611940299
                  ],
                  "yaxis": "y"
                },
                {
                  "hovertemplate": "Category=%{x}<br>Price Increase Percentage=%{y}<extra></extra>",
                  "legendgroup": "bayan-sweatshirt",
                  "marker": {
                    "color": "#636efa",
                    "symbol": "circle"
                  },
                  "mode": "markers",
                  "name": "bayan-sweatshirt",
                  "orientation": "v",
                  "showlegend": true,
                  "type": "scatter",
                  "x": [
                    "bayan-sweatshirt"
                  ],
                  "xaxis": "x",
                  "y": [
                    11.67964404894327
                  ],
                  "yaxis": "y"
                },
                {
                  "hovertemplate": "Category=%{x}<br>Price Increase Percentage=%{y}<extra></extra>",
                  "legendgroup": "masa-saati",
                  "marker": {
                    "color": "#EF553B",
                    "symbol": "circle"
                  },
                  "mode": "markers",
                  "name": "masa-saati",
                  "orientation": "v",
                  "showlegend": true,
                  "type": "scatter",
                  "x": [
                    "masa-saati"
                  ],
                  "xaxis": "x",
                  "y": [
                    7.627118644067797
                  ],
                  "yaxis": "y"
                },
                {
                  "hovertemplate": "Category=%{x}<br>Price Increase Percentage=%{y}<extra></extra>",
                  "legendgroup": "unisex-bel-cantasi",
                  "marker": {
                    "color": "#00cc96",
                    "symbol": "circle"
                  },
                  "mode": "markers",
                  "name": "unisex-bel-cantasi",
                  "orientation": "v",
                  "showlegend": true,
                  "type": "scatter",
                  "x": [
                    "unisex-bel-cantasi"
                  ],
                  "xaxis": "x",
                  "y": [
                    7.2727272727272725
                  ],
                  "yaxis": "y"
                },
                {
                  "hovertemplate": "Category=%{x}<br>Price Increase Percentage=%{y}<extra></extra>",
                  "legendgroup": "termos",
                  "marker": {
                    "color": "#ab63fa",
                    "symbol": "circle"
                  },
                  "mode": "markers",
                  "name": "termos",
                  "orientation": "v",
                  "showlegend": true,
                  "type": "scatter",
                  "x": [
                    "termos"
                  ],
                  "xaxis": "x",
                  "y": [
                    7.207207207207207
                  ],
                  "yaxis": "y"
                },
                {
                  "hovertemplate": "Category=%{x}<br>Price Increase Percentage=%{y}<extra></extra>",
                  "legendgroup": "el-yuz-havlusu",
                  "marker": {
                    "color": "#FFA15A",
                    "symbol": "circle"
                  },
                  "mode": "markers",
                  "name": "el-yuz-havlusu",
                  "orientation": "v",
                  "showlegend": true,
                  "type": "scatter",
                  "x": [
                    "el-yuz-havlusu"
                  ],
                  "xaxis": "x",
                  "y": [
                    2.5
                  ],
                  "yaxis": "y"
                },
                {
                  "hovertemplate": "Category=%{x}<br>Price Increase Percentage=%{y}<extra></extra>",
                  "legendgroup": "yorgan",
                  "marker": {
                    "color": "#19d3f3",
                    "symbol": "circle"
                  },
                  "mode": "markers",
                  "name": "yorgan",
                  "orientation": "v",
                  "showlegend": true,
                  "type": "scatter",
                  "x": [
                    "yorgan"
                  ],
                  "xaxis": "x",
                  "y": [
                    0.6825938566552902
                  ],
                  "yaxis": "y"
                }
              ],
              "layout": {
                "legend": {
                  "title": {
                    "text": "Category"
                  },
                  "tracegroupgap": 0
                },
                "margin": {
                  "t": 60
                },
                "template": {
                  "data": {
                    "bar": [
                      {
                        "error_x": {
                          "color": "#2a3f5f"
                        },
                        "error_y": {
                          "color": "#2a3f5f"
                        },
                        "marker": {
                          "line": {
                            "color": "#E5ECF6",
                            "width": 0.5
                          },
                          "pattern": {
                            "fillmode": "overlay",
                            "size": 10,
                            "solidity": 0.2
                          }
                        },
                        "type": "bar"
                      }
                    ],
                    "barpolar": [
                      {
                        "marker": {
                          "line": {
                            "color": "#E5ECF6",
                            "width": 0.5
                          },
                          "pattern": {
                            "fillmode": "overlay",
                            "size": 10,
                            "solidity": 0.2
                          }
                        },
                        "type": "barpolar"
                      }
                    ],
                    "carpet": [
                      {
                        "aaxis": {
                          "endlinecolor": "#2a3f5f",
                          "gridcolor": "white",
                          "linecolor": "white",
                          "minorgridcolor": "white",
                          "startlinecolor": "#2a3f5f"
                        },
                        "baxis": {
                          "endlinecolor": "#2a3f5f",
                          "gridcolor": "white",
                          "linecolor": "white",
                          "minorgridcolor": "white",
                          "startlinecolor": "#2a3f5f"
                        },
                        "type": "carpet"
                      }
                    ],
                    "choropleth": [
                      {
                        "colorbar": {
                          "outlinewidth": 0,
                          "ticks": ""
                        },
                        "type": "choropleth"
                      }
                    ],
                    "contour": [
                      {
                        "colorbar": {
                          "outlinewidth": 0,
                          "ticks": ""
                        },
                        "colorscale": [
                          [
                            0,
                            "#0d0887"
                          ],
                          [
                            0.1111111111111111,
                            "#46039f"
                          ],
                          [
                            0.2222222222222222,
                            "#7201a8"
                          ],
                          [
                            0.3333333333333333,
                            "#9c179e"
                          ],
                          [
                            0.4444444444444444,
                            "#bd3786"
                          ],
                          [
                            0.5555555555555556,
                            "#d8576b"
                          ],
                          [
                            0.6666666666666666,
                            "#ed7953"
                          ],
                          [
                            0.7777777777777778,
                            "#fb9f3a"
                          ],
                          [
                            0.8888888888888888,
                            "#fdca26"
                          ],
                          [
                            1,
                            "#f0f921"
                          ]
                        ],
                        "type": "contour"
                      }
                    ],
                    "contourcarpet": [
                      {
                        "colorbar": {
                          "outlinewidth": 0,
                          "ticks": ""
                        },
                        "type": "contourcarpet"
                      }
                    ],
                    "heatmap": [
                      {
                        "colorbar": {
                          "outlinewidth": 0,
                          "ticks": ""
                        },
                        "colorscale": [
                          [
                            0,
                            "#0d0887"
                          ],
                          [
                            0.1111111111111111,
                            "#46039f"
                          ],
                          [
                            0.2222222222222222,
                            "#7201a8"
                          ],
                          [
                            0.3333333333333333,
                            "#9c179e"
                          ],
                          [
                            0.4444444444444444,
                            "#bd3786"
                          ],
                          [
                            0.5555555555555556,
                            "#d8576b"
                          ],
                          [
                            0.6666666666666666,
                            "#ed7953"
                          ],
                          [
                            0.7777777777777778,
                            "#fb9f3a"
                          ],
                          [
                            0.8888888888888888,
                            "#fdca26"
                          ],
                          [
                            1,
                            "#f0f921"
                          ]
                        ],
                        "type": "heatmap"
                      }
                    ],
                    "heatmapgl": [
                      {
                        "colorbar": {
                          "outlinewidth": 0,
                          "ticks": ""
                        },
                        "colorscale": [
                          [
                            0,
                            "#0d0887"
                          ],
                          [
                            0.1111111111111111,
                            "#46039f"
                          ],
                          [
                            0.2222222222222222,
                            "#7201a8"
                          ],
                          [
                            0.3333333333333333,
                            "#9c179e"
                          ],
                          [
                            0.4444444444444444,
                            "#bd3786"
                          ],
                          [
                            0.5555555555555556,
                            "#d8576b"
                          ],
                          [
                            0.6666666666666666,
                            "#ed7953"
                          ],
                          [
                            0.7777777777777778,
                            "#fb9f3a"
                          ],
                          [
                            0.8888888888888888,
                            "#fdca26"
                          ],
                          [
                            1,
                            "#f0f921"
                          ]
                        ],
                        "type": "heatmapgl"
                      }
                    ],
                    "histogram": [
                      {
                        "marker": {
                          "pattern": {
                            "fillmode": "overlay",
                            "size": 10,
                            "solidity": 0.2
                          }
                        },
                        "type": "histogram"
                      }
                    ],
                    "histogram2d": [
                      {
                        "colorbar": {
                          "outlinewidth": 0,
                          "ticks": ""
                        },
                        "colorscale": [
                          [
                            0,
                            "#0d0887"
                          ],
                          [
                            0.1111111111111111,
                            "#46039f"
                          ],
                          [
                            0.2222222222222222,
                            "#7201a8"
                          ],
                          [
                            0.3333333333333333,
                            "#9c179e"
                          ],
                          [
                            0.4444444444444444,
                            "#bd3786"
                          ],
                          [
                            0.5555555555555556,
                            "#d8576b"
                          ],
                          [
                            0.6666666666666666,
                            "#ed7953"
                          ],
                          [
                            0.7777777777777778,
                            "#fb9f3a"
                          ],
                          [
                            0.8888888888888888,
                            "#fdca26"
                          ],
                          [
                            1,
                            "#f0f921"
                          ]
                        ],
                        "type": "histogram2d"
                      }
                    ],
                    "histogram2dcontour": [
                      {
                        "colorbar": {
                          "outlinewidth": 0,
                          "ticks": ""
                        },
                        "colorscale": [
                          [
                            0,
                            "#0d0887"
                          ],
                          [
                            0.1111111111111111,
                            "#46039f"
                          ],
                          [
                            0.2222222222222222,
                            "#7201a8"
                          ],
                          [
                            0.3333333333333333,
                            "#9c179e"
                          ],
                          [
                            0.4444444444444444,
                            "#bd3786"
                          ],
                          [
                            0.5555555555555556,
                            "#d8576b"
                          ],
                          [
                            0.6666666666666666,
                            "#ed7953"
                          ],
                          [
                            0.7777777777777778,
                            "#fb9f3a"
                          ],
                          [
                            0.8888888888888888,
                            "#fdca26"
                          ],
                          [
                            1,
                            "#f0f921"
                          ]
                        ],
                        "type": "histogram2dcontour"
                      }
                    ],
                    "mesh3d": [
                      {
                        "colorbar": {
                          "outlinewidth": 0,
                          "ticks": ""
                        },
                        "type": "mesh3d"
                      }
                    ],
                    "parcoords": [
                      {
                        "line": {
                          "colorbar": {
                            "outlinewidth": 0,
                            "ticks": ""
                          }
                        },
                        "type": "parcoords"
                      }
                    ],
                    "pie": [
                      {
                        "automargin": true,
                        "type": "pie"
                      }
                    ],
                    "scatter": [
                      {
                        "fillpattern": {
                          "fillmode": "overlay",
                          "size": 10,
                          "solidity": 0.2
                        },
                        "type": "scatter"
                      }
                    ],
                    "scatter3d": [
                      {
                        "line": {
                          "colorbar": {
                            "outlinewidth": 0,
                            "ticks": ""
                          }
                        },
                        "marker": {
                          "colorbar": {
                            "outlinewidth": 0,
                            "ticks": ""
                          }
                        },
                        "type": "scatter3d"
                      }
                    ],
                    "scattercarpet": [
                      {
                        "marker": {
                          "colorbar": {
                            "outlinewidth": 0,
                            "ticks": ""
                          }
                        },
                        "type": "scattercarpet"
                      }
                    ],
                    "scattergeo": [
                      {
                        "marker": {
                          "colorbar": {
                            "outlinewidth": 0,
                            "ticks": ""
                          }
                        },
                        "type": "scattergeo"
                      }
                    ],
                    "scattergl": [
                      {
                        "marker": {
                          "colorbar": {
                            "outlinewidth": 0,
                            "ticks": ""
                          }
                        },
                        "type": "scattergl"
                      }
                    ],
                    "scattermapbox": [
                      {
                        "marker": {
                          "colorbar": {
                            "outlinewidth": 0,
                            "ticks": ""
                          }
                        },
                        "type": "scattermapbox"
                      }
                    ],
                    "scatterpolar": [
                      {
                        "marker": {
                          "colorbar": {
                            "outlinewidth": 0,
                            "ticks": ""
                          }
                        },
                        "type": "scatterpolar"
                      }
                    ],
                    "scatterpolargl": [
                      {
                        "marker": {
                          "colorbar": {
                            "outlinewidth": 0,
                            "ticks": ""
                          }
                        },
                        "type": "scatterpolargl"
                      }
                    ],
                    "scatterternary": [
                      {
                        "marker": {
                          "colorbar": {
                            "outlinewidth": 0,
                            "ticks": ""
                          }
                        },
                        "type": "scatterternary"
                      }
                    ],
                    "surface": [
                      {
                        "colorbar": {
                          "outlinewidth": 0,
                          "ticks": ""
                        },
                        "colorscale": [
                          [
                            0,
                            "#0d0887"
                          ],
                          [
                            0.1111111111111111,
                            "#46039f"
                          ],
                          [
                            0.2222222222222222,
                            "#7201a8"
                          ],
                          [
                            0.3333333333333333,
                            "#9c179e"
                          ],
                          [
                            0.4444444444444444,
                            "#bd3786"
                          ],
                          [
                            0.5555555555555556,
                            "#d8576b"
                          ],
                          [
                            0.6666666666666666,
                            "#ed7953"
                          ],
                          [
                            0.7777777777777778,
                            "#fb9f3a"
                          ],
                          [
                            0.8888888888888888,
                            "#fdca26"
                          ],
                          [
                            1,
                            "#f0f921"
                          ]
                        ],
                        "type": "surface"
                      }
                    ],
                    "table": [
                      {
                        "cells": {
                          "fill": {
                            "color": "#EBF0F8"
                          },
                          "line": {
                            "color": "white"
                          }
                        },
                        "header": {
                          "fill": {
                            "color": "#C8D4E3"
                          },
                          "line": {
                            "color": "white"
                          }
                        },
                        "type": "table"
                      }
                    ]
                  },
                  "layout": {
                    "annotationdefaults": {
                      "arrowcolor": "#2a3f5f",
                      "arrowhead": 0,
                      "arrowwidth": 1
                    },
                    "autotypenumbers": "strict",
                    "coloraxis": {
                      "colorbar": {
                        "outlinewidth": 0,
                        "ticks": ""
                      }
                    },
                    "colorscale": {
                      "diverging": [
                        [
                          0,
                          "#8e0152"
                        ],
                        [
                          0.1,
                          "#c51b7d"
                        ],
                        [
                          0.2,
                          "#de77ae"
                        ],
                        [
                          0.3,
                          "#f1b6da"
                        ],
                        [
                          0.4,
                          "#fde0ef"
                        ],
                        [
                          0.5,
                          "#f7f7f7"
                        ],
                        [
                          0.6,
                          "#e6f5d0"
                        ],
                        [
                          0.7,
                          "#b8e186"
                        ],
                        [
                          0.8,
                          "#7fbc41"
                        ],
                        [
                          0.9,
                          "#4d9221"
                        ],
                        [
                          1,
                          "#276419"
                        ]
                      ],
                      "sequential": [
                        [
                          0,
                          "#0d0887"
                        ],
                        [
                          0.1111111111111111,
                          "#46039f"
                        ],
                        [
                          0.2222222222222222,
                          "#7201a8"
                        ],
                        [
                          0.3333333333333333,
                          "#9c179e"
                        ],
                        [
                          0.4444444444444444,
                          "#bd3786"
                        ],
                        [
                          0.5555555555555556,
                          "#d8576b"
                        ],
                        [
                          0.6666666666666666,
                          "#ed7953"
                        ],
                        [
                          0.7777777777777778,
                          "#fb9f3a"
                        ],
                        [
                          0.8888888888888888,
                          "#fdca26"
                        ],
                        [
                          1,
                          "#f0f921"
                        ]
                      ],
                      "sequentialminus": [
                        [
                          0,
                          "#0d0887"
                        ],
                        [
                          0.1111111111111111,
                          "#46039f"
                        ],
                        [
                          0.2222222222222222,
                          "#7201a8"
                        ],
                        [
                          0.3333333333333333,
                          "#9c179e"
                        ],
                        [
                          0.4444444444444444,
                          "#bd3786"
                        ],
                        [
                          0.5555555555555556,
                          "#d8576b"
                        ],
                        [
                          0.6666666666666666,
                          "#ed7953"
                        ],
                        [
                          0.7777777777777778,
                          "#fb9f3a"
                        ],
                        [
                          0.8888888888888888,
                          "#fdca26"
                        ],
                        [
                          1,
                          "#f0f921"
                        ]
                      ]
                    },
                    "colorway": [
                      "#636efa",
                      "#EF553B",
                      "#00cc96",
                      "#ab63fa",
                      "#FFA15A",
                      "#19d3f3",
                      "#FF6692",
                      "#B6E880",
                      "#FF97FF",
                      "#FECB52"
                    ],
                    "font": {
                      "color": "#2a3f5f"
                    },
                    "geo": {
                      "bgcolor": "white",
                      "lakecolor": "white",
                      "landcolor": "#E5ECF6",
                      "showlakes": true,
                      "showland": true,
                      "subunitcolor": "white"
                    },
                    "hoverlabel": {
                      "align": "left"
                    },
                    "hovermode": "closest",
                    "mapbox": {
                      "style": "light"
                    },
                    "paper_bgcolor": "white",
                    "plot_bgcolor": "#E5ECF6",
                    "polar": {
                      "angularaxis": {
                        "gridcolor": "white",
                        "linecolor": "white",
                        "ticks": ""
                      },
                      "bgcolor": "#E5ECF6",
                      "radialaxis": {
                        "gridcolor": "white",
                        "linecolor": "white",
                        "ticks": ""
                      }
                    },
                    "scene": {
                      "xaxis": {
                        "backgroundcolor": "#E5ECF6",
                        "gridcolor": "white",
                        "gridwidth": 2,
                        "linecolor": "white",
                        "showbackground": true,
                        "ticks": "",
                        "zerolinecolor": "white"
                      },
                      "yaxis": {
                        "backgroundcolor": "#E5ECF6",
                        "gridcolor": "white",
                        "gridwidth": 2,
                        "linecolor": "white",
                        "showbackground": true,
                        "ticks": "",
                        "zerolinecolor": "white"
                      },
                      "zaxis": {
                        "backgroundcolor": "#E5ECF6",
                        "gridcolor": "white",
                        "gridwidth": 2,
                        "linecolor": "white",
                        "showbackground": true,
                        "ticks": "",
                        "zerolinecolor": "white"
                      }
                    },
                    "shapedefaults": {
                      "line": {
                        "color": "#2a3f5f"
                      }
                    },
                    "ternary": {
                      "aaxis": {
                        "gridcolor": "white",
                        "linecolor": "white",
                        "ticks": ""
                      },
                      "baxis": {
                        "gridcolor": "white",
                        "linecolor": "white",
                        "ticks": ""
                      },
                      "bgcolor": "#E5ECF6",
                      "caxis": {
                        "gridcolor": "white",
                        "linecolor": "white",
                        "ticks": ""
                      }
                    },
                    "title": {
                      "x": 0.05
                    },
                    "xaxis": {
                      "automargin": true,
                      "gridcolor": "white",
                      "linecolor": "white",
                      "ticks": "",
                      "title": {
                        "standoff": 15
                      },
                      "zerolinecolor": "white",
                      "zerolinewidth": 2
                    },
                    "yaxis": {
                      "automargin": true,
                      "gridcolor": "white",
                      "linecolor": "white",
                      "ticks": "",
                      "title": {
                        "standoff": 15
                      },
                      "zerolinecolor": "white",
                      "zerolinewidth": 2
                    }
                  }
                },
                "xaxis": {
                  "anchor": "y",
                  "categoryarray": [
                    "tonerler",
                    "banyo-bakim-aksesuarlari",
                    "not-defteri-bloknot",
                    "turk-kahve-makinesi",
                    "flash-bellekler",
                    "dudak-bakimi-koruyucu",
                    "mini-midi-firinlar",
                    "kahvaltilik-gevrek",
                    "bitkisel-besin-destekleri",
                    "oyuncu-mouse",
                    "dis-macunlari",
                    "isiticilar",
                    "mouse-pad",
                    "yara-bandi",
                    "ezme-krem-cikolata",
                    "baskul",
                    "anakart",
                    "dizustu-bilgisayar-aksesuarlari",
                    "kedi-mamasi",
                    "yazi-tahtasi-kalemi",
                    "klasik-gitarlar",
                    "bluetooth-kulaklik",
                    "oyuncu-klavyesi",
                    "spiralli-defter",
                    "mouse",
                    "tavla",
                    "bilgisayar-oyunlari",
                    "calisma-koltugu",
                    "kursun-kalem-ucu-min",
                    "suluk-matara",
                    "cay-makineleri",
                    "erkek-cuzdan",
                    "tencere-tava-setleri",
                    "klavye",
                    "oyuncu-kulakliklari",
                    "fotograf-makinesi",
                    "tirnak-makasi",
                    "tiras-bicagi",
                    "dermokozmetik-urunler",
                    "bilgisayar-cevirici-ve-adaptoru",
                    "tukenmez-kalem",
                    "sicak-su-torbasi",
                    "vazelin",
                    "cep-telefonu-kalemi",
                    "kulaklik",
                    "oyun-kolu",
                    "epilasyon-aleti",
                    "yetiskinler-icin-oyunlar",
                    "silgi",
                    "gunes-kremi",
                    "robot-supurge",
                    "bulasik-makinesi-tableti",
                    "buzdolabi",
                    "bulasik-makineleri",
                    "ezme-perle-kedi-mamasi",
                    "cep-telefonlari",
                    "bilgisayar-kasasi",
                    "harita-kure",
                    "termoslar",
                    "buzdolaplari",
                    "kettle",
                    "kalemlik-kalem-kutusu",
                    "tiras-makineleri",
                    "xbox-series",
                    "kamp-aksesuari",
                    "dis-macunu",
                    "nintendo-switch",
                    "dizustu-bilgisayar",
                    "fosforlu-kalem",
                    "ocaklar",
                    "tiras-makinesi",
                    "mekanik-kursun-versatil-kalem",
                    "alarmli-saatler-radyolar",
                    "kutu-oyunu",
                    "sampuan-ve-sac-kremi",
                    "dis-fircalari",
                    "tiras-bicagi-ve-yedekleri",
                    "tasinabilir-sarj-cihazi-powerbank",
                    "cep-telefonu",
                    "bayan-cuzdan",
                    "akim-korumali-priz",
                    "suluk",
                    "kopek-mamasi",
                    "klavye-mouse",
                    "makarna",
                    "sanal-gerceklik-gozlugu",
                    "tablet-pc",
                    "tasinabilir-hard-diskler",
                    "stor-perde",
                    "ocak",
                    "hijyenik-pedler-ve-tamponlar",
                    "rimeller-maskaralar",
                    "kadin-terlikleri-ve-sandaletleri",
                    "satranc",
                    "dijital-fotograf-makineleri",
                    "sabunlar",
                    "unisex-gunes-gozlukleri",
                    "konsol-aksesuarlari",
                    "camasir-askisi",
                    "sprey-deodorantlar",
                    "oje",
                    "kedi-kumu",
                    "dus-jelleri-ve-banyo-kopukleri",
                    "kupa",
                    "ps5",
                    "ankastre-mikrodalga-firinlar",
                    "tiras-jelleri-kopukleri-kremleri",
                    "puzzle-aksesuarlari",
                    "gunes-kremleri-ve-losyonlari",
                    "tost-makineleri",
                    "espresso-makinesi",
                    "fon-perde",
                    "oyuncu-mouse-pad",
                    "cok-satan-kitaplar",
                    "makyaj-temizleyicileri",
                    "toplar",
                    "mikrodalga-firinlar",
                    "masa-lambasi",
                    "erkek-t-shirt",
                    "spor-ayakkabi",
                    "waffle-makinesi",
                    "tuvalet-kagidi",
                    "oyuncu-koltugu",
                    "kahve-makineleri",
                    "playstation-4-ps4-oyunlari",
                    "hesap-makinesi",
                    "sirt-cantasi-outdoor",
                    "kamp-sandalyesi",
                    "su-isiticilari-kettle",
                    "elektro-gitarlar",
                    "laptop-notebook",
                    "cep-telefonu-sarj-cihazi",
                    "bluetooth-hoparlor",
                    "sut",
                    "oyun-konsollari",
                    "tripodlar",
                    "kilim",
                    "kagit-havlu",
                    "cakmak",
                    "utuler",
                    "mutfak-havlusu",
                    "nevresim-takimi",
                    "sac-kurutma-makineleri",
                    "el-bakimi",
                    "fritoz",
                    "erkek-bakim-seti",
                    "pratik-mutfak-gerecleri",
                    "erkek-terlikleri-ve-sandaletleri",
                    "direksiyon-seti",
                    "akilli-saat",
                    "matara",
                    "monitor",
                    "dus-banyo-perdesi",
                    "cimbizlar",
                    "cep-telefonu-kilifi",
                    "studyo-ve-sahne-ekipmanlari",
                    "agda-urunleri-ve-makineleri",
                    "toka-tac-sac-bandi",
                    "vantilatorler",
                    "kartuslar",
                    "defter",
                    "baskul-tartilar",
                    "sehir-gezi-bisikletleri",
                    "mat",
                    "ram",
                    "sarjli-supurge",
                    "tost-makinesi",
                    "anahtarlik",
                    "tenis-badminton",
                    "kemanlar",
                    "bayan-sweatshirt",
                    "masa-saati",
                    "unisex-bel-cantasi",
                    "termos",
                    "el-yuz-havlusu",
                    "yorgan"
                  ],
                  "categoryorder": "array",
                  "domain": [
                    0,
                    1
                  ],
                  "title": {
                    "text": "Category"
                  }
                },
                "yaxis": {
                  "anchor": "x",
                  "domain": [
                    0,
                    1
                  ],
                  "title": {
                    "text": "Price Increase Percentage"
                  }
                }
              }
            }
          },
          "metadata": {},
          "output_type": "display_data"
        }
      ],
      "source": [
        "# Do the same thing with interactive plot\n",
        "fig = px.scatter(avg_price_increase_by_category, x='Category', y='Price Increase Percentage', color='Category')\n",
        "fig.show()"
      ]
    },
    {
      "attachments": {},
      "cell_type": "markdown",
      "metadata": {},
      "source": [
        "# ***Finally..***\n",
        "## Average Price Increase Percentage in our bucket.\n",
        "\n",
        "\n",
        "---\n",
        "\n"
      ]
    },
    {
      "cell_type": "code",
      "execution_count": 214,
      "metadata": {
        "id": "3IGscopiFEwx",
        "outputId": "0b4131ff-61cd-49e8-bf53-e86897aa9871"
      },
      "outputs": [
        {
          "name": "stdout",
          "output_type": "stream",
          "text": [
            "Average Price Increase Percentage:  32.82201087548103\n",
            "Inflation:  32.82201087548102\n"
          ]
        }
      ],
      "source": [
        "# Calculating the enflation according to the dataset that we have\n",
        "def inflationCalculator(df):\n",
        "    # Calculating the average price increase percentage\n",
        "    avgPriceIncreasePercentage = df['Price Increase Percentage'].mean()\n",
        "\n",
        "    print(\"Average Price Increase Percentage: \", avgPriceIncreasePercentage)\n",
        "    \n",
        "    # Calculating the inflation\n",
        "    inflation = avgPriceIncreasePercentage / 100 + 1  # 100 + 1 because the percentage is in the form of 1.05, 1.1, 1.15 etc.\n",
        "\n",
        "    inflationPercentage = (inflation - 1) * 100\n",
        "    \n",
        "    # Returning the inflation\n",
        "    return inflationPercentage\n",
        "\n",
        "print(\"Inflation: \", inflationCalculator(df))"
      ]
    },
    {
      "attachments": {},
      "cell_type": "markdown",
      "metadata": {
        "id": "rczxncZpNPMg"
      },
      "source": [
        "# **Unsupervised Learning**\n",
        "## **K-Means**"
      ]
    },
    {
      "cell_type": "code",
      "execution_count": 215,
      "metadata": {},
      "outputs": [
        {
          "data": {
            "image/png": "[encoded data removed]",
            "text/plain": [
              "<Figure size 640x480 with 1 Axes>"
            ]
          },
          "metadata": {},
          "output_type": "display_data"
        }
      ],
      "source": [
        "df_numeric = df.select_dtypes(include=[np.number])\n",
        "scaler = StandardScaler()\n",
        "df_scaled = scaler.fit_transform(df_numeric)\n",
        "\n",
        "#CHOOSING THE RIGHT NUMBER OF CLUSTERS WITH ELBOW METHOD\n",
        "wcss = []\n",
        "# Create all possible cluster solutions with a loop\n",
        "for i in range(1, 11):\n",
        "    kmeans = KMeans(n_clusters=i, init='k-means++', max_iter=300, n_init=10, random_state=0)\n",
        "    kmeans.fit(df_scaled)\n",
        "    wcss.append(kmeans.inertia_)\n",
        "    \n",
        "# Plot the results\n",
        "plt.plot(range(1, 11), wcss)\n",
        "plt.title('Elbow Method')\n",
        "plt.xlabel('Number of clusters')\n",
        "plt.ylabel('WCSS')\n",
        "\n",
        "plt.plot(4, wcss[4-1], marker='o', markersize=10, markeredgewidth=2, markeredgecolor='r', markerfacecolor='None')\n",
        "plt.show()"
      ]
    },
    {
      "cell_type": "code",
      "execution_count": 216,
      "metadata": {},
      "outputs": [
        {
          "data": {
            "application/vnd.plotly.v1+json": {
              "config": {
                "plotlyServerURL": "https://plot.ly"
              },
              "data": [
                {
                  "alignmentgroup": "True",
                  "hovertemplate": "Cluster=%{x}<br>Price Increase Percentage=%{y}<extra></extra>",
                  "legendgroup": "2",
                  "marker": {
                    "color": "rgb(102, 197, 204)"
                  },
                  "name": "2",
                  "notched": false,
                  "offsetgroup": "2",
                  "orientation": "v",
                  "showlegend": true,
                  "type": "box",
                  "x": [
                    2,
                    2,
                    2,
                    2,
                    2,
                    2,
                    2,
                    2,
                    2,
                    2,
                    2,
                    2,
                    2,
                    2,
                    2,
                    2,
                    2,
                    2,
                    2,
                    2,
                    2,
                    2,
                    2,
                    2,
                    2,
                    2,
                    2,
                    2,
                    2,
                    2,
                    2,
                    2,
                    2,
                    2,
                    2,
                    2,
                    2,
                    2,
                    2,
                    2,
                    2,
                    2,
                    2,
                    2,
                    2,
                    2,
                    2,
                    2,
                    2,
                    2,
                    2,
                    2,
                    2,
                    2,
                    2,
                    2,
                    2,
                    2,
                    2,
                    2,
                    2,
                    2,
                    2,
                    2,
                    2,
                    2,
                    2,
                    2,
                    2,
                    2,
                    2,
                    2,
                    2,
                    2,
                    2,
                    2,
                    2,
                    2,
                    2,
                    2,
                    2,
                    2,
                    2,
                    2,
                    2,
                    2,
                    2,
                    2,
                    2,
                    2,
                    2,
                    2,
                    2,
                    2,
                    2,
                    2,
                    2,
                    2,
                    2,
                    2,
                    2,
                    2,
                    2,
                    2,
                    2,
                    2,
                    2,
                    2,
                    2,
                    2,
                    2,
                    2,
                    2,
                    2,
                    2,
                    2,
                    2,
                    2,
                    2,
                    2,
                    2,
                    2,
                    2,
                    2,
                    2,
                    2,
                    2,
                    2,
                    2,
                    2,
                    2,
                    2,
                    2,
                    2,
                    2,
                    2,
                    2,
                    2,
                    2,
                    2,
                    2,
                    2,
                    2,
                    2,
                    2,
                    2,
                    2,
                    2,
                    2,
                    2,
                    2,
                    2,
                    2,
                    2,
                    2,
                    2,
                    2,
                    2,
                    2,
                    2,
                    2,
                    2,
                    2,
                    2,
                    2
                  ],
                  "x0": " ",
                  "xaxis": "x",
                  "y": [
                    51.83333333333333,
                    47.539616346955796,
                    53.05744286596664,
                    53.68421052631579,
                    45.07042253521127,
                    37.37556561085973,
                    34.72222222222222,
                    45.2755905511811,
                    34.5959595959596,
                    33.490566037735846,
                    36.569080636877246,
                    50.68243858052776,
                    51.054284432480934,
                    49.238799478033926,
                    49.32562620423892,
                    46.00526777875329,
                    51.50375939849624,
                    39.159439626417615,
                    35.59650824442289,
                    39.5678201197255,
                    42.5531914893617,
                    41.78272980501393,
                    36.96682464454976,
                    48.47859721505931,
                    57.67599660729432,
                    44.416562107904646,
                    49.499545040946316,
                    49.849849849849846,
                    51.20739852714505,
                    39.4169835234474,
                    45.25674499564839,
                    66.8704836020011,
                    40.4639175257732,
                    36.84210526315789,
                    50.33557046979866,
                    43.347782594198065,
                    37.43455497382199,
                    35.990338164251206,
                    35.88235294117647,
                    46.51162790697674,
                    58.69565217391305,
                    34.070796460176986,
                    43.36283185840708,
                    40.909090909090914,
                    41.35021097046413,
                    33.33333333333333,
                    36.344863190500774,
                    45.97701149425287,
                    51.5625,
                    36.78606001936108,
                    58.78552971576227,
                    42.91845493562232,
                    45.83333333333333,
                    51.28205128205128,
                    44.44444444444444,
                    43.05555555555556,
                    41.37931034482759,
                    36.36363636363637,
                    53.88471177944862,
                    54.54545454545454,
                    40,
                    58.10055865921788,
                    39.130434782608695,
                    42.857142857142854,
                    39.574645537948285,
                    58.82352941176471,
                    44.44444444444444,
                    55.80357142857143,
                    37.83783783783784,
                    59.898843930635834,
                    50,
                    37.174721189591075,
                    52.208835341365464,
                    46.875,
                    37.3134328358209,
                    42,
                    44.303797468354425,
                    43.58974358974359,
                    65.38461538461539,
                    42.857142857142854,
                    46.08695652173913,
                    34.523809523809526,
                    52.10115284492376,
                    35.59322033898305,
                    47.867298578199055,
                    34.24124513618677,
                    76.95652173913044,
                    45.61506768687463,
                    55.29100529100529,
                    45.285714285714285,
                    39.783491204330176,
                    72.44582043343654,
                    65.625,
                    42.30769230769231,
                    56.00000000000001,
                    50,
                    37.39522888459059,
                    35.16228748068006,
                    60.37735849056604,
                    56.132075471698116,
                    55.010224948875255,
                    42.453591606133976,
                    38.2716049382716,
                    45.662100456621005,
                    36.41719105636631,
                    35.55555555555556,
                    64.51612903225806,
                    41.922563417890515,
                    39.285714285714285,
                    36.60377358490566,
                    41.12903225806452,
                    52.94117647058824,
                    50,
                    46.15384615384615,
                    68,
                    40.794608017027315,
                    43.28358208955223,
                    36.76470588235294,
                    36.0381861575179,
                    38.46153846153847,
                    52.63157894736842,
                    45.17241379310345,
                    34.883720930232556,
                    36.96275071633238,
                    33.33333333333333,
                    39.568345323741006,
                    47.55804643714972,
                    52.589641434262944,
                    50,
                    58.69275233437084,
                    43.0622009569378,
                    34.285714285714285,
                    33.82352941176471,
                    48.494143892916895,
                    33.955759839126685,
                    38.91717583163612,
                    34.61538461538461,
                    39.123630672926446,
                    34.57943925233645,
                    40.94488188976378,
                    35.13513513513514,
                    46.99074074074074,
                    43.412526997840175,
                    43.263288009888754,
                    47.368421052631575,
                    42.10526315789473,
                    57.14285714285714,
                    39.73147006439238,
                    40.909090909090914,
                    42.10526315789473,
                    66.66666666666666,
                    63.888888888888886,
                    39.27639589493825,
                    37.00748941712797,
                    34.69387755102041,
                    36.096256684491976,
                    55.55555555555556,
                    73.65853658536585,
                    37.5,
                    41.0958904109589,
                    71.01449275362319,
                    71.79310344827586,
                    44.97354497354497,
                    52.23880597014925,
                    51.388888888888886
                  ],
                  "y0": " ",
                  "yaxis": "y"
                },
                {
                  "alignmentgroup": "True",
                  "hovertemplate": "Cluster=%{x}<br>Price Increase Percentage=%{y}<extra></extra>",
                  "legendgroup": "1",
                  "marker": {
                    "color": "rgb(246, 207, 113)"
                  },
                  "name": "1",
                  "notched": false,
                  "offsetgroup": "1",
                  "orientation": "v",
                  "showlegend": true,
                  "type": "box",
                  "x": [
                    1,
                    1,
                    1,
                    1,
                    1,
                    1,
                    1,
                    1,
                    1,
                    1,
                    1,
                    1,
                    1,
                    1,
                    1,
                    1,
                    1,
                    1,
                    1,
                    1,
                    1,
                    1,
                    1,
                    1,
                    1,
                    1,
                    1,
                    1,
                    1,
                    1,
                    1,
                    1,
                    1,
                    1,
                    1,
                    1,
                    1,
                    1,
                    1,
                    1,
                    1,
                    1,
                    1,
                    1,
                    1,
                    1,
                    1,
                    1,
                    1,
                    1,
                    1,
                    1,
                    1,
                    1,
                    1,
                    1,
                    1,
                    1,
                    1,
                    1,
                    1,
                    1,
                    1,
                    1,
                    1,
                    1,
                    1,
                    1,
                    1,
                    1,
                    1,
                    1,
                    1,
                    1,
                    1,
                    1,
                    1,
                    1,
                    1,
                    1,
                    1,
                    1,
                    1,
                    1,
                    1,
                    1,
                    1,
                    1,
                    1,
                    1,
                    1,
                    1,
                    1,
                    1,
                    1,
                    1,
                    1,
                    1,
                    1,
                    1,
                    1,
                    1,
                    1,
                    1,
                    1,
                    1,
                    1,
                    1,
                    1,
                    1,
                    1,
                    1,
                    1,
                    1,
                    1,
                    1,
                    1,
                    1,
                    1,
                    1,
                    1,
                    1,
                    1,
                    1,
                    1,
                    1,
                    1,
                    1,
                    1,
                    1,
                    1,
                    1,
                    1,
                    1,
                    1,
                    1,
                    1,
                    1,
                    1,
                    1,
                    1,
                    1,
                    1,
                    1,
                    1,
                    1,
                    1,
                    1,
                    1,
                    1,
                    1,
                    1,
                    1,
                    1,
                    1,
                    1,
                    1,
                    1,
                    1,
                    1,
                    1,
                    1,
                    1,
                    1,
                    1,
                    1,
                    1,
                    1,
                    1,
                    1,
                    1,
                    1,
                    1,
                    1,
                    1,
                    1,
                    1,
                    1,
                    1,
                    1,
                    1
                  ],
                  "x0": " ",
                  "xaxis": "x",
                  "y": [
                    22.47191011235955,
                    25.00694637399278,
                    15.32258064516129,
                    19.75464343040587,
                    32.38073551178413,
                    26.39622117254793,
                    28.953626634958386,
                    14.775689394978736,
                    20.254596888260252,
                    22.210823288022567,
                    28.330091123169858,
                    35.003500350035004,
                    33.330158125357215,
                    17.543859649122805,
                    31.47632311977716,
                    16.28099173553719,
                    13.726027397260273,
                    15.617787351900292,
                    24.506074364952752,
                    32.84072249589491,
                    9.851301115241636,
                    16.129032258064516,
                    20.980223559759242,
                    29.47976878612717,
                    25.007814942169425,
                    28.313253012048197,
                    32.390745501285345,
                    33.344448149383126,
                    28.08219178082192,
                    30.456852791878177,
                    0,
                    24,
                    21.73913043478261,
                    30.37974683544304,
                    11.940298507462686,
                    18.63799283154122,
                    25.142606406318563,
                    30.55272973889454,
                    32.04419889502763,
                    11.74785100286533,
                    21.83406113537118,
                    7.207207207207207,
                    24.539877300613497,
                    31.911966987620353,
                    22.448979591836736,
                    27.86885245901639,
                    32.25806451612903,
                    24.175824175824175,
                    12.781954887218044,
                    11.016949152542372,
                    26.141078838174277,
                    8.695652173913043,
                    14.285714285714285,
                    31.379962192816635,
                    25.336711561541534,
                    23.684210526315788,
                    9.946236559139784,
                    25.882352941176475,
                    30.16270337922403,
                    2.5,
                    24.752475247524753,
                    28.085106382978726,
                    21.011673151750973,
                    21.01694915254237,
                    20.080321285140563,
                    25,
                    15.686274509803921,
                    20.238095238095237,
                    31.431778752933976,
                    24.53450164293538,
                    0,
                    18.97018970189702,
                    6.848964988499873,
                    20.01597018898057,
                    23.109320637245926,
                    0,
                    25.454545454545453,
                    15,
                    23.684210526315788,
                    13.793103448275861,
                    30.76923076923077,
                    23.333333333333332,
                    20.86092715231788,
                    21.721311475409834,
                    11.76470588235294,
                    32.97794117647059,
                    28.685790527018014,
                    18.830914083954493,
                    2.666666666666667,
                    12.578616352201259,
                    15.74977817213842,
                    21.19815668202765,
                    10.050251256281408,
                    3.263403263403263,
                    1.3245033112582782,
                    36.138905238375514,
                    23.076923076923077,
                    30.53392658509455,
                    28.64864864864865,
                    31.890660592255127,
                    15.827338129496402,
                    12.82051282051282,
                    30.555555555555557,
                    24.647887323943664,
                    15.384615384615385,
                    3.717472118959108,
                    32.150313152400834,
                    30.44280442804428,
                    9.111617312072893,
                    14.228187919463087,
                    5.122494432071269,
                    10.033444816053512,
                    9.324009324009324,
                    7.4074074074074066,
                    32.142857142857146,
                    30.05008347245409,
                    31.411157993436472,
                    34.6656976744186,
                    21.83406113537118,
                    0,
                    29.166666666666668,
                    27.659574468085108,
                    22.04724409448819,
                    13.333333333333334,
                    28.57142857142857,
                    26.666666666666668,
                    25,
                    10.702341137123746,
                    20.710059171597635,
                    23.17596566523605,
                    16.216216216216218,
                    32.18884120171674,
                    11.67964404894327,
                    23.67941712204007,
                    25.668449197860966,
                    32.71375464684015,
                    27.46268656716418,
                    26.391096979332275,
                    33.65155131264916,
                    16.39344262295082,
                    28.03347280334728,
                    30.554713549560475,
                    6.474820143884892,
                    31.1614730878187,
                    17.647058823529413,
                    28.57142857142857,
                    18.181818181818183,
                    24.036896364622898,
                    13.937282229965156,
                    22.395833333333336,
                    17.921146953405017,
                    25.08361204013378,
                    31.48148148148148,
                    22.52747252747253,
                    20.727272727272727,
                    14.634146341463413,
                    24.137931034482758,
                    34.04255319148936,
                    30.303030303030305,
                    31.007751937984494,
                    18.181818181818183,
                    13.104477611940299,
                    18.627328416052006,
                    17.110266159695815,
                    18.892508143322477,
                    26.143790849673206,
                    21.31578947368421,
                    21.428571428571427,
                    21.428571428571427,
                    28.18181818181818,
                    33.014354066985646,
                    19.653179190751445,
                    0.6825938566552902,
                    18.275862068965516,
                    22.370617696160267,
                    7.627118644067797,
                    27.391304347826086,
                    24.2603550295858,
                    7.2727272727272725,
                    15.09433962264151,
                    17.5
                  ],
                  "y0": " ",
                  "yaxis": "y"
                },
                {
                  "alignmentgroup": "True",
                  "hovertemplate": "Cluster=%{x}<br>Price Increase Percentage=%{y}<extra></extra>",
                  "legendgroup": "0",
                  "marker": {
                    "color": "rgb(248, 156, 116)"
                  },
                  "name": "0",
                  "notched": false,
                  "offsetgroup": "0",
                  "orientation": "v",
                  "showlegend": true,
                  "type": "box",
                  "x": [
                    0,
                    0,
                    0,
                    0,
                    0,
                    0,
                    0,
                    0,
                    0,
                    0,
                    0,
                    0,
                    0,
                    0,
                    0,
                    0,
                    0,
                    0,
                    0,
                    0,
                    0,
                    0,
                    0,
                    0,
                    0,
                    0,
                    0,
                    0
                  ],
                  "x0": " ",
                  "xaxis": "x",
                  "y": [
                    44.61505323404517,
                    46.06200187884482,
                    28.74050521109345,
                    38.604098188684524,
                    30.97994456220447,
                    39.898440333696044,
                    39.05216956497583,
                    40.358584235151255,
                    23.897937424170006,
                    41.61521061319313,
                    57.99962516399076,
                    51.76071277047094,
                    57.99962516399076,
                    55.83807084400575,
                    56.99765014481666,
                    26.75133756687834,
                    14.70674745573269,
                    36.26486047906304,
                    37.15219964292162,
                    32.021211503161325,
                    30.849969129450507,
                    38.91254035829595,
                    45.45730044245106,
                    20.131720304544817,
                    34.321052631578944,
                    15.197678636198766,
                    20.236809472378894,
                    18.954482923619835
                  ],
                  "y0": " ",
                  "yaxis": "y"
                },
                {
                  "alignmentgroup": "True",
                  "hovertemplate": "Cluster=%{x}<br>Price Increase Percentage=%{y}<extra></extra>",
                  "legendgroup": "3",
                  "marker": {
                    "color": "rgb(220, 176, 242)"
                  },
                  "name": "3",
                  "notched": false,
                  "offsetgroup": "3",
                  "orientation": "v",
                  "showlegend": true,
                  "type": "box",
                  "x": [
                    3,
                    3,
                    3,
                    3,
                    3,
                    3,
                    3,
                    3,
                    3,
                    3
                  ],
                  "x0": " ",
                  "xaxis": "x",
                  "y": [
                    2.20396452790819,
                    38.26913456728364,
                    20.001818347122466,
                    32.01183431952663,
                    0.23479690068091102,
                    29.002900290029004,
                    14.869888475836431,
                    4.399234915666841,
                    39.70944309927361,
                    2.5
                  ],
                  "y0": " ",
                  "yaxis": "y"
                }
              ],
              "layout": {
                "boxmode": "overlay",
                "legend": {
                  "title": {
                    "text": "Cluster"
                  },
                  "tracegroupgap": 0
                },
                "margin": {
                  "t": 60
                },
                "template": {
                  "data": {
                    "bar": [
                      {
                        "error_x": {
                          "color": "#2a3f5f"
                        },
                        "error_y": {
                          "color": "#2a3f5f"
                        },
                        "marker": {
                          "line": {
                            "color": "#E5ECF6",
                            "width": 0.5
                          },
                          "pattern": {
                            "fillmode": "overlay",
                            "size": 10,
                            "solidity": 0.2
                          }
                        },
                        "type": "bar"
                      }
                    ],
                    "barpolar": [
                      {
                        "marker": {
                          "line": {
                            "color": "#E5ECF6",
                            "width": 0.5
                          },
                          "pattern": {
                            "fillmode": "overlay",
                            "size": 10,
                            "solidity": 0.2
                          }
                        },
                        "type": "barpolar"
                      }
                    ],
                    "carpet": [
                      {
                        "aaxis": {
                          "endlinecolor": "#2a3f5f",
                          "gridcolor": "white",
                          "linecolor": "white",
                          "minorgridcolor": "white",
                          "startlinecolor": "#2a3f5f"
                        },
                        "baxis": {
                          "endlinecolor": "#2a3f5f",
                          "gridcolor": "white",
                          "linecolor": "white",
                          "minorgridcolor": "white",
                          "startlinecolor": "#2a3f5f"
                        },
                        "type": "carpet"
                      }
                    ],
                    "choropleth": [
                      {
                        "colorbar": {
                          "outlinewidth": 0,
                          "ticks": ""
                        },
                        "type": "choropleth"
                      }
                    ],
                    "contour": [
                      {
                        "colorbar": {
                          "outlinewidth": 0,
                          "ticks": ""
                        },
                        "colorscale": [
                          [
                            0,
                            "#0d0887"
                          ],
                          [
                            0.1111111111111111,
                            "#46039f"
                          ],
                          [
                            0.2222222222222222,
                            "#7201a8"
                          ],
                          [
                            0.3333333333333333,
                            "#9c179e"
                          ],
                          [
                            0.4444444444444444,
                            "#bd3786"
                          ],
                          [
                            0.5555555555555556,
                            "#d8576b"
                          ],
                          [
                            0.6666666666666666,
                            "#ed7953"
                          ],
                          [
                            0.7777777777777778,
                            "#fb9f3a"
                          ],
                          [
                            0.8888888888888888,
                            "#fdca26"
                          ],
                          [
                            1,
                            "#f0f921"
                          ]
                        ],
                        "type": "contour"
                      }
                    ],
                    "contourcarpet": [
                      {
                        "colorbar": {
                          "outlinewidth": 0,
                          "ticks": ""
                        },
                        "type": "contourcarpet"
                      }
                    ],
                    "heatmap": [
                      {
                        "colorbar": {
                          "outlinewidth": 0,
                          "ticks": ""
                        },
                        "colorscale": [
                          [
                            0,
                            "#0d0887"
                          ],
                          [
                            0.1111111111111111,
                            "#46039f"
                          ],
                          [
                            0.2222222222222222,
                            "#7201a8"
                          ],
                          [
                            0.3333333333333333,
                            "#9c179e"
                          ],
                          [
                            0.4444444444444444,
                            "#bd3786"
                          ],
                          [
                            0.5555555555555556,
                            "#d8576b"
                          ],
                          [
                            0.6666666666666666,
                            "#ed7953"
                          ],
                          [
                            0.7777777777777778,
                            "#fb9f3a"
                          ],
                          [
                            0.8888888888888888,
                            "#fdca26"
                          ],
                          [
                            1,
                            "#f0f921"
                          ]
                        ],
                        "type": "heatmap"
                      }
                    ],
                    "heatmapgl": [
                      {
                        "colorbar": {
                          "outlinewidth": 0,
                          "ticks": ""
                        },
                        "colorscale": [
                          [
                            0,
                            "#0d0887"
                          ],
                          [
                            0.1111111111111111,
                            "#46039f"
                          ],
                          [
                            0.2222222222222222,
                            "#7201a8"
                          ],
                          [
                            0.3333333333333333,
                            "#9c179e"
                          ],
                          [
                            0.4444444444444444,
                            "#bd3786"
                          ],
                          [
                            0.5555555555555556,
                            "#d8576b"
                          ],
                          [
                            0.6666666666666666,
                            "#ed7953"
                          ],
                          [
                            0.7777777777777778,
                            "#fb9f3a"
                          ],
                          [
                            0.8888888888888888,
                            "#fdca26"
                          ],
                          [
                            1,
                            "#f0f921"
                          ]
                        ],
                        "type": "heatmapgl"
                      }
                    ],
                    "histogram": [
                      {
                        "marker": {
                          "pattern": {
                            "fillmode": "overlay",
                            "size": 10,
                            "solidity": 0.2
                          }
                        },
                        "type": "histogram"
                      }
                    ],
                    "histogram2d": [
                      {
                        "colorbar": {
                          "outlinewidth": 0,
                          "ticks": ""
                        },
                        "colorscale": [
                          [
                            0,
                            "#0d0887"
                          ],
                          [
                            0.1111111111111111,
                            "#46039f"
                          ],
                          [
                            0.2222222222222222,
                            "#7201a8"
                          ],
                          [
                            0.3333333333333333,
                            "#9c179e"
                          ],
                          [
                            0.4444444444444444,
                            "#bd3786"
                          ],
                          [
                            0.5555555555555556,
                            "#d8576b"
                          ],
                          [
                            0.6666666666666666,
                            "#ed7953"
                          ],
                          [
                            0.7777777777777778,
                            "#fb9f3a"
                          ],
                          [
                            0.8888888888888888,
                            "#fdca26"
                          ],
                          [
                            1,
                            "#f0f921"
                          ]
                        ],
                        "type": "histogram2d"
                      }
                    ],
                    "histogram2dcontour": [
                      {
                        "colorbar": {
                          "outlinewidth": 0,
                          "ticks": ""
                        },
                        "colorscale": [
                          [
                            0,
                            "#0d0887"
                          ],
                          [
                            0.1111111111111111,
                            "#46039f"
                          ],
                          [
                            0.2222222222222222,
                            "#7201a8"
                          ],
                          [
                            0.3333333333333333,
                            "#9c179e"
                          ],
                          [
                            0.4444444444444444,
                            "#bd3786"
                          ],
                          [
                            0.5555555555555556,
                            "#d8576b"
                          ],
                          [
                            0.6666666666666666,
                            "#ed7953"
                          ],
                          [
                            0.7777777777777778,
                            "#fb9f3a"
                          ],
                          [
                            0.8888888888888888,
                            "#fdca26"
                          ],
                          [
                            1,
                            "#f0f921"
                          ]
                        ],
                        "type": "histogram2dcontour"
                      }
                    ],
                    "mesh3d": [
                      {
                        "colorbar": {
                          "outlinewidth": 0,
                          "ticks": ""
                        },
                        "type": "mesh3d"
                      }
                    ],
                    "parcoords": [
                      {
                        "line": {
                          "colorbar": {
                            "outlinewidth": 0,
                            "ticks": ""
                          }
                        },
                        "type": "parcoords"
                      }
                    ],
                    "pie": [
                      {
                        "automargin": true,
                        "type": "pie"
                      }
                    ],
                    "scatter": [
                      {
                        "fillpattern": {
                          "fillmode": "overlay",
                          "size": 10,
                          "solidity": 0.2
                        },
                        "type": "scatter"
                      }
                    ],
                    "scatter3d": [
                      {
                        "line": {
                          "colorbar": {
                            "outlinewidth": 0,
                            "ticks": ""
                          }
                        },
                        "marker": {
                          "colorbar": {
                            "outlinewidth": 0,
                            "ticks": ""
                          }
                        },
                        "type": "scatter3d"
                      }
                    ],
                    "scattercarpet": [
                      {
                        "marker": {
                          "colorbar": {
                            "outlinewidth": 0,
                            "ticks": ""
                          }
                        },
                        "type": "scattercarpet"
                      }
                    ],
                    "scattergeo": [
                      {
                        "marker": {
                          "colorbar": {
                            "outlinewidth": 0,
                            "ticks": ""
                          }
                        },
                        "type": "scattergeo"
                      }
                    ],
                    "scattergl": [
                      {
                        "marker": {
                          "colorbar": {
                            "outlinewidth": 0,
                            "ticks": ""
                          }
                        },
                        "type": "scattergl"
                      }
                    ],
                    "scattermapbox": [
                      {
                        "marker": {
                          "colorbar": {
                            "outlinewidth": 0,
                            "ticks": ""
                          }
                        },
                        "type": "scattermapbox"
                      }
                    ],
                    "scatterpolar": [
                      {
                        "marker": {
                          "colorbar": {
                            "outlinewidth": 0,
                            "ticks": ""
                          }
                        },
                        "type": "scatterpolar"
                      }
                    ],
                    "scatterpolargl": [
                      {
                        "marker": {
                          "colorbar": {
                            "outlinewidth": 0,
                            "ticks": ""
                          }
                        },
                        "type": "scatterpolargl"
                      }
                    ],
                    "scatterternary": [
                      {
                        "marker": {
                          "colorbar": {
                            "outlinewidth": 0,
                            "ticks": ""
                          }
                        },
                        "type": "scatterternary"
                      }
                    ],
                    "surface": [
                      {
                        "colorbar": {
                          "outlinewidth": 0,
                          "ticks": ""
                        },
                        "colorscale": [
                          [
                            0,
                            "#0d0887"
                          ],
                          [
                            0.1111111111111111,
                            "#46039f"
                          ],
                          [
                            0.2222222222222222,
                            "#7201a8"
                          ],
                          [
                            0.3333333333333333,
                            "#9c179e"
                          ],
                          [
                            0.4444444444444444,
                            "#bd3786"
                          ],
                          [
                            0.5555555555555556,
                            "#d8576b"
                          ],
                          [
                            0.6666666666666666,
                            "#ed7953"
                          ],
                          [
                            0.7777777777777778,
                            "#fb9f3a"
                          ],
                          [
                            0.8888888888888888,
                            "#fdca26"
                          ],
                          [
                            1,
                            "#f0f921"
                          ]
                        ],
                        "type": "surface"
                      }
                    ],
                    "table": [
                      {
                        "cells": {
                          "fill": {
                            "color": "#EBF0F8"
                          },
                          "line": {
                            "color": "white"
                          }
                        },
                        "header": {
                          "fill": {
                            "color": "#C8D4E3"
                          },
                          "line": {
                            "color": "white"
                          }
                        },
                        "type": "table"
                      }
                    ]
                  },
                  "layout": {
                    "annotationdefaults": {
                      "arrowcolor": "#2a3f5f",
                      "arrowhead": 0,
                      "arrowwidth": 1
                    },
                    "autotypenumbers": "strict",
                    "coloraxis": {
                      "colorbar": {
                        "outlinewidth": 0,
                        "ticks": ""
                      }
                    },
                    "colorscale": {
                      "diverging": [
                        [
                          0,
                          "#8e0152"
                        ],
                        [
                          0.1,
                          "#c51b7d"
                        ],
                        [
                          0.2,
                          "#de77ae"
                        ],
                        [
                          0.3,
                          "#f1b6da"
                        ],
                        [
                          0.4,
                          "#fde0ef"
                        ],
                        [
                          0.5,
                          "#f7f7f7"
                        ],
                        [
                          0.6,
                          "#e6f5d0"
                        ],
                        [
                          0.7,
                          "#b8e186"
                        ],
                        [
                          0.8,
                          "#7fbc41"
                        ],
                        [
                          0.9,
                          "#4d9221"
                        ],
                        [
                          1,
                          "#276419"
                        ]
                      ],
                      "sequential": [
                        [
                          0,
                          "#0d0887"
                        ],
                        [
                          0.1111111111111111,
                          "#46039f"
                        ],
                        [
                          0.2222222222222222,
                          "#7201a8"
                        ],
                        [
                          0.3333333333333333,
                          "#9c179e"
                        ],
                        [
                          0.4444444444444444,
                          "#bd3786"
                        ],
                        [
                          0.5555555555555556,
                          "#d8576b"
                        ],
                        [
                          0.6666666666666666,
                          "#ed7953"
                        ],
                        [
                          0.7777777777777778,
                          "#fb9f3a"
                        ],
                        [
                          0.8888888888888888,
                          "#fdca26"
                        ],
                        [
                          1,
                          "#f0f921"
                        ]
                      ],
                      "sequentialminus": [
                        [
                          0,
                          "#0d0887"
                        ],
                        [
                          0.1111111111111111,
                          "#46039f"
                        ],
                        [
                          0.2222222222222222,
                          "#7201a8"
                        ],
                        [
                          0.3333333333333333,
                          "#9c179e"
                        ],
                        [
                          0.4444444444444444,
                          "#bd3786"
                        ],
                        [
                          0.5555555555555556,
                          "#d8576b"
                        ],
                        [
                          0.6666666666666666,
                          "#ed7953"
                        ],
                        [
                          0.7777777777777778,
                          "#fb9f3a"
                        ],
                        [
                          0.8888888888888888,
                          "#fdca26"
                        ],
                        [
                          1,
                          "#f0f921"
                        ]
                      ]
                    },
                    "colorway": [
                      "#636efa",
                      "#EF553B",
                      "#00cc96",
                      "#ab63fa",
                      "#FFA15A",
                      "#19d3f3",
                      "#FF6692",
                      "#B6E880",
                      "#FF97FF",
                      "#FECB52"
                    ],
                    "font": {
                      "color": "#2a3f5f"
                    },
                    "geo": {
                      "bgcolor": "white",
                      "lakecolor": "white",
                      "landcolor": "#E5ECF6",
                      "showlakes": true,
                      "showland": true,
                      "subunitcolor": "white"
                    },
                    "hoverlabel": {
                      "align": "left"
                    },
                    "hovermode": "closest",
                    "mapbox": {
                      "style": "light"
                    },
                    "paper_bgcolor": "white",
                    "plot_bgcolor": "#E5ECF6",
                    "polar": {
                      "angularaxis": {
                        "gridcolor": "white",
                        "linecolor": "white",
                        "ticks": ""
                      },
                      "bgcolor": "#E5ECF6",
                      "radialaxis": {
                        "gridcolor": "white",
                        "linecolor": "white",
                        "ticks": ""
                      }
                    },
                    "scene": {
                      "xaxis": {
                        "backgroundcolor": "#E5ECF6",
                        "gridcolor": "white",
                        "gridwidth": 2,
                        "linecolor": "white",
                        "showbackground": true,
                        "ticks": "",
                        "zerolinecolor": "white"
                      },
                      "yaxis": {
                        "backgroundcolor": "#E5ECF6",
                        "gridcolor": "white",
                        "gridwidth": 2,
                        "linecolor": "white",
                        "showbackground": true,
                        "ticks": "",
                        "zerolinecolor": "white"
                      },
                      "zaxis": {
                        "backgroundcolor": "#E5ECF6",
                        "gridcolor": "white",
                        "gridwidth": 2,
                        "linecolor": "white",
                        "showbackground": true,
                        "ticks": "",
                        "zerolinecolor": "white"
                      }
                    },
                    "shapedefaults": {
                      "line": {
                        "color": "#2a3f5f"
                      }
                    },
                    "ternary": {
                      "aaxis": {
                        "gridcolor": "white",
                        "linecolor": "white",
                        "ticks": ""
                      },
                      "baxis": {
                        "gridcolor": "white",
                        "linecolor": "white",
                        "ticks": ""
                      },
                      "bgcolor": "#E5ECF6",
                      "caxis": {
                        "gridcolor": "white",
                        "linecolor": "white",
                        "ticks": ""
                      }
                    },
                    "title": {
                      "x": 0.05
                    },
                    "xaxis": {
                      "automargin": true,
                      "gridcolor": "white",
                      "linecolor": "white",
                      "ticks": "",
                      "title": {
                        "standoff": 15
                      },
                      "zerolinecolor": "white",
                      "zerolinewidth": 2
                    },
                    "yaxis": {
                      "automargin": true,
                      "gridcolor": "white",
                      "linecolor": "white",
                      "ticks": "",
                      "title": {
                        "standoff": 15
                      },
                      "zerolinecolor": "white",
                      "zerolinewidth": 2
                    }
                  }
                },
                "xaxis": {
                  "anchor": "y",
                  "categoryarray": [
                    2,
                    1,
                    0,
                    3
                  ],
                  "categoryorder": "array",
                  "domain": [
                    0,
                    1
                  ],
                  "title": {
                    "text": "Cluster"
                  }
                },
                "yaxis": {
                  "anchor": "x",
                  "domain": [
                    0,
                    1
                  ],
                  "title": {
                    "text": "Price Increase Percentage"
                  }
                }
              }
            }
          },
          "metadata": {},
          "output_type": "display_data"
        }
      ],
      "source": [
        "#RUNNING K-MEANS\n",
        "kmeans = KMeans(n_clusters=4, init='k-means++', max_iter=300, n_init=10, random_state=0)\n",
        "\n",
        "# Fit and predict \n",
        "clusters = kmeans.fit_predict(df_scaled)\n",
        "df['Cluster'] = clusters\n",
        "\n",
        "fig = px.box(df, x=\"Cluster\", y=\"Price Increase Percentage\", \n",
        "             color=\"Cluster\", color_discrete_sequence=px.colors.qualitative.Pastel)\n",
        "fig.show()"
      ]
    },
    {
      "attachments": {},
      "cell_type": "markdown",
      "metadata": {},
      "source": [
        "## **Analyzing the clusters**"
      ]
    },
    {
      "cell_type": "code",
      "execution_count": 218,
      "metadata": {},
      "outputs": [
        {
          "name": "stdout",
          "output_type": "stream",
          "text": [
            "Silhouette Coefficient: 0.4137572733529747\n"
          ]
        }
      ],
      "source": [
        "silhouette_score = silhouette_score(df_scaled, clusters)\n",
        "print(\"Silhouette Coefficient:\", silhouette_score)"
      ]
    }
  ],
  "metadata": {
    "colab": {
      "provenance": []
    },
    "kernelspec": {
      "display_name": "Python 3",
      "language": "python",
      "name": "python3"
    },
    "language_info": {
      "codemirror_mode": {
        "name": "ipython",
        "version": 3
      },
      "file_extension": ".py",
      "mimetype": "text/x-python",
      "name": "python",
      "nbconvert_exporter": "python",
      "pygments_lexer": "ipython3",
      "version": "3.10.4"
    },
    "orig_nbformat": 4
  },
  "nbformat": 4,
  "nbformat_minor": 0
}
